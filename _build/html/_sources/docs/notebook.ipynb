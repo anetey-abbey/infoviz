{
 "cells": [
  {
   "attachments": {},
   "cell_type": "markdown",
   "metadata": {},
   "source": [
    "# Vizulation WDI dataset"
   ]
  },
  {
   "cell_type": "code",
   "execution_count": 1,
   "metadata": {},
   "outputs": [],
   "source": [
    "# Import packages\n",
    "import pandas as pd\n",
    "import plotly.express as px\n",
    "import seaborn as sns\n",
    "import matplotlib.pyplot as plt"
   ]
  },
  {
   "attachments": {},
   "cell_type": "markdown",
   "metadata": {},
   "source": [
    "## Load data\n",
    "\n",
    "Import the WDI dataset"
   ]
  },
  {
   "cell_type": "code",
   "execution_count": 2,
   "metadata": {},
   "outputs": [
    {
     "data": {
      "text/html": [
       "<div>\n",
       "<style scoped>\n",
       "    .dataframe tbody tr th:only-of-type {\n",
       "        vertical-align: middle;\n",
       "    }\n",
       "\n",
       "    .dataframe tbody tr th {\n",
       "        vertical-align: top;\n",
       "    }\n",
       "\n",
       "    .dataframe thead th {\n",
       "        text-align: right;\n",
       "    }\n",
       "</style>\n",
       "<table border=\"1\" class=\"dataframe\">\n",
       "  <thead>\n",
       "    <tr style=\"text-align: right;\">\n",
       "      <th></th>\n",
       "      <th>Country Name</th>\n",
       "      <th>Country Code</th>\n",
       "      <th>Indicator Name</th>\n",
       "      <th>Indicator Code</th>\n",
       "      <th>1960</th>\n",
       "      <th>1961</th>\n",
       "      <th>1962</th>\n",
       "      <th>1963</th>\n",
       "      <th>1964</th>\n",
       "      <th>1965</th>\n",
       "      <th>...</th>\n",
       "      <th>2012</th>\n",
       "      <th>2013</th>\n",
       "      <th>2014</th>\n",
       "      <th>2015</th>\n",
       "      <th>2016</th>\n",
       "      <th>2017</th>\n",
       "      <th>2018</th>\n",
       "      <th>2019</th>\n",
       "      <th>2020</th>\n",
       "      <th>2021</th>\n",
       "    </tr>\n",
       "  </thead>\n",
       "  <tbody>\n",
       "    <tr>\n",
       "      <th>382633</th>\n",
       "      <td>Zimbabwe</td>\n",
       "      <td>ZWE</td>\n",
       "      <td>GNI per capita, PPP (current international $)</td>\n",
       "      <td>NY.GNP.PCAP.PP.CD</td>\n",
       "      <td>NaN</td>\n",
       "      <td>NaN</td>\n",
       "      <td>NaN</td>\n",
       "      <td>NaN</td>\n",
       "      <td>NaN</td>\n",
       "      <td>NaN</td>\n",
       "      <td>...</td>\n",
       "      <td>2340.0</td>\n",
       "      <td>2520.0</td>\n",
       "      <td>2570.00000</td>\n",
       "      <td>2630.000000</td>\n",
       "      <td>2750.000000</td>\n",
       "      <td>2370.0</td>\n",
       "      <td>2510.0</td>\n",
       "      <td>2360.0</td>\n",
       "      <td>2180.0</td>\n",
       "      <td>2380.0</td>\n",
       "    </tr>\n",
       "    <tr>\n",
       "      <th>382747</th>\n",
       "      <td>Zimbabwe</td>\n",
       "      <td>ZWE</td>\n",
       "      <td>Individuals using the Internet (% of population)</td>\n",
       "      <td>IT.NET.USER.ZS</td>\n",
       "      <td>NaN</td>\n",
       "      <td>NaN</td>\n",
       "      <td>NaN</td>\n",
       "      <td>NaN</td>\n",
       "      <td>NaN</td>\n",
       "      <td>NaN</td>\n",
       "      <td>...</td>\n",
       "      <td>12.0</td>\n",
       "      <td>15.5</td>\n",
       "      <td>16.36474</td>\n",
       "      <td>22.742818</td>\n",
       "      <td>23.119989</td>\n",
       "      <td>24.4</td>\n",
       "      <td>25.0</td>\n",
       "      <td>25.1</td>\n",
       "      <td>29.3</td>\n",
       "      <td>NaN</td>\n",
       "    </tr>\n",
       "  </tbody>\n",
       "</table>\n",
       "<p>2 rows × 66 columns</p>\n",
       "</div>"
      ],
      "text/plain": [
       "       Country Name Country Code  \\\n",
       "382633     Zimbabwe          ZWE   \n",
       "382747     Zimbabwe          ZWE   \n",
       "\n",
       "                                          Indicator Name     Indicator Code  \\\n",
       "382633     GNI per capita, PPP (current international $)  NY.GNP.PCAP.PP.CD   \n",
       "382747  Individuals using the Internet (% of population)     IT.NET.USER.ZS   \n",
       "\n",
       "        1960  1961  1962  1963  1964  1965  ...    2012    2013        2014  \\\n",
       "382633   NaN   NaN   NaN   NaN   NaN   NaN  ...  2340.0  2520.0  2570.00000   \n",
       "382747   NaN   NaN   NaN   NaN   NaN   NaN  ...    12.0    15.5    16.36474   \n",
       "\n",
       "               2015         2016    2017    2018    2019    2020    2021  \n",
       "382633  2630.000000  2750.000000  2370.0  2510.0  2360.0  2180.0  2380.0  \n",
       "382747    22.742818    23.119989    24.4    25.0    25.1    29.3     NaN  \n",
       "\n",
       "[2 rows x 66 columns]"
      ]
     },
     "execution_count": 2,
     "metadata": {},
     "output_type": "execute_result"
    }
   ],
   "source": [
    "df = pd.read_csv('WDIData.csv', sep=',') \n",
    "df = df.drop('Unnamed: 66', axis=1)\n",
    "\n",
    "selected_indicators = ['GDP growth (annual %)',\n",
    "                       'Individuals using the Internet (% of population)',\n",
    "                       'Foreign direct investment, net inflows (BoP, current US$)',\n",
    "                       'GNI per capita, PPP (current international $)']\n",
    "\n",
    "df = df[df['Indicator Name'].isin(selected_indicators)]\n",
    "\n",
    "df.head(2)\n",
    "df.tail(2)\n"
   ]
  },
  {
   "attachments": {},
   "cell_type": "markdown",
   "metadata": {},
   "source": [
    "For effective data analysis we need the data in the wide format but with the variable names in the columns"
   ]
  },
  {
   "cell_type": "code",
   "execution_count": 3,
   "metadata": {},
   "outputs": [
    {
     "data": {
      "text/html": [
       "<div>\n",
       "<style scoped>\n",
       "    .dataframe tbody tr th:only-of-type {\n",
       "        vertical-align: middle;\n",
       "    }\n",
       "\n",
       "    .dataframe tbody tr th {\n",
       "        vertical-align: top;\n",
       "    }\n",
       "\n",
       "    .dataframe thead th {\n",
       "        text-align: right;\n",
       "    }\n",
       "</style>\n",
       "<table border=\"1\" class=\"dataframe\">\n",
       "  <thead>\n",
       "    <tr style=\"text-align: right;\">\n",
       "      <th>Indicator Name</th>\n",
       "      <th>Year</th>\n",
       "      <th>Country Name</th>\n",
       "      <th>Country Code</th>\n",
       "      <th>Foreign direct investment, net inflows (BoP, current US$)</th>\n",
       "      <th>GDP growth (annual %)</th>\n",
       "      <th>GNI per capita, PPP (current international $)</th>\n",
       "      <th>Individuals using the Internet (% of population)</th>\n",
       "    </tr>\n",
       "  </thead>\n",
       "  <tbody>\n",
       "    <tr>\n",
       "      <th>0</th>\n",
       "      <td>1960</td>\n",
       "      <td>Botswana</td>\n",
       "      <td>BWA</td>\n",
       "      <td>NaN</td>\n",
       "      <td>NaN</td>\n",
       "      <td>NaN</td>\n",
       "      <td>0.0</td>\n",
       "    </tr>\n",
       "    <tr>\n",
       "      <th>1</th>\n",
       "      <td>1960</td>\n",
       "      <td>Burundi</td>\n",
       "      <td>BDI</td>\n",
       "      <td>NaN</td>\n",
       "      <td>NaN</td>\n",
       "      <td>NaN</td>\n",
       "      <td>0.0</td>\n",
       "    </tr>\n",
       "    <tr>\n",
       "      <th>2</th>\n",
       "      <td>1960</td>\n",
       "      <td>Grenada</td>\n",
       "      <td>GRD</td>\n",
       "      <td>NaN</td>\n",
       "      <td>NaN</td>\n",
       "      <td>NaN</td>\n",
       "      <td>0.0</td>\n",
       "    </tr>\n",
       "    <tr>\n",
       "      <th>3</th>\n",
       "      <td>1960</td>\n",
       "      <td>Maldives</td>\n",
       "      <td>MDV</td>\n",
       "      <td>NaN</td>\n",
       "      <td>NaN</td>\n",
       "      <td>NaN</td>\n",
       "      <td>0.0</td>\n",
       "    </tr>\n",
       "    <tr>\n",
       "      <th>4</th>\n",
       "      <td>1960</td>\n",
       "      <td>Syrian Arab Republic</td>\n",
       "      <td>SYR</td>\n",
       "      <td>NaN</td>\n",
       "      <td>NaN</td>\n",
       "      <td>NaN</td>\n",
       "      <td>0.0</td>\n",
       "    </tr>\n",
       "    <tr>\n",
       "      <th>...</th>\n",
       "      <td>...</td>\n",
       "      <td>...</td>\n",
       "      <td>...</td>\n",
       "      <td>...</td>\n",
       "      <td>...</td>\n",
       "      <td>...</td>\n",
       "      <td>...</td>\n",
       "    </tr>\n",
       "    <tr>\n",
       "      <th>13601</th>\n",
       "      <td>2021</td>\n",
       "      <td>West Bank and Gaza</td>\n",
       "      <td>PSE</td>\n",
       "      <td>NaN</td>\n",
       "      <td>7.050451</td>\n",
       "      <td>7370.0</td>\n",
       "      <td>NaN</td>\n",
       "    </tr>\n",
       "    <tr>\n",
       "      <th>13602</th>\n",
       "      <td>2021</td>\n",
       "      <td>Yemen, Rep.</td>\n",
       "      <td>YEM</td>\n",
       "      <td>NaN</td>\n",
       "      <td>-2.061513</td>\n",
       "      <td>NaN</td>\n",
       "      <td>NaN</td>\n",
       "    </tr>\n",
       "    <tr>\n",
       "      <th>13603</th>\n",
       "      <td>2021</td>\n",
       "      <td>Serbia</td>\n",
       "      <td>SRB</td>\n",
       "      <td>NaN</td>\n",
       "      <td>7.389271</td>\n",
       "      <td>20610.0</td>\n",
       "      <td>NaN</td>\n",
       "    </tr>\n",
       "    <tr>\n",
       "      <th>13604</th>\n",
       "      <td>2021</td>\n",
       "      <td>Montenegro</td>\n",
       "      <td>MNE</td>\n",
       "      <td>NaN</td>\n",
       "      <td>12.434359</td>\n",
       "      <td>23280.0</td>\n",
       "      <td>NaN</td>\n",
       "    </tr>\n",
       "    <tr>\n",
       "      <th>13605</th>\n",
       "      <td>2021</td>\n",
       "      <td>Kosovo</td>\n",
       "      <td>XKX</td>\n",
       "      <td>NaN</td>\n",
       "      <td>9.127578</td>\n",
       "      <td>13010.0</td>\n",
       "      <td>NaN</td>\n",
       "    </tr>\n",
       "  </tbody>\n",
       "</table>\n",
       "<p>13606 rows × 7 columns</p>\n",
       "</div>"
      ],
      "text/plain": [
       "Indicator Name  Year          Country Name Country Code  \\\n",
       "0               1960              Botswana          BWA   \n",
       "1               1960               Burundi          BDI   \n",
       "2               1960               Grenada          GRD   \n",
       "3               1960              Maldives          MDV   \n",
       "4               1960  Syrian Arab Republic          SYR   \n",
       "...              ...                   ...          ...   \n",
       "13601           2021    West Bank and Gaza          PSE   \n",
       "13602           2021           Yemen, Rep.          YEM   \n",
       "13603           2021                Serbia          SRB   \n",
       "13604           2021            Montenegro          MNE   \n",
       "13605           2021                Kosovo          XKX   \n",
       "\n",
       "Indicator Name  Foreign direct investment, net inflows (BoP, current US$)  \\\n",
       "0                                                             NaN           \n",
       "1                                                             NaN           \n",
       "2                                                             NaN           \n",
       "3                                                             NaN           \n",
       "4                                                             NaN           \n",
       "...                                                           ...           \n",
       "13601                                                         NaN           \n",
       "13602                                                         NaN           \n",
       "13603                                                         NaN           \n",
       "13604                                                         NaN           \n",
       "13605                                                         NaN           \n",
       "\n",
       "Indicator Name  GDP growth (annual %)  \\\n",
       "0                                 NaN   \n",
       "1                                 NaN   \n",
       "2                                 NaN   \n",
       "3                                 NaN   \n",
       "4                                 NaN   \n",
       "...                               ...   \n",
       "13601                        7.050451   \n",
       "13602                       -2.061513   \n",
       "13603                        7.389271   \n",
       "13604                       12.434359   \n",
       "13605                        9.127578   \n",
       "\n",
       "Indicator Name  GNI per capita, PPP (current international $)  \\\n",
       "0                                                         NaN   \n",
       "1                                                         NaN   \n",
       "2                                                         NaN   \n",
       "3                                                         NaN   \n",
       "4                                                         NaN   \n",
       "...                                                       ...   \n",
       "13601                                                  7370.0   \n",
       "13602                                                     NaN   \n",
       "13603                                                 20610.0   \n",
       "13604                                                 23280.0   \n",
       "13605                                                 13010.0   \n",
       "\n",
       "Indicator Name  Individuals using the Internet (% of population)  \n",
       "0                                                            0.0  \n",
       "1                                                            0.0  \n",
       "2                                                            0.0  \n",
       "3                                                            0.0  \n",
       "4                                                            0.0  \n",
       "...                                                          ...  \n",
       "13601                                                        NaN  \n",
       "13602                                                        NaN  \n",
       "13603                                                        NaN  \n",
       "13604                                                        NaN  \n",
       "13605                                                        NaN  \n",
       "\n",
       "[13606 rows x 7 columns]"
      ]
     },
     "execution_count": 3,
     "metadata": {},
     "output_type": "execute_result"
    }
   ],
   "source": [
    "df_long = df.melt(id_vars=['Country Name', 'Country Code', 'Indicator Name', 'Indicator Code'], \n",
    "                  var_name='Year', value_name='Value')\n",
    "\n",
    "df_wide = df_long.pivot_table(index=['Year', 'Country Name', 'Country Code'], \n",
    "                              columns='Indicator Name', values='Value', aggfunc='first')\n",
    "\n",
    "df_wide = df_wide.reset_index()\n",
    "df_wide['Year'] = df_wide['Year'].astype(int)\n",
    "df_wide"
   ]
  },
  {
   "attachments": {},
   "cell_type": "markdown",
   "metadata": {},
   "source": [
    "Check NA values"
   ]
  },
  {
   "cell_type": "code",
   "execution_count": 4,
   "metadata": {},
   "outputs": [
    {
     "data": {
      "text/plain": [
       "<Axes: xlabel='Indicator Name'>"
      ]
     },
     "execution_count": 4,
     "metadata": {},
     "output_type": "execute_result"
    },
    {
     "data": {
      "image/png": "[encoded data removed]",
      "text/plain": [
       "<Figure size 640x480 with 1 Axes>"
      ]
     },
     "metadata": {},
     "output_type": "display_data"
    }
   ],
   "source": [
    "sns.heatmap(df_wide.isnull(), cbar=False)"
   ]
  },
  {
   "attachments": {},
   "cell_type": "markdown",
   "metadata": {},
   "source": [
    "## Plot data\n",
    "\n",
    "Testing plot"
   ]
  },
  {
   "cell_type": "code",
   "execution_count": 5,
   "metadata": {},
   "outputs": [
    {
     "data": {
      "image/png": "[encoded data removed]",
      "text/plain": [
       "<Figure size 640x480 with 1 Axes>"
      ]
     },
     "metadata": {},
     "output_type": "display_data"
    }
   ],
   "source": [
    "df = df_wide\n",
    "country_groups = [\"France\",\n",
    "                  \"India\",\n",
    "                  \"Mexico\"]\n",
    "\n",
    "df_groups = df[df['Country Name'].isin(country_groups)]\n",
    "\n",
    "for group in country_groups:\n",
    "    group_data = df_groups[df_groups['Country Name'] == group]\n",
    "    plt.plot(group_data['Year'], group_data['Individuals using the Internet (% of population)'], marker='o', linestyle='-', label=group)\n",
    "\n",
    "plt.title('Trend of Internet Usage Over Time', fontsize=14)\n",
    "plt.xlabel('Year', fontsize=12)\n",
    "plt.ylabel('Individuals using the Internet (% of population)', fontsize=12)\n",
    "# locs, labels = plt.xticks() \n",
    "# plt.xticks(locs[::5], df_groups['Year'].unique()[::5])\n",
    "plt.legend()\n",
    "plt.grid(True)\n",
    "plt.show()\n"
   ]
  },
  {
   "attachments": {},
   "cell_type": "markdown",
   "metadata": {},
   "source": [
    "There is a strong relation between GNI and internet usage"
   ]
  },
  {
   "cell_type": "code",
   "execution_count": 10,
   "metadata": {},
   "outputs": [
    {
     "data": {
      "image/png": "[encoded data removed]",
      "text/plain": [
       "<Figure size 640x480 with 1 Axes>"
      ]
     },
     "metadata": {},
     "output_type": "display_data"
    }
   ],
   "source": [
    "df_2020 = df_wide[df_wide['Year'] == 2020]\n",
    "\n",
    "plt.scatter(df_2020['Individuals using the Internet (% of population)'], \n",
    "            df_2020['GNI per capita, PPP (current international $)'],\n",
    "            alpha=0.5,\n",
    "            color='blue')\n",
    "plt.title('Internet Usage vs GNI per Capita for 2020', fontsize=14)\n",
    "plt.xlabel('Individuals using the Internet (% of population)', fontsize=12)\n",
    "plt.ylabel('GNI per capita, PPP (current international $)', fontsize=12)\n",
    "plt.legend(['Countries'], loc='upper left')\n",
    "plt.grid(True)\n",
    "plt.show()\n"
   ]
  },
  {
   "cell_type": "code",
   "execution_count": 12,
   "metadata": {},
   "outputs": [
    {
     "data": {
      "application/vnd.plotly.v1+json": {
       "config": {
        "plotlyServerURL": "https://plot.ly"
       },
       "data": [
        {
         "hovertemplate": "<b>%{hovertext}</b><br><br>Country Name=Australia<br>Year=1990<br>Individuals using the Internet (% of population)=%{x}<br>GNI per capita, PPP (current international $)=%{marker.size}<extra></extra>",
         "hovertext": [
          "Australia"
         ],
         "ids": [
          "Australia"
         ],
         "legendgroup": "Australia",
         "marker": {
          "color": "#636efa",
          "size": [
           16760
          ],
          "sizemode": "area",
          "sizeref": 331.1,
          "symbol": "circle"
         },
         "mode": "markers",
         "name": "Australia",
         "orientation": "v",
         "showlegend": true,
         "type": "scatter",
         "x": [
          0.585094712
         ],
         "xaxis": "x",
         "y": [
          16760
         ],
         "yaxis": "y"
        },
        {
         "hovertemplate": "<b>%{hovertext}</b><br><br>Country Name=Belgium<br>Year=1990<br>Individuals using the Internet (% of population)=%{x}<br>GNI per capita, PPP (current international $)=%{marker.size}<extra></extra>",
         "hovertext": [
          "Belgium"
         ],
         "ids": [
          "Belgium"
         ],
         "legendgroup": "Belgium",
         "marker": {
          "color": "#EF553B",
          "size": [
           18740
          ],
          "sizemode": "area",
          "sizeref": 331.1,
          "symbol": "circle"
         },
         "mode": "markers",
         "name": "Belgium",
         "orientation": "v",
         "showlegend": true,
         "type": "scatter",
         "x": [
          0.00100674
         ],
         "xaxis": "x",
         "y": [
          18740
         ],
         "yaxis": "y"
        },
        {
         "hovertemplate": "<b>%{hovertext}</b><br><br>Country Name=Denmark<br>Year=1990<br>Individuals using the Internet (% of population)=%{x}<br>GNI per capita, PPP (current international $)=%{marker.size}<extra></extra>",
         "hovertext": [
          "Denmark"
         ],
         "ids": [
          "Denmark"
         ],
         "legendgroup": "Denmark",
         "marker": {
          "color": "#00cc96",
          "size": [
           17610
          ],
          "sizemode": "area",
          "sizeref": 331.1,
          "symbol": "circle"
         },
         "mode": "markers",
         "name": "Denmark",
         "orientation": "v",
         "showlegend": true,
         "type": "scatter",
         "x": [
          0.097277268
         ],
         "xaxis": "x",
         "y": [
          17610
         ],
         "yaxis": "y"
        },
        {
         "hovertemplate": "<b>%{hovertext}</b><br><br>Country Name=Ecuador<br>Year=1990<br>Individuals using the Internet (% of population)=%{x}<br>GNI per capita, PPP (current international $)=%{marker.size}<extra></extra>",
         "hovertext": [
          "Ecuador"
         ],
         "ids": [
          "Ecuador"
         ],
         "legendgroup": "Ecuador",
         "marker": {
          "color": "#ab63fa",
          "size": [
           4440
          ],
          "sizemode": "area",
          "sizeref": 331.1,
          "symbol": "circle"
         },
         "mode": "markers",
         "name": "Ecuador",
         "orientation": "v",
         "showlegend": true,
         "type": "scatter",
         "x": [
          0
         ],
         "xaxis": "x",
         "y": [
          4440
         ],
         "yaxis": "y"
        },
        {
         "hovertemplate": "<b>%{hovertext}</b><br><br>Country Name=Fiji<br>Year=1990<br>Individuals using the Internet (% of population)=%{x}<br>GNI per capita, PPP (current international $)=%{marker.size}<extra></extra>",
         "hovertext": [
          "Fiji"
         ],
         "ids": [
          "Fiji"
         ],
         "legendgroup": "Fiji",
         "marker": {
          "color": "#FFA15A",
          "size": [
           4050
          ],
          "sizemode": "area",
          "sizeref": 331.1,
          "symbol": "circle"
         },
         "mode": "markers",
         "name": "Fiji",
         "orientation": "v",
         "showlegend": true,
         "type": "scatter",
         "x": [
          0
         ],
         "xaxis": "x",
         "y": [
          4050
         ],
         "yaxis": "y"
        },
        {
         "hovertemplate": "<b>%{hovertext}</b><br><br>Country Name=Japan<br>Year=1990<br>Individuals using the Internet (% of population)=%{x}<br>GNI per capita, PPP (current international $)=%{marker.size}<extra></extra>",
         "hovertext": [
          "Japan"
         ],
         "ids": [
          "Japan"
         ],
         "legendgroup": "Japan",
         "marker": {
          "color": "#19d3f3",
          "size": [
           20130
          ],
          "sizemode": "area",
          "sizeref": 331.1,
          "symbol": "circle"
         },
         "mode": "markers",
         "name": "Japan",
         "orientation": "v",
         "showlegend": true,
         "type": "scatter",
         "x": [
          0.020293683
         ],
         "xaxis": "x",
         "y": [
          20130
         ],
         "yaxis": "y"
        },
        {
         "hovertemplate": "<b>%{hovertext}</b><br><br>Country Name=Luxembourg<br>Year=1990<br>Individuals using the Internet (% of population)=%{x}<br>GNI per capita, PPP (current international $)=%{marker.size}<extra></extra>",
         "hovertext": [
          "Luxembourg"
         ],
         "ids": [
          "Luxembourg"
         ],
         "legendgroup": "Luxembourg",
         "marker": {
          "color": "#FF6692",
          "size": [
           29850
          ],
          "sizemode": "area",
          "sizeref": 331.1,
          "symbol": "circle"
         },
         "mode": "markers",
         "name": "Luxembourg",
         "orientation": "v",
         "showlegend": true,
         "type": "scatter",
         "x": [
          0
         ],
         "xaxis": "x",
         "y": [
          29850
         ],
         "yaxis": "y"
        },
        {
         "hovertemplate": "<b>%{hovertext}</b><br><br>Country Name=Nepal<br>Year=1990<br>Individuals using the Internet (% of population)=%{x}<br>GNI per capita, PPP (current international $)=%{marker.size}<extra></extra>",
         "hovertext": [
          "Nepal"
         ],
         "ids": [
          "Nepal"
         ],
         "legendgroup": "Nepal",
         "marker": {
          "color": "#B6E880",
          "size": [
           860
          ],
          "sizemode": "area",
          "sizeref": 331.1,
          "symbol": "circle"
         },
         "mode": "markers",
         "name": "Nepal",
         "orientation": "v",
         "showlegend": true,
         "type": "scatter",
         "x": [
          0
         ],
         "xaxis": "x",
         "y": [
          860
         ],
         "yaxis": "y"
        },
        {
         "hovertemplate": "<b>%{hovertext}</b><br><br>Country Name=Peru<br>Year=1990<br>Individuals using the Internet (% of population)=%{x}<br>GNI per capita, PPP (current international $)=%{marker.size}<extra></extra>",
         "hovertext": [
          "Peru"
         ],
         "ids": [
          "Peru"
         ],
         "legendgroup": "Peru",
         "marker": {
          "color": "#FF97FF",
          "size": [
           3150
          ],
          "sizemode": "area",
          "sizeref": 331.1,
          "symbol": "circle"
         },
         "mode": "markers",
         "name": "Peru",
         "orientation": "v",
         "showlegend": true,
         "type": "scatter",
         "x": [
          0
         ],
         "xaxis": "x",
         "y": [
          3150
         ],
         "yaxis": "y"
        },
        {
         "hovertemplate": "<b>%{hovertext}</b><br><br>Country Name=Singapore<br>Year=1990<br>Individuals using the Internet (% of population)=%{x}<br>GNI per capita, PPP (current international $)=%{marker.size}<extra></extra>",
         "hovertext": [
          "Singapore"
         ],
         "ids": [
          "Singapore"
         ],
         "legendgroup": "Singapore",
         "marker": {
          "color": "#FECB52",
          "size": [
           23570
          ],
          "sizemode": "area",
          "sizeref": 331.1,
          "symbol": "circle"
         },
         "mode": "markers",
         "name": "Singapore",
         "orientation": "v",
         "showlegend": true,
         "type": "scatter",
         "x": [
          0
         ],
         "xaxis": "x",
         "y": [
          23570
         ],
         "yaxis": "y"
        },
        {
         "hovertemplate": "<b>%{hovertext}</b><br><br>Country Name=Uruguay<br>Year=1990<br>Individuals using the Internet (% of population)=%{x}<br>GNI per capita, PPP (current international $)=%{marker.size}<extra></extra>",
         "hovertext": [
          "Uruguay"
         ],
         "ids": [
          "Uruguay"
         ],
         "legendgroup": "Uruguay",
         "marker": {
          "color": "#636efa",
          "size": [
           6170
          ],
          "sizemode": "area",
          "sizeref": 331.1,
          "symbol": "circle"
         },
         "mode": "markers",
         "name": "Uruguay",
         "orientation": "v",
         "showlegend": true,
         "type": "scatter",
         "x": [
          0
         ],
         "xaxis": "x",
         "y": [
          6170
         ],
         "yaxis": "y"
        },
        {
         "hovertemplate": "<b>%{hovertext}</b><br><br>Country Name=Zimbabwe<br>Year=1990<br>Individuals using the Internet (% of population)=%{x}<br>GNI per capita, PPP (current international $)=%{marker.size}<extra></extra>",
         "hovertext": [
          "Zimbabwe"
         ],
         "ids": [
          "Zimbabwe"
         ],
         "legendgroup": "Zimbabwe",
         "marker": {
          "color": "#EF553B",
          "size": [
           1740
          ],
          "sizemode": "area",
          "sizeref": 331.1,
          "symbol": "circle"
         },
         "mode": "markers",
         "name": "Zimbabwe",
         "orientation": "v",
         "showlegend": true,
         "type": "scatter",
         "x": [
          0
         ],
         "xaxis": "x",
         "y": [
          1740
         ],
         "yaxis": "y"
        },
        {
         "hovertemplate": "<b>%{hovertext}</b><br><br>Country Name=Oman<br>Year=1990<br>Individuals using the Internet (% of population)=%{x}<br>GNI per capita, PPP (current international $)=%{marker.size}<extra></extra>",
         "hovertext": [
          "Oman"
         ],
         "ids": [
          "Oman"
         ],
         "legendgroup": "Oman",
         "marker": {
          "color": "#00cc96",
          "size": [
           25580
          ],
          "sizemode": "area",
          "sizeref": 331.1,
          "symbol": "circle"
         },
         "mode": "markers",
         "name": "Oman",
         "orientation": "v",
         "showlegend": true,
         "type": "scatter",
         "x": [
          0
         ],
         "xaxis": "x",
         "y": [
          25580
         ],
         "yaxis": "y"
        },
        {
         "hovertemplate": "<b>%{hovertext}</b><br><br>Country Name=Ireland<br>Year=1990<br>Individuals using the Internet (% of population)=%{x}<br>GNI per capita, PPP (current international $)=%{marker.size}<extra></extra>",
         "hovertext": [
          "Ireland"
         ],
         "ids": [
          "Ireland"
         ],
         "legendgroup": "Ireland",
         "marker": {
          "color": "#ab63fa",
          "size": [
           12770
          ],
          "sizemode": "area",
          "sizeref": 331.1,
          "symbol": "circle"
         },
         "mode": "markers",
         "name": "Ireland",
         "orientation": "v",
         "showlegend": true,
         "type": "scatter",
         "x": [
          0
         ],
         "xaxis": "x",
         "y": [
          12770
         ],
         "yaxis": "y"
        }
       ],
       "frames": [
        {
         "data": [
          {
           "hovertemplate": "<b>%{hovertext}</b><br><br>Country Name=Australia<br>Year=1990<br>Individuals using the Internet (% of population)=%{x}<br>GNI per capita, PPP (current international $)=%{marker.size}<extra></extra>",
           "hovertext": [
            "Australia"
           ],
           "ids": [
            "Australia"
           ],
           "legendgroup": "Australia",
           "marker": {
            "color": "#636efa",
            "size": [
             16760
            ],
            "sizemode": "area",
            "sizeref": 331.1,
            "symbol": "circle"
           },
           "mode": "markers",
           "name": "Australia",
           "orientation": "v",
           "showlegend": true,
           "type": "scatter",
           "x": [
            0.585094712
           ],
           "xaxis": "x",
           "y": [
            16760
           ],
           "yaxis": "y"
          },
          {
           "hovertemplate": "<b>%{hovertext}</b><br><br>Country Name=Belgium<br>Year=1990<br>Individuals using the Internet (% of population)=%{x}<br>GNI per capita, PPP (current international $)=%{marker.size}<extra></extra>",
           "hovertext": [
            "Belgium"
           ],
           "ids": [
            "Belgium"
           ],
           "legendgroup": "Belgium",
           "marker": {
            "color": "#EF553B",
            "size": [
             18740
            ],
            "sizemode": "area",
            "sizeref": 331.1,
            "symbol": "circle"
           },
           "mode": "markers",
           "name": "Belgium",
           "orientation": "v",
           "showlegend": true,
           "type": "scatter",
           "x": [
            0.00100674
           ],
           "xaxis": "x",
           "y": [
            18740
           ],
           "yaxis": "y"
          },
          {
           "hovertemplate": "<b>%{hovertext}</b><br><br>Country Name=Denmark<br>Year=1990<br>Individuals using the Internet (% of population)=%{x}<br>GNI per capita, PPP (current international $)=%{marker.size}<extra></extra>",
           "hovertext": [
            "Denmark"
           ],
           "ids": [
            "Denmark"
           ],
           "legendgroup": "Denmark",
           "marker": {
            "color": "#00cc96",
            "size": [
             17610
            ],
            "sizemode": "area",
            "sizeref": 331.1,
            "symbol": "circle"
           },
           "mode": "markers",
           "name": "Denmark",
           "orientation": "v",
           "showlegend": true,
           "type": "scatter",
           "x": [
            0.097277268
           ],
           "xaxis": "x",
           "y": [
            17610
           ],
           "yaxis": "y"
          },
          {
           "hovertemplate": "<b>%{hovertext}</b><br><br>Country Name=Ecuador<br>Year=1990<br>Individuals using the Internet (% of population)=%{x}<br>GNI per capita, PPP (current international $)=%{marker.size}<extra></extra>",
           "hovertext": [
            "Ecuador"
           ],
           "ids": [
            "Ecuador"
           ],
           "legendgroup": "Ecuador",
           "marker": {
            "color": "#ab63fa",
            "size": [
             4440
            ],
            "sizemode": "area",
            "sizeref": 331.1,
            "symbol": "circle"
           },
           "mode": "markers",
           "name": "Ecuador",
           "orientation": "v",
           "showlegend": true,
           "type": "scatter",
           "x": [
            0
           ],
           "xaxis": "x",
           "y": [
            4440
           ],
           "yaxis": "y"
          },
          {
           "hovertemplate": "<b>%{hovertext}</b><br><br>Country Name=Fiji<br>Year=1990<br>Individuals using the Internet (% of population)=%{x}<br>GNI per capita, PPP (current international $)=%{marker.size}<extra></extra>",
           "hovertext": [
            "Fiji"
           ],
           "ids": [
            "Fiji"
           ],
           "legendgroup": "Fiji",
           "marker": {
            "color": "#FFA15A",
            "size": [
             4050
            ],
            "sizemode": "area",
            "sizeref": 331.1,
            "symbol": "circle"
           },
           "mode": "markers",
           "name": "Fiji",
           "orientation": "v",
           "showlegend": true,
           "type": "scatter",
           "x": [
            0
           ],
           "xaxis": "x",
           "y": [
            4050
           ],
           "yaxis": "y"
          },
          {
           "hovertemplate": "<b>%{hovertext}</b><br><br>Country Name=Japan<br>Year=1990<br>Individuals using the Internet (% of population)=%{x}<br>GNI per capita, PPP (current international $)=%{marker.size}<extra></extra>",
           "hovertext": [
            "Japan"
           ],
           "ids": [
            "Japan"
           ],
           "legendgroup": "Japan",
           "marker": {
            "color": "#19d3f3",
            "size": [
             20130
            ],
            "sizemode": "area",
            "sizeref": 331.1,
            "symbol": "circle"
           },
           "mode": "markers",
           "name": "Japan",
           "orientation": "v",
           "showlegend": true,
           "type": "scatter",
           "x": [
            0.020293683
           ],
           "xaxis": "x",
           "y": [
            20130
           ],
           "yaxis": "y"
          },
          {
           "hovertemplate": "<b>%{hovertext}</b><br><br>Country Name=Luxembourg<br>Year=1990<br>Individuals using the Internet (% of population)=%{x}<br>GNI per capita, PPP (current international $)=%{marker.size}<extra></extra>",
           "hovertext": [
            "Luxembourg"
           ],
           "ids": [
            "Luxembourg"
           ],
           "legendgroup": "Luxembourg",
           "marker": {
            "color": "#FF6692",
            "size": [
             29850
            ],
            "sizemode": "area",
            "sizeref": 331.1,
            "symbol": "circle"
           },
           "mode": "markers",
           "name": "Luxembourg",
           "orientation": "v",
           "showlegend": true,
           "type": "scatter",
           "x": [
            0
           ],
           "xaxis": "x",
           "y": [
            29850
           ],
           "yaxis": "y"
          },
          {
           "hovertemplate": "<b>%{hovertext}</b><br><br>Country Name=Nepal<br>Year=1990<br>Individuals using the Internet (% of population)=%{x}<br>GNI per capita, PPP (current international $)=%{marker.size}<extra></extra>",
           "hovertext": [
            "Nepal"
           ],
           "ids": [
            "Nepal"
           ],
           "legendgroup": "Nepal",
           "marker": {
            "color": "#B6E880",
            "size": [
             860
            ],
            "sizemode": "area",
            "sizeref": 331.1,
            "symbol": "circle"
           },
           "mode": "markers",
           "name": "Nepal",
           "orientation": "v",
           "showlegend": true,
           "type": "scatter",
           "x": [
            0
           ],
           "xaxis": "x",
           "y": [
            860
           ],
           "yaxis": "y"
          },
          {
           "hovertemplate": "<b>%{hovertext}</b><br><br>Country Name=Peru<br>Year=1990<br>Individuals using the Internet (% of population)=%{x}<br>GNI per capita, PPP (current international $)=%{marker.size}<extra></extra>",
           "hovertext": [
            "Peru"
           ],
           "ids": [
            "Peru"
           ],
           "legendgroup": "Peru",
           "marker": {
            "color": "#FF97FF",
            "size": [
             3150
            ],
            "sizemode": "area",
            "sizeref": 331.1,
            "symbol": "circle"
           },
           "mode": "markers",
           "name": "Peru",
           "orientation": "v",
           "showlegend": true,
           "type": "scatter",
           "x": [
            0
           ],
           "xaxis": "x",
           "y": [
            3150
           ],
           "yaxis": "y"
          },
          {
           "hovertemplate": "<b>%{hovertext}</b><br><br>Country Name=Singapore<br>Year=1990<br>Individuals using the Internet (% of population)=%{x}<br>GNI per capita, PPP (current international $)=%{marker.size}<extra></extra>",
           "hovertext": [
            "Singapore"
           ],
           "ids": [
            "Singapore"
           ],
           "legendgroup": "Singapore",
           "marker": {
            "color": "#FECB52",
            "size": [
             23570
            ],
            "sizemode": "area",
            "sizeref": 331.1,
            "symbol": "circle"
           },
           "mode": "markers",
           "name": "Singapore",
           "orientation": "v",
           "showlegend": true,
           "type": "scatter",
           "x": [
            0
           ],
           "xaxis": "x",
           "y": [
            23570
           ],
           "yaxis": "y"
          },
          {
           "hovertemplate": "<b>%{hovertext}</b><br><br>Country Name=Uruguay<br>Year=1990<br>Individuals using the Internet (% of population)=%{x}<br>GNI per capita, PPP (current international $)=%{marker.size}<extra></extra>",
           "hovertext": [
            "Uruguay"
           ],
           "ids": [
            "Uruguay"
           ],
           "legendgroup": "Uruguay",
           "marker": {
            "color": "#636efa",
            "size": [
             6170
            ],
            "sizemode": "area",
            "sizeref": 331.1,
            "symbol": "circle"
           },
           "mode": "markers",
           "name": "Uruguay",
           "orientation": "v",
           "showlegend": true,
           "type": "scatter",
           "x": [
            0
           ],
           "xaxis": "x",
           "y": [
            6170
           ],
           "yaxis": "y"
          },
          {
           "hovertemplate": "<b>%{hovertext}</b><br><br>Country Name=Zimbabwe<br>Year=1990<br>Individuals using the Internet (% of population)=%{x}<br>GNI per capita, PPP (current international $)=%{marker.size}<extra></extra>",
           "hovertext": [
            "Zimbabwe"
           ],
           "ids": [
            "Zimbabwe"
           ],
           "legendgroup": "Zimbabwe",
           "marker": {
            "color": "#EF553B",
            "size": [
             1740
            ],
            "sizemode": "area",
            "sizeref": 331.1,
            "symbol": "circle"
           },
           "mode": "markers",
           "name": "Zimbabwe",
           "orientation": "v",
           "showlegend": true,
           "type": "scatter",
           "x": [
            0
           ],
           "xaxis": "x",
           "y": [
            1740
           ],
           "yaxis": "y"
          },
          {
           "hovertemplate": "<b>%{hovertext}</b><br><br>Country Name=Oman<br>Year=1990<br>Individuals using the Internet (% of population)=%{x}<br>GNI per capita, PPP (current international $)=%{marker.size}<extra></extra>",
           "hovertext": [
            "Oman"
           ],
           "ids": [
            "Oman"
           ],
           "legendgroup": "Oman",
           "marker": {
            "color": "#00cc96",
            "size": [
             25580
            ],
            "sizemode": "area",
            "sizeref": 331.1,
            "symbol": "circle"
           },
           "mode": "markers",
           "name": "Oman",
           "orientation": "v",
           "showlegend": true,
           "type": "scatter",
           "x": [
            0
           ],
           "xaxis": "x",
           "y": [
            25580
           ],
           "yaxis": "y"
          },
          {
           "hovertemplate": "<b>%{hovertext}</b><br><br>Country Name=Ireland<br>Year=1990<br>Individuals using the Internet (% of population)=%{x}<br>GNI per capita, PPP (current international $)=%{marker.size}<extra></extra>",
           "hovertext": [
            "Ireland"
           ],
           "ids": [
            "Ireland"
           ],
           "legendgroup": "Ireland",
           "marker": {
            "color": "#ab63fa",
            "size": [
             12770
            ],
            "sizemode": "area",
            "sizeref": 331.1,
            "symbol": "circle"
           },
           "mode": "markers",
           "name": "Ireland",
           "orientation": "v",
           "showlegend": true,
           "type": "scatter",
           "x": [
            0
           ],
           "xaxis": "x",
           "y": [
            12770
           ],
           "yaxis": "y"
          }
         ],
         "name": "1990"
        },
        {
         "data": [
          {
           "hovertemplate": "<b>%{hovertext}</b><br><br>Country Name=Australia<br>Year=1991<br>Individuals using the Internet (% of population)=%{x}<br>GNI per capita, PPP (current international $)=%{marker.size}<extra></extra>",
           "hovertext": [
            "Australia"
           ],
           "ids": [
            "Australia"
           ],
           "legendgroup": "Australia",
           "marker": {
            "color": "#636efa",
            "size": [
             17100
            ],
            "sizemode": "area",
            "sizeref": 331.1,
            "symbol": "circle"
           },
           "mode": "markers",
           "name": "Australia",
           "orientation": "v",
           "showlegend": true,
           "type": "scatter",
           "x": [
            1.097203891
           ],
           "xaxis": "x",
           "y": [
            17100
           ],
           "yaxis": "y"
          },
          {
           "hovertemplate": "<b>%{hovertext}</b><br><br>Country Name=Belgium<br>Year=1991<br>Individuals using the Internet (% of population)=%{x}<br>GNI per capita, PPP (current international $)=%{marker.size}<extra></extra>",
           "hovertext": [
            "Belgium"
           ],
           "ids": [
            "Belgium"
           ],
           "legendgroup": "Belgium",
           "marker": {
            "color": "#EF553B",
            "size": [
             19730
            ],
            "sizemode": "area",
            "sizeref": 331.1,
            "symbol": "circle"
           },
           "mode": "markers",
           "name": "Belgium",
           "orientation": "v",
           "showlegend": true,
           "type": "scatter",
           "x": [
            0.020072645
           ],
           "xaxis": "x",
           "y": [
            19730
           ],
           "yaxis": "y"
          },
          {
           "hovertemplate": "<b>%{hovertext}</b><br><br>Country Name=Denmark<br>Year=1991<br>Individuals using the Internet (% of population)=%{x}<br>GNI per capita, PPP (current international $)=%{marker.size}<extra></extra>",
           "hovertext": [
            "Denmark"
           ],
           "ids": [
            "Denmark"
           ],
           "legendgroup": "Denmark",
           "marker": {
            "color": "#00cc96",
            "size": [
             18380
            ],
            "sizemode": "area",
            "sizeref": 331.1,
            "symbol": "circle"
           },
           "mode": "markers",
           "name": "Denmark",
           "orientation": "v",
           "showlegend": true,
           "type": "scatter",
           "x": [
            0.194056515
           ],
           "xaxis": "x",
           "y": [
            18380
           ],
           "yaxis": "y"
          },
          {
           "hovertemplate": "<b>%{hovertext}</b><br><br>Country Name=Ecuador<br>Year=1991<br>Individuals using the Internet (% of population)=%{x}<br>GNI per capita, PPP (current international $)=%{marker.size}<extra></extra>",
           "hovertext": [
            "Ecuador"
           ],
           "ids": [
            "Ecuador"
           ],
           "legendgroup": "Ecuador",
           "marker": {
            "color": "#ab63fa",
            "size": [
             4750
            ],
            "sizemode": "area",
            "sizeref": 331.1,
            "symbol": "circle"
           },
           "mode": "markers",
           "name": "Ecuador",
           "orientation": "v",
           "showlegend": true,
           "type": "scatter",
           "x": [
            0
           ],
           "xaxis": "x",
           "y": [
            4750
           ],
           "yaxis": "y"
          },
          {
           "hovertemplate": "<b>%{hovertext}</b><br><br>Country Name=Fiji<br>Year=1991<br>Individuals using the Internet (% of population)=%{x}<br>GNI per capita, PPP (current international $)=%{marker.size}<extra></extra>",
           "hovertext": [
            "Fiji"
           ],
           "ids": [
            "Fiji"
           ],
           "legendgroup": "Fiji",
           "marker": {
            "color": "#FFA15A",
            "size": [
             4060
            ],
            "sizemode": "area",
            "sizeref": 331.1,
            "symbol": "circle"
           },
           "mode": "markers",
           "name": "Fiji",
           "orientation": "v",
           "showlegend": true,
           "type": "scatter",
           "x": [
            0
           ],
           "xaxis": "x",
           "y": [
            4060
           ],
           "yaxis": "y"
          },
          {
           "hovertemplate": "<b>%{hovertext}</b><br><br>Country Name=Japan<br>Year=1991<br>Individuals using the Internet (% of population)=%{x}<br>GNI per capita, PPP (current international $)=%{marker.size}<extra></extra>",
           "hovertext": [
            "Japan"
           ],
           "ids": [
            "Japan"
           ],
           "legendgroup": "Japan",
           "marker": {
            "color": "#19d3f3",
            "size": [
             21420
            ],
            "sizemode": "area",
            "sizeref": 331.1,
            "symbol": "circle"
           },
           "mode": "markers",
           "name": "Japan",
           "orientation": "v",
           "showlegend": true,
           "type": "scatter",
           "x": [
            0.040438041
           ],
           "xaxis": "x",
           "y": [
            21420
           ],
           "yaxis": "y"
          },
          {
           "hovertemplate": "<b>%{hovertext}</b><br><br>Country Name=Luxembourg<br>Year=1991<br>Individuals using the Internet (% of population)=%{x}<br>GNI per capita, PPP (current international $)=%{marker.size}<extra></extra>",
           "hovertext": [
            "Luxembourg"
           ],
           "ids": [
            "Luxembourg"
           ],
           "legendgroup": "Luxembourg",
           "marker": {
            "color": "#FF6692",
            "size": [
             33330
            ],
            "sizemode": "area",
            "sizeref": 331.1,
            "symbol": "circle"
           },
           "mode": "markers",
           "name": "Luxembourg",
           "orientation": "v",
           "showlegend": true,
           "type": "scatter",
           "x": [
            0
           ],
           "xaxis": "x",
           "y": [
            33330
           ],
           "yaxis": "y"
          },
          {
           "hovertemplate": "<b>%{hovertext}</b><br><br>Country Name=Nepal<br>Year=1991<br>Individuals using the Internet (% of population)=%{x}<br>GNI per capita, PPP (current international $)=%{marker.size}<extra></extra>",
           "hovertext": [
            "Nepal"
           ],
           "ids": [
            "Nepal"
           ],
           "legendgroup": "Nepal",
           "marker": {
            "color": "#B6E880",
            "size": [
             920
            ],
            "sizemode": "area",
            "sizeref": 331.1,
            "symbol": "circle"
           },
           "mode": "markers",
           "name": "Nepal",
           "orientation": "v",
           "showlegend": true,
           "type": "scatter",
           "x": [
            0
           ],
           "xaxis": "x",
           "y": [
            920
           ],
           "yaxis": "y"
          },
          {
           "hovertemplate": "<b>%{hovertext}</b><br><br>Country Name=Peru<br>Year=1991<br>Individuals using the Internet (% of population)=%{x}<br>GNI per capita, PPP (current international $)=%{marker.size}<extra></extra>",
           "hovertext": [
            "Peru"
           ],
           "ids": [
            "Peru"
           ],
           "legendgroup": "Peru",
           "marker": {
            "color": "#FF97FF",
            "size": [
             3390
            ],
            "sizemode": "area",
            "sizeref": 331.1,
            "symbol": "circle"
           },
           "mode": "markers",
           "name": "Peru",
           "orientation": "v",
           "showlegend": true,
           "type": "scatter",
           "x": [
            0
           ],
           "xaxis": "x",
           "y": [
            3390
           ],
           "yaxis": "y"
          },
          {
           "hovertemplate": "<b>%{hovertext}</b><br><br>Country Name=Singapore<br>Year=1991<br>Individuals using the Internet (% of population)=%{x}<br>GNI per capita, PPP (current international $)=%{marker.size}<extra></extra>",
           "hovertext": [
            "Singapore"
           ],
           "ids": [
            "Singapore"
           ],
           "legendgroup": "Singapore",
           "marker": {
            "color": "#FECB52",
            "size": [
             25140
            ],
            "sizemode": "area",
            "sizeref": 331.1,
            "symbol": "circle"
           },
           "mode": "markers",
           "name": "Singapore",
           "orientation": "v",
           "showlegend": true,
           "type": "scatter",
           "x": [
            0.161504498
           ],
           "xaxis": "x",
           "y": [
            25140
           ],
           "yaxis": "y"
          },
          {
           "hovertemplate": "<b>%{hovertext}</b><br><br>Country Name=Uruguay<br>Year=1991<br>Individuals using the Internet (% of population)=%{x}<br>GNI per capita, PPP (current international $)=%{marker.size}<extra></extra>",
           "hovertext": [
            "Uruguay"
           ],
           "ids": [
            "Uruguay"
           ],
           "legendgroup": "Uruguay",
           "marker": {
            "color": "#636efa",
            "size": [
             6640
            ],
            "sizemode": "area",
            "sizeref": 331.1,
            "symbol": "circle"
           },
           "mode": "markers",
           "name": "Uruguay",
           "orientation": "v",
           "showlegend": true,
           "type": "scatter",
           "x": [
            0
           ],
           "xaxis": "x",
           "y": [
            6640
           ],
           "yaxis": "y"
          },
          {
           "hovertemplate": "<b>%{hovertext}</b><br><br>Country Name=Zimbabwe<br>Year=1991<br>Individuals using the Internet (% of population)=%{x}<br>GNI per capita, PPP (current international $)=%{marker.size}<extra></extra>",
           "hovertext": [
            "Zimbabwe"
           ],
           "ids": [
            "Zimbabwe"
           ],
           "legendgroup": "Zimbabwe",
           "marker": {
            "color": "#EF553B",
            "size": [
             1850
            ],
            "sizemode": "area",
            "sizeref": 331.1,
            "symbol": "circle"
           },
           "mode": "markers",
           "name": "Zimbabwe",
           "orientation": "v",
           "showlegend": true,
           "type": "scatter",
           "x": [
            0
           ],
           "xaxis": "x",
           "y": [
            1850
           ],
           "yaxis": "y"
          },
          {
           "hovertemplate": "<b>%{hovertext}</b><br><br>Country Name=Oman<br>Year=1991<br>Individuals using the Internet (% of population)=%{x}<br>GNI per capita, PPP (current international $)=%{marker.size}<extra></extra>",
           "hovertext": [
            "Oman"
           ],
           "ids": [
            "Oman"
           ],
           "legendgroup": "Oman",
           "marker": {
            "color": "#00cc96",
            "size": [
             27090
            ],
            "sizemode": "area",
            "sizeref": 331.1,
            "symbol": "circle"
           },
           "mode": "markers",
           "name": "Oman",
           "orientation": "v",
           "showlegend": true,
           "type": "scatter",
           "x": [
            0
           ],
           "xaxis": "x",
           "y": [
            27090
           ],
           "yaxis": "y"
          },
          {
           "hovertemplate": "<b>%{hovertext}</b><br><br>Country Name=Ireland<br>Year=1991<br>Individuals using the Internet (% of population)=%{x}<br>GNI per capita, PPP (current international $)=%{marker.size}<extra></extra>",
           "hovertext": [
            "Ireland"
           ],
           "ids": [
            "Ireland"
           ],
           "legendgroup": "Ireland",
           "marker": {
            "color": "#ab63fa",
            "size": [
             13440
            ],
            "sizemode": "area",
            "sizeref": 331.1,
            "symbol": "circle"
           },
           "mode": "markers",
           "name": "Ireland",
           "orientation": "v",
           "showlegend": true,
           "type": "scatter",
           "x": [
            0.056796044
           ],
           "xaxis": "x",
           "y": [
            13440
           ],
           "yaxis": "y"
          }
         ],
         "name": "1991"
        },
        {
         "data": [
          {
           "hovertemplate": "<b>%{hovertext}</b><br><br>Country Name=Australia<br>Year=1992<br>Individuals using the Internet (% of population)=%{x}<br>GNI per capita, PPP (current international $)=%{marker.size}<extra></extra>",
           "hovertext": [
            "Australia"
           ],
           "ids": [
            "Australia"
           ],
           "legendgroup": "Australia",
           "marker": {
            "color": "#636efa",
            "size": [
             17500
            ],
            "sizemode": "area",
            "sizeref": 331.1,
            "symbol": "circle"
           },
           "mode": "markers",
           "name": "Australia",
           "orientation": "v",
           "showlegend": true,
           "type": "scatter",
           "x": [
            1.768764913
           ],
           "xaxis": "x",
           "y": [
            17500
           ],
           "yaxis": "y"
          },
          {
           "hovertemplate": "<b>%{hovertext}</b><br><br>Country Name=Belgium<br>Year=1992<br>Individuals using the Internet (% of population)=%{x}<br>GNI per capita, PPP (current international $)=%{marker.size}<extra></extra>",
           "hovertext": [
            "Belgium"
           ],
           "ids": [
            "Belgium"
           ],
           "legendgroup": "Belgium",
           "marker": {
            "color": "#EF553B",
            "size": [
             20400
            ],
            "sizemode": "area",
            "sizeref": 331.1,
            "symbol": "circle"
           },
           "mode": "markers",
           "name": "Belgium",
           "orientation": "v",
           "showlegend": true,
           "type": "scatter",
           "x": [
            0.100041027
           ],
           "xaxis": "x",
           "y": [
            20400
           ],
           "yaxis": "y"
          },
          {
           "hovertemplate": "<b>%{hovertext}</b><br><br>Country Name=Denmark<br>Year=1992<br>Individuals using the Internet (% of population)=%{x}<br>GNI per capita, PPP (current international $)=%{marker.size}<extra></extra>",
           "hovertext": [
            "Denmark"
           ],
           "ids": [
            "Denmark"
           ],
           "legendgroup": "Denmark",
           "marker": {
            "color": "#00cc96",
            "size": [
             19200
            ],
            "sizemode": "area",
            "sizeref": 331.1,
            "symbol": "circle"
           },
           "mode": "markers",
           "name": "Denmark",
           "orientation": "v",
           "showlegend": true,
           "type": "scatter",
           "x": [
            0.386913951
           ],
           "xaxis": "x",
           "y": [
            19200
           ],
           "yaxis": "y"
          },
          {
           "hovertemplate": "<b>%{hovertext}</b><br><br>Country Name=Ecuador<br>Year=1992<br>Individuals using the Internet (% of population)=%{x}<br>GNI per capita, PPP (current international $)=%{marker.size}<extra></extra>",
           "hovertext": [
            "Ecuador"
           ],
           "ids": [
            "Ecuador"
           ],
           "legendgroup": "Ecuador",
           "marker": {
            "color": "#ab63fa",
            "size": [
             4920
            ],
            "sizemode": "area",
            "sizeref": 331.1,
            "symbol": "circle"
           },
           "mode": "markers",
           "name": "Ecuador",
           "orientation": "v",
           "showlegend": true,
           "type": "scatter",
           "x": [
            0.005118035
           ],
           "xaxis": "x",
           "y": [
            4920
           ],
           "yaxis": "y"
          },
          {
           "hovertemplate": "<b>%{hovertext}</b><br><br>Country Name=Fiji<br>Year=1992<br>Individuals using the Internet (% of population)=%{x}<br>GNI per capita, PPP (current international $)=%{marker.size}<extra></extra>",
           "hovertext": [
            "Fiji"
           ],
           "ids": [
            "Fiji"
           ],
           "legendgroup": "Fiji",
           "marker": {
            "color": "#FFA15A",
            "size": [
             4340
            ],
            "sizemode": "area",
            "sizeref": 331.1,
            "symbol": "circle"
           },
           "mode": "markers",
           "name": "Fiji",
           "orientation": "v",
           "showlegend": true,
           "type": "scatter",
           "x": [
            0
           ],
           "xaxis": "x",
           "y": [
            4340
           ],
           "yaxis": "y"
          },
          {
           "hovertemplate": "<b>%{hovertext}</b><br><br>Country Name=Japan<br>Year=1992<br>Individuals using the Internet (% of population)=%{x}<br>GNI per capita, PPP (current international $)=%{marker.size}<extra></extra>",
           "hovertext": [
            "Japan"
           ],
           "ids": [
            "Japan"
           ],
           "legendgroup": "Japan",
           "marker": {
            "color": "#19d3f3",
            "size": [
             22050
            ],
            "sizemode": "area",
            "sizeref": 331.1,
            "symbol": "circle"
           },
           "mode": "markers",
           "name": "Japan",
           "orientation": "v",
           "showlegend": true,
           "type": "scatter",
           "x": [
            0.096678025
           ],
           "xaxis": "x",
           "y": [
            22050
           ],
           "yaxis": "y"
          },
          {
           "hovertemplate": "<b>%{hovertext}</b><br><br>Country Name=Luxembourg<br>Year=1992<br>Individuals using the Internet (% of population)=%{x}<br>GNI per capita, PPP (current international $)=%{marker.size}<extra></extra>",
           "hovertext": [
            "Luxembourg"
           ],
           "ids": [
            "Luxembourg"
           ],
           "legendgroup": "Luxembourg",
           "marker": {
            "color": "#FF6692",
            "size": [
             34070
            ],
            "sizemode": "area",
            "sizeref": 331.1,
            "symbol": "circle"
           },
           "mode": "markers",
           "name": "Luxembourg",
           "orientation": "v",
           "showlegend": true,
           "type": "scatter",
           "x": [
            0.153198791
           ],
           "xaxis": "x",
           "y": [
            34070
           ],
           "yaxis": "y"
          },
          {
           "hovertemplate": "<b>%{hovertext}</b><br><br>Country Name=Nepal<br>Year=1992<br>Individuals using the Internet (% of population)=%{x}<br>GNI per capita, PPP (current international $)=%{marker.size}<extra></extra>",
           "hovertext": [
            "Nepal"
           ],
           "ids": [
            "Nepal"
           ],
           "legendgroup": "Nepal",
           "marker": {
            "color": "#B6E880",
            "size": [
             950
            ],
            "sizemode": "area",
            "sizeref": 331.1,
            "symbol": "circle"
           },
           "mode": "markers",
           "name": "Nepal",
           "orientation": "v",
           "showlegend": true,
           "type": "scatter",
           "x": [
            0
           ],
           "xaxis": "x",
           "y": [
            950
           ],
           "yaxis": "y"
          },
          {
           "hovertemplate": "<b>%{hovertext}</b><br><br>Country Name=Peru<br>Year=1992<br>Individuals using the Internet (% of population)=%{x}<br>GNI per capita, PPP (current international $)=%{marker.size}<extra></extra>",
           "hovertext": [
            "Peru"
           ],
           "ids": [
            "Peru"
           ],
           "legendgroup": "Peru",
           "marker": {
            "color": "#FF97FF",
            "size": [
             3370
            ],
            "sizemode": "area",
            "sizeref": 331.1,
            "symbol": "circle"
           },
           "mode": "markers",
           "name": "Peru",
           "orientation": "v",
           "showlegend": true,
           "type": "scatter",
           "x": [
            0
           ],
           "xaxis": "x",
           "y": [
            3370
           ],
           "yaxis": "y"
          },
          {
           "hovertemplate": "<b>%{hovertext}</b><br><br>Country Name=Singapore<br>Year=1992<br>Individuals using the Internet (% of population)=%{x}<br>GNI per capita, PPP (current international $)=%{marker.size}<extra></extra>",
           "hovertext": [
            "Singapore"
           ],
           "ids": [
            "Singapore"
           ],
           "legendgroup": "Singapore",
           "marker": {
            "color": "#FECB52",
            "size": [
             27040
            ],
            "sizemode": "area",
            "sizeref": 331.1,
            "symbol": "circle"
           },
           "mode": "markers",
           "name": "Singapore",
           "orientation": "v",
           "showlegend": true,
           "type": "scatter",
           "x": [
            0.471368155
           ],
           "xaxis": "x",
           "y": [
            27040
           ],
           "yaxis": "y"
          },
          {
           "hovertemplate": "<b>%{hovertext}</b><br><br>Country Name=Uruguay<br>Year=1992<br>Individuals using the Internet (% of population)=%{x}<br>GNI per capita, PPP (current international $)=%{marker.size}<extra></extra>",
           "hovertext": [
            "Uruguay"
           ],
           "ids": [
            "Uruguay"
           ],
           "legendgroup": "Uruguay",
           "marker": {
            "color": "#636efa",
            "size": [
             7310
            ],
            "sizemode": "area",
            "sizeref": 331.1,
            "symbol": "circle"
           },
           "mode": "markers",
           "name": "Uruguay",
           "orientation": "v",
           "showlegend": true,
           "type": "scatter",
           "x": [
            0
           ],
           "xaxis": "x",
           "y": [
            7310
           ],
           "yaxis": "y"
          },
          {
           "hovertemplate": "<b>%{hovertext}</b><br><br>Country Name=Zimbabwe<br>Year=1992<br>Individuals using the Internet (% of population)=%{x}<br>GNI per capita, PPP (current international $)=%{marker.size}<extra></extra>",
           "hovertext": [
            "Zimbabwe"
           ],
           "ids": [
            "Zimbabwe"
           ],
           "legendgroup": "Zimbabwe",
           "marker": {
            "color": "#EF553B",
            "size": [
             1680
            ],
            "sizemode": "area",
            "sizeref": 331.1,
            "symbol": "circle"
           },
           "mode": "markers",
           "name": "Zimbabwe",
           "orientation": "v",
           "showlegend": true,
           "type": "scatter",
           "x": [
            0
           ],
           "xaxis": "x",
           "y": [
            1680
           ],
           "yaxis": "y"
          },
          {
           "hovertemplate": "<b>%{hovertext}</b><br><br>Country Name=Oman<br>Year=1992<br>Individuals using the Internet (% of population)=%{x}<br>GNI per capita, PPP (current international $)=%{marker.size}<extra></extra>",
           "hovertext": [
            "Oman"
           ],
           "ids": [
            "Oman"
           ],
           "legendgroup": "Oman",
           "marker": {
            "color": "#00cc96",
            "size": [
             28280
            ],
            "sizemode": "area",
            "sizeref": 331.1,
            "symbol": "circle"
           },
           "mode": "markers",
           "name": "Oman",
           "orientation": "v",
           "showlegend": true,
           "type": "scatter",
           "x": [
            0
           ],
           "xaxis": "x",
           "y": [
            28280
           ],
           "yaxis": "y"
          },
          {
           "hovertemplate": "<b>%{hovertext}</b><br><br>Country Name=Ireland<br>Year=1992<br>Individuals using the Internet (% of population)=%{x}<br>GNI per capita, PPP (current international $)=%{marker.size}<extra></extra>",
           "hovertext": [
            "Ireland"
           ],
           "ids": [
            "Ireland"
           ],
           "legendgroup": "Ireland",
           "marker": {
            "color": "#ab63fa",
            "size": [
             13930
            ],
            "sizemode": "area",
            "sizeref": 331.1,
            "symbol": "circle"
           },
           "mode": "markers",
           "name": "Ireland",
           "orientation": "v",
           "showlegend": true,
           "type": "scatter",
           "x": [
            0.169686377
           ],
           "xaxis": "x",
           "y": [
            13930
           ],
           "yaxis": "y"
          }
         ],
         "name": "1992"
        },
        {
         "data": [
          {
           "hovertemplate": "<b>%{hovertext}</b><br><br>Country Name=Australia<br>Year=1993<br>Individuals using the Internet (% of population)=%{x}<br>GNI per capita, PPP (current international $)=%{marker.size}<extra></extra>",
           "hovertext": [
            "Australia"
           ],
           "ids": [
            "Australia"
           ],
           "legendgroup": "Australia",
           "marker": {
            "color": "#636efa",
            "size": [
             18640
            ],
            "sizemode": "area",
            "sizeref": 331.1,
            "symbol": "circle"
           },
           "mode": "markers",
           "name": "Australia",
           "orientation": "v",
           "showlegend": true,
           "type": "scatter",
           "x": [
            1.974611016
           ],
           "xaxis": "x",
           "y": [
            18640
           ],
           "yaxis": "y"
          },
          {
           "hovertemplate": "<b>%{hovertext}</b><br><br>Country Name=Belgium<br>Year=1993<br>Individuals using the Internet (% of population)=%{x}<br>GNI per capita, PPP (current international $)=%{marker.size}<extra></extra>",
           "hovertext": [
            "Belgium"
           ],
           "ids": [
            "Belgium"
           ],
           "legendgroup": "Belgium",
           "marker": {
            "color": "#EF553B",
            "size": [
             20800
            ],
            "sizemode": "area",
            "sizeref": 331.1,
            "symbol": "circle"
           },
           "mode": "markers",
           "name": "Belgium",
           "orientation": "v",
           "showlegend": true,
           "type": "scatter",
           "x": [
            0.199446059
           ],
           "xaxis": "x",
           "y": [
            20800
           ],
           "yaxis": "y"
          },
          {
           "hovertemplate": "<b>%{hovertext}</b><br><br>Country Name=Denmark<br>Year=1993<br>Individuals using the Internet (% of population)=%{x}<br>GNI per capita, PPP (current international $)=%{marker.size}<extra></extra>",
           "hovertext": [
            "Denmark"
           ],
           "ids": [
            "Denmark"
           ],
           "legendgroup": "Denmark",
           "marker": {
            "color": "#00cc96",
            "size": [
             19720
            ],
            "sizemode": "area",
            "sizeref": 331.1,
            "symbol": "circle"
           },
           "mode": "markers",
           "name": "Denmark",
           "orientation": "v",
           "showlegend": true,
           "type": "scatter",
           "x": [
            0.578329976
           ],
           "xaxis": "x",
           "y": [
            19720
           ],
           "yaxis": "y"
          },
          {
           "hovertemplate": "<b>%{hovertext}</b><br><br>Country Name=Ecuador<br>Year=1993<br>Individuals using the Internet (% of population)=%{x}<br>GNI per capita, PPP (current international $)=%{marker.size}<extra></extra>",
           "hovertext": [
            "Ecuador"
           ],
           "ids": [
            "Ecuador"
           ],
           "legendgroup": "Ecuador",
           "marker": {
            "color": "#ab63fa",
            "size": [
             5050
            ],
            "sizemode": "area",
            "sizeref": 331.1,
            "symbol": "circle"
           },
           "mode": "markers",
           "name": "Ecuador",
           "orientation": "v",
           "showlegend": true,
           "type": "scatter",
           "x": [
            0.016400751
           ],
           "xaxis": "x",
           "y": [
            5050
           ],
           "yaxis": "y"
          },
          {
           "hovertemplate": "<b>%{hovertext}</b><br><br>Country Name=Fiji<br>Year=1993<br>Individuals using the Internet (% of population)=%{x}<br>GNI per capita, PPP (current international $)=%{marker.size}<extra></extra>",
           "hovertext": [
            "Fiji"
           ],
           "ids": [
            "Fiji"
           ],
           "legendgroup": "Fiji",
           "marker": {
            "color": "#FFA15A",
            "size": [
             4470
            ],
            "sizemode": "area",
            "sizeref": 331.1,
            "symbol": "circle"
           },
           "mode": "markers",
           "name": "Fiji",
           "orientation": "v",
           "showlegend": true,
           "type": "scatter",
           "x": [
            0.006678447
           ],
           "xaxis": "x",
           "y": [
            4470
           ],
           "yaxis": "y"
          },
          {
           "hovertemplate": "<b>%{hovertext}</b><br><br>Country Name=Japan<br>Year=1993<br>Individuals using the Internet (% of population)=%{x}<br>GNI per capita, PPP (current international $)=%{marker.size}<extra></extra>",
           "hovertext": [
            "Japan"
           ],
           "ids": [
            "Japan"
           ],
           "legendgroup": "Japan",
           "marker": {
            "color": "#19d3f3",
            "size": [
             22390
            ],
            "sizemode": "area",
            "sizeref": 331.1,
            "symbol": "circle"
           },
           "mode": "markers",
           "name": "Japan",
           "orientation": "v",
           "showlegend": true,
           "type": "scatter",
           "x": [
            0.401277526
           ],
           "xaxis": "x",
           "y": [
            22390
           ],
           "yaxis": "y"
          },
          {
           "hovertemplate": "<b>%{hovertext}</b><br><br>Country Name=Luxembourg<br>Year=1993<br>Individuals using the Internet (% of population)=%{x}<br>GNI per capita, PPP (current international $)=%{marker.size}<extra></extra>",
           "hovertext": [
            "Luxembourg"
           ],
           "ids": [
            "Luxembourg"
           ],
           "legendgroup": "Luxembourg",
           "marker": {
            "color": "#FF6692",
            "size": [
             35180
            ],
            "sizemode": "area",
            "sizeref": 331.1,
            "symbol": "circle"
           },
           "mode": "markers",
           "name": "Luxembourg",
           "orientation": "v",
           "showlegend": true,
           "type": "scatter",
           "x": [
            0.302155121
           ],
           "xaxis": "x",
           "y": [
            35180
           ],
           "yaxis": "y"
          },
          {
           "hovertemplate": "<b>%{hovertext}</b><br><br>Country Name=Nepal<br>Year=1993<br>Individuals using the Internet (% of population)=%{x}<br>GNI per capita, PPP (current international $)=%{marker.size}<extra></extra>",
           "hovertext": [
            "Nepal"
           ],
           "ids": [
            "Nepal"
           ],
           "legendgroup": "Nepal",
           "marker": {
            "color": "#B6E880",
            "size": [
             990
            ],
            "sizemode": "area",
            "sizeref": 331.1,
            "symbol": "circle"
           },
           "mode": "markers",
           "name": "Nepal",
           "orientation": "v",
           "showlegend": true,
           "type": "scatter",
           "x": [
            0
           ],
           "xaxis": "x",
           "y": [
            990
           ],
           "yaxis": "y"
          },
          {
           "hovertemplate": "<b>%{hovertext}</b><br><br>Country Name=Peru<br>Year=1993<br>Individuals using the Internet (% of population)=%{x}<br>GNI per capita, PPP (current international $)=%{marker.size}<extra></extra>",
           "hovertext": [
            "Peru"
           ],
           "ids": [
            "Peru"
           ],
           "legendgroup": "Peru",
           "marker": {
            "color": "#FF97FF",
            "size": [
             3540
            ],
            "sizemode": "area",
            "sizeref": 331.1,
            "symbol": "circle"
           },
           "mode": "markers",
           "name": "Peru",
           "orientation": "v",
           "showlegend": true,
           "type": "scatter",
           "x": [
            0
           ],
           "xaxis": "x",
           "y": [
            3540
           ],
           "yaxis": "y"
          },
          {
           "hovertemplate": "<b>%{hovertext}</b><br><br>Country Name=Singapore<br>Year=1993<br>Individuals using the Internet (% of population)=%{x}<br>GNI per capita, PPP (current international $)=%{marker.size}<extra></extra>",
           "hovertext": [
            "Singapore"
           ],
           "ids": [
            "Singapore"
           ],
           "legendgroup": "Singapore",
           "marker": {
            "color": "#FECB52",
            "size": [
             29420
            ],
            "sizemode": "area",
            "sizeref": 331.1,
            "symbol": "circle"
           },
           "mode": "markers",
           "name": "Singapore",
           "orientation": "v",
           "showlegend": true,
           "type": "scatter",
           "x": [
            0.763278139
           ],
           "xaxis": "x",
           "y": [
            29420
           ],
           "yaxis": "y"
          },
          {
           "hovertemplate": "<b>%{hovertext}</b><br><br>Country Name=Uruguay<br>Year=1993<br>Individuals using the Internet (% of population)=%{x}<br>GNI per capita, PPP (current international $)=%{marker.size}<extra></extra>",
           "hovertext": [
            "Uruguay"
           ],
           "ids": [
            "Uruguay"
           ],
           "legendgroup": "Uruguay",
           "marker": {
            "color": "#636efa",
            "size": [
             7640
            ],
            "sizemode": "area",
            "sizeref": 331.1,
            "symbol": "circle"
           },
           "mode": "markers",
           "name": "Uruguay",
           "orientation": "v",
           "showlegend": true,
           "type": "scatter",
           "x": [
            0
           ],
           "xaxis": "x",
           "y": [
            7640
           ],
           "yaxis": "y"
          },
          {
           "hovertemplate": "<b>%{hovertext}</b><br><br>Country Name=Zimbabwe<br>Year=1993<br>Individuals using the Internet (% of population)=%{x}<br>GNI per capita, PPP (current international $)=%{marker.size}<extra></extra>",
           "hovertext": [
            "Zimbabwe"
           ],
           "ids": [
            "Zimbabwe"
           ],
           "legendgroup": "Zimbabwe",
           "marker": {
            "color": "#EF553B",
            "size": [
             1710
            ],
            "sizemode": "area",
            "sizeref": 331.1,
            "symbol": "circle"
           },
           "mode": "markers",
           "name": "Zimbabwe",
           "orientation": "v",
           "showlegend": true,
           "type": "scatter",
           "x": [
            0
           ],
           "xaxis": "x",
           "y": [
            1710
           ],
           "yaxis": "y"
          },
          {
           "hovertemplate": "<b>%{hovertext}</b><br><br>Country Name=Oman<br>Year=1993<br>Individuals using the Internet (% of population)=%{x}<br>GNI per capita, PPP (current international $)=%{marker.size}<extra></extra>",
           "hovertext": [
            "Oman"
           ],
           "ids": [
            "Oman"
           ],
           "legendgroup": "Oman",
           "marker": {
            "color": "#00cc96",
            "size": [
             29410
            ],
            "sizemode": "area",
            "sizeref": 331.1,
            "symbol": "circle"
           },
           "mode": "markers",
           "name": "Oman",
           "orientation": "v",
           "showlegend": true,
           "type": "scatter",
           "x": [
            0
           ],
           "xaxis": "x",
           "y": [
            29410
           ],
           "yaxis": "y"
          },
          {
           "hovertemplate": "<b>%{hovertext}</b><br><br>Country Name=Ireland<br>Year=1993<br>Individuals using the Internet (% of population)=%{x}<br>GNI per capita, PPP (current international $)=%{marker.size}<extra></extra>",
           "hovertext": [
            "Ireland"
           ],
           "ids": [
            "Ireland"
           ],
           "legendgroup": "Ireland",
           "marker": {
            "color": "#ab63fa",
            "size": [
             14630
            ],
            "sizemode": "area",
            "sizeref": 331.1,
            "symbol": "circle"
           },
           "mode": "markers",
           "name": "Ireland",
           "orientation": "v",
           "showlegend": true,
           "type": "scatter",
           "x": [
            0.281141005
           ],
           "xaxis": "x",
           "y": [
            14630
           ],
           "yaxis": "y"
          },
          {
           "hovertemplate": "<b>%{hovertext}</b><br><br>Country Name=Hungary<br>Year=1993<br>Individuals using the Internet (% of population)=%{x}<br>GNI per capita, PPP (current international $)=%{marker.size}<extra></extra>",
           "hovertext": [
            "Hungary"
           ],
           "ids": [
            "Hungary"
           ],
           "legendgroup": "Hungary",
           "marker": {
            "color": "#FFA15A",
            "size": [
             8210
            ],
            "sizemode": "area",
            "sizeref": 331.1,
            "symbol": "circle"
           },
           "mode": "markers",
           "name": "Hungary",
           "orientation": "v",
           "showlegend": true,
           "type": "scatter",
           "x": [
            0.193414395
           ],
           "xaxis": "x",
           "y": [
            8210
           ],
           "yaxis": "y"
          },
          {
           "hovertemplate": "<b>%{hovertext}</b><br><br>Country Name=Kazakhstan<br>Year=1993<br>Individuals using the Internet (% of population)=%{x}<br>GNI per capita, PPP (current international $)=%{marker.size}<extra></extra>",
           "hovertext": [
            "Kazakhstan"
           ],
           "ids": [
            "Kazakhstan"
           ],
           "legendgroup": "Kazakhstan",
           "marker": {
            "color": "#19d3f3",
            "size": [
             6820
            ],
            "sizemode": "area",
            "sizeref": 331.1,
            "symbol": "circle"
           },
           "mode": "markers",
           "name": "Kazakhstan",
           "orientation": "v",
           "showlegend": true,
           "type": "scatter",
           "x": [
            0
           ],
           "xaxis": "x",
           "y": [
            6820
           ],
           "yaxis": "y"
          }
         ],
         "name": "1993"
        },
        {
         "data": [
          {
           "hovertemplate": "<b>%{hovertext}</b><br><br>Country Name=Australia<br>Year=1994<br>Individuals using the Internet (% of population)=%{x}<br>GNI per capita, PPP (current international $)=%{marker.size}<extra></extra>",
           "hovertext": [
            "Australia"
           ],
           "ids": [
            "Australia"
           ],
           "legendgroup": "Australia",
           "marker": {
            "color": "#636efa",
            "size": [
             19640
            ],
            "sizemode": "area",
            "sizeref": 331.1,
            "symbol": "circle"
           },
           "mode": "markers",
           "name": "Australia",
           "orientation": "v",
           "showlegend": true,
           "type": "scatter",
           "x": [
            2.232101254
           ],
           "xaxis": "x",
           "y": [
            19640
           ],
           "yaxis": "y"
          },
          {
           "hovertemplate": "<b>%{hovertext}</b><br><br>Country Name=Belgium<br>Year=1994<br>Individuals using the Internet (% of population)=%{x}<br>GNI per capita, PPP (current international $)=%{marker.size}<extra></extra>",
           "hovertext": [
            "Belgium"
           ],
           "ids": [
            "Belgium"
           ],
           "legendgroup": "Belgium",
           "marker": {
            "color": "#EF553B",
            "size": [
             22030
            ],
            "sizemode": "area",
            "sizeref": 331.1,
            "symbol": "circle"
           },
           "mode": "markers",
           "name": "Belgium",
           "orientation": "v",
           "showlegend": true,
           "type": "scatter",
           "x": [
            0.69599469
           ],
           "xaxis": "x",
           "y": [
            22030
           ],
           "yaxis": "y"
          },
          {
           "hovertemplate": "<b>%{hovertext}</b><br><br>Country Name=Denmark<br>Year=1994<br>Individuals using the Internet (% of population)=%{x}<br>GNI per capita, PPP (current international $)=%{marker.size}<extra></extra>",
           "hovertext": [
            "Denmark"
           ],
           "ids": [
            "Denmark"
           ],
           "legendgroup": "Denmark",
           "marker": {
            "color": "#00cc96",
            "size": [
             21200
            ],
            "sizemode": "area",
            "sizeref": 331.1,
            "symbol": "circle"
           },
           "mode": "markers",
           "name": "Denmark",
           "orientation": "v",
           "showlegend": true,
           "type": "scatter",
           "x": [
            1.34430775
           ],
           "xaxis": "x",
           "y": [
            21200
           ],
           "yaxis": "y"
          },
          {
           "hovertemplate": "<b>%{hovertext}</b><br><br>Country Name=Ecuador<br>Year=1994<br>Individuals using the Internet (% of population)=%{x}<br>GNI per capita, PPP (current international $)=%{marker.size}<extra></extra>",
           "hovertext": [
            "Ecuador"
           ],
           "ids": [
            "Ecuador"
           ],
           "legendgroup": "Ecuador",
           "marker": {
            "color": "#ab63fa",
            "size": [
             5280
            ],
            "sizemode": "area",
            "sizeref": 331.1,
            "symbol": "circle"
           },
           "mode": "markers",
           "name": "Ecuador",
           "orientation": "v",
           "showlegend": true,
           "type": "scatter",
           "x": [
            0.034833586
           ],
           "xaxis": "x",
           "y": [
            5280
           ],
           "yaxis": "y"
          },
          {
           "hovertemplate": "<b>%{hovertext}</b><br><br>Country Name=Fiji<br>Year=1994<br>Individuals using the Internet (% of population)=%{x}<br>GNI per capita, PPP (current international $)=%{marker.size}<extra></extra>",
           "hovertext": [
            "Fiji"
           ],
           "ids": [
            "Fiji"
           ],
           "legendgroup": "Fiji",
           "marker": {
            "color": "#FFA15A",
            "size": [
             4660
            ],
            "sizemode": "area",
            "sizeref": 331.1,
            "symbol": "circle"
           },
           "mode": "markers",
           "name": "Fiji",
           "orientation": "v",
           "showlegend": true,
           "type": "scatter",
           "x": [
            0.007907399
           ],
           "xaxis": "x",
           "y": [
            4660
           ],
           "yaxis": "y"
          },
          {
           "hovertemplate": "<b>%{hovertext}</b><br><br>Country Name=Japan<br>Year=1994<br>Individuals using the Internet (% of population)=%{x}<br>GNI per capita, PPP (current international $)=%{marker.size}<extra></extra>",
           "hovertext": [
            "Japan"
           ],
           "ids": [
            "Japan"
           ],
           "legendgroup": "Japan",
           "marker": {
            "color": "#19d3f3",
            "size": [
             23010
            ],
            "sizemode": "area",
            "sizeref": 331.1,
            "symbol": "circle"
           },
           "mode": "markers",
           "name": "Japan",
           "orientation": "v",
           "showlegend": true,
           "type": "scatter",
           "x": [
            0.799684291
           ],
           "xaxis": "x",
           "y": [
            23010
           ],
           "yaxis": "y"
          },
          {
           "hovertemplate": "<b>%{hovertext}</b><br><br>Country Name=Luxembourg<br>Year=1994<br>Individuals using the Internet (% of population)=%{x}<br>GNI per capita, PPP (current international $)=%{marker.size}<extra></extra>",
           "hovertext": [
            "Luxembourg"
           ],
           "ids": [
            "Luxembourg"
           ],
           "legendgroup": "Luxembourg",
           "marker": {
            "color": "#FF6692",
            "size": [
             35450
            ],
            "sizemode": "area",
            "sizeref": 331.1,
            "symbol": "circle"
           },
           "mode": "markers",
           "name": "Luxembourg",
           "orientation": "v",
           "showlegend": true,
           "type": "scatter",
           "x": [
            0.496486119
           ],
           "xaxis": "x",
           "y": [
            35450
           ],
           "yaxis": "y"
          },
          {
           "hovertemplate": "<b>%{hovertext}</b><br><br>Country Name=Nepal<br>Year=1994<br>Individuals using the Internet (% of population)=%{x}<br>GNI per capita, PPP (current international $)=%{marker.size}<extra></extra>",
           "hovertext": [
            "Nepal"
           ],
           "ids": [
            "Nepal"
           ],
           "legendgroup": "Nepal",
           "marker": {
            "color": "#B6E880",
            "size": [
             1060
            ],
            "sizemode": "area",
            "sizeref": 331.1,
            "symbol": "circle"
           },
           "mode": "markers",
           "name": "Nepal",
           "orientation": "v",
           "showlegend": true,
           "type": "scatter",
           "x": [
            0
           ],
           "xaxis": "x",
           "y": [
            1060
           ],
           "yaxis": "y"
          },
          {
           "hovertemplate": "<b>%{hovertext}</b><br><br>Country Name=Peru<br>Year=1994<br>Individuals using the Internet (% of population)=%{x}<br>GNI per capita, PPP (current international $)=%{marker.size}<extra></extra>",
           "hovertext": [
            "Peru"
           ],
           "ids": [
            "Peru"
           ],
           "legendgroup": "Peru",
           "marker": {
            "color": "#FF97FF",
            "size": [
             3970
            ],
            "sizemode": "area",
            "sizeref": 331.1,
            "symbol": "circle"
           },
           "mode": "markers",
           "name": "Peru",
           "orientation": "v",
           "showlegend": true,
           "type": "scatter",
           "x": [
            0.008504578
           ],
           "xaxis": "x",
           "y": [
            3970
           ],
           "yaxis": "y"
          },
          {
           "hovertemplate": "<b>%{hovertext}</b><br><br>Country Name=Singapore<br>Year=1994<br>Individuals using the Internet (% of population)=%{x}<br>GNI per capita, PPP (current international $)=%{marker.size}<extra></extra>",
           "hovertext": [
            "Singapore"
           ],
           "ids": [
            "Singapore"
           ],
           "legendgroup": "Singapore",
           "marker": {
            "color": "#FECB52",
            "size": [
             33100
            ],
            "sizemode": "area",
            "sizeref": 331.1,
            "symbol": "circle"
           },
           "mode": "markers",
           "name": "Singapore",
           "orientation": "v",
           "showlegend": true,
           "type": "scatter",
           "x": [
            1.185203797
           ],
           "xaxis": "x",
           "y": [
            33100
           ],
           "yaxis": "y"
          },
          {
           "hovertemplate": "<b>%{hovertext}</b><br><br>Country Name=Uruguay<br>Year=1994<br>Individuals using the Internet (% of population)=%{x}<br>GNI per capita, PPP (current international $)=%{marker.size}<extra></extra>",
           "hovertext": [
            "Uruguay"
           ],
           "ids": [
            "Uruguay"
           ],
           "legendgroup": "Uruguay",
           "marker": {
            "color": "#636efa",
            "size": [
             8290
            ],
            "sizemode": "area",
            "sizeref": 331.1,
            "symbol": "circle"
           },
           "mode": "markers",
           "name": "Uruguay",
           "orientation": "v",
           "showlegend": true,
           "type": "scatter",
           "x": [
            0.062474386
           ],
           "xaxis": "x",
           "y": [
            8290
           ],
           "yaxis": "y"
          },
          {
           "hovertemplate": "<b>%{hovertext}</b><br><br>Country Name=Zimbabwe<br>Year=1994<br>Individuals using the Internet (% of population)=%{x}<br>GNI per capita, PPP (current international $)=%{marker.size}<extra></extra>",
           "hovertext": [
            "Zimbabwe"
           ],
           "ids": [
            "Zimbabwe"
           ],
           "legendgroup": "Zimbabwe",
           "marker": {
            "color": "#EF553B",
            "size": [
             1870
            ],
            "sizemode": "area",
            "sizeref": 331.1,
            "symbol": "circle"
           },
           "mode": "markers",
           "name": "Zimbabwe",
           "orientation": "v",
           "showlegend": true,
           "type": "scatter",
           "x": [
            0.00173928
           ],
           "xaxis": "x",
           "y": [
            1870
           ],
           "yaxis": "y"
          },
          {
           "hovertemplate": "<b>%{hovertext}</b><br><br>Country Name=Oman<br>Year=1994<br>Individuals using the Internet (% of population)=%{x}<br>GNI per capita, PPP (current international $)=%{marker.size}<extra></extra>",
           "hovertext": [
            "Oman"
           ],
           "ids": [
            "Oman"
           ],
           "legendgroup": "Oman",
           "marker": {
            "color": "#00cc96",
            "size": [
             30050
            ],
            "sizemode": "area",
            "sizeref": 331.1,
            "symbol": "circle"
           },
           "mode": "markers",
           "name": "Oman",
           "orientation": "v",
           "showlegend": true,
           "type": "scatter",
           "x": [
            0
           ],
           "xaxis": "x",
           "y": [
            30050
           ],
           "yaxis": "y"
          },
          {
           "hovertemplate": "<b>%{hovertext}</b><br><br>Country Name=Ireland<br>Year=1994<br>Individuals using the Internet (% of population)=%{x}<br>GNI per capita, PPP (current international $)=%{marker.size}<extra></extra>",
           "hovertext": [
            "Ireland"
           ],
           "ids": [
            "Ireland"
           ],
           "legendgroup": "Ireland",
           "marker": {
            "color": "#ab63fa",
            "size": [
             15810
            ],
            "sizemode": "area",
            "sizeref": 331.1,
            "symbol": "circle"
           },
           "mode": "markers",
           "name": "Ireland",
           "orientation": "v",
           "showlegend": true,
           "type": "scatter",
           "x": [
            0.558377222
           ],
           "xaxis": "x",
           "y": [
            15810
           ],
           "yaxis": "y"
          },
          {
           "hovertemplate": "<b>%{hovertext}</b><br><br>Country Name=Hungary<br>Year=1994<br>Individuals using the Internet (% of population)=%{x}<br>GNI per capita, PPP (current international $)=%{marker.size}<extra></extra>",
           "hovertext": [
            "Hungary"
           ],
           "ids": [
            "Hungary"
           ],
           "legendgroup": "Hungary",
           "marker": {
            "color": "#FFA15A",
            "size": [
             8610
            ],
            "sizemode": "area",
            "sizeref": 331.1,
            "symbol": "circle"
           },
           "mode": "markers",
           "name": "Hungary",
           "orientation": "v",
           "showlegend": true,
           "type": "scatter",
           "x": [
            0.483580975
           ],
           "xaxis": "x",
           "y": [
            8610
           ],
           "yaxis": "y"
          },
          {
           "hovertemplate": "<b>%{hovertext}</b><br><br>Country Name=Kazakhstan<br>Year=1994<br>Individuals using the Internet (% of population)=%{x}<br>GNI per capita, PPP (current international $)=%{marker.size}<extra></extra>",
           "hovertext": [
            "Kazakhstan"
           ],
           "ids": [
            "Kazakhstan"
           ],
           "legendgroup": "Kazakhstan",
           "marker": {
            "color": "#19d3f3",
            "size": [
             6160
            ],
            "sizemode": "area",
            "sizeref": 331.1,
            "symbol": "circle"
           },
           "mode": "markers",
           "name": "Kazakhstan",
           "orientation": "v",
           "showlegend": true,
           "type": "scatter",
           "x": [
            0.000521079
           ],
           "xaxis": "x",
           "y": [
            6160
           ],
           "yaxis": "y"
          }
         ],
         "name": "1994"
        },
        {
         "data": [
          {
           "hovertemplate": "<b>%{hovertext}</b><br><br>Country Name=Australia<br>Year=1995<br>Individuals using the Internet (% of population)=%{x}<br>GNI per capita, PPP (current international $)=%{marker.size}<extra></extra>",
           "hovertext": [
            "Australia"
           ],
           "ids": [
            "Australia"
           ],
           "legendgroup": "Australia",
           "marker": {
            "color": "#636efa",
            "size": [
             20200
            ],
            "sizemode": "area",
            "sizeref": 331.1,
            "symbol": "circle"
           },
           "mode": "markers",
           "name": "Australia",
           "orientation": "v",
           "showlegend": true,
           "type": "scatter",
           "x": [
            2.759654513
           ],
           "xaxis": "x",
           "y": [
            20200
           ],
           "yaxis": "y"
          },
          {
           "hovertemplate": "<b>%{hovertext}</b><br><br>Country Name=Belgium<br>Year=1995<br>Individuals using the Internet (% of population)=%{x}<br>GNI per capita, PPP (current international $)=%{marker.size}<extra></extra>",
           "hovertext": [
            "Belgium"
           ],
           "ids": [
            "Belgium"
           ],
           "legendgroup": "Belgium",
           "marker": {
            "color": "#EF553B",
            "size": [
             22930
            ],
            "sizemode": "area",
            "sizeref": 331.1,
            "symbol": "circle"
           },
           "mode": "markers",
           "name": "Belgium",
           "orientation": "v",
           "showlegend": true,
           "type": "scatter",
           "x": [
            0.99166299
           ],
           "xaxis": "x",
           "y": [
            22930
           ],
           "yaxis": "y"
          },
          {
           "hovertemplate": "<b>%{hovertext}</b><br><br>Country Name=Denmark<br>Year=1995<br>Individuals using the Internet (% of population)=%{x}<br>GNI per capita, PPP (current international $)=%{marker.size}<extra></extra>",
           "hovertext": [
            "Denmark"
           ],
           "ids": [
            "Denmark"
           ],
           "legendgroup": "Denmark",
           "marker": {
            "color": "#00cc96",
            "size": [
             22270
            ],
            "sizemode": "area",
            "sizeref": 331.1,
            "symbol": "circle"
           },
           "mode": "markers",
           "name": "Denmark",
           "orientation": "v",
           "showlegend": true,
           "type": "scatter",
           "x": [
            3.82565642
           ],
           "xaxis": "x",
           "y": [
            22270
           ],
           "yaxis": "y"
          },
          {
           "hovertemplate": "<b>%{hovertext}</b><br><br>Country Name=Ecuador<br>Year=1995<br>Individuals using the Internet (% of population)=%{x}<br>GNI per capita, PPP (current international $)=%{marker.size}<extra></extra>",
           "hovertext": [
            "Ecuador"
           ],
           "ids": [
            "Ecuador"
           ],
           "legendgroup": "Ecuador",
           "marker": {
            "color": "#ab63fa",
            "size": [
             5420
            ],
            "sizemode": "area",
            "sizeref": 331.1,
            "symbol": "circle"
           },
           "mode": "markers",
           "name": "Ecuador",
           "orientation": "v",
           "showlegend": true,
           "type": "scatter",
           "x": [
            0.043833641
           ],
           "xaxis": "x",
           "y": [
            5420
           ],
           "yaxis": "y"
          },
          {
           "hovertemplate": "<b>%{hovertext}</b><br><br>Country Name=Fiji<br>Year=1995<br>Individuals using the Internet (% of population)=%{x}<br>GNI per capita, PPP (current international $)=%{marker.size}<extra></extra>",
           "hovertext": [
            "Fiji"
           ],
           "ids": [
            "Fiji"
           ],
           "legendgroup": "Fiji",
           "marker": {
            "color": "#FFA15A",
            "size": [
             4950
            ],
            "sizemode": "area",
            "sizeref": 331.1,
            "symbol": "circle"
           },
           "mode": "markers",
           "name": "Fiji",
           "orientation": "v",
           "showlegend": true,
           "type": "scatter",
           "x": [
            0.009115343
           ],
           "xaxis": "x",
           "y": [
            4950
           ],
           "yaxis": "y"
          },
          {
           "hovertemplate": "<b>%{hovertext}</b><br><br>Country Name=Japan<br>Year=1995<br>Individuals using the Internet (% of population)=%{x}<br>GNI per capita, PPP (current international $)=%{marker.size}<extra></extra>",
           "hovertext": [
            "Japan"
           ],
           "ids": [
            "Japan"
           ],
           "legendgroup": "Japan",
           "marker": {
            "color": "#19d3f3",
            "size": [
             24060
            ],
            "sizemode": "area",
            "sizeref": 331.1,
            "symbol": "circle"
           },
           "mode": "markers",
           "name": "Japan",
           "orientation": "v",
           "showlegend": true,
           "type": "scatter",
           "x": [
            1.594363148
           ],
           "xaxis": "x",
           "y": [
            24060
           ],
           "yaxis": "y"
          },
          {
           "hovertemplate": "<b>%{hovertext}</b><br><br>Country Name=Luxembourg<br>Year=1995<br>Individuals using the Internet (% of population)=%{x}<br>GNI per capita, PPP (current international $)=%{marker.size}<extra></extra>",
           "hovertext": [
            "Luxembourg"
           ],
           "ids": [
            "Luxembourg"
           ],
           "legendgroup": "Luxembourg",
           "marker": {
            "color": "#FF6692",
            "size": [
             37330
            ],
            "sizemode": "area",
            "sizeref": 331.1,
            "symbol": "circle"
           },
           "mode": "markers",
           "name": "Luxembourg",
           "orientation": "v",
           "showlegend": true,
           "type": "scatter",
           "x": [
            1.590941911
           ],
           "xaxis": "x",
           "y": [
            37330
           ],
           "yaxis": "y"
          },
          {
           "hovertemplate": "<b>%{hovertext}</b><br><br>Country Name=Nepal<br>Year=1995<br>Individuals using the Internet (% of population)=%{x}<br>GNI per capita, PPP (current international $)=%{marker.size}<extra></extra>",
           "hovertext": [
            "Nepal"
           ],
           "ids": [
            "Nepal"
           ],
           "legendgroup": "Nepal",
           "marker": {
            "color": "#B6E880",
            "size": [
             1090
            ],
            "sizemode": "area",
            "sizeref": 331.1,
            "symbol": "circle"
           },
           "mode": "markers",
           "name": "Nepal",
           "orientation": "v",
           "showlegend": true,
           "type": "scatter",
           "x": [
            0.000924878
           ],
           "xaxis": "x",
           "y": [
            1090
           ],
           "yaxis": "y"
          },
          {
           "hovertemplate": "<b>%{hovertext}</b><br><br>Country Name=Peru<br>Year=1995<br>Individuals using the Internet (% of population)=%{x}<br>GNI per capita, PPP (current international $)=%{marker.size}<extra></extra>",
           "hovertext": [
            "Peru"
           ],
           "ids": [
            "Peru"
           ],
           "legendgroup": "Peru",
           "marker": {
            "color": "#FF97FF",
            "size": [
             4260
            ],
            "sizemode": "area",
            "sizeref": 331.1,
            "symbol": "circle"
           },
           "mode": "markers",
           "name": "Peru",
           "orientation": "v",
           "showlegend": true,
           "type": "scatter",
           "x": [
            0.033412305
           ],
           "xaxis": "x",
           "y": [
            4260
           ],
           "yaxis": "y"
          },
          {
           "hovertemplate": "<b>%{hovertext}</b><br><br>Country Name=Singapore<br>Year=1995<br>Individuals using the Internet (% of population)=%{x}<br>GNI per capita, PPP (current international $)=%{marker.size}<extra></extra>",
           "hovertext": [
            "Singapore"
           ],
           "ids": [
            "Singapore"
           ],
           "legendgroup": "Singapore",
           "marker": {
            "color": "#FECB52",
            "size": [
             35340
            ],
            "sizemode": "area",
            "sizeref": 331.1,
            "symbol": "circle"
           },
           "mode": "markers",
           "name": "Singapore",
           "orientation": "v",
           "showlegend": true,
           "type": "scatter",
           "x": [
            2.873418722
           ],
           "xaxis": "x",
           "y": [
            35340
           ],
           "yaxis": "y"
          },
          {
           "hovertemplate": "<b>%{hovertext}</b><br><br>Country Name=Uruguay<br>Year=1995<br>Individuals using the Internet (% of population)=%{x}<br>GNI per capita, PPP (current international $)=%{marker.size}<extra></extra>",
           "hovertext": [
            "Uruguay"
           ],
           "ids": [
            "Uruguay"
           ],
           "legendgroup": "Uruguay",
           "marker": {
            "color": "#636efa",
            "size": [
             8300
            ],
            "sizemode": "area",
            "sizeref": 331.1,
            "symbol": "circle"
           },
           "mode": "markers",
           "name": "Uruguay",
           "orientation": "v",
           "showlegend": true,
           "type": "scatter",
           "x": [
            0.310128582
           ],
           "xaxis": "x",
           "y": [
            8300
           ],
           "yaxis": "y"
          },
          {
           "hovertemplate": "<b>%{hovertext}</b><br><br>Country Name=Zimbabwe<br>Year=1995<br>Individuals using the Internet (% of population)=%{x}<br>GNI per capita, PPP (current international $)=%{marker.size}<extra></extra>",
           "hovertext": [
            "Zimbabwe"
           ],
           "ids": [
            "Zimbabwe"
           ],
           "legendgroup": "Zimbabwe",
           "marker": {
            "color": "#EF553B",
            "size": [
             1880
            ],
            "sizemode": "area",
            "sizeref": 331.1,
            "symbol": "circle"
           },
           "mode": "markers",
           "name": "Zimbabwe",
           "orientation": "v",
           "showlegend": true,
           "type": "scatter",
           "x": [
            0.00768354
           ],
           "xaxis": "x",
           "y": [
            1880
           ],
           "yaxis": "y"
          },
          {
           "hovertemplate": "<b>%{hovertext}</b><br><br>Country Name=Oman<br>Year=1995<br>Individuals using the Internet (% of population)=%{x}<br>GNI per capita, PPP (current international $)=%{marker.size}<extra></extra>",
           "hovertext": [
            "Oman"
           ],
           "ids": [
            "Oman"
           ],
           "legendgroup": "Oman",
           "marker": {
            "color": "#00cc96",
            "size": [
             31500
            ],
            "sizemode": "area",
            "sizeref": 331.1,
            "symbol": "circle"
           },
           "mode": "markers",
           "name": "Oman",
           "orientation": "v",
           "showlegend": true,
           "type": "scatter",
           "x": [
            0
           ],
           "xaxis": "x",
           "y": [
            31500
           ],
           "yaxis": "y"
          },
          {
           "hovertemplate": "<b>%{hovertext}</b><br><br>Country Name=Ireland<br>Year=1995<br>Individuals using the Internet (% of population)=%{x}<br>GNI per capita, PPP (current international $)=%{marker.size}<extra></extra>",
           "hovertext": [
            "Ireland"
           ],
           "ids": [
            "Ireland"
           ],
           "legendgroup": "Ireland",
           "marker": {
            "color": "#ab63fa",
            "size": [
             17320
            ],
            "sizemode": "area",
            "sizeref": 331.1,
            "symbol": "circle"
           },
           "mode": "markers",
           "name": "Ireland",
           "orientation": "v",
           "showlegend": true,
           "type": "scatter",
           "x": [
            1.108386328
           ],
           "xaxis": "x",
           "y": [
            17320
           ],
           "yaxis": "y"
          },
          {
           "hovertemplate": "<b>%{hovertext}</b><br><br>Country Name=Hungary<br>Year=1995<br>Individuals using the Internet (% of population)=%{x}<br>GNI per capita, PPP (current international $)=%{marker.size}<extra></extra>",
           "hovertext": [
            "Hungary"
           ],
           "ids": [
            "Hungary"
           ],
           "legendgroup": "Hungary",
           "marker": {
            "color": "#FFA15A",
            "size": [
             8790
            ],
            "sizemode": "area",
            "sizeref": 331.1,
            "symbol": "circle"
           },
           "mode": "markers",
           "name": "Hungary",
           "orientation": "v",
           "showlegend": true,
           "type": "scatter",
           "x": [
            0.677486054
           ],
           "xaxis": "x",
           "y": [
            8790
           ],
           "yaxis": "y"
          },
          {
           "hovertemplate": "<b>%{hovertext}</b><br><br>Country Name=Kazakhstan<br>Year=1995<br>Individuals using the Internet (% of population)=%{x}<br>GNI per capita, PPP (current international $)=%{marker.size}<extra></extra>",
           "hovertext": [
            "Kazakhstan"
           ],
           "ids": [
            "Kazakhstan"
           ],
           "legendgroup": "Kazakhstan",
           "marker": {
            "color": "#19d3f3",
            "size": [
             5880
            ],
            "sizemode": "area",
            "sizeref": 331.1,
            "symbol": "circle"
           },
           "mode": "markers",
           "name": "Kazakhstan",
           "orientation": "v",
           "showlegend": true,
           "type": "scatter",
           "x": [
            0.011302355
           ],
           "xaxis": "x",
           "y": [
            5880
           ],
           "yaxis": "y"
          }
         ],
         "name": "1995"
        },
        {
         "data": [
          {
           "hovertemplate": "<b>%{hovertext}</b><br><br>Country Name=Australia<br>Year=1996<br>Individuals using the Internet (% of population)=%{x}<br>GNI per capita, PPP (current international $)=%{marker.size}<extra></extra>",
           "hovertext": [
            "Australia"
           ],
           "ids": [
            "Australia"
           ],
           "legendgroup": "Australia",
           "marker": {
            "color": "#636efa",
            "size": [
             21230
            ],
            "sizemode": "area",
            "sizeref": 331.1,
            "symbol": "circle"
           },
           "mode": "markers",
           "name": "Australia",
           "orientation": "v",
           "showlegend": true,
           "type": "scatter",
           "x": [
            3.27524987
           ],
           "xaxis": "x",
           "y": [
            21230
           ],
           "yaxis": "y"
          },
          {
           "hovertemplate": "<b>%{hovertext}</b><br><br>Country Name=Belgium<br>Year=1996<br>Individuals using the Internet (% of population)=%{x}<br>GNI per capita, PPP (current international $)=%{marker.size}<extra></extra>",
           "hovertext": [
            "Belgium"
           ],
           "ids": [
            "Belgium"
           ],
           "legendgroup": "Belgium",
           "marker": {
            "color": "#EF553B",
            "size": [
             23270
            ],
            "sizemode": "area",
            "sizeref": 331.1,
            "symbol": "circle"
           },
           "mode": "markers",
           "name": "Belgium",
           "orientation": "v",
           "showlegend": true,
           "type": "scatter",
           "x": [
            2.968411647
           ],
           "xaxis": "x",
           "y": [
            23270
           ],
           "yaxis": "y"
          },
          {
           "hovertemplate": "<b>%{hovertext}</b><br><br>Country Name=Denmark<br>Year=1996<br>Individuals using the Internet (% of population)=%{x}<br>GNI per capita, PPP (current international $)=%{marker.size}<extra></extra>",
           "hovertext": [
            "Denmark"
           ],
           "ids": [
            "Denmark"
           ],
           "legendgroup": "Denmark",
           "marker": {
            "color": "#00cc96",
            "size": [
             23270
            ],
            "sizemode": "area",
            "sizeref": 331.1,
            "symbol": "circle"
           },
           "mode": "markers",
           "name": "Denmark",
           "orientation": "v",
           "showlegend": true,
           "type": "scatter",
           "x": [
            5.714987841
           ],
           "xaxis": "x",
           "y": [
            23270
           ],
           "yaxis": "y"
          },
          {
           "hovertemplate": "<b>%{hovertext}</b><br><br>Country Name=Ecuador<br>Year=1996<br>Individuals using the Internet (% of population)=%{x}<br>GNI per capita, PPP (current international $)=%{marker.size}<extra></extra>",
           "hovertext": [
            "Ecuador"
           ],
           "ids": [
            "Ecuador"
           ],
           "legendgroup": "Ecuador",
           "marker": {
            "color": "#ab63fa",
            "size": [
             5480
            ],
            "sizemode": "area",
            "sizeref": 331.1,
            "symbol": "circle"
           },
           "mode": "markers",
           "name": "Ecuador",
           "orientation": "v",
           "showlegend": true,
           "type": "scatter",
           "x": [
            0.086161276
           ],
           "xaxis": "x",
           "y": [
            5480
           ],
           "yaxis": "y"
          },
          {
           "hovertemplate": "<b>%{hovertext}</b><br><br>Country Name=Fiji<br>Year=1996<br>Individuals using the Internet (% of population)=%{x}<br>GNI per capita, PPP (current international $)=%{marker.size}<extra></extra>",
           "hovertext": [
            "Fiji"
           ],
           "ids": [
            "Fiji"
           ],
           "legendgroup": "Fiji",
           "marker": {
            "color": "#FFA15A",
            "size": [
             5260
            ],
            "sizemode": "area",
            "sizeref": 331.1,
            "symbol": "circle"
           },
           "mode": "markers",
           "name": "Fiji",
           "orientation": "v",
           "showlegend": true,
           "type": "scatter",
           "x": [
            0.064437142
           ],
           "xaxis": "x",
           "y": [
            5260
           ],
           "yaxis": "y"
          },
          {
           "hovertemplate": "<b>%{hovertext}</b><br><br>Country Name=Japan<br>Year=1996<br>Individuals using the Internet (% of population)=%{x}<br>GNI per capita, PPP (current international $)=%{marker.size}<extra></extra>",
           "hovertext": [
            "Japan"
           ],
           "ids": [
            "Japan"
           ],
           "legendgroup": "Japan",
           "marker": {
            "color": "#19d3f3",
            "size": [
             25300
            ],
            "sizemode": "area",
            "sizeref": 331.1,
            "symbol": "circle"
           },
           "mode": "markers",
           "name": "Japan",
           "orientation": "v",
           "showlegend": true,
           "type": "scatter",
           "x": [
            4.372981968
           ],
           "xaxis": "x",
           "y": [
            25300
           ],
           "yaxis": "y"
          },
          {
           "hovertemplate": "<b>%{hovertext}</b><br><br>Country Name=Luxembourg<br>Year=1996<br>Individuals using the Internet (% of population)=%{x}<br>GNI per capita, PPP (current international $)=%{marker.size}<extra></extra>",
           "hovertext": [
            "Luxembourg"
           ],
           "ids": [
            "Luxembourg"
           ],
           "legendgroup": "Luxembourg",
           "marker": {
            "color": "#FF6692",
            "size": [
             38620
            ],
            "sizemode": "area",
            "sizeref": 331.1,
            "symbol": "circle"
           },
           "mode": "markers",
           "name": "Luxembourg",
           "orientation": "v",
           "showlegend": true,
           "type": "scatter",
           "x": [
            5.551653306
           ],
           "xaxis": "x",
           "y": [
            38620
           ],
           "yaxis": "y"
          },
          {
           "hovertemplate": "<b>%{hovertext}</b><br><br>Country Name=Nepal<br>Year=1996<br>Individuals using the Internet (% of population)=%{x}<br>GNI per capita, PPP (current international $)=%{marker.size}<extra></extra>",
           "hovertext": [
            "Nepal"
           ],
           "ids": [
            "Nepal"
           ],
           "legendgroup": "Nepal",
           "marker": {
            "color": "#B6E880",
            "size": [
             1140
            ],
            "sizemode": "area",
            "sizeref": 331.1,
            "symbol": "circle"
           },
           "mode": "markers",
           "name": "Nepal",
           "orientation": "v",
           "showlegend": true,
           "type": "scatter",
           "x": [
            0.004510473
           ],
           "xaxis": "x",
           "y": [
            1140
           ],
           "yaxis": "y"
          },
          {
           "hovertemplate": "<b>%{hovertext}</b><br><br>Country Name=Peru<br>Year=1996<br>Individuals using the Internet (% of population)=%{x}<br>GNI per capita, PPP (current international $)=%{marker.size}<extra></extra>",
           "hovertext": [
            "Peru"
           ],
           "ids": [
            "Peru"
           ],
           "legendgroup": "Peru",
           "marker": {
            "color": "#FF97FF",
            "size": [
             4430
            ],
            "sizemode": "area",
            "sizeref": 331.1,
            "symbol": "circle"
           },
           "mode": "markers",
           "name": "Peru",
           "orientation": "v",
           "showlegend": true,
           "type": "scatter",
           "x": [
            0.24623258
           ],
           "xaxis": "x",
           "y": [
            4430
           ],
           "yaxis": "y"
          },
          {
           "hovertemplate": "<b>%{hovertext}</b><br><br>Country Name=Singapore<br>Year=1996<br>Individuals using the Internet (% of population)=%{x}<br>GNI per capita, PPP (current international $)=%{marker.size}<extra></extra>",
           "hovertext": [
            "Singapore"
           ],
           "ids": [
            "Singapore"
           ],
           "legendgroup": "Singapore",
           "marker": {
            "color": "#FECB52",
            "size": [
             36600
            ],
            "sizemode": "area",
            "sizeref": 331.1,
            "symbol": "circle"
           },
           "mode": "markers",
           "name": "Singapore",
           "orientation": "v",
           "showlegend": true,
           "type": "scatter",
           "x": [
            8.34995903
           ],
           "xaxis": "x",
           "y": [
            36600
           ],
           "yaxis": "y"
          },
          {
           "hovertemplate": "<b>%{hovertext}</b><br><br>Country Name=Uruguay<br>Year=1996<br>Individuals using the Internet (% of population)=%{x}<br>GNI per capita, PPP (current international $)=%{marker.size}<extra></extra>",
           "hovertext": [
            "Uruguay"
           ],
           "ids": [
            "Uruguay"
           ],
           "legendgroup": "Uruguay",
           "marker": {
            "color": "#636efa",
            "size": [
             8880
            ],
            "sizemode": "area",
            "sizeref": 331.1,
            "symbol": "circle"
           },
           "mode": "markers",
           "name": "Uruguay",
           "orientation": "v",
           "showlegend": true,
           "type": "scatter",
           "x": [
            1.847472089
           ],
           "xaxis": "x",
           "y": [
            8880
           ],
           "yaxis": "y"
          },
          {
           "hovertemplate": "<b>%{hovertext}</b><br><br>Country Name=Zimbabwe<br>Year=1996<br>Individuals using the Internet (% of population)=%{x}<br>GNI per capita, PPP (current international $)=%{marker.size}<extra></extra>",
           "hovertext": [
            "Zimbabwe"
           ],
           "ids": [
            "Zimbabwe"
           ],
           "legendgroup": "Zimbabwe",
           "marker": {
            "color": "#EF553B",
            "size": [
             2110
            ],
            "sizemode": "area",
            "sizeref": 331.1,
            "symbol": "circle"
           },
           "mode": "markers",
           "name": "Zimbabwe",
           "orientation": "v",
           "showlegend": true,
           "type": "scatter",
           "x": [
            0.016790484
           ],
           "xaxis": "x",
           "y": [
            2110
           ],
           "yaxis": "y"
          },
          {
           "hovertemplate": "<b>%{hovertext}</b><br><br>Country Name=Oman<br>Year=1996<br>Individuals using the Internet (% of population)=%{x}<br>GNI per capita, PPP (current international $)=%{marker.size}<extra></extra>",
           "hovertext": [
            "Oman"
           ],
           "ids": [
            "Oman"
           ],
           "legendgroup": "Oman",
           "marker": {
            "color": "#00cc96",
            "size": [
             32490
            ],
            "sizemode": "area",
            "sizeref": 331.1,
            "symbol": "circle"
           },
           "mode": "markers",
           "name": "Oman",
           "orientation": "v",
           "showlegend": true,
           "type": "scatter",
           "x": [
            0
           ],
           "xaxis": "x",
           "y": [
            32490
           ],
           "yaxis": "y"
          },
          {
           "hovertemplate": "<b>%{hovertext}</b><br><br>Country Name=Ireland<br>Year=1996<br>Individuals using the Internet (% of population)=%{x}<br>GNI per capita, PPP (current international $)=%{marker.size}<extra></extra>",
           "hovertext": [
            "Ireland"
           ],
           "ids": [
            "Ireland"
           ],
           "legendgroup": "Ireland",
           "marker": {
            "color": "#ab63fa",
            "size": [
             18820
            ],
            "sizemode": "area",
            "sizeref": 331.1,
            "symbol": "circle"
           },
           "mode": "markers",
           "name": "Ireland",
           "orientation": "v",
           "showlegend": true,
           "type": "scatter",
           "x": [
            2.199301832
           ],
           "xaxis": "x",
           "y": [
            18820
           ],
           "yaxis": "y"
          },
          {
           "hovertemplate": "<b>%{hovertext}</b><br><br>Country Name=Hungary<br>Year=1996<br>Individuals using the Internet (% of population)=%{x}<br>GNI per capita, PPP (current international $)=%{marker.size}<extra></extra>",
           "hovertext": [
            "Hungary"
           ],
           "ids": [
            "Hungary"
           ],
           "legendgroup": "Hungary",
           "marker": {
            "color": "#FFA15A",
            "size": [
             8930
            ],
            "sizemode": "area",
            "sizeref": 331.1,
            "symbol": "circle"
           },
           "mode": "markers",
           "name": "Hungary",
           "orientation": "v",
           "showlegend": true,
           "type": "scatter",
           "x": [
            0.969239536
           ],
           "xaxis": "x",
           "y": [
            8930
           ],
           "yaxis": "y"
          },
          {
           "hovertemplate": "<b>%{hovertext}</b><br><br>Country Name=Kazakhstan<br>Year=1996<br>Individuals using the Internet (% of population)=%{x}<br>GNI per capita, PPP (current international $)=%{marker.size}<extra></extra>",
           "hovertext": [
            "Kazakhstan"
           ],
           "ids": [
            "Kazakhstan"
           ],
           "legendgroup": "Kazakhstan",
           "marker": {
            "color": "#19d3f3",
            "size": [
             6090
            ],
            "sizemode": "area",
            "sizeref": 331.1,
            "symbol": "circle"
           },
           "mode": "markers",
           "name": "Kazakhstan",
           "orientation": "v",
           "showlegend": true,
           "type": "scatter",
           "x": [
            0.031824512
           ],
           "xaxis": "x",
           "y": [
            6090
           ],
           "yaxis": "y"
          }
         ],
         "name": "1996"
        },
        {
         "data": [
          {
           "hovertemplate": "<b>%{hovertext}</b><br><br>Country Name=Australia<br>Year=1997<br>Individuals using the Internet (% of population)=%{x}<br>GNI per capita, PPP (current international $)=%{marker.size}<extra></extra>",
           "hovertext": [
            "Australia"
           ],
           "ids": [
            "Australia"
           ],
           "legendgroup": "Australia",
           "marker": {
            "color": "#636efa",
            "size": [
             22200
            ],
            "sizemode": "area",
            "sizeref": 331.1,
            "symbol": "circle"
           },
           "mode": "markers",
           "name": "Australia",
           "orientation": "v",
           "showlegend": true,
           "type": "scatter",
           "x": [
            16.36935838
           ],
           "xaxis": "x",
           "y": [
            22200
           ],
           "yaxis": "y"
          },
          {
           "hovertemplate": "<b>%{hovertext}</b><br><br>Country Name=Belgium<br>Year=1997<br>Individuals using the Internet (% of population)=%{x}<br>GNI per capita, PPP (current international $)=%{marker.size}<extra></extra>",
           "hovertext": [
            "Belgium"
           ],
           "ids": [
            "Belgium"
           ],
           "legendgroup": "Belgium",
           "marker": {
            "color": "#EF553B",
            "size": [
             24310
            ],
            "sizemode": "area",
            "sizeref": 331.1,
            "symbol": "circle"
           },
           "mode": "markers",
           "name": "Belgium",
           "orientation": "v",
           "showlegend": true,
           "type": "scatter",
           "x": [
            4.93808091
           ],
           "xaxis": "x",
           "y": [
            24310
           ],
           "yaxis": "y"
          },
          {
           "hovertemplate": "<b>%{hovertext}</b><br><br>Country Name=Denmark<br>Year=1997<br>Individuals using the Internet (% of population)=%{x}<br>GNI per capita, PPP (current international $)=%{marker.size}<extra></extra>",
           "hovertext": [
            "Denmark"
           ],
           "ids": [
            "Denmark"
           ],
           "legendgroup": "Denmark",
           "marker": {
            "color": "#00cc96",
            "size": [
             24480
            ],
            "sizemode": "area",
            "sizeref": 331.1,
            "symbol": "circle"
           },
           "mode": "markers",
           "name": "Denmark",
           "orientation": "v",
           "showlegend": true,
           "type": "scatter",
           "x": [
            11.38200494
           ],
           "xaxis": "x",
           "y": [
            24480
           ],
           "yaxis": "y"
          },
          {
           "hovertemplate": "<b>%{hovertext}</b><br><br>Country Name=Ecuador<br>Year=1997<br>Individuals using the Internet (% of population)=%{x}<br>GNI per capita, PPP (current international $)=%{marker.size}<extra></extra>",
           "hovertext": [
            "Ecuador"
           ],
           "ids": [
            "Ecuador"
           ],
           "legendgroup": "Ecuador",
           "marker": {
            "color": "#ab63fa",
            "size": [
             5720
            ],
            "sizemode": "area",
            "sizeref": 331.1,
            "symbol": "circle"
           },
           "mode": "markers",
           "name": "Ecuador",
           "orientation": "v",
           "showlegend": true,
           "type": "scatter",
           "x": [
            0.110217959
           ],
           "xaxis": "x",
           "y": [
            5720
           ],
           "yaxis": "y"
          },
          {
           "hovertemplate": "<b>%{hovertext}</b><br><br>Country Name=Fiji<br>Year=1997<br>Individuals using the Internet (% of population)=%{x}<br>GNI per capita, PPP (current international $)=%{marker.size}<extra></extra>",
           "hovertext": [
            "Fiji"
           ],
           "ids": [
            "Fiji"
           ],
           "legendgroup": "Fiji",
           "marker": {
            "color": "#FFA15A",
            "size": [
             5160
            ],
            "sizemode": "area",
            "sizeref": 331.1,
            "symbol": "circle"
           },
           "mode": "markers",
           "name": "Fiji",
           "orientation": "v",
           "showlegend": true,
           "type": "scatter",
           "x": [
            0.223454842
           ],
           "xaxis": "x",
           "y": [
            5160
           ],
           "yaxis": "y"
          },
          {
           "hovertemplate": "<b>%{hovertext}</b><br><br>Country Name=Japan<br>Year=1997<br>Individuals using the Internet (% of population)=%{x}<br>GNI per capita, PPP (current international $)=%{marker.size}<extra></extra>",
           "hovertext": [
            "Japan"
           ],
           "ids": [
            "Japan"
           ],
           "legendgroup": "Japan",
           "marker": {
            "color": "#19d3f3",
            "size": [
             25960
            ],
            "sizemode": "area",
            "sizeref": 331.1,
            "symbol": "circle"
           },
           "mode": "markers",
           "name": "Japan",
           "orientation": "v",
           "showlegend": true,
           "type": "scatter",
           "x": [
            9.16307714
           ],
           "xaxis": "x",
           "y": [
            25960
           ],
           "yaxis": "y"
          },
          {
           "hovertemplate": "<b>%{hovertext}</b><br><br>Country Name=Luxembourg<br>Year=1997<br>Individuals using the Internet (% of population)=%{x}<br>GNI per capita, PPP (current international $)=%{marker.size}<extra></extra>",
           "hovertext": [
            "Luxembourg"
           ],
           "ids": [
            "Luxembourg"
           ],
           "legendgroup": "Luxembourg",
           "marker": {
            "color": "#FF6692",
            "size": [
             41050
            ],
            "sizemode": "area",
            "sizeref": 331.1,
            "symbol": "circle"
           },
           "mode": "markers",
           "name": "Luxembourg",
           "orientation": "v",
           "showlegend": true,
           "type": "scatter",
           "x": [
            7.142704085
           ],
           "xaxis": "x",
           "y": [
            41050
           ],
           "yaxis": "y"
          },
          {
           "hovertemplate": "<b>%{hovertext}</b><br><br>Country Name=Nepal<br>Year=1997<br>Individuals using the Internet (% of population)=%{x}<br>GNI per capita, PPP (current international $)=%{marker.size}<extra></extra>",
           "hovertext": [
            "Nepal"
           ],
           "ids": [
            "Nepal"
           ],
           "legendgroup": "Nepal",
           "marker": {
            "color": "#B6E880",
            "size": [
             1200
            ],
            "sizemode": "area",
            "sizeref": 331.1,
            "symbol": "circle"
           },
           "mode": "markers",
           "name": "Nepal",
           "orientation": "v",
           "showlegend": true,
           "type": "scatter",
           "x": [
            0.021998858
           ],
           "xaxis": "x",
           "y": [
            1200
           ],
           "yaxis": "y"
          },
          {
           "hovertemplate": "<b>%{hovertext}</b><br><br>Country Name=Peru<br>Year=1997<br>Individuals using the Internet (% of population)=%{x}<br>GNI per capita, PPP (current international $)=%{marker.size}<extra></extra>",
           "hovertext": [
            "Peru"
           ],
           "ids": [
            "Peru"
           ],
           "legendgroup": "Peru",
           "marker": {
            "color": "#FF97FF",
            "size": [
             4730
            ],
            "sizemode": "area",
            "sizeref": 331.1,
            "symbol": "circle"
           },
           "mode": "markers",
           "name": "Peru",
           "orientation": "v",
           "showlegend": true,
           "type": "scatter",
           "x": [
            0.403429701
           ],
           "xaxis": "x",
           "y": [
            4730
           ],
           "yaxis": "y"
          },
          {
           "hovertemplate": "<b>%{hovertext}</b><br><br>Country Name=Singapore<br>Year=1997<br>Individuals using the Internet (% of population)=%{x}<br>GNI per capita, PPP (current international $)=%{marker.size}<extra></extra>",
           "hovertext": [
            "Singapore"
           ],
           "ids": [
            "Singapore"
           ],
           "legendgroup": "Singapore",
           "marker": {
            "color": "#FECB52",
            "size": [
             40050
            ],
            "sizemode": "area",
            "sizeref": 331.1,
            "symbol": "circle"
           },
           "mode": "markers",
           "name": "Singapore",
           "orientation": "v",
           "showlegend": true,
           "type": "scatter",
           "x": [
            13.47162042
           ],
           "xaxis": "x",
           "y": [
            40050
           ],
           "yaxis": "y"
          },
          {
           "hovertemplate": "<b>%{hovertext}</b><br><br>Country Name=Uruguay<br>Year=1997<br>Individuals using the Internet (% of population)=%{x}<br>GNI per capita, PPP (current international $)=%{marker.size}<extra></extra>",
           "hovertext": [
            "Uruguay"
           ],
           "ids": [
            "Uruguay"
           ],
           "legendgroup": "Uruguay",
           "marker": {
            "color": "#636efa",
            "size": [
             9790
            ],
            "sizemode": "area",
            "sizeref": 331.1,
            "symbol": "circle"
           },
           "mode": "markers",
           "name": "Uruguay",
           "orientation": "v",
           "showlegend": true,
           "type": "scatter",
           "x": [
            3.363239668
           ],
           "xaxis": "x",
           "y": [
            9790
           ],
           "yaxis": "y"
          },
          {
           "hovertemplate": "<b>%{hovertext}</b><br><br>Country Name=Zimbabwe<br>Year=1997<br>Individuals using the Internet (% of population)=%{x}<br>GNI per capita, PPP (current international $)=%{marker.size}<extra></extra>",
           "hovertext": [
            "Zimbabwe"
           ],
           "ids": [
            "Zimbabwe"
           ],
           "legendgroup": "Zimbabwe",
           "marker": {
            "color": "#EF553B",
            "size": [
             2160
            ],
            "sizemode": "area",
            "sizeref": 331.1,
            "symbol": "circle"
           },
           "mode": "markers",
           "name": "Zimbabwe",
           "orientation": "v",
           "showlegend": true,
           "type": "scatter",
           "x": [
            0.033080327
           ],
           "xaxis": "x",
           "y": [
            2160
           ],
           "yaxis": "y"
          },
          {
           "hovertemplate": "<b>%{hovertext}</b><br><br>Country Name=Oman<br>Year=1997<br>Individuals using the Internet (% of population)=%{x}<br>GNI per capita, PPP (current international $)=%{marker.size}<extra></extra>",
           "hovertext": [
            "Oman"
           ],
           "ids": [
            "Oman"
           ],
           "legendgroup": "Oman",
           "marker": {
            "color": "#00cc96",
            "size": [
             34770
            ],
            "sizemode": "area",
            "sizeref": 331.1,
            "symbol": "circle"
           },
           "mode": "markers",
           "name": "Oman",
           "orientation": "v",
           "showlegend": true,
           "type": "scatter",
           "x": [
            0.439792805
           ],
           "xaxis": "x",
           "y": [
            34770
           ],
           "yaxis": "y"
          },
          {
           "hovertemplate": "<b>%{hovertext}</b><br><br>Country Name=Ireland<br>Year=1997<br>Individuals using the Internet (% of population)=%{x}<br>GNI per capita, PPP (current international $)=%{marker.size}<extra></extra>",
           "hovertext": [
            "Ireland"
           ],
           "ids": [
            "Ireland"
           ],
           "legendgroup": "Ireland",
           "marker": {
            "color": "#ab63fa",
            "size": [
             20450
            ],
            "sizemode": "area",
            "sizeref": 331.1,
            "symbol": "circle"
           },
           "mode": "markers",
           "name": "Ireland",
           "orientation": "v",
           "showlegend": true,
           "type": "scatter",
           "x": [
            4.08825507
           ],
           "xaxis": "x",
           "y": [
            20450
           ],
           "yaxis": "y"
          },
          {
           "hovertemplate": "<b>%{hovertext}</b><br><br>Country Name=Hungary<br>Year=1997<br>Individuals using the Internet (% of population)=%{x}<br>GNI per capita, PPP (current international $)=%{marker.size}<extra></extra>",
           "hovertext": [
            "Hungary"
           ],
           "ids": [
            "Hungary"
           ],
           "legendgroup": "Hungary",
           "marker": {
            "color": "#FFA15A",
            "size": [
             9230
            ],
            "sizemode": "area",
            "sizeref": 331.1,
            "symbol": "circle"
           },
           "mode": "markers",
           "name": "Hungary",
           "orientation": "v",
           "showlegend": true,
           "type": "scatter",
           "x": [
            1.942449872
           ],
           "xaxis": "x",
           "y": [
            9230
           ],
           "yaxis": "y"
          },
          {
           "hovertemplate": "<b>%{hovertext}</b><br><br>Country Name=Kazakhstan<br>Year=1997<br>Individuals using the Internet (% of population)=%{x}<br>GNI per capita, PPP (current international $)=%{marker.size}<extra></extra>",
           "hovertext": [
            "Kazakhstan"
           ],
           "ids": [
            "Kazakhstan"
           ],
           "legendgroup": "Kazakhstan",
           "marker": {
            "color": "#19d3f3",
            "size": [
             6370
            ],
            "sizemode": "area",
            "sizeref": 331.1,
            "symbol": "circle"
           },
           "mode": "markers",
           "name": "Kazakhstan",
           "orientation": "v",
           "showlegend": true,
           "type": "scatter",
           "x": [
            0.064596754
           ],
           "xaxis": "x",
           "y": [
            6370
           ],
           "yaxis": "y"
          },
          {
           "hovertemplate": "<b>%{hovertext}</b><br><br>Country Name=Canada<br>Year=1997<br>Individuals using the Internet (% of population)=%{x}<br>GNI per capita, PPP (current international $)=%{marker.size}<extra></extra>",
           "hovertext": [
            "Canada"
           ],
           "ids": [
            "Canada"
           ],
           "legendgroup": "Canada",
           "marker": {
            "color": "#FF6692",
            "size": [
             24480
            ],
            "sizemode": "area",
            "sizeref": 331.1,
            "symbol": "circle"
           },
           "mode": "markers",
           "name": "Canada",
           "orientation": "v",
           "showlegend": true,
           "type": "scatter",
           "x": [
            15.07235736
           ],
           "xaxis": "x",
           "y": [
            24480
           ],
           "yaxis": "y"
          }
         ],
         "name": "1997"
        },
        {
         "data": [
          {
           "hovertemplate": "<b>%{hovertext}</b><br><br>Country Name=Australia<br>Year=1998<br>Individuals using the Internet (% of population)=%{x}<br>GNI per capita, PPP (current international $)=%{marker.size}<extra></extra>",
           "hovertext": [
            "Australia"
           ],
           "ids": [
            "Australia"
           ],
           "legendgroup": "Australia",
           "marker": {
            "color": "#636efa",
            "size": [
             23450
            ],
            "sizemode": "area",
            "sizeref": 331.1,
            "symbol": "circle"
           },
           "mode": "markers",
           "name": "Australia",
           "orientation": "v",
           "showlegend": true,
           "type": "scatter",
           "x": [
            30.81323944
           ],
           "xaxis": "x",
           "y": [
            23450
           ],
           "yaxis": "y"
          },
          {
           "hovertemplate": "<b>%{hovertext}</b><br><br>Country Name=Belgium<br>Year=1998<br>Individuals using the Internet (% of population)=%{x}<br>GNI per capita, PPP (current international $)=%{marker.size}<extra></extra>",
           "hovertext": [
            "Belgium"
           ],
           "ids": [
            "Belgium"
           ],
           "legendgroup": "Belgium",
           "marker": {
            "color": "#EF553B",
            "size": [
             24960
            ],
            "sizemode": "area",
            "sizeref": 331.1,
            "symbol": "circle"
           },
           "mode": "markers",
           "name": "Belgium",
           "orientation": "v",
           "showlegend": true,
           "type": "scatter",
           "x": [
            7.886622701
           ],
           "xaxis": "x",
           "y": [
            24960
           ],
           "yaxis": "y"
          },
          {
           "hovertemplate": "<b>%{hovertext}</b><br><br>Country Name=Denmark<br>Year=1998<br>Individuals using the Internet (% of population)=%{x}<br>GNI per capita, PPP (current international $)=%{marker.size}<extra></extra>",
           "hovertext": [
            "Denmark"
           ],
           "ids": [
            "Denmark"
           ],
           "legendgroup": "Denmark",
           "marker": {
            "color": "#00cc96",
            "size": [
             25450
            ],
            "sizemode": "area",
            "sizeref": 331.1,
            "symbol": "circle"
           },
           "mode": "markers",
           "name": "Denmark",
           "orientation": "v",
           "showlegend": true,
           "type": "scatter",
           "x": [
            22.66874615
           ],
           "xaxis": "x",
           "y": [
            25450
           ],
           "yaxis": "y"
          },
          {
           "hovertemplate": "<b>%{hovertext}</b><br><br>Country Name=Ecuador<br>Year=1998<br>Individuals using the Internet (% of population)=%{x}<br>GNI per capita, PPP (current international $)=%{marker.size}<extra></extra>",
           "hovertext": [
            "Ecuador"
           ],
           "ids": [
            "Ecuador"
           ],
           "legendgroup": "Ecuador",
           "marker": {
            "color": "#ab63fa",
            "size": [
             5820
            ],
            "sizemode": "area",
            "sizeref": 331.1,
            "symbol": "circle"
           },
           "mode": "markers",
           "name": "Ecuador",
           "orientation": "v",
           "showlegend": true,
           "type": "scatter",
           "x": [
            0.125272771
           ],
           "xaxis": "x",
           "y": [
            5820
           ],
           "yaxis": "y"
          },
          {
           "hovertemplate": "<b>%{hovertext}</b><br><br>Country Name=Fiji<br>Year=1998<br>Individuals using the Internet (% of population)=%{x}<br>GNI per capita, PPP (current international $)=%{marker.size}<extra></extra>",
           "hovertext": [
            "Fiji"
           ],
           "ids": [
            "Fiji"
           ],
           "legendgroup": "Fiji",
           "marker": {
            "color": "#FFA15A",
            "size": [
             5150
            ],
            "sizemode": "area",
            "sizeref": 331.1,
            "symbol": "circle"
           },
           "mode": "markers",
           "name": "Fiji",
           "orientation": "v",
           "showlegend": true,
           "type": "scatter",
           "x": [
            0.633167865
           ],
           "xaxis": "x",
           "y": [
            5150
           ],
           "yaxis": "y"
          },
          {
           "hovertemplate": "<b>%{hovertext}</b><br><br>Country Name=Japan<br>Year=1998<br>Individuals using the Internet (% of population)=%{x}<br>GNI per capita, PPP (current international $)=%{marker.size}<extra></extra>",
           "hovertext": [
            "Japan"
           ],
           "ids": [
            "Japan"
           ],
           "legendgroup": "Japan",
           "marker": {
            "color": "#19d3f3",
            "size": [
             25820
            ],
            "sizemode": "area",
            "sizeref": 331.1,
            "symbol": "circle"
           },
           "mode": "markers",
           "name": "Japan",
           "orientation": "v",
           "showlegend": true,
           "type": "scatter",
           "x": [
            13.41404088
           ],
           "xaxis": "x",
           "y": [
            25820
           ],
           "yaxis": "y"
          },
          {
           "hovertemplate": "<b>%{hovertext}</b><br><br>Country Name=Luxembourg<br>Year=1998<br>Individuals using the Internet (% of population)=%{x}<br>GNI per capita, PPP (current international $)=%{marker.size}<extra></extra>",
           "hovertext": [
            "Luxembourg"
           ],
           "ids": [
            "Luxembourg"
           ],
           "legendgroup": "Luxembourg",
           "marker": {
            "color": "#FF6692",
            "size": [
             41490
            ],
            "sizemode": "area",
            "sizeref": 331.1,
            "symbol": "circle"
           },
           "mode": "markers",
           "name": "Luxembourg",
           "orientation": "v",
           "showlegend": true,
           "type": "scatter",
           "x": [
            11.74555372
           ],
           "xaxis": "x",
           "y": [
            41490
           ],
           "yaxis": "y"
          },
          {
           "hovertemplate": "<b>%{hovertext}</b><br><br>Country Name=Nepal<br>Year=1998<br>Individuals using the Internet (% of population)=%{x}<br>GNI per capita, PPP (current international $)=%{marker.size}<extra></extra>",
           "hovertext": [
            "Nepal"
           ],
           "ids": [
            "Nepal"
           ],
           "legendgroup": "Nepal",
           "marker": {
            "color": "#B6E880",
            "size": [
             1220
            ],
            "sizemode": "area",
            "sizeref": 331.1,
            "symbol": "circle"
           },
           "mode": "markers",
           "name": "Nepal",
           "orientation": "v",
           "showlegend": true,
           "type": "scatter",
           "x": [
            0.064393596
           ],
           "xaxis": "x",
           "y": [
            1220
           ],
           "yaxis": "y"
          },
          {
           "hovertemplate": "<b>%{hovertext}</b><br><br>Country Name=Peru<br>Year=1998<br>Individuals using the Internet (% of population)=%{x}<br>GNI per capita, PPP (current international $)=%{marker.size}<extra></extra>",
           "hovertext": [
            "Peru"
           ],
           "ids": [
            "Peru"
           ],
           "legendgroup": "Peru",
           "marker": {
            "color": "#FF97FF",
            "size": [
             4730
            ],
            "sizemode": "area",
            "sizeref": 331.1,
            "symbol": "circle"
           },
           "mode": "markers",
           "name": "Peru",
           "orientation": "v",
           "showlegend": true,
           "type": "scatter",
           "x": [
            1.19038044
           ],
           "xaxis": "x",
           "y": [
            4730
           ],
           "yaxis": "y"
          },
          {
           "hovertemplate": "<b>%{hovertext}</b><br><br>Country Name=Singapore<br>Year=1998<br>Individuals using the Internet (% of population)=%{x}<br>GNI per capita, PPP (current international $)=%{marker.size}<extra></extra>",
           "hovertext": [
            "Singapore"
           ],
           "ids": [
            "Singapore"
           ],
           "legendgroup": "Singapore",
           "marker": {
            "color": "#FECB52",
            "size": [
             38110
            ],
            "sizemode": "area",
            "sizeref": 331.1,
            "symbol": "circle"
           },
           "mode": "markers",
           "name": "Singapore",
           "orientation": "v",
           "showlegend": true,
           "type": "scatter",
           "x": [
            19.59076716
           ],
           "xaxis": "x",
           "y": [
            38110
           ],
           "yaxis": "y"
          },
          {
           "hovertemplate": "<b>%{hovertext}</b><br><br>Country Name=Uruguay<br>Year=1998<br>Individuals using the Internet (% of population)=%{x}<br>GNI per capita, PPP (current international $)=%{marker.size}<extra></extra>",
           "hovertext": [
            "Uruguay"
           ],
           "ids": [
            "Uruguay"
           ],
           "legendgroup": "Uruguay",
           "marker": {
            "color": "#636efa",
            "size": [
             10270
            ],
            "sizemode": "area",
            "sizeref": 331.1,
            "symbol": "circle"
           },
           "mode": "markers",
           "name": "Uruguay",
           "orientation": "v",
           "showlegend": true,
           "type": "scatter",
           "x": [
            6.987069365
           ],
           "xaxis": "x",
           "y": [
            10270
           ],
           "yaxis": "y"
          },
          {
           "hovertemplate": "<b>%{hovertext}</b><br><br>Country Name=Zimbabwe<br>Year=1998<br>Individuals using the Internet (% of population)=%{x}<br>GNI per capita, PPP (current international $)=%{marker.size}<extra></extra>",
           "hovertext": [
            "Zimbabwe"
           ],
           "ids": [
            "Zimbabwe"
           ],
           "legendgroup": "Zimbabwe",
           "marker": {
            "color": "#EF553B",
            "size": [
             2210
            ],
            "sizemode": "area",
            "sizeref": 331.1,
            "symbol": "circle"
           },
           "mode": "markers",
           "name": "Zimbabwe",
           "orientation": "v",
           "showlegend": true,
           "type": "scatter",
           "x": [
            0.081648476
           ],
           "xaxis": "x",
           "y": [
            2210
           ],
           "yaxis": "y"
          },
          {
           "hovertemplate": "<b>%{hovertext}</b><br><br>Country Name=Oman<br>Year=1998<br>Individuals using the Internet (% of population)=%{x}<br>GNI per capita, PPP (current international $)=%{marker.size}<extra></extra>",
           "hovertext": [
            "Oman"
           ],
           "ids": [
            "Oman"
           ],
           "legendgroup": "Oman",
           "marker": {
            "color": "#00cc96",
            "size": [
             36000
            ],
            "sizemode": "area",
            "sizeref": 331.1,
            "symbol": "circle"
           },
           "mode": "markers",
           "name": "Oman",
           "orientation": "v",
           "showlegend": true,
           "type": "scatter",
           "x": [
            0.862725306
           ],
           "xaxis": "x",
           "y": [
            36000
           ],
           "yaxis": "y"
          },
          {
           "hovertemplate": "<b>%{hovertext}</b><br><br>Country Name=Ireland<br>Year=1998<br>Individuals using the Internet (% of population)=%{x}<br>GNI per capita, PPP (current international $)=%{marker.size}<extra></extra>",
           "hovertext": [
            "Ireland"
           ],
           "ids": [
            "Ireland"
           ],
           "legendgroup": "Ireland",
           "marker": {
            "color": "#ab63fa",
            "size": [
             22480
            ],
            "sizemode": "area",
            "sizeref": 331.1,
            "symbol": "circle"
           },
           "mode": "markers",
           "name": "Ireland",
           "orientation": "v",
           "showlegend": true,
           "type": "scatter",
           "x": [
            8.096010043
           ],
           "xaxis": "x",
           "y": [
            22480
           ],
           "yaxis": "y"
          },
          {
           "hovertemplate": "<b>%{hovertext}</b><br><br>Country Name=Hungary<br>Year=1998<br>Individuals using the Internet (% of population)=%{x}<br>GNI per capita, PPP (current international $)=%{marker.size}<extra></extra>",
           "hovertext": [
            "Hungary"
           ],
           "ids": [
            "Hungary"
           ],
           "legendgroup": "Hungary",
           "marker": {
            "color": "#FFA15A",
            "size": [
             9750
            ],
            "sizemode": "area",
            "sizeref": 331.1,
            "symbol": "circle"
           },
           "mode": "markers",
           "name": "Hungary",
           "orientation": "v",
           "showlegend": true,
           "type": "scatter",
           "x": [
            3.894643278
           ],
           "xaxis": "x",
           "y": [
            9750
           ],
           "yaxis": "y"
          },
          {
           "hovertemplate": "<b>%{hovertext}</b><br><br>Country Name=Kazakhstan<br>Year=1998<br>Individuals using the Internet (% of population)=%{x}<br>GNI per capita, PPP (current international $)=%{marker.size}<extra></extra>",
           "hovertext": [
            "Kazakhstan"
           ],
           "ids": [
            "Kazakhstan"
           ],
           "legendgroup": "Kazakhstan",
           "marker": {
            "color": "#19d3f3",
            "size": [
             6440
            ],
            "sizemode": "area",
            "sizeref": 331.1,
            "symbol": "circle"
           },
           "mode": "markers",
           "name": "Kazakhstan",
           "orientation": "v",
           "showlegend": true,
           "type": "scatter",
           "x": [
            0.131069604
           ],
           "xaxis": "x",
           "y": [
            6440
           ],
           "yaxis": "y"
          },
          {
           "hovertemplate": "<b>%{hovertext}</b><br><br>Country Name=Canada<br>Year=1998<br>Individuals using the Internet (% of population)=%{x}<br>GNI per capita, PPP (current international $)=%{marker.size}<extra></extra>",
           "hovertext": [
            "Canada"
           ],
           "ids": [
            "Canada"
           ],
           "legendgroup": "Canada",
           "marker": {
            "color": "#FF6692",
            "size": [
             25430
            ],
            "sizemode": "area",
            "sizeref": 331.1,
            "symbol": "circle"
           },
           "mode": "markers",
           "name": "Canada",
           "orientation": "v",
           "showlegend": true,
           "type": "scatter",
           "x": [
            24.8974003
           ],
           "xaxis": "x",
           "y": [
            25430
           ],
           "yaxis": "y"
          }
         ],
         "name": "1998"
        },
        {
         "data": [
          {
           "hovertemplate": "<b>%{hovertext}</b><br><br>Country Name=Australia<br>Year=1999<br>Individuals using the Internet (% of population)=%{x}<br>GNI per capita, PPP (current international $)=%{marker.size}<extra></extra>",
           "hovertext": [
            "Australia"
           ],
           "ids": [
            "Australia"
           ],
           "legendgroup": "Australia",
           "marker": {
            "color": "#636efa",
            "size": [
             24510
            ],
            "sizemode": "area",
            "sizeref": 331.1,
            "symbol": "circle"
           },
           "mode": "markers",
           "name": "Australia",
           "orientation": "v",
           "showlegend": true,
           "type": "scatter",
           "x": [
            40.7837839
           ],
           "xaxis": "x",
           "y": [
            24510
           ],
           "yaxis": "y"
          },
          {
           "hovertemplate": "<b>%{hovertext}</b><br><br>Country Name=Belgium<br>Year=1999<br>Individuals using the Internet (% of population)=%{x}<br>GNI per capita, PPP (current international $)=%{marker.size}<extra></extra>",
           "hovertext": [
            "Belgium"
           ],
           "ids": [
            "Belgium"
           ],
           "legendgroup": "Belgium",
           "marker": {
            "color": "#EF553B",
            "size": [
             26030
            ],
            "sizemode": "area",
            "sizeref": 331.1,
            "symbol": "circle"
           },
           "mode": "markers",
           "name": "Belgium",
           "orientation": "v",
           "showlegend": true,
           "type": "scatter",
           "x": [
            13.77221446
           ],
           "xaxis": "x",
           "y": [
            26030
           ],
           "yaxis": "y"
          },
          {
           "hovertemplate": "<b>%{hovertext}</b><br><br>Country Name=Denmark<br>Year=1999<br>Individuals using the Internet (% of population)=%{x}<br>GNI per capita, PPP (current international $)=%{marker.size}<extra></extra>",
           "hovertext": [
            "Denmark"
           ],
           "ids": [
            "Denmark"
           ],
           "legendgroup": "Denmark",
           "marker": {
            "color": "#00cc96",
            "size": [
             26370
            ],
            "sizemode": "area",
            "sizeref": 331.1,
            "symbol": "circle"
           },
           "mode": "markers",
           "name": "Denmark",
           "orientation": "v",
           "showlegend": true,
           "type": "scatter",
           "x": [
            30.59204065
           ],
           "xaxis": "x",
           "y": [
            26370
           ],
           "yaxis": "y"
          },
          {
           "hovertemplate": "<b>%{hovertext}</b><br><br>Country Name=Ecuador<br>Year=1999<br>Individuals using the Internet (% of population)=%{x}<br>GNI per capita, PPP (current international $)=%{marker.size}<extra></extra>",
           "hovertext": [
            "Ecuador"
           ],
           "ids": [
            "Ecuador"
           ],
           "legendgroup": "Ecuador",
           "marker": {
            "color": "#ab63fa",
            "size": [
             5370
            ],
            "sizemode": "area",
            "sizeref": 331.1,
            "symbol": "circle"
           },
           "mode": "markers",
           "name": "Ecuador",
           "orientation": "v",
           "showlegend": true,
           "type": "scatter",
           "x": [
            0.823371634
           ],
           "xaxis": "x",
           "y": [
            5370
           ],
           "yaxis": "y"
          },
          {
           "hovertemplate": "<b>%{hovertext}</b><br><br>Country Name=Fiji<br>Year=1999<br>Individuals using the Internet (% of population)=%{x}<br>GNI per capita, PPP (current international $)=%{marker.size}<extra></extra>",
           "hovertext": [
            "Fiji"
           ],
           "ids": [
            "Fiji"
           ],
           "legendgroup": "Fiji",
           "marker": {
            "color": "#FFA15A",
            "size": [
             5640
            ],
            "sizemode": "area",
            "sizeref": 331.1,
            "symbol": "circle"
           },
           "mode": "markers",
           "name": "Fiji",
           "orientation": "v",
           "showlegend": true,
           "type": "scatter",
           "x": [
            0.942462063
           ],
           "xaxis": "x",
           "y": [
            5640
           ],
           "yaxis": "y"
          },
          {
           "hovertemplate": "<b>%{hovertext}</b><br><br>Country Name=Japan<br>Year=1999<br>Individuals using the Internet (% of population)=%{x}<br>GNI per capita, PPP (current international $)=%{marker.size}<extra></extra>",
           "hovertext": [
            "Japan"
           ],
           "ids": [
            "Japan"
           ],
           "legendgroup": "Japan",
           "marker": {
            "color": "#19d3f3",
            "size": [
             26050
            ],
            "sizemode": "area",
            "sizeref": 331.1,
            "symbol": "circle"
           },
           "mode": "markers",
           "name": "Japan",
           "orientation": "v",
           "showlegend": true,
           "type": "scatter",
           "x": [
            21.39129031
           ],
           "xaxis": "x",
           "y": [
            26050
           ],
           "yaxis": "y"
          },
          {
           "hovertemplate": "<b>%{hovertext}</b><br><br>Country Name=Luxembourg<br>Year=1999<br>Individuals using the Internet (% of population)=%{x}<br>GNI per capita, PPP (current international $)=%{marker.size}<extra></extra>",
           "hovertext": [
            "Luxembourg"
           ],
           "ids": [
            "Luxembourg"
           ],
           "legendgroup": "Luxembourg",
           "marker": {
            "color": "#FF6692",
            "size": [
             45980
            ],
            "sizemode": "area",
            "sizeref": 331.1,
            "symbol": "circle"
           },
           "mode": "markers",
           "name": "Luxembourg",
           "orientation": "v",
           "showlegend": true,
           "type": "scatter",
           "x": [
            17.3879578
           ],
           "xaxis": "x",
           "y": [
            45980
           ],
           "yaxis": "y"
          },
          {
           "hovertemplate": "<b>%{hovertext}</b><br><br>Country Name=Nepal<br>Year=1999<br>Individuals using the Internet (% of population)=%{x}<br>GNI per capita, PPP (current international $)=%{marker.size}<extra></extra>",
           "hovertext": [
            "Nepal"
           ],
           "ids": [
            "Nepal"
           ],
           "legendgroup": "Nepal",
           "marker": {
            "color": "#B6E880",
            "size": [
             1270
            ],
            "sizemode": "area",
            "sizeref": 331.1,
            "symbol": "circle"
           },
           "mode": "markers",
           "name": "Nepal",
           "orientation": "v",
           "showlegend": true,
           "type": "scatter",
           "x": [
            0.146668869
           ],
           "xaxis": "x",
           "y": [
            1270
           ],
           "yaxis": "y"
          },
          {
           "hovertemplate": "<b>%{hovertext}</b><br><br>Country Name=Peru<br>Year=1999<br>Individuals using the Internet (% of population)=%{x}<br>GNI per capita, PPP (current international $)=%{marker.size}<extra></extra>",
           "hovertext": [
            "Peru"
           ],
           "ids": [
            "Peru"
           ],
           "legendgroup": "Peru",
           "marker": {
            "color": "#FF97FF",
            "size": [
             4780
            ],
            "sizemode": "area",
            "sizeref": 331.1,
            "symbol": "circle"
           },
           "mode": "markers",
           "name": "Peru",
           "orientation": "v",
           "showlegend": true,
           "type": "scatter",
           "x": [
            1.952497608
           ],
           "xaxis": "x",
           "y": [
            4780
           ],
           "yaxis": "y"
          },
          {
           "hovertemplate": "<b>%{hovertext}</b><br><br>Country Name=Singapore<br>Year=1999<br>Individuals using the Internet (% of population)=%{x}<br>GNI per capita, PPP (current international $)=%{marker.size}<extra></extra>",
           "hovertext": [
            "Singapore"
           ],
           "ids": [
            "Singapore"
           ],
           "legendgroup": "Singapore",
           "marker": {
            "color": "#FECB52",
            "size": [
             40400
            ],
            "sizemode": "area",
            "sizeref": 331.1,
            "symbol": "circle"
           },
           "mode": "markers",
           "name": "Singapore",
           "orientation": "v",
           "showlegend": true,
           "type": "scatter",
           "x": [
            24.15543693
           ],
           "xaxis": "x",
           "y": [
            40400
           ],
           "yaxis": "y"
          },
          {
           "hovertemplate": "<b>%{hovertext}</b><br><br>Country Name=Uruguay<br>Year=1999<br>Individuals using the Internet (% of population)=%{x}<br>GNI per capita, PPP (current international $)=%{marker.size}<extra></extra>",
           "hovertext": [
            "Uruguay"
           ],
           "ids": [
            "Uruguay"
           ],
           "legendgroup": "Uruguay",
           "marker": {
            "color": "#636efa",
            "size": [
             10230
            ],
            "sizemode": "area",
            "sizeref": 331.1,
            "symbol": "circle"
           },
           "mode": "markers",
           "name": "Uruguay",
           "orientation": "v",
           "showlegend": true,
           "type": "scatter",
           "x": [
            9.972765285
           ],
           "xaxis": "x",
           "y": [
            10230
           ],
           "yaxis": "y"
          },
          {
           "hovertemplate": "<b>%{hovertext}</b><br><br>Country Name=Zimbabwe<br>Year=1999<br>Individuals using the Internet (% of population)=%{x}<br>GNI per capita, PPP (current international $)=%{marker.size}<extra></extra>",
           "hovertext": [
            "Zimbabwe"
           ],
           "ids": [
            "Zimbabwe"
           ],
           "legendgroup": "Zimbabwe",
           "marker": {
            "color": "#EF553B",
            "size": [
             2230
            ],
            "sizemode": "area",
            "sizeref": 331.1,
            "symbol": "circle"
           },
           "mode": "markers",
           "name": "Zimbabwe",
           "orientation": "v",
           "showlegend": true,
           "type": "scatter",
           "x": [
            0.161675528
           ],
           "xaxis": "x",
           "y": [
            2230
           ],
           "yaxis": "y"
          },
          {
           "hovertemplate": "<b>%{hovertext}</b><br><br>Country Name=Oman<br>Year=1999<br>Individuals using the Internet (% of population)=%{x}<br>GNI per capita, PPP (current international $)=%{marker.size}<extra></extra>",
           "hovertext": [
            "Oman"
           ],
           "ids": [
            "Oman"
           ],
           "legendgroup": "Oman",
           "marker": {
            "color": "#00cc96",
            "size": [
             36370
            ],
            "sizemode": "area",
            "sizeref": 331.1,
            "symbol": "circle"
           },
           "mode": "markers",
           "name": "Oman",
           "orientation": "v",
           "showlegend": true,
           "type": "scatter",
           "x": [
            2.515665987
           ],
           "xaxis": "x",
           "y": [
            36370
           ],
           "yaxis": "y"
          },
          {
           "hovertemplate": "<b>%{hovertext}</b><br><br>Country Name=Ireland<br>Year=1999<br>Individuals using the Internet (% of population)=%{x}<br>GNI per capita, PPP (current international $)=%{marker.size}<extra></extra>",
           "hovertext": [
            "Ireland"
           ],
           "ids": [
            "Ireland"
           ],
           "legendgroup": "Ireland",
           "marker": {
            "color": "#ab63fa",
            "size": [
             23590
            ],
            "sizemode": "area",
            "sizeref": 331.1,
            "symbol": "circle"
           },
           "mode": "markers",
           "name": "Ireland",
           "orientation": "v",
           "showlegend": true,
           "type": "scatter",
           "x": [
            10.93380859
           ],
           "xaxis": "x",
           "y": [
            23590
           ],
           "yaxis": "y"
          },
          {
           "hovertemplate": "<b>%{hovertext}</b><br><br>Country Name=Hungary<br>Year=1999<br>Individuals using the Internet (% of population)=%{x}<br>GNI per capita, PPP (current international $)=%{marker.size}<extra></extra>",
           "hovertext": [
            "Hungary"
           ],
           "ids": [
            "Hungary"
           ],
           "legendgroup": "Hungary",
           "marker": {
            "color": "#FFA15A",
            "size": [
             10170
            ],
            "sizemode": "area",
            "sizeref": 331.1,
            "symbol": "circle"
           },
           "mode": "markers",
           "name": "Hungary",
           "orientation": "v",
           "showlegend": true,
           "type": "scatter",
           "x": [
            5.857840749
           ],
           "xaxis": "x",
           "y": [
            10170
           ],
           "yaxis": "y"
          },
          {
           "hovertemplate": "<b>%{hovertext}</b><br><br>Country Name=Kazakhstan<br>Year=1999<br>Individuals using the Internet (% of population)=%{x}<br>GNI per capita, PPP (current international $)=%{marker.size}<extra></extra>",
           "hovertext": [
            "Kazakhstan"
           ],
           "ids": [
            "Kazakhstan"
           ],
           "legendgroup": "Kazakhstan",
           "marker": {
            "color": "#19d3f3",
            "size": [
             6630
            ],
            "sizemode": "area",
            "sizeref": 331.1,
            "symbol": "circle"
           },
           "mode": "markers",
           "name": "Kazakhstan",
           "orientation": "v",
           "showlegend": true,
           "type": "scatter",
           "x": [
            0.464277218
           ],
           "xaxis": "x",
           "y": [
            6630
           ],
           "yaxis": "y"
          },
          {
           "hovertemplate": "<b>%{hovertext}</b><br><br>Country Name=Canada<br>Year=1999<br>Individuals using the Internet (% of population)=%{x}<br>GNI per capita, PPP (current international $)=%{marker.size}<extra></extra>",
           "hovertext": [
            "Canada"
           ],
           "ids": [
            "Canada"
           ],
           "legendgroup": "Canada",
           "marker": {
            "color": "#FF6692",
            "size": [
             26900
            ],
            "sizemode": "area",
            "sizeref": 331.1,
            "symbol": "circle"
           },
           "mode": "markers",
           "name": "Canada",
           "orientation": "v",
           "showlegend": true,
           "type": "scatter",
           "x": [
            36.18644004
           ],
           "xaxis": "x",
           "y": [
            26900
           ],
           "yaxis": "y"
          }
         ],
         "name": "1999"
        },
        {
         "data": [
          {
           "hovertemplate": "<b>%{hovertext}</b><br><br>Country Name=Australia<br>Year=2000<br>Individuals using the Internet (% of population)=%{x}<br>GNI per capita, PPP (current international $)=%{marker.size}<extra></extra>",
           "hovertext": [
            "Australia"
           ],
           "ids": [
            "Australia"
           ],
           "legendgroup": "Australia",
           "marker": {
            "color": "#636efa",
            "size": [
             25580
            ],
            "sizemode": "area",
            "sizeref": 331.1,
            "symbol": "circle"
           },
           "mode": "markers",
           "name": "Australia",
           "orientation": "v",
           "showlegend": true,
           "type": "scatter",
           "x": [
            46.75611561
           ],
           "xaxis": "x",
           "y": [
            25580
           ],
           "yaxis": "y"
          },
          {
           "hovertemplate": "<b>%{hovertext}</b><br><br>Country Name=Belgium<br>Year=2000<br>Individuals using the Internet (% of population)=%{x}<br>GNI per capita, PPP (current international $)=%{marker.size}<extra></extra>",
           "hovertext": [
            "Belgium"
           ],
           "ids": [
            "Belgium"
           ],
           "legendgroup": "Belgium",
           "marker": {
            "color": "#EF553B",
            "size": [
             28500
            ],
            "sizemode": "area",
            "sizeref": 331.1,
            "symbol": "circle"
           },
           "mode": "markers",
           "name": "Belgium",
           "orientation": "v",
           "showlegend": true,
           "type": "scatter",
           "x": [
            29.43169169
           ],
           "xaxis": "x",
           "y": [
            28500
           ],
           "yaxis": "y"
          },
          {
           "hovertemplate": "<b>%{hovertext}</b><br><br>Country Name=Denmark<br>Year=2000<br>Individuals using the Internet (% of population)=%{x}<br>GNI per capita, PPP (current international $)=%{marker.size}<extra></extra>",
           "hovertext": [
            "Denmark"
           ],
           "ids": [
            "Denmark"
           ],
           "legendgroup": "Denmark",
           "marker": {
            "color": "#00cc96",
            "size": [
             28010
            ],
            "sizemode": "area",
            "sizeref": 331.1,
            "symbol": "circle"
           },
           "mode": "markers",
           "name": "Denmark",
           "orientation": "v",
           "showlegend": true,
           "type": "scatter",
           "x": [
            39.17243086
           ],
           "xaxis": "x",
           "y": [
            28010
           ],
           "yaxis": "y"
          },
          {
           "hovertemplate": "<b>%{hovertext}</b><br><br>Country Name=Ecuador<br>Year=2000<br>Individuals using the Internet (% of population)=%{x}<br>GNI per capita, PPP (current international $)=%{marker.size}<extra></extra>",
           "hovertext": [
            "Ecuador"
           ],
           "ids": [
            "Ecuador"
           ],
           "legendgroup": "Ecuador",
           "marker": {
            "color": "#ab63fa",
            "size": [
             5440
            ],
            "sizemode": "area",
            "sizeref": 331.1,
            "symbol": "circle"
           },
           "mode": "markers",
           "name": "Ecuador",
           "orientation": "v",
           "showlegend": true,
           "type": "scatter",
           "x": [
            1.462188536
           ],
           "xaxis": "x",
           "y": [
            5440
           ],
           "yaxis": "y"
          },
          {
           "hovertemplate": "<b>%{hovertext}</b><br><br>Country Name=Fiji<br>Year=2000<br>Individuals using the Internet (% of population)=%{x}<br>GNI per capita, PPP (current international $)=%{marker.size}<extra></extra>",
           "hovertext": [
            "Fiji"
           ],
           "ids": [
            "Fiji"
           ],
           "legendgroup": "Fiji",
           "marker": {
            "color": "#FFA15A",
            "size": [
             5950
            ],
            "sizemode": "area",
            "sizeref": 331.1,
            "symbol": "circle"
           },
           "mode": "markers",
           "name": "Fiji",
           "orientation": "v",
           "showlegend": true,
           "type": "scatter",
           "x": [
            1.496854734
           ],
           "xaxis": "x",
           "y": [
            5950
           ],
           "yaxis": "y"
          },
          {
           "hovertemplate": "<b>%{hovertext}</b><br><br>Country Name=Japan<br>Year=2000<br>Individuals using the Internet (% of population)=%{x}<br>GNI per capita, PPP (current international $)=%{marker.size}<extra></extra>",
           "hovertext": [
            "Japan"
           ],
           "ids": [
            "Japan"
           ],
           "legendgroup": "Japan",
           "marker": {
            "color": "#19d3f3",
            "size": [
             27680
            ],
            "sizemode": "area",
            "sizeref": 331.1,
            "symbol": "circle"
           },
           "mode": "markers",
           "name": "Japan",
           "orientation": "v",
           "showlegend": true,
           "type": "scatter",
           "x": [
            29.99074036
           ],
           "xaxis": "x",
           "y": [
            27680
           ],
           "yaxis": "y"
          },
          {
           "hovertemplate": "<b>%{hovertext}</b><br><br>Country Name=Luxembourg<br>Year=2000<br>Individuals using the Internet (% of population)=%{x}<br>GNI per capita, PPP (current international $)=%{marker.size}<extra></extra>",
           "hovertext": [
            "Luxembourg"
           ],
           "ids": [
            "Luxembourg"
           ],
           "legendgroup": "Luxembourg",
           "marker": {
            "color": "#FF6692",
            "size": [
             48760
            ],
            "sizemode": "area",
            "sizeref": 331.1,
            "symbol": "circle"
           },
           "mode": "markers",
           "name": "Luxembourg",
           "orientation": "v",
           "showlegend": true,
           "type": "scatter",
           "x": [
            22.88732797
           ],
           "xaxis": "x",
           "y": [
            48760
           ],
           "yaxis": "y"
          },
          {
           "hovertemplate": "<b>%{hovertext}</b><br><br>Country Name=Nepal<br>Year=2000<br>Individuals using the Internet (% of population)=%{x}<br>GNI per capita, PPP (current international $)=%{marker.size}<extra></extra>",
           "hovertext": [
            "Nepal"
           ],
           "ids": [
            "Nepal"
           ],
           "legendgroup": "Nepal",
           "marker": {
            "color": "#B6E880",
            "size": [
             1350
            ],
            "sizemode": "area",
            "sizeref": 331.1,
            "symbol": "circle"
           },
           "mode": "markers",
           "name": "Nepal",
           "orientation": "v",
           "showlegend": true,
           "type": "scatter",
           "x": [
            0.204651684
           ],
           "xaxis": "x",
           "y": [
            1350
           ],
           "yaxis": "y"
          },
          {
           "hovertemplate": "<b>%{hovertext}</b><br><br>Country Name=Peru<br>Year=2000<br>Individuals using the Internet (% of population)=%{x}<br>GNI per capita, PPP (current international $)=%{marker.size}<extra></extra>",
           "hovertext": [
            "Peru"
           ],
           "ids": [
            "Peru"
           ],
           "legendgroup": "Peru",
           "marker": {
            "color": "#FF97FF",
            "size": [
             4920
            ],
            "sizemode": "area",
            "sizeref": 331.1,
            "symbol": "circle"
           },
           "mode": "markers",
           "name": "Peru",
           "orientation": "v",
           "showlegend": true,
           "type": "scatter",
           "x": [
            3.076430611
           ],
           "xaxis": "x",
           "y": [
            4920
           ],
           "yaxis": "y"
          },
          {
           "hovertemplate": "<b>%{hovertext}</b><br><br>Country Name=Singapore<br>Year=2000<br>Individuals using the Internet (% of population)=%{x}<br>GNI per capita, PPP (current international $)=%{marker.size}<extra></extra>",
           "hovertext": [
            "Singapore"
           ],
           "ids": [
            "Singapore"
           ],
           "legendgroup": "Singapore",
           "marker": {
            "color": "#FECB52",
            "size": [
             43510
            ],
            "sizemode": "area",
            "sizeref": 331.1,
            "symbol": "circle"
           },
           "mode": "markers",
           "name": "Singapore",
           "orientation": "v",
           "showlegend": true,
           "type": "scatter",
           "x": [
            36
           ],
           "xaxis": "x",
           "y": [
            43510
           ],
           "yaxis": "y"
          },
          {
           "hovertemplate": "<b>%{hovertext}</b><br><br>Country Name=Uruguay<br>Year=2000<br>Individuals using the Internet (% of population)=%{x}<br>GNI per capita, PPP (current international $)=%{marker.size}<extra></extra>",
           "hovertext": [
            "Uruguay"
           ],
           "ids": [
            "Uruguay"
           ],
           "legendgroup": "Uruguay",
           "marker": {
            "color": "#636efa",
            "size": [
             10210
            ],
            "sizemode": "area",
            "sizeref": 331.1,
            "symbol": "circle"
           },
           "mode": "markers",
           "name": "Uruguay",
           "orientation": "v",
           "showlegend": true,
           "type": "scatter",
           "x": [
            10.53905775
           ],
           "xaxis": "x",
           "y": [
            10210
           ],
           "yaxis": "y"
          },
          {
           "hovertemplate": "<b>%{hovertext}</b><br><br>Country Name=Zimbabwe<br>Year=2000<br>Individuals using the Internet (% of population)=%{x}<br>GNI per capita, PPP (current international $)=%{marker.size}<extra></extra>",
           "hovertext": [
            "Zimbabwe"
           ],
           "ids": [
            "Zimbabwe"
           ],
           "legendgroup": "Zimbabwe",
           "marker": {
            "color": "#EF553B",
            "size": [
             2190
            ],
            "sizemode": "area",
            "sizeref": 331.1,
            "symbol": "circle"
           },
           "mode": "markers",
           "name": "Zimbabwe",
           "orientation": "v",
           "showlegend": true,
           "type": "scatter",
           "x": [
            0.401433535
           ],
           "xaxis": "x",
           "y": [
            2190
           ],
           "yaxis": "y"
          },
          {
           "hovertemplate": "<b>%{hovertext}</b><br><br>Country Name=Oman<br>Year=2000<br>Individuals using the Internet (% of population)=%{x}<br>GNI per capita, PPP (current international $)=%{marker.size}<extra></extra>",
           "hovertext": [
            "Oman"
           ],
           "ids": [
            "Oman"
           ],
           "legendgroup": "Oman",
           "marker": {
            "color": "#00cc96",
            "size": [
             39370
            ],
            "sizemode": "area",
            "sizeref": 331.1,
            "symbol": "circle"
           },
           "mode": "markers",
           "name": "Oman",
           "orientation": "v",
           "showlegend": true,
           "type": "scatter",
           "x": [
            3.520421417
           ],
           "xaxis": "x",
           "y": [
            39370
           ],
           "yaxis": "y"
          },
          {
           "hovertemplate": "<b>%{hovertext}</b><br><br>Country Name=Ireland<br>Year=2000<br>Individuals using the Internet (% of population)=%{x}<br>GNI per capita, PPP (current international $)=%{marker.size}<extra></extra>",
           "hovertext": [
            "Ireland"
           ],
           "ids": [
            "Ireland"
           ],
           "legendgroup": "Ireland",
           "marker": {
            "color": "#ab63fa",
            "size": [
             26330
            ],
            "sizemode": "area",
            "sizeref": 331.1,
            "symbol": "circle"
           },
           "mode": "markers",
           "name": "Ireland",
           "orientation": "v",
           "showlegend": true,
           "type": "scatter",
           "x": [
            17.85046724
           ],
           "xaxis": "x",
           "y": [
            26330
           ],
           "yaxis": "y"
          },
          {
           "hovertemplate": "<b>%{hovertext}</b><br><br>Country Name=Hungary<br>Year=2000<br>Individuals using the Internet (% of population)=%{x}<br>GNI per capita, PPP (current international $)=%{marker.size}<extra></extra>",
           "hovertext": [
            "Hungary"
           ],
           "ids": [
            "Hungary"
           ],
           "legendgroup": "Hungary",
           "marker": {
            "color": "#FFA15A",
            "size": [
             11160
            ],
            "sizemode": "area",
            "sizeref": 331.1,
            "symbol": "circle"
           },
           "mode": "markers",
           "name": "Hungary",
           "orientation": "v",
           "showlegend": true,
           "type": "scatter",
           "x": [
            6.999676351
           ],
           "xaxis": "x",
           "y": [
            11160
           ],
           "yaxis": "y"
          },
          {
           "hovertemplate": "<b>%{hovertext}</b><br><br>Country Name=Kazakhstan<br>Year=2000<br>Individuals using the Internet (% of population)=%{x}<br>GNI per capita, PPP (current international $)=%{marker.size}<extra></extra>",
           "hovertext": [
            "Kazakhstan"
           ],
           "ids": [
            "Kazakhstan"
           ],
           "legendgroup": "Kazakhstan",
           "marker": {
            "color": "#19d3f3",
            "size": [
             7240
            ],
            "sizemode": "area",
            "sizeref": 331.1,
            "symbol": "circle"
           },
           "mode": "markers",
           "name": "Kazakhstan",
           "orientation": "v",
           "showlegend": true,
           "type": "scatter",
           "x": [
            0.668594403
           ],
           "xaxis": "x",
           "y": [
            7240
           ],
           "yaxis": "y"
          },
          {
           "hovertemplate": "<b>%{hovertext}</b><br><br>Country Name=Canada<br>Year=2000<br>Individuals using the Internet (% of population)=%{x}<br>GNI per capita, PPP (current international $)=%{marker.size}<extra></extra>",
           "hovertext": [
            "Canada"
           ],
           "ids": [
            "Canada"
           ],
           "legendgroup": "Canada",
           "marker": {
            "color": "#FF6692",
            "size": [
             28590
            ],
            "sizemode": "area",
            "sizeref": 331.1,
            "symbol": "circle"
           },
           "mode": "markers",
           "name": "Canada",
           "orientation": "v",
           "showlegend": true,
           "type": "scatter",
           "x": [
            51.3
           ],
           "xaxis": "x",
           "y": [
            28590
           ],
           "yaxis": "y"
          },
          {
           "hovertemplate": "<b>%{hovertext}</b><br><br>Country Name=Qatar<br>Year=2000<br>Individuals using the Internet (% of population)=%{x}<br>GNI per capita, PPP (current international $)=%{marker.size}<extra></extra>",
           "hovertext": [
            "Qatar"
           ],
           "ids": [
            "Qatar"
           ],
           "legendgroup": "Qatar",
           "marker": {
            "color": "#B6E880",
            "size": [
             89090
            ],
            "sizemode": "area",
            "sizeref": 331.1,
            "symbol": "circle"
           },
           "mode": "markers",
           "name": "Qatar",
           "orientation": "v",
           "showlegend": true,
           "type": "scatter",
           "x": [
            4.863679179
           ],
           "xaxis": "x",
           "y": [
            89090
           ],
           "yaxis": "y"
          }
         ],
         "name": "2000"
        },
        {
         "data": [
          {
           "hovertemplate": "<b>%{hovertext}</b><br><br>Country Name=Australia<br>Year=2001<br>Individuals using the Internet (% of population)=%{x}<br>GNI per capita, PPP (current international $)=%{marker.size}<extra></extra>",
           "hovertext": [
            "Australia"
           ],
           "ids": [
            "Australia"
           ],
           "legendgroup": "Australia",
           "marker": {
            "color": "#636efa",
            "size": [
             26670
            ],
            "sizemode": "area",
            "sizeref": 331.1,
            "symbol": "circle"
           },
           "mode": "markers",
           "name": "Australia",
           "orientation": "v",
           "showlegend": true,
           "type": "scatter",
           "x": [
            52.68926643
           ],
           "xaxis": "x",
           "y": [
            26670
           ],
           "yaxis": "y"
          },
          {
           "hovertemplate": "<b>%{hovertext}</b><br><br>Country Name=Belgium<br>Year=2001<br>Individuals using the Internet (% of population)=%{x}<br>GNI per capita, PPP (current international $)=%{marker.size}<extra></extra>",
           "hovertext": [
            "Belgium"
           ],
           "ids": [
            "Belgium"
           ],
           "legendgroup": "Belgium",
           "marker": {
            "color": "#EF553B",
            "size": [
             29330
            ],
            "sizemode": "area",
            "sizeref": 331.1,
            "symbol": "circle"
           },
           "mode": "markers",
           "name": "Belgium",
           "orientation": "v",
           "showlegend": true,
           "type": "scatter",
           "x": [
            31.28839551
           ],
           "xaxis": "x",
           "y": [
            29330
           ],
           "yaxis": "y"
          },
          {
           "hovertemplate": "<b>%{hovertext}</b><br><br>Country Name=Denmark<br>Year=2001<br>Individuals using the Internet (% of population)=%{x}<br>GNI per capita, PPP (current international $)=%{marker.size}<extra></extra>",
           "hovertext": [
            "Denmark"
           ],
           "ids": [
            "Denmark"
           ],
           "legendgroup": "Denmark",
           "marker": {
            "color": "#00cc96",
            "size": [
             29000
            ],
            "sizemode": "area",
            "sizeref": 331.1,
            "symbol": "circle"
           },
           "mode": "markers",
           "name": "Denmark",
           "orientation": "v",
           "showlegend": true,
           "type": "scatter",
           "x": [
            42.95752472
           ],
           "xaxis": "x",
           "y": [
            29000
           ],
           "yaxis": "y"
          },
          {
           "hovertemplate": "<b>%{hovertext}</b><br><br>Country Name=Ecuador<br>Year=2001<br>Individuals using the Internet (% of population)=%{x}<br>GNI per capita, PPP (current international $)=%{marker.size}<extra></extra>",
           "hovertext": [
            "Ecuador"
           ],
           "ids": [
            "Ecuador"
           ],
           "legendgroup": "Ecuador",
           "marker": {
            "color": "#ab63fa",
            "size": [
             5780
            ],
            "sizemode": "area",
            "sizeref": 331.1,
            "symbol": "circle"
           },
           "mode": "markers",
           "name": "Ecuador",
           "orientation": "v",
           "showlegend": true,
           "type": "scatter",
           "x": [
            2.670443674
           ],
           "xaxis": "x",
           "y": [
            5780
           ],
           "yaxis": "y"
          },
          {
           "hovertemplate": "<b>%{hovertext}</b><br><br>Country Name=Fiji<br>Year=2001<br>Individuals using the Internet (% of population)=%{x}<br>GNI per capita, PPP (current international $)=%{marker.size}<extra></extra>",
           "hovertext": [
            "Fiji"
           ],
           "ids": [
            "Fiji"
           ],
           "legendgroup": "Fiji",
           "marker": {
            "color": "#FFA15A",
            "size": [
             6010
            ],
            "sizemode": "area",
            "sizeref": 331.1,
            "symbol": "circle"
           },
           "mode": "markers",
           "name": "Fiji",
           "orientation": "v",
           "showlegend": true,
           "type": "scatter",
           "x": [
            1.857978594
           ],
           "xaxis": "x",
           "y": [
            6010
           ],
           "yaxis": "y"
          },
          {
           "hovertemplate": "<b>%{hovertext}</b><br><br>Country Name=Japan<br>Year=2001<br>Individuals using the Internet (% of population)=%{x}<br>GNI per capita, PPP (current international $)=%{marker.size}<extra></extra>",
           "hovertext": [
            "Japan"
           ],
           "ids": [
            "Japan"
           ],
           "legendgroup": "Japan",
           "marker": {
            "color": "#19d3f3",
            "size": [
             28380
            ],
            "sizemode": "area",
            "sizeref": 331.1,
            "symbol": "circle"
           },
           "mode": "markers",
           "name": "Japan",
           "orientation": "v",
           "showlegend": true,
           "type": "scatter",
           "x": [
            38.53206086
           ],
           "xaxis": "x",
           "y": [
            28380
           ],
           "yaxis": "y"
          },
          {
           "hovertemplate": "<b>%{hovertext}</b><br><br>Country Name=Luxembourg<br>Year=2001<br>Individuals using the Internet (% of population)=%{x}<br>GNI per capita, PPP (current international $)=%{marker.size}<extra></extra>",
           "hovertext": [
            "Luxembourg"
           ],
           "ids": [
            "Luxembourg"
           ],
           "legendgroup": "Luxembourg",
           "marker": {
            "color": "#FF6692",
            "size": [
             49990
            ],
            "sizemode": "area",
            "sizeref": 331.1,
            "symbol": "circle"
           },
           "mode": "markers",
           "name": "Luxembourg",
           "orientation": "v",
           "showlegend": true,
           "type": "scatter",
           "x": [
            36.16342251
           ],
           "xaxis": "x",
           "y": [
            49990
           ],
           "yaxis": "y"
          },
          {
           "hovertemplate": "<b>%{hovertext}</b><br><br>Country Name=Nepal<br>Year=2001<br>Individuals using the Internet (% of population)=%{x}<br>GNI per capita, PPP (current international $)=%{marker.size}<extra></extra>",
           "hovertext": [
            "Nepal"
           ],
           "ids": [
            "Nepal"
           ],
           "legendgroup": "Nepal",
           "marker": {
            "color": "#B6E880",
            "size": [
             1430
            ],
            "sizemode": "area",
            "sizeref": 331.1,
            "symbol": "circle"
           },
           "mode": "markers",
           "name": "Nepal",
           "orientation": "v",
           "showlegend": true,
           "type": "scatter",
           "x": [
            0.240015303
           ],
           "xaxis": "x",
           "y": [
            1430
           ],
           "yaxis": "y"
          },
          {
           "hovertemplate": "<b>%{hovertext}</b><br><br>Country Name=Peru<br>Year=2001<br>Individuals using the Internet (% of population)=%{x}<br>GNI per capita, PPP (current international $)=%{marker.size}<extra></extra>",
           "hovertext": [
            "Peru"
           ],
           "ids": [
            "Peru"
           ],
           "legendgroup": "Peru",
           "marker": {
            "color": "#FF97FF",
            "size": [
             5030
            ],
            "sizemode": "area",
            "sizeref": 331.1,
            "symbol": "circle"
           },
           "mode": "markers",
           "name": "Peru",
           "orientation": "v",
           "showlegend": true,
           "type": "scatter",
           "x": [
            7.578762957
           ],
           "xaxis": "x",
           "y": [
            5030
           ],
           "yaxis": "y"
          },
          {
           "hovertemplate": "<b>%{hovertext}</b><br><br>Country Name=Singapore<br>Year=2001<br>Individuals using the Internet (% of population)=%{x}<br>GNI per capita, PPP (current international $)=%{marker.size}<extra></extra>",
           "hovertext": [
            "Singapore"
           ],
           "ids": [
            "Singapore"
           ],
           "legendgroup": "Singapore",
           "marker": {
            "color": "#FECB52",
            "size": [
             42820
            ],
            "sizemode": "area",
            "sizeref": 331.1,
            "symbol": "circle"
           },
           "mode": "markers",
           "name": "Singapore",
           "orientation": "v",
           "showlegend": true,
           "type": "scatter",
           "x": [
            41.67042518
           ],
           "xaxis": "x",
           "y": [
            42820
           ],
           "yaxis": "y"
          },
          {
           "hovertemplate": "<b>%{hovertext}</b><br><br>Country Name=Uruguay<br>Year=2001<br>Individuals using the Internet (% of population)=%{x}<br>GNI per capita, PPP (current international $)=%{marker.size}<extra></extra>",
           "hovertext": [
            "Uruguay"
           ],
           "ids": [
            "Uruguay"
           ],
           "legendgroup": "Uruguay",
           "marker": {
            "color": "#636efa",
            "size": [
             10020
            ],
            "sizemode": "area",
            "sizeref": 331.1,
            "symbol": "circle"
           },
           "mode": "markers",
           "name": "Uruguay",
           "orientation": "v",
           "showlegend": true,
           "type": "scatter",
           "x": [
            11.12143768
           ],
           "xaxis": "x",
           "y": [
            10020
           ],
           "yaxis": "y"
          },
          {
           "hovertemplate": "<b>%{hovertext}</b><br><br>Country Name=Zimbabwe<br>Year=2001<br>Individuals using the Internet (% of population)=%{x}<br>GNI per capita, PPP (current international $)=%{marker.size}<extra></extra>",
           "hovertext": [
            "Zimbabwe"
           ],
           "ids": [
            "Zimbabwe"
           ],
           "legendgroup": "Zimbabwe",
           "marker": {
            "color": "#EF553B",
            "size": [
             2270
            ],
            "sizemode": "area",
            "sizeref": 331.1,
            "symbol": "circle"
           },
           "mode": "markers",
           "name": "Zimbabwe",
           "orientation": "v",
           "showlegend": true,
           "type": "scatter",
           "x": [
            0.799846046
           ],
           "xaxis": "x",
           "y": [
            2270
           ],
           "yaxis": "y"
          },
          {
           "hovertemplate": "<b>%{hovertext}</b><br><br>Country Name=Oman<br>Year=2001<br>Individuals using the Internet (% of population)=%{x}<br>GNI per capita, PPP (current international $)=%{marker.size}<extra></extra>",
           "hovertext": [
            "Oman"
           ],
           "ids": [
            "Oman"
           ],
           "legendgroup": "Oman",
           "marker": {
            "color": "#00cc96",
            "size": [
             41340
            ],
            "sizemode": "area",
            "sizeref": 331.1,
            "symbol": "circle"
           },
           "mode": "markers",
           "name": "Oman",
           "orientation": "v",
           "showlegend": true,
           "type": "scatter",
           "x": [
            5.893841521
           ],
           "xaxis": "x",
           "y": [
            41340
           ],
           "yaxis": "y"
          },
          {
           "hovertemplate": "<b>%{hovertext}</b><br><br>Country Name=Ireland<br>Year=2001<br>Individuals using the Internet (% of population)=%{x}<br>GNI per capita, PPP (current international $)=%{marker.size}<extra></extra>",
           "hovertext": [
            "Ireland"
           ],
           "ids": [
            "Ireland"
           ],
           "legendgroup": "Ireland",
           "marker": {
            "color": "#ab63fa",
            "size": [
             27820
            ],
            "sizemode": "area",
            "sizeref": 331.1,
            "symbol": "circle"
           },
           "mode": "markers",
           "name": "Ireland",
           "orientation": "v",
           "showlegend": true,
           "type": "scatter",
           "x": [
            23.13881219
           ],
           "xaxis": "x",
           "y": [
            27820
           ],
           "yaxis": "y"
          },
          {
           "hovertemplate": "<b>%{hovertext}</b><br><br>Country Name=Hungary<br>Year=2001<br>Individuals using the Internet (% of population)=%{x}<br>GNI per capita, PPP (current international $)=%{marker.size}<extra></extra>",
           "hovertext": [
            "Hungary"
           ],
           "ids": [
            "Hungary"
           ],
           "legendgroup": "Hungary",
           "marker": {
            "color": "#FFA15A",
            "size": [
             12440
            ],
            "sizemode": "area",
            "sizeref": 331.1,
            "symbol": "circle"
           },
           "mode": "markers",
           "name": "Hungary",
           "orientation": "v",
           "showlegend": true,
           "type": "scatter",
           "x": [
            14.5285543
           ],
           "xaxis": "x",
           "y": [
            12440
           ],
           "yaxis": "y"
          },
          {
           "hovertemplate": "<b>%{hovertext}</b><br><br>Country Name=Kazakhstan<br>Year=2001<br>Individuals using the Internet (% of population)=%{x}<br>GNI per capita, PPP (current international $)=%{marker.size}<extra></extra>",
           "hovertext": [
            "Kazakhstan"
           ],
           "ids": [
            "Kazakhstan"
           ],
           "legendgroup": "Kazakhstan",
           "marker": {
            "color": "#19d3f3",
            "size": [
             8540
            ],
            "sizemode": "area",
            "sizeref": 331.1,
            "symbol": "circle"
           },
           "mode": "markers",
           "name": "Kazakhstan",
           "orientation": "v",
           "showlegend": true,
           "type": "scatter",
           "x": [
            1.006124211
           ],
           "xaxis": "x",
           "y": [
            8540
           ],
           "yaxis": "y"
          },
          {
           "hovertemplate": "<b>%{hovertext}</b><br><br>Country Name=Canada<br>Year=2001<br>Individuals using the Internet (% of population)=%{x}<br>GNI per capita, PPP (current international $)=%{marker.size}<extra></extra>",
           "hovertext": [
            "Canada"
           ],
           "ids": [
            "Canada"
           ],
           "legendgroup": "Canada",
           "marker": {
            "color": "#FF6692",
            "size": [
             29380
            ],
            "sizemode": "area",
            "sizeref": 331.1,
            "symbol": "circle"
           },
           "mode": "markers",
           "name": "Canada",
           "orientation": "v",
           "showlegend": true,
           "type": "scatter",
           "x": [
            60.2
           ],
           "xaxis": "x",
           "y": [
            29380
           ],
           "yaxis": "y"
          },
          {
           "hovertemplate": "<b>%{hovertext}</b><br><br>Country Name=Qatar<br>Year=2001<br>Individuals using the Internet (% of population)=%{x}<br>GNI per capita, PPP (current international $)=%{marker.size}<extra></extra>",
           "hovertext": [
            "Qatar"
           ],
           "ids": [
            "Qatar"
           ],
           "legendgroup": "Qatar",
           "marker": {
            "color": "#B6E880",
            "size": [
             95010
            ],
            "sizemode": "area",
            "sizeref": 331.1,
            "symbol": "circle"
           },
           "mode": "markers",
           "name": "Qatar",
           "orientation": "v",
           "showlegend": true,
           "type": "scatter",
           "x": [
            6.170268561
           ],
           "xaxis": "x",
           "y": [
            95010
           ],
           "yaxis": "y"
          }
         ],
         "name": "2001"
        },
        {
         "data": [
          {
           "hovertemplate": "<b>%{hovertext}</b><br><br>Country Name=Belgium<br>Year=2002<br>Individuals using the Internet (% of population)=%{x}<br>GNI per capita, PPP (current international $)=%{marker.size}<extra></extra>",
           "hovertext": [
            "Belgium"
           ],
           "ids": [
            "Belgium"
           ],
           "legendgroup": "Belgium",
           "marker": {
            "color": "#EF553B",
            "size": [
             30810
            ],
            "sizemode": "area",
            "sizeref": 331.1,
            "symbol": "circle"
           },
           "mode": "markers",
           "name": "Belgium",
           "orientation": "v",
           "showlegend": true,
           "type": "scatter",
           "x": [
            46.33
           ],
           "xaxis": "x",
           "y": [
            30810
           ],
           "yaxis": "y"
          },
          {
           "hovertemplate": "<b>%{hovertext}</b><br><br>Country Name=Denmark<br>Year=2002<br>Individuals using the Internet (% of population)=%{x}<br>GNI per capita, PPP (current international $)=%{marker.size}<extra></extra>",
           "hovertext": [
            "Denmark"
           ],
           "ids": [
            "Denmark"
           ],
           "legendgroup": "Denmark",
           "marker": {
            "color": "#00cc96",
            "size": [
             30260
            ],
            "sizemode": "area",
            "sizeref": 331.1,
            "symbol": "circle"
           },
           "mode": "markers",
           "name": "Denmark",
           "orientation": "v",
           "showlegend": true,
           "type": "scatter",
           "x": [
            64.25
           ],
           "xaxis": "x",
           "y": [
            30260
           ],
           "yaxis": "y"
          },
          {
           "hovertemplate": "<b>%{hovertext}</b><br><br>Country Name=Ecuador<br>Year=2002<br>Individuals using the Internet (% of population)=%{x}<br>GNI per capita, PPP (current international $)=%{marker.size}<extra></extra>",
           "hovertext": [
            "Ecuador"
           ],
           "ids": [
            "Ecuador"
           ],
           "legendgroup": "Ecuador",
           "marker": {
            "color": "#ab63fa",
            "size": [
             6050
            ],
            "sizemode": "area",
            "sizeref": 331.1,
            "symbol": "circle"
           },
           "mode": "markers",
           "name": "Ecuador",
           "orientation": "v",
           "showlegend": true,
           "type": "scatter",
           "x": [
            4.260796915
           ],
           "xaxis": "x",
           "y": [
            6050
           ],
           "yaxis": "y"
          },
          {
           "hovertemplate": "<b>%{hovertext}</b><br><br>Country Name=Fiji<br>Year=2002<br>Individuals using the Internet (% of population)=%{x}<br>GNI per capita, PPP (current international $)=%{marker.size}<extra></extra>",
           "hovertext": [
            "Fiji"
           ],
           "ids": [
            "Fiji"
           ],
           "legendgroup": "Fiji",
           "marker": {
            "color": "#FFA15A",
            "size": [
             6390
            ],
            "sizemode": "area",
            "sizeref": 331.1,
            "symbol": "circle"
           },
           "mode": "markers",
           "name": "Fiji",
           "orientation": "v",
           "showlegend": true,
           "type": "scatter",
           "x": [
            6.1526497
           ],
           "xaxis": "x",
           "y": [
            6390
           ],
           "yaxis": "y"
          },
          {
           "hovertemplate": "<b>%{hovertext}</b><br><br>Country Name=Japan<br>Year=2002<br>Individuals using the Internet (% of population)=%{x}<br>GNI per capita, PPP (current international $)=%{marker.size}<extra></extra>",
           "hovertext": [
            "Japan"
           ],
           "ids": [
            "Japan"
           ],
           "legendgroup": "Japan",
           "marker": {
            "color": "#19d3f3",
            "size": [
             29040
            ],
            "sizemode": "area",
            "sizeref": 331.1,
            "symbol": "circle"
           },
           "mode": "markers",
           "name": "Japan",
           "orientation": "v",
           "showlegend": true,
           "type": "scatter",
           "x": [
            46.59420112
           ],
           "xaxis": "x",
           "y": [
            29040
           ],
           "yaxis": "y"
          },
          {
           "hovertemplate": "<b>%{hovertext}</b><br><br>Country Name=Luxembourg<br>Year=2002<br>Individuals using the Internet (% of population)=%{x}<br>GNI per capita, PPP (current international $)=%{marker.size}<extra></extra>",
           "hovertext": [
            "Luxembourg"
           ],
           "ids": [
            "Luxembourg"
           ],
           "legendgroup": "Luxembourg",
           "marker": {
            "color": "#FF6692",
            "size": [
             49410
            ],
            "sizemode": "area",
            "sizeref": 331.1,
            "symbol": "circle"
           },
           "mode": "markers",
           "name": "Luxembourg",
           "orientation": "v",
           "showlegend": true,
           "type": "scatter",
           "x": [
            39.84
           ],
           "xaxis": "x",
           "y": [
            49410
           ],
           "yaxis": "y"
          },
          {
           "hovertemplate": "<b>%{hovertext}</b><br><br>Country Name=Nepal<br>Year=2002<br>Individuals using the Internet (% of population)=%{x}<br>GNI per capita, PPP (current international $)=%{marker.size}<extra></extra>",
           "hovertext": [
            "Nepal"
           ],
           "ids": [
            "Nepal"
           ],
           "legendgroup": "Nepal",
           "marker": {
            "color": "#B6E880",
            "size": [
             1420
            ],
            "sizemode": "area",
            "sizeref": 331.1,
            "symbol": "circle"
           },
           "mode": "markers",
           "name": "Nepal",
           "orientation": "v",
           "showlegend": true,
           "type": "scatter",
           "x": [
            0.31295606
           ],
           "xaxis": "x",
           "y": [
            1420
           ],
           "yaxis": "y"
          },
          {
           "hovertemplate": "<b>%{hovertext}</b><br><br>Country Name=Peru<br>Year=2002<br>Individuals using the Internet (% of population)=%{x}<br>GNI per capita, PPP (current international $)=%{marker.size}<extra></extra>",
           "hovertext": [
            "Peru"
           ],
           "ids": [
            "Peru"
           ],
           "legendgroup": "Peru",
           "marker": {
            "color": "#FF97FF",
            "size": [
             5300
            ],
            "sizemode": "area",
            "sizeref": 331.1,
            "symbol": "circle"
           },
           "mode": "markers",
           "name": "Peru",
           "orientation": "v",
           "showlegend": true,
           "type": "scatter",
           "x": [
            8.96694917
           ],
           "xaxis": "x",
           "y": [
            5300
           ],
           "yaxis": "y"
          },
          {
           "hovertemplate": "<b>%{hovertext}</b><br><br>Country Name=Singapore<br>Year=2002<br>Individuals using the Internet (% of population)=%{x}<br>GNI per capita, PPP (current international $)=%{marker.size}<extra></extra>",
           "hovertext": [
            "Singapore"
           ],
           "ids": [
            "Singapore"
           ],
           "legendgroup": "Singapore",
           "marker": {
            "color": "#FECB52",
            "size": [
             44180
            ],
            "sizemode": "area",
            "sizeref": 331.1,
            "symbol": "circle"
           },
           "mode": "markers",
           "name": "Singapore",
           "orientation": "v",
           "showlegend": true,
           "type": "scatter",
           "x": [
            47
           ],
           "xaxis": "x",
           "y": [
            44180
           ],
           "yaxis": "y"
          },
          {
           "hovertemplate": "<b>%{hovertext}</b><br><br>Country Name=Uruguay<br>Year=2002<br>Individuals using the Internet (% of population)=%{x}<br>GNI per capita, PPP (current international $)=%{marker.size}<extra></extra>",
           "hovertext": [
            "Uruguay"
           ],
           "ids": [
            "Uruguay"
           ],
           "legendgroup": "Uruguay",
           "marker": {
            "color": "#636efa",
            "size": [
             9470
            ],
            "sizemode": "area",
            "sizeref": 331.1,
            "symbol": "circle"
           },
           "mode": "markers",
           "name": "Uruguay",
           "orientation": "v",
           "showlegend": true,
           "type": "scatter",
           "x": [
            11.4194702
           ],
           "xaxis": "x",
           "y": [
            9470
           ],
           "yaxis": "y"
          },
          {
           "hovertemplate": "<b>%{hovertext}</b><br><br>Country Name=Zimbabwe<br>Year=2002<br>Individuals using the Internet (% of population)=%{x}<br>GNI per capita, PPP (current international $)=%{marker.size}<extra></extra>",
           "hovertext": [
            "Zimbabwe"
           ],
           "ids": [
            "Zimbabwe"
           ],
           "legendgroup": "Zimbabwe",
           "marker": {
            "color": "#EF553B",
            "size": [
             2110
            ],
            "sizemode": "area",
            "sizeref": 331.1,
            "symbol": "circle"
           },
           "mode": "markers",
           "name": "Zimbabwe",
           "orientation": "v",
           "showlegend": true,
           "type": "scatter",
           "x": [
            1.1
           ],
           "xaxis": "x",
           "y": [
            2110
           ],
           "yaxis": "y"
          },
          {
           "hovertemplate": "<b>%{hovertext}</b><br><br>Country Name=Oman<br>Year=2002<br>Individuals using the Internet (% of population)=%{x}<br>GNI per capita, PPP (current international $)=%{marker.size}<extra></extra>",
           "hovertext": [
            "Oman"
           ],
           "ids": [
            "Oman"
           ],
           "legendgroup": "Oman",
           "marker": {
            "color": "#00cc96",
            "size": [
             40860
            ],
            "sizemode": "area",
            "sizeref": 331.1,
            "symbol": "circle"
           },
           "mode": "markers",
           "name": "Oman",
           "orientation": "v",
           "showlegend": true,
           "type": "scatter",
           "x": [
            6.873396039
           ],
           "xaxis": "x",
           "y": [
            40860
           ],
           "yaxis": "y"
          },
          {
           "hovertemplate": "<b>%{hovertext}</b><br><br>Country Name=Ireland<br>Year=2002<br>Individuals using the Internet (% of population)=%{x}<br>GNI per capita, PPP (current international $)=%{marker.size}<extra></extra>",
           "hovertext": [
            "Ireland"
           ],
           "ids": [
            "Ireland"
           ],
           "legendgroup": "Ireland",
           "marker": {
            "color": "#ab63fa",
            "size": [
             29530
            ],
            "sizemode": "area",
            "sizeref": 331.1,
            "symbol": "circle"
           },
           "mode": "markers",
           "name": "Ireland",
           "orientation": "v",
           "showlegend": true,
           "type": "scatter",
           "x": [
            25.85
           ],
           "xaxis": "x",
           "y": [
            29530
           ],
           "yaxis": "y"
          },
          {
           "hovertemplate": "<b>%{hovertext}</b><br><br>Country Name=Hungary<br>Year=2002<br>Individuals using the Internet (% of population)=%{x}<br>GNI per capita, PPP (current international $)=%{marker.size}<extra></extra>",
           "hovertext": [
            "Hungary"
           ],
           "ids": [
            "Hungary"
           ],
           "legendgroup": "Hungary",
           "marker": {
            "color": "#FFA15A",
            "size": [
             13700
            ],
            "sizemode": "area",
            "sizeref": 331.1,
            "symbol": "circle"
           },
           "mode": "markers",
           "name": "Hungary",
           "orientation": "v",
           "showlegend": true,
           "type": "scatter",
           "x": [
            16.67
           ],
           "xaxis": "x",
           "y": [
            13700
           ],
           "yaxis": "y"
          },
          {
           "hovertemplate": "<b>%{hovertext}</b><br><br>Country Name=Kazakhstan<br>Year=2002<br>Individuals using the Internet (% of population)=%{x}<br>GNI per capita, PPP (current international $)=%{marker.size}<extra></extra>",
           "hovertext": [
            "Kazakhstan"
           ],
           "ids": [
            "Kazakhstan"
           ],
           "legendgroup": "Kazakhstan",
           "marker": {
            "color": "#19d3f3",
            "size": [
             9610
            ],
            "sizemode": "area",
            "sizeref": 331.1,
            "symbol": "circle"
           },
           "mode": "markers",
           "name": "Kazakhstan",
           "orientation": "v",
           "showlegend": true,
           "type": "scatter",
           "x": [
            1.674770995
           ],
           "xaxis": "x",
           "y": [
            9610
           ],
           "yaxis": "y"
          },
          {
           "hovertemplate": "<b>%{hovertext}</b><br><br>Country Name=Canada<br>Year=2002<br>Individuals using the Internet (% of population)=%{x}<br>GNI per capita, PPP (current international $)=%{marker.size}<extra></extra>",
           "hovertext": [
            "Canada"
           ],
           "ids": [
            "Canada"
           ],
           "legendgroup": "Canada",
           "marker": {
            "color": "#FF6692",
            "size": [
             30180
            ],
            "sizemode": "area",
            "sizeref": 331.1,
            "symbol": "circle"
           },
           "mode": "markers",
           "name": "Canada",
           "orientation": "v",
           "showlegend": true,
           "type": "scatter",
           "x": [
            61.59329927
           ],
           "xaxis": "x",
           "y": [
            30180
           ],
           "yaxis": "y"
          },
          {
           "hovertemplate": "<b>%{hovertext}</b><br><br>Country Name=Qatar<br>Year=2002<br>Individuals using the Internet (% of population)=%{x}<br>GNI per capita, PPP (current international $)=%{marker.size}<extra></extra>",
           "hovertext": [
            "Qatar"
           ],
           "ids": [
            "Qatar"
           ],
           "legendgroup": "Qatar",
           "marker": {
            "color": "#B6E880",
            "size": [
             98600
            ],
            "sizemode": "area",
            "sizeref": 331.1,
            "symbol": "circle"
           },
           "mode": "markers",
           "name": "Qatar",
           "orientation": "v",
           "showlegend": true,
           "type": "scatter",
           "x": [
            10.22612893
           ],
           "xaxis": "x",
           "y": [
            98600
           ],
           "yaxis": "y"
          }
         ],
         "name": "2002"
        },
        {
         "data": [
          {
           "hovertemplate": "<b>%{hovertext}</b><br><br>Country Name=Belgium<br>Year=2003<br>Individuals using the Internet (% of population)=%{x}<br>GNI per capita, PPP (current international $)=%{marker.size}<extra></extra>",
           "hovertext": [
            "Belgium"
           ],
           "ids": [
            "Belgium"
           ],
           "legendgroup": "Belgium",
           "marker": {
            "color": "#EF553B",
            "size": [
             31520
            ],
            "sizemode": "area",
            "sizeref": 331.1,
            "symbol": "circle"
           },
           "mode": "markers",
           "name": "Belgium",
           "orientation": "v",
           "showlegend": true,
           "type": "scatter",
           "x": [
            49.97
           ],
           "xaxis": "x",
           "y": [
            31520
           ],
           "yaxis": "y"
          },
          {
           "hovertemplate": "<b>%{hovertext}</b><br><br>Country Name=Denmark<br>Year=2003<br>Individuals using the Internet (% of population)=%{x}<br>GNI per capita, PPP (current international $)=%{marker.size}<extra></extra>",
           "hovertext": [
            "Denmark"
           ],
           "ids": [
            "Denmark"
           ],
           "legendgroup": "Denmark",
           "marker": {
            "color": "#00cc96",
            "size": [
             30540
            ],
            "sizemode": "area",
            "sizeref": 331.1,
            "symbol": "circle"
           },
           "mode": "markers",
           "name": "Denmark",
           "orientation": "v",
           "showlegend": true,
           "type": "scatter",
           "x": [
            76.26
           ],
           "xaxis": "x",
           "y": [
            30540
           ],
           "yaxis": "y"
          },
          {
           "hovertemplate": "<b>%{hovertext}</b><br><br>Country Name=Ecuador<br>Year=2003<br>Individuals using the Internet (% of population)=%{x}<br>GNI per capita, PPP (current international $)=%{marker.size}<extra></extra>",
           "hovertext": [
            "Ecuador"
           ],
           "ids": [
            "Ecuador"
           ],
           "legendgroup": "Ecuador",
           "marker": {
            "color": "#ab63fa",
            "size": [
             6220
            ],
            "sizemode": "area",
            "sizeref": 331.1,
            "symbol": "circle"
           },
           "mode": "markers",
           "name": "Ecuador",
           "orientation": "v",
           "showlegend": true,
           "type": "scatter",
           "x": [
            4.460228345
           ],
           "xaxis": "x",
           "y": [
            6220
           ],
           "yaxis": "y"
          },
          {
           "hovertemplate": "<b>%{hovertext}</b><br><br>Country Name=Fiji<br>Year=2003<br>Individuals using the Internet (% of population)=%{x}<br>GNI per capita, PPP (current international $)=%{marker.size}<extra></extra>",
           "hovertext": [
            "Fiji"
           ],
           "ids": [
            "Fiji"
           ],
           "legendgroup": "Fiji",
           "marker": {
            "color": "#FFA15A",
            "size": [
             6530
            ],
            "sizemode": "area",
            "sizeref": 331.1,
            "symbol": "circle"
           },
           "mode": "markers",
           "name": "Fiji",
           "orientation": "v",
           "showlegend": true,
           "type": "scatter",
           "x": [
            6.725434738
           ],
           "xaxis": "x",
           "y": [
            6530
           ],
           "yaxis": "y"
          },
          {
           "hovertemplate": "<b>%{hovertext}</b><br><br>Country Name=Japan<br>Year=2003<br>Individuals using the Internet (% of population)=%{x}<br>GNI per capita, PPP (current international $)=%{marker.size}<extra></extra>",
           "hovertext": [
            "Japan"
           ],
           "ids": [
            "Japan"
           ],
           "legendgroup": "Japan",
           "marker": {
            "color": "#19d3f3",
            "size": [
             29870
            ],
            "sizemode": "area",
            "sizeref": 331.1,
            "symbol": "circle"
           },
           "mode": "markers",
           "name": "Japan",
           "orientation": "v",
           "showlegend": true,
           "type": "scatter",
           "x": [
            48.43526589
           ],
           "xaxis": "x",
           "y": [
            29870
           ],
           "yaxis": "y"
          },
          {
           "hovertemplate": "<b>%{hovertext}</b><br><br>Country Name=Luxembourg<br>Year=2003<br>Individuals using the Internet (% of population)=%{x}<br>GNI per capita, PPP (current international $)=%{marker.size}<extra></extra>",
           "hovertext": [
            "Luxembourg"
           ],
           "ids": [
            "Luxembourg"
           ],
           "legendgroup": "Luxembourg",
           "marker": {
            "color": "#FF6692",
            "size": [
             48740
            ],
            "sizemode": "area",
            "sizeref": 331.1,
            "symbol": "circle"
           },
           "mode": "markers",
           "name": "Luxembourg",
           "orientation": "v",
           "showlegend": true,
           "type": "scatter",
           "x": [
            54.55
           ],
           "xaxis": "x",
           "y": [
            48740
           ],
           "yaxis": "y"
          },
          {
           "hovertemplate": "<b>%{hovertext}</b><br><br>Country Name=Nepal<br>Year=2003<br>Individuals using the Internet (% of population)=%{x}<br>GNI per capita, PPP (current international $)=%{marker.size}<extra></extra>",
           "hovertext": [
            "Nepal"
           ],
           "ids": [
            "Nepal"
           ],
           "legendgroup": "Nepal",
           "marker": {
            "color": "#B6E880",
            "size": [
             1490
            ],
            "sizemode": "area",
            "sizeref": 331.1,
            "symbol": "circle"
           },
           "mode": "markers",
           "name": "Nepal",
           "orientation": "v",
           "showlegend": true,
           "type": "scatter",
           "x": [
            0.382810917
           ],
           "xaxis": "x",
           "y": [
            1490
           ],
           "yaxis": "y"
          },
          {
           "hovertemplate": "<b>%{hovertext}</b><br><br>Country Name=Peru<br>Year=2003<br>Individuals using the Internet (% of population)=%{x}<br>GNI per capita, PPP (current international $)=%{marker.size}<extra></extra>",
           "hovertext": [
            "Peru"
           ],
           "ids": [
            "Peru"
           ],
           "legendgroup": "Peru",
           "marker": {
            "color": "#FF97FF",
            "size": [
             5520
            ],
            "sizemode": "area",
            "sizeref": 331.1,
            "symbol": "circle"
           },
           "mode": "markers",
           "name": "Peru",
           "orientation": "v",
           "showlegend": true,
           "type": "scatter",
           "x": [
            11.6
           ],
           "xaxis": "x",
           "y": [
            5520
           ],
           "yaxis": "y"
          },
          {
           "hovertemplate": "<b>%{hovertext}</b><br><br>Country Name=Singapore<br>Year=2003<br>Individuals using the Internet (% of population)=%{x}<br>GNI per capita, PPP (current international $)=%{marker.size}<extra></extra>",
           "hovertext": [
            "Singapore"
           ],
           "ids": [
            "Singapore"
           ],
           "legendgroup": "Singapore",
           "marker": {
            "color": "#FECB52",
            "size": [
             47480
            ],
            "sizemode": "area",
            "sizeref": 331.1,
            "symbol": "circle"
           },
           "mode": "markers",
           "name": "Singapore",
           "orientation": "v",
           "showlegend": true,
           "type": "scatter",
           "x": [
            53.83794329
           ],
           "xaxis": "x",
           "y": [
            47480
           ],
           "yaxis": "y"
          },
          {
           "hovertemplate": "<b>%{hovertext}</b><br><br>Country Name=Uruguay<br>Year=2003<br>Individuals using the Internet (% of population)=%{x}<br>GNI per capita, PPP (current international $)=%{marker.size}<extra></extra>",
           "hovertext": [
            "Uruguay"
           ],
           "ids": [
            "Uruguay"
           ],
           "legendgroup": "Uruguay",
           "marker": {
            "color": "#636efa",
            "size": [
             9300
            ],
            "sizemode": "area",
            "sizeref": 331.1,
            "symbol": "circle"
           },
           "mode": "markers",
           "name": "Uruguay",
           "orientation": "v",
           "showlegend": true,
           "type": "scatter",
           "x": [
            15.93713672
           ],
           "xaxis": "x",
           "y": [
            9300
           ],
           "yaxis": "y"
          },
          {
           "hovertemplate": "<b>%{hovertext}</b><br><br>Country Name=Zimbabwe<br>Year=2003<br>Individuals using the Internet (% of population)=%{x}<br>GNI per capita, PPP (current international $)=%{marker.size}<extra></extra>",
           "hovertext": [
            "Zimbabwe"
           ],
           "ids": [
            "Zimbabwe"
           ],
           "legendgroup": "Zimbabwe",
           "marker": {
            "color": "#EF553B",
            "size": [
             1780
            ],
            "sizemode": "area",
            "sizeref": 331.1,
            "symbol": "circle"
           },
           "mode": "markers",
           "name": "Zimbabwe",
           "orientation": "v",
           "showlegend": true,
           "type": "scatter",
           "x": [
            1.8
           ],
           "xaxis": "x",
           "y": [
            1780
           ],
           "yaxis": "y"
          },
          {
           "hovertemplate": "<b>%{hovertext}</b><br><br>Country Name=Oman<br>Year=2003<br>Individuals using the Internet (% of population)=%{x}<br>GNI per capita, PPP (current international $)=%{marker.size}<extra></extra>",
           "hovertext": [
            "Oman"
           ],
           "ids": [
            "Oman"
           ],
           "legendgroup": "Oman",
           "marker": {
            "color": "#00cc96",
            "size": [
             40510
            ],
            "sizemode": "area",
            "sizeref": 331.1,
            "symbol": "circle"
           },
           "mode": "markers",
           "name": "Oman",
           "orientation": "v",
           "showlegend": true,
           "type": "scatter",
           "x": [
            7.255742945
           ],
           "xaxis": "x",
           "y": [
            40510
           ],
           "yaxis": "y"
          },
          {
           "hovertemplate": "<b>%{hovertext}</b><br><br>Country Name=Ireland<br>Year=2003<br>Individuals using the Internet (% of population)=%{x}<br>GNI per capita, PPP (current international $)=%{marker.size}<extra></extra>",
           "hovertext": [
            "Ireland"
           ],
           "ids": [
            "Ireland"
           ],
           "legendgroup": "Ireland",
           "marker": {
            "color": "#ab63fa",
            "size": [
             31280
            ],
            "sizemode": "area",
            "sizeref": 331.1,
            "symbol": "circle"
           },
           "mode": "markers",
           "name": "Ireland",
           "orientation": "v",
           "showlegend": true,
           "type": "scatter",
           "x": [
            34.31
           ],
           "xaxis": "x",
           "y": [
            31280
           ],
           "yaxis": "y"
          },
          {
           "hovertemplate": "<b>%{hovertext}</b><br><br>Country Name=Hungary<br>Year=2003<br>Individuals using the Internet (% of population)=%{x}<br>GNI per capita, PPP (current international $)=%{marker.size}<extra></extra>",
           "hovertext": [
            "Hungary"
           ],
           "ids": [
            "Hungary"
           ],
           "legendgroup": "Hungary",
           "marker": {
            "color": "#FFA15A",
            "size": [
             14610
            ],
            "sizemode": "area",
            "sizeref": 331.1,
            "symbol": "circle"
           },
           "mode": "markers",
           "name": "Hungary",
           "orientation": "v",
           "showlegend": true,
           "type": "scatter",
           "x": [
            21.63
           ],
           "xaxis": "x",
           "y": [
            14610
           ],
           "yaxis": "y"
          },
          {
           "hovertemplate": "<b>%{hovertext}</b><br><br>Country Name=Kazakhstan<br>Year=2003<br>Individuals using the Internet (% of population)=%{x}<br>GNI per capita, PPP (current international $)=%{marker.size}<extra></extra>",
           "hovertext": [
            "Kazakhstan"
           ],
           "ids": [
            "Kazakhstan"
           ],
           "legendgroup": "Kazakhstan",
           "marker": {
            "color": "#19d3f3",
            "size": [
             10550
            ],
            "sizemode": "area",
            "sizeref": 331.1,
            "symbol": "circle"
           },
           "mode": "markers",
           "name": "Kazakhstan",
           "orientation": "v",
           "showlegend": true,
           "type": "scatter",
           "x": [
            2.000414753
           ],
           "xaxis": "x",
           "y": [
            10550
           ],
           "yaxis": "y"
          },
          {
           "hovertemplate": "<b>%{hovertext}</b><br><br>Country Name=Canada<br>Year=2003<br>Individuals using the Internet (% of population)=%{x}<br>GNI per capita, PPP (current international $)=%{marker.size}<extra></extra>",
           "hovertext": [
            "Canada"
           ],
           "ids": [
            "Canada"
           ],
           "legendgroup": "Canada",
           "marker": {
            "color": "#FF6692",
            "size": [
             31550
            ],
            "sizemode": "area",
            "sizeref": 331.1,
            "symbol": "circle"
           },
           "mode": "markers",
           "name": "Canada",
           "orientation": "v",
           "showlegend": true,
           "type": "scatter",
           "x": [
            64.2
           ],
           "xaxis": "x",
           "y": [
            31550
           ],
           "yaxis": "y"
          },
          {
           "hovertemplate": "<b>%{hovertext}</b><br><br>Country Name=Qatar<br>Year=2003<br>Individuals using the Internet (% of population)=%{x}<br>GNI per capita, PPP (current international $)=%{marker.size}<extra></extra>",
           "hovertext": [
            "Qatar"
           ],
           "ids": [
            "Qatar"
           ],
           "legendgroup": "Qatar",
           "marker": {
            "color": "#B6E880",
            "size": [
             100980
            ],
            "sizemode": "area",
            "sizeref": 331.1,
            "symbol": "circle"
           },
           "mode": "markers",
           "name": "Qatar",
           "orientation": "v",
           "showlegend": true,
           "type": "scatter",
           "x": [
            19.24233642
           ],
           "xaxis": "x",
           "y": [
            100980
           ],
           "yaxis": "y"
          }
         ],
         "name": "2003"
        },
        {
         "data": [
          {
           "hovertemplate": "<b>%{hovertext}</b><br><br>Country Name=Belgium<br>Year=2004<br>Individuals using the Internet (% of population)=%{x}<br>GNI per capita, PPP (current international $)=%{marker.size}<extra></extra>",
           "hovertext": [
            "Belgium"
           ],
           "ids": [
            "Belgium"
           ],
           "legendgroup": "Belgium",
           "marker": {
            "color": "#EF553B",
            "size": [
             32510
            ],
            "sizemode": "area",
            "sizeref": 331.1,
            "symbol": "circle"
           },
           "mode": "markers",
           "name": "Belgium",
           "orientation": "v",
           "showlegend": true,
           "type": "scatter",
           "x": [
            53.86
           ],
           "xaxis": "x",
           "y": [
            32510
           ],
           "yaxis": "y"
          },
          {
           "hovertemplate": "<b>%{hovertext}</b><br><br>Country Name=Denmark<br>Year=2004<br>Individuals using the Internet (% of population)=%{x}<br>GNI per capita, PPP (current international $)=%{marker.size}<extra></extra>",
           "hovertext": [
            "Denmark"
           ],
           "ids": [
            "Denmark"
           ],
           "legendgroup": "Denmark",
           "marker": {
            "color": "#00cc96",
            "size": [
             32980
            ],
            "sizemode": "area",
            "sizeref": 331.1,
            "symbol": "circle"
           },
           "mode": "markers",
           "name": "Denmark",
           "orientation": "v",
           "showlegend": true,
           "type": "scatter",
           "x": [
            80.93
           ],
           "xaxis": "x",
           "y": [
            32980
           ],
           "yaxis": "y"
          },
          {
           "hovertemplate": "<b>%{hovertext}</b><br><br>Country Name=Ecuador<br>Year=2004<br>Individuals using the Internet (% of population)=%{x}<br>GNI per capita, PPP (current international $)=%{marker.size}<extra></extra>",
           "hovertext": [
            "Ecuador"
           ],
           "ids": [
            "Ecuador"
           ],
           "legendgroup": "Ecuador",
           "marker": {
            "color": "#ab63fa",
            "size": [
             6760
            ],
            "sizemode": "area",
            "sizeref": 331.1,
            "symbol": "circle"
           },
           "mode": "markers",
           "name": "Ecuador",
           "orientation": "v",
           "showlegend": true,
           "type": "scatter",
           "x": [
            4.834442638
           ],
           "xaxis": "x",
           "y": [
            6760
           ],
           "yaxis": "y"
          },
          {
           "hovertemplate": "<b>%{hovertext}</b><br><br>Country Name=Fiji<br>Year=2004<br>Individuals using the Internet (% of population)=%{x}<br>GNI per capita, PPP (current international $)=%{marker.size}<extra></extra>",
           "hovertext": [
            "Fiji"
           ],
           "ids": [
            "Fiji"
           ],
           "legendgroup": "Fiji",
           "marker": {
            "color": "#FFA15A",
            "size": [
             7040
            ],
            "sizemode": "area",
            "sizeref": 331.1,
            "symbol": "circle"
           },
           "mode": "markers",
           "name": "Fiji",
           "orientation": "v",
           "showlegend": true,
           "type": "scatter",
           "x": [
            7.412943485
           ],
           "xaxis": "x",
           "y": [
            7040
           ],
           "yaxis": "y"
          },
          {
           "hovertemplate": "<b>%{hovertext}</b><br><br>Country Name=Japan<br>Year=2004<br>Individuals using the Internet (% of population)=%{x}<br>GNI per capita, PPP (current international $)=%{marker.size}<extra></extra>",
           "hovertext": [
            "Japan"
           ],
           "ids": [
            "Japan"
           ],
           "legendgroup": "Japan",
           "marker": {
            "color": "#19d3f3",
            "size": [
             31430
            ],
            "sizemode": "area",
            "sizeref": 331.1,
            "symbol": "circle"
           },
           "mode": "markers",
           "name": "Japan",
           "orientation": "v",
           "showlegend": true,
           "type": "scatter",
           "x": [
            62.39392963
           ],
           "xaxis": "x",
           "y": [
            31430
           ],
           "yaxis": "y"
          },
          {
           "hovertemplate": "<b>%{hovertext}</b><br><br>Country Name=Luxembourg<br>Year=2004<br>Individuals using the Internet (% of population)=%{x}<br>GNI per capita, PPP (current international $)=%{marker.size}<extra></extra>",
           "hovertext": [
            "Luxembourg"
           ],
           "ids": [
            "Luxembourg"
           ],
           "legendgroup": "Luxembourg",
           "marker": {
            "color": "#FF6692",
            "size": [
             58380
            ],
            "sizemode": "area",
            "sizeref": 331.1,
            "symbol": "circle"
           },
           "mode": "markers",
           "name": "Luxembourg",
           "orientation": "v",
           "showlegend": true,
           "type": "scatter",
           "x": [
            65.88
           ],
           "xaxis": "x",
           "y": [
            58380
           ],
           "yaxis": "y"
          },
          {
           "hovertemplate": "<b>%{hovertext}</b><br><br>Country Name=Nepal<br>Year=2004<br>Individuals using the Internet (% of population)=%{x}<br>GNI per capita, PPP (current international $)=%{marker.size}<extra></extra>",
           "hovertext": [
            "Nepal"
           ],
           "ids": [
            "Nepal"
           ],
           "legendgroup": "Nepal",
           "marker": {
            "color": "#B6E880",
            "size": [
             1570
            ],
            "sizemode": "area",
            "sizeref": 331.1,
            "symbol": "circle"
           },
           "mode": "markers",
           "name": "Nepal",
           "orientation": "v",
           "showlegend": true,
           "type": "scatter",
           "x": [
            0.449843651
           ],
           "xaxis": "x",
           "y": [
            1570
           ],
           "yaxis": "y"
          },
          {
           "hovertemplate": "<b>%{hovertext}</b><br><br>Country Name=Peru<br>Year=2004<br>Individuals using the Internet (% of population)=%{x}<br>GNI per capita, PPP (current international $)=%{marker.size}<extra></extra>",
           "hovertext": [
            "Peru"
           ],
           "ids": [
            "Peru"
           ],
           "legendgroup": "Peru",
           "marker": {
            "color": "#FF97FF",
            "size": [
             5780
            ],
            "sizemode": "area",
            "sizeref": 331.1,
            "symbol": "circle"
           },
           "mode": "markers",
           "name": "Peru",
           "orientation": "v",
           "showlegend": true,
           "type": "scatter",
           "x": [
            14.1
           ],
           "xaxis": "x",
           "y": [
            5780
           ],
           "yaxis": "y"
          },
          {
           "hovertemplate": "<b>%{hovertext}</b><br><br>Country Name=Singapore<br>Year=2004<br>Individuals using the Internet (% of population)=%{x}<br>GNI per capita, PPP (current international $)=%{marker.size}<extra></extra>",
           "hovertext": [
            "Singapore"
           ],
           "ids": [
            "Singapore"
           ],
           "legendgroup": "Singapore",
           "marker": {
            "color": "#FECB52",
            "size": [
             51090
            ],
            "sizemode": "area",
            "sizeref": 331.1,
            "symbol": "circle"
           },
           "mode": "markers",
           "name": "Singapore",
           "orientation": "v",
           "showlegend": true,
           "type": "scatter",
           "x": [
            62
           ],
           "xaxis": "x",
           "y": [
            51090
           ],
           "yaxis": "y"
          },
          {
           "hovertemplate": "<b>%{hovertext}</b><br><br>Country Name=Uruguay<br>Year=2004<br>Individuals using the Internet (% of population)=%{x}<br>GNI per capita, PPP (current international $)=%{marker.size}<extra></extra>",
           "hovertext": [
            "Uruguay"
           ],
           "ids": [
            "Uruguay"
           ],
           "legendgroup": "Uruguay",
           "marker": {
            "color": "#636efa",
            "size": [
             10000
            ],
            "sizemode": "area",
            "sizeref": 331.1,
            "symbol": "circle"
           },
           "mode": "markers",
           "name": "Uruguay",
           "orientation": "v",
           "showlegend": true,
           "type": "scatter",
           "x": [
            17.06309834
           ],
           "xaxis": "x",
           "y": [
            10000
           ],
           "yaxis": "y"
          },
          {
           "hovertemplate": "<b>%{hovertext}</b><br><br>Country Name=Zimbabwe<br>Year=2004<br>Individuals using the Internet (% of population)=%{x}<br>GNI per capita, PPP (current international $)=%{marker.size}<extra></extra>",
           "hovertext": [
            "Zimbabwe"
           ],
           "ids": [
            "Zimbabwe"
           ],
           "legendgroup": "Zimbabwe",
           "marker": {
            "color": "#EF553B",
            "size": [
             1710
            ],
            "sizemode": "area",
            "sizeref": 331.1,
            "symbol": "circle"
           },
           "mode": "markers",
           "name": "Zimbabwe",
           "orientation": "v",
           "showlegend": true,
           "type": "scatter",
           "x": [
            2.1
           ],
           "xaxis": "x",
           "y": [
            1710
           ],
           "yaxis": "y"
          },
          {
           "hovertemplate": "<b>%{hovertext}</b><br><br>Country Name=Oman<br>Year=2004<br>Individuals using the Internet (% of population)=%{x}<br>GNI per capita, PPP (current international $)=%{marker.size}<extra></extra>",
           "hovertext": [
            "Oman"
           ],
           "ids": [
            "Oman"
           ],
           "legendgroup": "Oman",
           "marker": {
            "color": "#00cc96",
            "size": [
             41450
            ],
            "sizemode": "area",
            "sizeref": 331.1,
            "symbol": "circle"
           },
           "mode": "markers",
           "name": "Oman",
           "orientation": "v",
           "showlegend": true,
           "type": "scatter",
           "x": [
            6.75885217
           ],
           "xaxis": "x",
           "y": [
            41450
           ],
           "yaxis": "y"
          },
          {
           "hovertemplate": "<b>%{hovertext}</b><br><br>Country Name=Ireland<br>Year=2004<br>Individuals using the Internet (% of population)=%{x}<br>GNI per capita, PPP (current international $)=%{marker.size}<extra></extra>",
           "hovertext": [
            "Ireland"
           ],
           "ids": [
            "Ireland"
           ],
           "legendgroup": "Ireland",
           "marker": {
            "color": "#ab63fa",
            "size": [
             33430
            ],
            "sizemode": "area",
            "sizeref": 331.1,
            "symbol": "circle"
           },
           "mode": "markers",
           "name": "Ireland",
           "orientation": "v",
           "showlegend": true,
           "type": "scatter",
           "x": [
            36.99
           ],
           "xaxis": "x",
           "y": [
            33430
           ],
           "yaxis": "y"
          },
          {
           "hovertemplate": "<b>%{hovertext}</b><br><br>Country Name=Hungary<br>Year=2004<br>Individuals using the Internet (% of population)=%{x}<br>GNI per capita, PPP (current international $)=%{marker.size}<extra></extra>",
           "hovertext": [
            "Hungary"
           ],
           "ids": [
            "Hungary"
           ],
           "legendgroup": "Hungary",
           "marker": {
            "color": "#FFA15A",
            "size": [
             15280
            ],
            "sizemode": "area",
            "sizeref": 331.1,
            "symbol": "circle"
           },
           "mode": "markers",
           "name": "Hungary",
           "orientation": "v",
           "showlegend": true,
           "type": "scatter",
           "x": [
            27.74
           ],
           "xaxis": "x",
           "y": [
            15280
           ],
           "yaxis": "y"
          },
          {
           "hovertemplate": "<b>%{hovertext}</b><br><br>Country Name=Kazakhstan<br>Year=2004<br>Individuals using the Internet (% of population)=%{x}<br>GNI per capita, PPP (current international $)=%{marker.size}<extra></extra>",
           "hovertext": [
            "Kazakhstan"
           ],
           "ids": [
            "Kazakhstan"
           ],
           "legendgroup": "Kazakhstan",
           "marker": {
            "color": "#19d3f3",
            "size": [
             11650
            ],
            "sizemode": "area",
            "sizeref": 331.1,
            "symbol": "circle"
           },
           "mode": "markers",
           "name": "Kazakhstan",
           "orientation": "v",
           "showlegend": true,
           "type": "scatter",
           "x": [
            2.650394657
           ],
           "xaxis": "x",
           "y": [
            11650
           ],
           "yaxis": "y"
          },
          {
           "hovertemplate": "<b>%{hovertext}</b><br><br>Country Name=Canada<br>Year=2004<br>Individuals using the Internet (% of population)=%{x}<br>GNI per capita, PPP (current international $)=%{marker.size}<extra></extra>",
           "hovertext": [
            "Canada"
           ],
           "ids": [
            "Canada"
           ],
           "legendgroup": "Canada",
           "marker": {
            "color": "#FF6692",
            "size": [
             33190
            ],
            "sizemode": "area",
            "sizeref": 331.1,
            "symbol": "circle"
           },
           "mode": "markers",
           "name": "Canada",
           "orientation": "v",
           "showlegend": true,
           "type": "scatter",
           "x": [
            65.95596346
           ],
           "xaxis": "x",
           "y": [
            33190
           ],
           "yaxis": "y"
          },
          {
           "hovertemplate": "<b>%{hovertext}</b><br><br>Country Name=Qatar<br>Year=2004<br>Individuals using the Internet (% of population)=%{x}<br>GNI per capita, PPP (current international $)=%{marker.size}<extra></extra>",
           "hovertext": [
            "Qatar"
           ],
           "ids": [
            "Qatar"
           ],
           "legendgroup": "Qatar",
           "marker": {
            "color": "#B6E880",
            "size": [
             105840
            ],
            "sizemode": "area",
            "sizeref": 331.1,
            "symbol": "circle"
           },
           "mode": "markers",
           "name": "Qatar",
           "orientation": "v",
           "showlegend": true,
           "type": "scatter",
           "x": [
            20.70164785
           ],
           "xaxis": "x",
           "y": [
            105840
           ],
           "yaxis": "y"
          }
         ],
         "name": "2004"
        },
        {
         "data": [
          {
           "hovertemplate": "<b>%{hovertext}</b><br><br>Country Name=Australia<br>Year=2005<br>Individuals using the Internet (% of population)=%{x}<br>GNI per capita, PPP (current international $)=%{marker.size}<extra></extra>",
           "hovertext": [
            "Australia"
           ],
           "ids": [
            "Australia"
           ],
           "legendgroup": "Australia",
           "marker": {
            "color": "#636efa",
            "size": [
             31440
            ],
            "sizemode": "area",
            "sizeref": 331.1,
            "symbol": "circle"
           },
           "mode": "markers",
           "name": "Australia",
           "orientation": "v",
           "showlegend": true,
           "type": "scatter",
           "x": [
            63
           ],
           "xaxis": "x",
           "y": [
            31440
           ],
           "yaxis": "y"
          },
          {
           "hovertemplate": "<b>%{hovertext}</b><br><br>Country Name=Belgium<br>Year=2005<br>Individuals using the Internet (% of population)=%{x}<br>GNI per capita, PPP (current international $)=%{marker.size}<extra></extra>",
           "hovertext": [
            "Belgium"
           ],
           "ids": [
            "Belgium"
           ],
           "legendgroup": "Belgium",
           "marker": {
            "color": "#EF553B",
            "size": [
             33590
            ],
            "sizemode": "area",
            "sizeref": 331.1,
            "symbol": "circle"
           },
           "mode": "markers",
           "name": "Belgium",
           "orientation": "v",
           "showlegend": true,
           "type": "scatter",
           "x": [
            55.82
           ],
           "xaxis": "x",
           "y": [
            33590
           ],
           "yaxis": "y"
          },
          {
           "hovertemplate": "<b>%{hovertext}</b><br><br>Country Name=Denmark<br>Year=2005<br>Individuals using the Internet (% of population)=%{x}<br>GNI per capita, PPP (current international $)=%{marker.size}<extra></extra>",
           "hovertext": [
            "Denmark"
           ],
           "ids": [
            "Denmark"
           ],
           "legendgroup": "Denmark",
           "marker": {
            "color": "#00cc96",
            "size": [
             34430
            ],
            "sizemode": "area",
            "sizeref": 331.1,
            "symbol": "circle"
           },
           "mode": "markers",
           "name": "Denmark",
           "orientation": "v",
           "showlegend": true,
           "type": "scatter",
           "x": [
            82.74
           ],
           "xaxis": "x",
           "y": [
            34430
           ],
           "yaxis": "y"
          },
          {
           "hovertemplate": "<b>%{hovertext}</b><br><br>Country Name=Ecuador<br>Year=2005<br>Individuals using the Internet (% of population)=%{x}<br>GNI per capita, PPP (current international $)=%{marker.size}<extra></extra>",
           "hovertext": [
            "Ecuador"
           ],
           "ids": [
            "Ecuador"
           ],
           "legendgroup": "Ecuador",
           "marker": {
            "color": "#ab63fa",
            "size": [
             7270
            ],
            "sizemode": "area",
            "sizeref": 331.1,
            "symbol": "circle"
           },
           "mode": "markers",
           "name": "Ecuador",
           "orientation": "v",
           "showlegend": true,
           "type": "scatter",
           "x": [
            5.994255161
           ],
           "xaxis": "x",
           "y": [
            7270
           ],
           "yaxis": "y"
          },
          {
           "hovertemplate": "<b>%{hovertext}</b><br><br>Country Name=Fiji<br>Year=2005<br>Individuals using the Internet (% of population)=%{x}<br>GNI per capita, PPP (current international $)=%{marker.size}<extra></extra>",
           "hovertext": [
            "Fiji"
           ],
           "ids": [
            "Fiji"
           ],
           "legendgroup": "Fiji",
           "marker": {
            "color": "#FFA15A",
            "size": [
             7380
            ],
            "sizemode": "area",
            "sizeref": 331.1,
            "symbol": "circle"
           },
           "mode": "markers",
           "name": "Fiji",
           "orientation": "v",
           "showlegend": true,
           "type": "scatter",
           "x": [
            8.453636634
           ],
           "xaxis": "x",
           "y": [
            7380
           ],
           "yaxis": "y"
          },
          {
           "hovertemplate": "<b>%{hovertext}</b><br><br>Country Name=Japan<br>Year=2005<br>Individuals using the Internet (% of population)=%{x}<br>GNI per capita, PPP (current international $)=%{marker.size}<extra></extra>",
           "hovertext": [
            "Japan"
           ],
           "ids": [
            "Japan"
           ],
           "legendgroup": "Japan",
           "marker": {
            "color": "#19d3f3",
            "size": [
             32880
            ],
            "sizemode": "area",
            "sizeref": 331.1,
            "symbol": "circle"
           },
           "mode": "markers",
           "name": "Japan",
           "orientation": "v",
           "showlegend": true,
           "type": "scatter",
           "x": [
            66.9210661
           ],
           "xaxis": "x",
           "y": [
            32880
           ],
           "yaxis": "y"
          },
          {
           "hovertemplate": "<b>%{hovertext}</b><br><br>Country Name=Luxembourg<br>Year=2005<br>Individuals using the Internet (% of population)=%{x}<br>GNI per capita, PPP (current international $)=%{marker.size}<extra></extra>",
           "hovertext": [
            "Luxembourg"
           ],
           "ids": [
            "Luxembourg"
           ],
           "legendgroup": "Luxembourg",
           "marker": {
            "color": "#FF6692",
            "size": [
             62650
            ],
            "sizemode": "area",
            "sizeref": 331.1,
            "symbol": "circle"
           },
           "mode": "markers",
           "name": "Luxembourg",
           "orientation": "v",
           "showlegend": true,
           "type": "scatter",
           "x": [
            70
           ],
           "xaxis": "x",
           "y": [
            62650
           ],
           "yaxis": "y"
          },
          {
           "hovertemplate": "<b>%{hovertext}</b><br><br>Country Name=Nepal<br>Year=2005<br>Individuals using the Internet (% of population)=%{x}<br>GNI per capita, PPP (current international $)=%{marker.size}<extra></extra>",
           "hovertext": [
            "Nepal"
           ],
           "ids": [
            "Nepal"
           ],
           "legendgroup": "Nepal",
           "marker": {
            "color": "#B6E880",
            "size": [
             1670
            ],
            "sizemode": "area",
            "sizeref": 331.1,
            "symbol": "circle"
           },
           "mode": "markers",
           "name": "Nepal",
           "orientation": "v",
           "showlegend": true,
           "type": "scatter",
           "x": [
            0.826551266
           ],
           "xaxis": "x",
           "y": [
            1670
           ],
           "yaxis": "y"
          },
          {
           "hovertemplate": "<b>%{hovertext}</b><br><br>Country Name=Peru<br>Year=2005<br>Individuals using the Internet (% of population)=%{x}<br>GNI per capita, PPP (current international $)=%{marker.size}<extra></extra>",
           "hovertext": [
            "Peru"
           ],
           "ids": [
            "Peru"
           ],
           "legendgroup": "Peru",
           "marker": {
            "color": "#FF97FF",
            "size": [
             6200
            ],
            "sizemode": "area",
            "sizeref": 331.1,
            "symbol": "circle"
           },
           "mode": "markers",
           "name": "Peru",
           "orientation": "v",
           "showlegend": true,
           "type": "scatter",
           "x": [
            17.1
           ],
           "xaxis": "x",
           "y": [
            6200
           ],
           "yaxis": "y"
          },
          {
           "hovertemplate": "<b>%{hovertext}</b><br><br>Country Name=Singapore<br>Year=2005<br>Individuals using the Internet (% of population)=%{x}<br>GNI per capita, PPP (current international $)=%{marker.size}<extra></extra>",
           "hovertext": [
            "Singapore"
           ],
           "ids": [
            "Singapore"
           ],
           "legendgroup": "Singapore",
           "marker": {
            "color": "#FECB52",
            "size": [
             55490
            ],
            "sizemode": "area",
            "sizeref": 331.1,
            "symbol": "circle"
           },
           "mode": "markers",
           "name": "Singapore",
           "orientation": "v",
           "showlegend": true,
           "type": "scatter",
           "x": [
            61
           ],
           "xaxis": "x",
           "y": [
            55490
           ],
           "yaxis": "y"
          },
          {
           "hovertemplate": "<b>%{hovertext}</b><br><br>Country Name=Uruguay<br>Year=2005<br>Individuals using the Internet (% of population)=%{x}<br>GNI per capita, PPP (current international $)=%{marker.size}<extra></extra>",
           "hovertext": [
            "Uruguay"
           ],
           "ids": [
            "Uruguay"
           ],
           "legendgroup": "Uruguay",
           "marker": {
            "color": "#636efa",
            "size": [
             11250
            ],
            "sizemode": "area",
            "sizeref": 331.1,
            "symbol": "circle"
           },
           "mode": "markers",
           "name": "Uruguay",
           "orientation": "v",
           "showlegend": true,
           "type": "scatter",
           "x": [
            20.08818956
           ],
           "xaxis": "x",
           "y": [
            11250
           ],
           "yaxis": "y"
          },
          {
           "hovertemplate": "<b>%{hovertext}</b><br><br>Country Name=Zimbabwe<br>Year=2005<br>Individuals using the Internet (% of population)=%{x}<br>GNI per capita, PPP (current international $)=%{marker.size}<extra></extra>",
           "hovertext": [
            "Zimbabwe"
           ],
           "ids": [
            "Zimbabwe"
           ],
           "legendgroup": "Zimbabwe",
           "marker": {
            "color": "#EF553B",
            "size": [
             1650
            ],
            "sizemode": "area",
            "sizeref": 331.1,
            "symbol": "circle"
           },
           "mode": "markers",
           "name": "Zimbabwe",
           "orientation": "v",
           "showlegend": true,
           "type": "scatter",
           "x": [
            2.4
           ],
           "xaxis": "x",
           "y": [
            1650
           ],
           "yaxis": "y"
          },
          {
           "hovertemplate": "<b>%{hovertext}</b><br><br>Country Name=Oman<br>Year=2005<br>Individuals using the Internet (% of population)=%{x}<br>GNI per capita, PPP (current international $)=%{marker.size}<extra></extra>",
           "hovertext": [
            "Oman"
           ],
           "ids": [
            "Oman"
           ],
           "legendgroup": "Oman",
           "marker": {
            "color": "#00cc96",
            "size": [
             42020
            ],
            "sizemode": "area",
            "sizeref": 331.1,
            "symbol": "circle"
           },
           "mode": "markers",
           "name": "Oman",
           "orientation": "v",
           "showlegend": true,
           "type": "scatter",
           "x": [
            6.68358142
           ],
           "xaxis": "x",
           "y": [
            42020
           ],
           "yaxis": "y"
          },
          {
           "hovertemplate": "<b>%{hovertext}</b><br><br>Country Name=Ireland<br>Year=2005<br>Individuals using the Internet (% of population)=%{x}<br>GNI per capita, PPP (current international $)=%{marker.size}<extra></extra>",
           "hovertext": [
            "Ireland"
           ],
           "ids": [
            "Ireland"
           ],
           "legendgroup": "Ireland",
           "marker": {
            "color": "#ab63fa",
            "size": [
             35050
            ],
            "sizemode": "area",
            "sizeref": 331.1,
            "symbol": "circle"
           },
           "mode": "markers",
           "name": "Ireland",
           "orientation": "v",
           "showlegend": true,
           "type": "scatter",
           "x": [
            41.61
           ],
           "xaxis": "x",
           "y": [
            35050
           ],
           "yaxis": "y"
          },
          {
           "hovertemplate": "<b>%{hovertext}</b><br><br>Country Name=Hungary<br>Year=2005<br>Individuals using the Internet (% of population)=%{x}<br>GNI per capita, PPP (current international $)=%{marker.size}<extra></extra>",
           "hovertext": [
            "Hungary"
           ],
           "ids": [
            "Hungary"
           ],
           "legendgroup": "Hungary",
           "marker": {
            "color": "#FFA15A",
            "size": [
             16040
            ],
            "sizemode": "area",
            "sizeref": 331.1,
            "symbol": "circle"
           },
           "mode": "markers",
           "name": "Hungary",
           "orientation": "v",
           "showlegend": true,
           "type": "scatter",
           "x": [
            38.97
           ],
           "xaxis": "x",
           "y": [
            16040
           ],
           "yaxis": "y"
          },
          {
           "hovertemplate": "<b>%{hovertext}</b><br><br>Country Name=Kazakhstan<br>Year=2005<br>Individuals using the Internet (% of population)=%{x}<br>GNI per capita, PPP (current international $)=%{marker.size}<extra></extra>",
           "hovertext": [
            "Kazakhstan"
           ],
           "ids": [
            "Kazakhstan"
           ],
           "legendgroup": "Kazakhstan",
           "marker": {
            "color": "#19d3f3",
            "size": [
             12590
            ],
            "sizemode": "area",
            "sizeref": 331.1,
            "symbol": "circle"
           },
           "mode": "markers",
           "name": "Kazakhstan",
           "orientation": "v",
           "showlegend": true,
           "type": "scatter",
           "x": [
            2.961707492
           ],
           "xaxis": "x",
           "y": [
            12590
           ],
           "yaxis": "y"
          },
          {
           "hovertemplate": "<b>%{hovertext}</b><br><br>Country Name=Canada<br>Year=2005<br>Individuals using the Internet (% of population)=%{x}<br>GNI per capita, PPP (current international $)=%{marker.size}<extra></extra>",
           "hovertext": [
            "Canada"
           ],
           "ids": [
            "Canada"
           ],
           "legendgroup": "Canada",
           "marker": {
            "color": "#FF6692",
            "size": [
             35580
            ],
            "sizemode": "area",
            "sizeref": 331.1,
            "symbol": "circle"
           },
           "mode": "markers",
           "name": "Canada",
           "orientation": "v",
           "showlegend": true,
           "type": "scatter",
           "x": [
            71.66
           ],
           "xaxis": "x",
           "y": [
            35580
           ],
           "yaxis": "y"
          },
          {
           "hovertemplate": "<b>%{hovertext}</b><br><br>Country Name=Qatar<br>Year=2005<br>Individuals using the Internet (% of population)=%{x}<br>GNI per capita, PPP (current international $)=%{marker.size}<extra></extra>",
           "hovertext": [
            "Qatar"
           ],
           "ids": [
            "Qatar"
           ],
           "legendgroup": "Qatar",
           "marker": {
            "color": "#B6E880",
            "size": [
             95800
            ],
            "sizemode": "area",
            "sizeref": 331.1,
            "symbol": "circle"
           },
           "mode": "markers",
           "name": "Qatar",
           "orientation": "v",
           "showlegend": true,
           "type": "scatter",
           "x": [
            24.73349378
           ],
           "xaxis": "x",
           "y": [
            95800
           ],
           "yaxis": "y"
          }
         ],
         "name": "2005"
        },
        {
         "data": [
          {
           "hovertemplate": "<b>%{hovertext}</b><br><br>Country Name=Australia<br>Year=2006<br>Individuals using the Internet (% of population)=%{x}<br>GNI per capita, PPP (current international $)=%{marker.size}<extra></extra>",
           "hovertext": [
            "Australia"
           ],
           "ids": [
            "Australia"
           ],
           "legendgroup": "Australia",
           "marker": {
            "color": "#636efa",
            "size": [
             33030
            ],
            "sizemode": "area",
            "sizeref": 331.1,
            "symbol": "circle"
           },
           "mode": "markers",
           "name": "Australia",
           "orientation": "v",
           "showlegend": true,
           "type": "scatter",
           "x": [
            66
           ],
           "xaxis": "x",
           "y": [
            33030
           ],
           "yaxis": "y"
          },
          {
           "hovertemplate": "<b>%{hovertext}</b><br><br>Country Name=Belgium<br>Year=2006<br>Individuals using the Internet (% of population)=%{x}<br>GNI per capita, PPP (current international $)=%{marker.size}<extra></extra>",
           "hovertext": [
            "Belgium"
           ],
           "ids": [
            "Belgium"
           ],
           "legendgroup": "Belgium",
           "marker": {
            "color": "#EF553B",
            "size": [
             35770
            ],
            "sizemode": "area",
            "sizeref": 331.1,
            "symbol": "circle"
           },
           "mode": "markers",
           "name": "Belgium",
           "orientation": "v",
           "showlegend": true,
           "type": "scatter",
           "x": [
            59.72
           ],
           "xaxis": "x",
           "y": [
            35770
           ],
           "yaxis": "y"
          },
          {
           "hovertemplate": "<b>%{hovertext}</b><br><br>Country Name=Denmark<br>Year=2006<br>Individuals using the Internet (% of population)=%{x}<br>GNI per capita, PPP (current international $)=%{marker.size}<extra></extra>",
           "hovertext": [
            "Denmark"
           ],
           "ids": [
            "Denmark"
           ],
           "legendgroup": "Denmark",
           "marker": {
            "color": "#00cc96",
            "size": [
             37790
            ],
            "sizemode": "area",
            "sizeref": 331.1,
            "symbol": "circle"
           },
           "mode": "markers",
           "name": "Denmark",
           "orientation": "v",
           "showlegend": true,
           "type": "scatter",
           "x": [
            86.65
           ],
           "xaxis": "x",
           "y": [
            37790
           ],
           "yaxis": "y"
          },
          {
           "hovertemplate": "<b>%{hovertext}</b><br><br>Country Name=Ecuador<br>Year=2006<br>Individuals using the Internet (% of population)=%{x}<br>GNI per capita, PPP (current international $)=%{marker.size}<extra></extra>",
           "hovertext": [
            "Ecuador"
           ],
           "ids": [
            "Ecuador"
           ],
           "legendgroup": "Ecuador",
           "marker": {
            "color": "#ab63fa",
            "size": [
             7730
            ],
            "sizemode": "area",
            "sizeref": 331.1,
            "symbol": "circle"
           },
           "mode": "markers",
           "name": "Ecuador",
           "orientation": "v",
           "showlegend": true,
           "type": "scatter",
           "x": [
            7.2
           ],
           "xaxis": "x",
           "y": [
            7730
           ],
           "yaxis": "y"
          },
          {
           "hovertemplate": "<b>%{hovertext}</b><br><br>Country Name=Fiji<br>Year=2006<br>Individuals using the Internet (% of population)=%{x}<br>GNI per capita, PPP (current international $)=%{marker.size}<extra></extra>",
           "hovertext": [
            "Fiji"
           ],
           "ids": [
            "Fiji"
           ],
           "legendgroup": "Fiji",
           "marker": {
            "color": "#FFA15A",
            "size": [
             7280
            ],
            "sizemode": "area",
            "sizeref": 331.1,
            "symbol": "circle"
           },
           "mode": "markers",
           "name": "Fiji",
           "orientation": "v",
           "showlegend": true,
           "type": "scatter",
           "x": [
            9.6000384
           ],
           "xaxis": "x",
           "y": [
            7280
           ],
           "yaxis": "y"
          },
          {
           "hovertemplate": "<b>%{hovertext}</b><br><br>Country Name=Japan<br>Year=2006<br>Individuals using the Internet (% of population)=%{x}<br>GNI per capita, PPP (current international $)=%{marker.size}<extra></extra>",
           "hovertext": [
            "Japan"
           ],
           "ids": [
            "Japan"
           ],
           "legendgroup": "Japan",
           "marker": {
            "color": "#19d3f3",
            "size": [
             34530
            ],
            "sizemode": "area",
            "sizeref": 331.1,
            "symbol": "circle"
           },
           "mode": "markers",
           "name": "Japan",
           "orientation": "v",
           "showlegend": true,
           "type": "scatter",
           "x": [
            68.68527032
           ],
           "xaxis": "x",
           "y": [
            34530
           ],
           "yaxis": "y"
          },
          {
           "hovertemplate": "<b>%{hovertext}</b><br><br>Country Name=Luxembourg<br>Year=2006<br>Individuals using the Internet (% of population)=%{x}<br>GNI per capita, PPP (current international $)=%{marker.size}<extra></extra>",
           "hovertext": [
            "Luxembourg"
           ],
           "ids": [
            "Luxembourg"
           ],
           "legendgroup": "Luxembourg",
           "marker": {
            "color": "#FF6692",
            "size": [
             63160
            ],
            "sizemode": "area",
            "sizeref": 331.1,
            "symbol": "circle"
           },
           "mode": "markers",
           "name": "Luxembourg",
           "orientation": "v",
           "showlegend": true,
           "type": "scatter",
           "x": [
            72.51
           ],
           "xaxis": "x",
           "y": [
            63160
           ],
           "yaxis": "y"
          },
          {
           "hovertemplate": "<b>%{hovertext}</b><br><br>Country Name=Nepal<br>Year=2006<br>Individuals using the Internet (% of population)=%{x}<br>GNI per capita, PPP (current international $)=%{marker.size}<extra></extra>",
           "hovertext": [
            "Nepal"
           ],
           "ids": [
            "Nepal"
           ],
           "legendgroup": "Nepal",
           "marker": {
            "color": "#B6E880",
            "size": [
             1760
            ],
            "sizemode": "area",
            "sizeref": 331.1,
            "symbol": "circle"
           },
           "mode": "markers",
           "name": "Nepal",
           "orientation": "v",
           "showlegend": true,
           "type": "scatter",
           "x": [
            1.141389164
           ],
           "xaxis": "x",
           "y": [
            1760
           ],
           "yaxis": "y"
          },
          {
           "hovertemplate": "<b>%{hovertext}</b><br><br>Country Name=Peru<br>Year=2006<br>Individuals using the Internet (% of population)=%{x}<br>GNI per capita, PPP (current international $)=%{marker.size}<extra></extra>",
           "hovertext": [
            "Peru"
           ],
           "ids": [
            "Peru"
           ],
           "legendgroup": "Peru",
           "marker": {
            "color": "#FF97FF",
            "size": [
             6680
            ],
            "sizemode": "area",
            "sizeref": 331.1,
            "symbol": "circle"
           },
           "mode": "markers",
           "name": "Peru",
           "orientation": "v",
           "showlegend": true,
           "type": "scatter",
           "x": [
            20.7
           ],
           "xaxis": "x",
           "y": [
            6680
           ],
           "yaxis": "y"
          },
          {
           "hovertemplate": "<b>%{hovertext}</b><br><br>Country Name=Singapore<br>Year=2006<br>Individuals using the Internet (% of population)=%{x}<br>GNI per capita, PPP (current international $)=%{marker.size}<extra></extra>",
           "hovertext": [
            "Singapore"
           ],
           "ids": [
            "Singapore"
           ],
           "legendgroup": "Singapore",
           "marker": {
            "color": "#FECB52",
            "size": [
             62320
            ],
            "sizemode": "area",
            "sizeref": 331.1,
            "symbol": "circle"
           },
           "mode": "markers",
           "name": "Singapore",
           "orientation": "v",
           "showlegend": true,
           "type": "scatter",
           "x": [
            59
           ],
           "xaxis": "x",
           "y": [
            62320
           ],
           "yaxis": "y"
          },
          {
           "hovertemplate": "<b>%{hovertext}</b><br><br>Country Name=Uruguay<br>Year=2006<br>Individuals using the Internet (% of population)=%{x}<br>GNI per capita, PPP (current international $)=%{marker.size}<extra></extra>",
           "hovertext": [
            "Uruguay"
           ],
           "ids": [
            "Uruguay"
           ],
           "legendgroup": "Uruguay",
           "marker": {
            "color": "#636efa",
            "size": [
             12140
            ],
            "sizemode": "area",
            "sizeref": 331.1,
            "symbol": "circle"
           },
           "mode": "markers",
           "name": "Uruguay",
           "orientation": "v",
           "showlegend": true,
           "type": "scatter",
           "x": [
            29.4
           ],
           "xaxis": "x",
           "y": [
            12140
           ],
           "yaxis": "y"
          },
          {
           "hovertemplate": "<b>%{hovertext}</b><br><br>Country Name=Zimbabwe<br>Year=2006<br>Individuals using the Internet (% of population)=%{x}<br>GNI per capita, PPP (current international $)=%{marker.size}<extra></extra>",
           "hovertext": [
            "Zimbabwe"
           ],
           "ids": [
            "Zimbabwe"
           ],
           "legendgroup": "Zimbabwe",
           "marker": {
            "color": "#EF553B",
            "size": [
             1630
            ],
            "sizemode": "area",
            "sizeref": 331.1,
            "symbol": "circle"
           },
           "mode": "markers",
           "name": "Zimbabwe",
           "orientation": "v",
           "showlegend": true,
           "type": "scatter",
           "x": [
            2.4
           ],
           "xaxis": "x",
           "y": [
            1630
           ],
           "yaxis": "y"
          },
          {
           "hovertemplate": "<b>%{hovertext}</b><br><br>Country Name=Oman<br>Year=2006<br>Individuals using the Internet (% of population)=%{x}<br>GNI per capita, PPP (current international $)=%{marker.size}<extra></extra>",
           "hovertext": [
            "Oman"
           ],
           "ids": [
            "Oman"
           ],
           "legendgroup": "Oman",
           "marker": {
            "color": "#00cc96",
            "size": [
             45010
            ],
            "sizemode": "area",
            "sizeref": 331.1,
            "symbol": "circle"
           },
           "mode": "markers",
           "name": "Oman",
           "orientation": "v",
           "showlegend": true,
           "type": "scatter",
           "x": [
            8.299716673
           ],
           "xaxis": "x",
           "y": [
            45010
           ],
           "yaxis": "y"
          },
          {
           "hovertemplate": "<b>%{hovertext}</b><br><br>Country Name=Ireland<br>Year=2006<br>Individuals using the Internet (% of population)=%{x}<br>GNI per capita, PPP (current international $)=%{marker.size}<extra></extra>",
           "hovertext": [
            "Ireland"
           ],
           "ids": [
            "Ireland"
           ],
           "legendgroup": "Ireland",
           "marker": {
            "color": "#ab63fa",
            "size": [
             38790
            ],
            "sizemode": "area",
            "sizeref": 331.1,
            "symbol": "circle"
           },
           "mode": "markers",
           "name": "Ireland",
           "orientation": "v",
           "showlegend": true,
           "type": "scatter",
           "x": [
            54.82
           ],
           "xaxis": "x",
           "y": [
            38790
           ],
           "yaxis": "y"
          },
          {
           "hovertemplate": "<b>%{hovertext}</b><br><br>Country Name=Hungary<br>Year=2006<br>Individuals using the Internet (% of population)=%{x}<br>GNI per capita, PPP (current international $)=%{marker.size}<extra></extra>",
           "hovertext": [
            "Hungary"
           ],
           "ids": [
            "Hungary"
           ],
           "legendgroup": "Hungary",
           "marker": {
            "color": "#FFA15A",
            "size": [
             17250
            ],
            "sizemode": "area",
            "sizeref": 331.1,
            "symbol": "circle"
           },
           "mode": "markers",
           "name": "Hungary",
           "orientation": "v",
           "showlegend": true,
           "type": "scatter",
           "x": [
            47.06
           ],
           "xaxis": "x",
           "y": [
            17250
           ],
           "yaxis": "y"
          },
          {
           "hovertemplate": "<b>%{hovertext}</b><br><br>Country Name=Kazakhstan<br>Year=2006<br>Individuals using the Internet (% of population)=%{x}<br>GNI per capita, PPP (current international $)=%{marker.size}<extra></extra>",
           "hovertext": [
            "Kazakhstan"
           ],
           "ids": [
            "Kazakhstan"
           ],
           "legendgroup": "Kazakhstan",
           "marker": {
            "color": "#19d3f3",
            "size": [
             13920
            ],
            "sizemode": "area",
            "sizeref": 331.1,
            "symbol": "circle"
           },
           "mode": "markers",
           "name": "Kazakhstan",
           "orientation": "v",
           "showlegend": true,
           "type": "scatter",
           "x": [
            3.268369051
           ],
           "xaxis": "x",
           "y": [
            13920
           ],
           "yaxis": "y"
          },
          {
           "hovertemplate": "<b>%{hovertext}</b><br><br>Country Name=Canada<br>Year=2006<br>Individuals using the Internet (% of population)=%{x}<br>GNI per capita, PPP (current international $)=%{marker.size}<extra></extra>",
           "hovertext": [
            "Canada"
           ],
           "ids": [
            "Canada"
           ],
           "legendgroup": "Canada",
           "marker": {
            "color": "#FF6692",
            "size": [
             37510
            ],
            "sizemode": "area",
            "sizeref": 331.1,
            "symbol": "circle"
           },
           "mode": "markers",
           "name": "Canada",
           "orientation": "v",
           "showlegend": true,
           "type": "scatter",
           "x": [
            72.4
           ],
           "xaxis": "x",
           "y": [
            37510
           ],
           "yaxis": "y"
          },
          {
           "hovertemplate": "<b>%{hovertext}</b><br><br>Country Name=Qatar<br>Year=2006<br>Individuals using the Internet (% of population)=%{x}<br>GNI per capita, PPP (current international $)=%{marker.size}<extra></extra>",
           "hovertext": [
            "Qatar"
           ],
           "ids": [
            "Qatar"
           ],
           "legendgroup": "Qatar",
           "marker": {
            "color": "#B6E880",
            "size": [
             114450
            ],
            "sizemode": "area",
            "sizeref": 331.1,
            "symbol": "circle"
           },
           "mode": "markers",
           "name": "Qatar",
           "orientation": "v",
           "showlegend": true,
           "type": "scatter",
           "x": [
            28.97411271
           ],
           "xaxis": "x",
           "y": [
            114450
           ],
           "yaxis": "y"
          },
          {
           "hovertemplate": "<b>%{hovertext}</b><br><br>Country Name=Greece<br>Year=2006<br>Individuals using the Internet (% of population)=%{x}<br>GNI per capita, PPP (current international $)=%{marker.size}<extra></extra>",
           "hovertext": [
            "Greece"
           ],
           "ids": [
            "Greece"
           ],
           "legendgroup": "Greece",
           "marker": {
            "color": "#FF97FF",
            "size": [
             28020
            ],
            "sizemode": "area",
            "sizeref": 331.1,
            "symbol": "circle"
           },
           "mode": "markers",
           "name": "Greece",
           "orientation": "v",
           "showlegend": true,
           "type": "scatter",
           "x": [
            32.25
           ],
           "xaxis": "x",
           "y": [
            28020
           ],
           "yaxis": "y"
          }
         ],
         "name": "2006"
        },
        {
         "data": [
          {
           "hovertemplate": "<b>%{hovertext}</b><br><br>Country Name=Australia<br>Year=2007<br>Individuals using the Internet (% of population)=%{x}<br>GNI per capita, PPP (current international $)=%{marker.size}<extra></extra>",
           "hovertext": [
            "Australia"
           ],
           "ids": [
            "Australia"
           ],
           "legendgroup": "Australia",
           "marker": {
            "color": "#636efa",
            "size": [
             34970
            ],
            "sizemode": "area",
            "sizeref": 331.1,
            "symbol": "circle"
           },
           "mode": "markers",
           "name": "Australia",
           "orientation": "v",
           "showlegend": true,
           "type": "scatter",
           "x": [
            69.45
           ],
           "xaxis": "x",
           "y": [
            34970
           ],
           "yaxis": "y"
          },
          {
           "hovertemplate": "<b>%{hovertext}</b><br><br>Country Name=Belgium<br>Year=2007<br>Individuals using the Internet (% of population)=%{x}<br>GNI per capita, PPP (current international $)=%{marker.size}<extra></extra>",
           "hovertext": [
            "Belgium"
           ],
           "ids": [
            "Belgium"
           ],
           "legendgroup": "Belgium",
           "marker": {
            "color": "#EF553B",
            "size": [
             37300
            ],
            "sizemode": "area",
            "sizeref": 331.1,
            "symbol": "circle"
           },
           "mode": "markers",
           "name": "Belgium",
           "orientation": "v",
           "showlegend": true,
           "type": "scatter",
           "x": [
            64.44
           ],
           "xaxis": "x",
           "y": [
            37300
           ],
           "yaxis": "y"
          },
          {
           "hovertemplate": "<b>%{hovertext}</b><br><br>Country Name=Denmark<br>Year=2007<br>Individuals using the Internet (% of population)=%{x}<br>GNI per capita, PPP (current international $)=%{marker.size}<extra></extra>",
           "hovertext": [
            "Denmark"
           ],
           "ids": [
            "Denmark"
           ],
           "legendgroup": "Denmark",
           "marker": {
            "color": "#00cc96",
            "size": [
             39200
            ],
            "sizemode": "area",
            "sizeref": 331.1,
            "symbol": "circle"
           },
           "mode": "markers",
           "name": "Denmark",
           "orientation": "v",
           "showlegend": true,
           "type": "scatter",
           "x": [
            85.03
           ],
           "xaxis": "x",
           "y": [
            39200
           ],
           "yaxis": "y"
          },
          {
           "hovertemplate": "<b>%{hovertext}</b><br><br>Country Name=Ecuador<br>Year=2007<br>Individuals using the Internet (% of population)=%{x}<br>GNI per capita, PPP (current international $)=%{marker.size}<extra></extra>",
           "hovertext": [
            "Ecuador"
           ],
           "ids": [
            "Ecuador"
           ],
           "legendgroup": "Ecuador",
           "marker": {
            "color": "#ab63fa",
            "size": [
             7970
            ],
            "sizemode": "area",
            "sizeref": 331.1,
            "symbol": "circle"
           },
           "mode": "markers",
           "name": "Ecuador",
           "orientation": "v",
           "showlegend": true,
           "type": "scatter",
           "x": [
            10.8
           ],
           "xaxis": "x",
           "y": [
            7970
           ],
           "yaxis": "y"
          },
          {
           "hovertemplate": "<b>%{hovertext}</b><br><br>Country Name=Fiji<br>Year=2007<br>Individuals using the Internet (% of population)=%{x}<br>GNI per capita, PPP (current international $)=%{marker.size}<extra></extra>",
           "hovertext": [
            "Fiji"
           ],
           "ids": [
            "Fiji"
           ],
           "legendgroup": "Fiji",
           "marker": {
            "color": "#FFA15A",
            "size": [
             7470
            ],
            "sizemode": "area",
            "sizeref": 331.1,
            "symbol": "circle"
           },
           "mode": "markers",
           "name": "Fiji",
           "orientation": "v",
           "showlegend": true,
           "type": "scatter",
           "x": [
            10.89783105
           ],
           "xaxis": "x",
           "y": [
            7470
           ],
           "yaxis": "y"
          },
          {
           "hovertemplate": "<b>%{hovertext}</b><br><br>Country Name=Japan<br>Year=2007<br>Individuals using the Internet (% of population)=%{x}<br>GNI per capita, PPP (current international $)=%{marker.size}<extra></extra>",
           "hovertext": [
            "Japan"
           ],
           "ids": [
            "Japan"
           ],
           "legendgroup": "Japan",
           "marker": {
            "color": "#19d3f3",
            "size": [
             36090
            ],
            "sizemode": "area",
            "sizeref": 331.1,
            "symbol": "circle"
           },
           "mode": "markers",
           "name": "Japan",
           "orientation": "v",
           "showlegend": true,
           "type": "scatter",
           "x": [
            74.3
           ],
           "xaxis": "x",
           "y": [
            36090
           ],
           "yaxis": "y"
          },
          {
           "hovertemplate": "<b>%{hovertext}</b><br><br>Country Name=Luxembourg<br>Year=2007<br>Individuals using the Internet (% of population)=%{x}<br>GNI per capita, PPP (current international $)=%{marker.size}<extra></extra>",
           "hovertext": [
            "Luxembourg"
           ],
           "ids": [
            "Luxembourg"
           ],
           "legendgroup": "Luxembourg",
           "marker": {
            "color": "#FF6692",
            "size": [
             72360
            ],
            "sizemode": "area",
            "sizeref": 331.1,
            "symbol": "circle"
           },
           "mode": "markers",
           "name": "Luxembourg",
           "orientation": "v",
           "showlegend": true,
           "type": "scatter",
           "x": [
            78.92
           ],
           "xaxis": "x",
           "y": [
            72360
           ],
           "yaxis": "y"
          },
          {
           "hovertemplate": "<b>%{hovertext}</b><br><br>Country Name=Nepal<br>Year=2007<br>Individuals using the Internet (% of population)=%{x}<br>GNI per capita, PPP (current international $)=%{marker.size}<extra></extra>",
           "hovertext": [
            "Nepal"
           ],
           "ids": [
            "Nepal"
           ],
           "legendgroup": "Nepal",
           "marker": {
            "color": "#B6E880",
            "size": [
             1860
            ],
            "sizemode": "area",
            "sizeref": 331.1,
            "symbol": "circle"
           },
           "mode": "markers",
           "name": "Nepal",
           "orientation": "v",
           "showlegend": true,
           "type": "scatter",
           "x": [
            1.41
           ],
           "xaxis": "x",
           "y": [
            1860
           ],
           "yaxis": "y"
          },
          {
           "hovertemplate": "<b>%{hovertext}</b><br><br>Country Name=Peru<br>Year=2007<br>Individuals using the Internet (% of population)=%{x}<br>GNI per capita, PPP (current international $)=%{marker.size}<extra></extra>",
           "hovertext": [
            "Peru"
           ],
           "ids": [
            "Peru"
           ],
           "legendgroup": "Peru",
           "marker": {
            "color": "#FF97FF",
            "size": [
             7420
            ],
            "sizemode": "area",
            "sizeref": 331.1,
            "symbol": "circle"
           },
           "mode": "markers",
           "name": "Peru",
           "orientation": "v",
           "showlegend": true,
           "type": "scatter",
           "x": [
            25.2
           ],
           "xaxis": "x",
           "y": [
            7420
           ],
           "yaxis": "y"
          },
          {
           "hovertemplate": "<b>%{hovertext}</b><br><br>Country Name=Singapore<br>Year=2007<br>Individuals using the Internet (% of population)=%{x}<br>GNI per capita, PPP (current international $)=%{marker.size}<extra></extra>",
           "hovertext": [
            "Singapore"
           ],
           "ids": [
            "Singapore"
           ],
           "legendgroup": "Singapore",
           "marker": {
            "color": "#FECB52",
            "size": [
             66980
            ],
            "sizemode": "area",
            "sizeref": 331.1,
            "symbol": "circle"
           },
           "mode": "markers",
           "name": "Singapore",
           "orientation": "v",
           "showlegend": true,
           "type": "scatter",
           "x": [
            69.9
           ],
           "xaxis": "x",
           "y": [
            66980
           ],
           "yaxis": "y"
          },
          {
           "hovertemplate": "<b>%{hovertext}</b><br><br>Country Name=Uruguay<br>Year=2007<br>Individuals using the Internet (% of population)=%{x}<br>GNI per capita, PPP (current international $)=%{marker.size}<extra></extra>",
           "hovertext": [
            "Uruguay"
           ],
           "ids": [
            "Uruguay"
           ],
           "legendgroup": "Uruguay",
           "marker": {
            "color": "#636efa",
            "size": [
             13260
            ],
            "sizemode": "area",
            "sizeref": 331.1,
            "symbol": "circle"
           },
           "mode": "markers",
           "name": "Uruguay",
           "orientation": "v",
           "showlegend": true,
           "type": "scatter",
           "x": [
            34
           ],
           "xaxis": "x",
           "y": [
            13260
           ],
           "yaxis": "y"
          },
          {
           "hovertemplate": "<b>%{hovertext}</b><br><br>Country Name=Zimbabwe<br>Year=2007<br>Individuals using the Internet (% of population)=%{x}<br>GNI per capita, PPP (current international $)=%{marker.size}<extra></extra>",
           "hovertext": [
            "Zimbabwe"
           ],
           "ids": [
            "Zimbabwe"
           ],
           "legendgroup": "Zimbabwe",
           "marker": {
            "color": "#EF553B",
            "size": [
             1580
            ],
            "sizemode": "area",
            "sizeref": 331.1,
            "symbol": "circle"
           },
           "mode": "markers",
           "name": "Zimbabwe",
           "orientation": "v",
           "showlegend": true,
           "type": "scatter",
           "x": [
            3
           ],
           "xaxis": "x",
           "y": [
            1580
           ],
           "yaxis": "y"
          },
          {
           "hovertemplate": "<b>%{hovertext}</b><br><br>Country Name=Oman<br>Year=2007<br>Individuals using the Internet (% of population)=%{x}<br>GNI per capita, PPP (current international $)=%{marker.size}<extra></extra>",
           "hovertext": [
            "Oman"
           ],
           "ids": [
            "Oman"
           ],
           "legendgroup": "Oman",
           "marker": {
            "color": "#00cc96",
            "size": [
             46850
            ],
            "sizemode": "area",
            "sizeref": 331.1,
            "symbol": "circle"
           },
           "mode": "markers",
           "name": "Oman",
           "orientation": "v",
           "showlegend": true,
           "type": "scatter",
           "x": [
            16.68
           ],
           "xaxis": "x",
           "y": [
            46850
           ],
           "yaxis": "y"
          },
          {
           "hovertemplate": "<b>%{hovertext}</b><br><br>Country Name=Ireland<br>Year=2007<br>Individuals using the Internet (% of population)=%{x}<br>GNI per capita, PPP (current international $)=%{marker.size}<extra></extra>",
           "hovertext": [
            "Ireland"
           ],
           "ids": [
            "Ireland"
           ],
           "legendgroup": "Ireland",
           "marker": {
            "color": "#ab63fa",
            "size": [
             40440
            ],
            "sizemode": "area",
            "sizeref": 331.1,
            "symbol": "circle"
           },
           "mode": "markers",
           "name": "Ireland",
           "orientation": "v",
           "showlegend": true,
           "type": "scatter",
           "x": [
            61.15832455
           ],
           "xaxis": "x",
           "y": [
            40440
           ],
           "yaxis": "y"
          },
          {
           "hovertemplate": "<b>%{hovertext}</b><br><br>Country Name=Hungary<br>Year=2007<br>Individuals using the Internet (% of population)=%{x}<br>GNI per capita, PPP (current international $)=%{marker.size}<extra></extra>",
           "hovertext": [
            "Hungary"
           ],
           "ids": [
            "Hungary"
           ],
           "legendgroup": "Hungary",
           "marker": {
            "color": "#FFA15A",
            "size": [
             17650
            ],
            "sizemode": "area",
            "sizeref": 331.1,
            "symbol": "circle"
           },
           "mode": "markers",
           "name": "Hungary",
           "orientation": "v",
           "showlegend": true,
           "type": "scatter",
           "x": [
            53.3
           ],
           "xaxis": "x",
           "y": [
            17650
           ],
           "yaxis": "y"
          },
          {
           "hovertemplate": "<b>%{hovertext}</b><br><br>Country Name=Kazakhstan<br>Year=2007<br>Individuals using the Internet (% of population)=%{x}<br>GNI per capita, PPP (current international $)=%{marker.size}<extra></extra>",
           "hovertext": [
            "Kazakhstan"
           ],
           "ids": [
            "Kazakhstan"
           ],
           "legendgroup": "Kazakhstan",
           "marker": {
            "color": "#19d3f3",
            "size": [
             15260
            ],
            "sizemode": "area",
            "sizeref": 331.1,
            "symbol": "circle"
           },
           "mode": "markers",
           "name": "Kazakhstan",
           "orientation": "v",
           "showlegend": true,
           "type": "scatter",
           "x": [
            4.02
           ],
           "xaxis": "x",
           "y": [
            15260
           ],
           "yaxis": "y"
          },
          {
           "hovertemplate": "<b>%{hovertext}</b><br><br>Country Name=Canada<br>Year=2007<br>Individuals using the Internet (% of population)=%{x}<br>GNI per capita, PPP (current international $)=%{marker.size}<extra></extra>",
           "hovertext": [
            "Canada"
           ],
           "ids": [
            "Canada"
           ],
           "legendgroup": "Canada",
           "marker": {
            "color": "#FF6692",
            "size": [
             38990
            ],
            "sizemode": "area",
            "sizeref": 331.1,
            "symbol": "circle"
           },
           "mode": "markers",
           "name": "Canada",
           "orientation": "v",
           "showlegend": true,
           "type": "scatter",
           "x": [
            73.2
           ],
           "xaxis": "x",
           "y": [
            38990
           ],
           "yaxis": "y"
          },
          {
           "hovertemplate": "<b>%{hovertext}</b><br><br>Country Name=Qatar<br>Year=2007<br>Individuals using the Internet (% of population)=%{x}<br>GNI per capita, PPP (current international $)=%{marker.size}<extra></extra>",
           "hovertext": [
            "Qatar"
           ],
           "ids": [
            "Qatar"
           ],
           "legendgroup": "Qatar",
           "marker": {
            "color": "#B6E880",
            "size": [
             116490
            ],
            "sizemode": "area",
            "sizeref": 331.1,
            "symbol": "circle"
           },
           "mode": "markers",
           "name": "Qatar",
           "orientation": "v",
           "showlegend": true,
           "type": "scatter",
           "x": [
            37
           ],
           "xaxis": "x",
           "y": [
            116490
           ],
           "yaxis": "y"
          },
          {
           "hovertemplate": "<b>%{hovertext}</b><br><br>Country Name=Greece<br>Year=2007<br>Individuals using the Internet (% of population)=%{x}<br>GNI per capita, PPP (current international $)=%{marker.size}<extra></extra>",
           "hovertext": [
            "Greece"
           ],
           "ids": [
            "Greece"
           ],
           "legendgroup": "Greece",
           "marker": {
            "color": "#FF97FF",
            "size": [
             28560
            ],
            "sizemode": "area",
            "sizeref": 331.1,
            "symbol": "circle"
           },
           "mode": "markers",
           "name": "Greece",
           "orientation": "v",
           "showlegend": true,
           "type": "scatter",
           "x": [
            35.88
           ],
           "xaxis": "x",
           "y": [
            28560
           ],
           "yaxis": "y"
          }
         ],
         "name": "2007"
        },
        {
         "data": [
          {
           "hovertemplate": "<b>%{hovertext}</b><br><br>Country Name=Australia<br>Year=2008<br>Individuals using the Internet (% of population)=%{x}<br>GNI per capita, PPP (current international $)=%{marker.size}<extra></extra>",
           "hovertext": [
            "Australia"
           ],
           "ids": [
            "Australia"
           ],
           "legendgroup": "Australia",
           "marker": {
            "color": "#636efa",
            "size": [
             35970
            ],
            "sizemode": "area",
            "sizeref": 331.1,
            "symbol": "circle"
           },
           "mode": "markers",
           "name": "Australia",
           "orientation": "v",
           "showlegend": true,
           "type": "scatter",
           "x": [
            71.67
           ],
           "xaxis": "x",
           "y": [
            35970
           ],
           "yaxis": "y"
          },
          {
           "hovertemplate": "<b>%{hovertext}</b><br><br>Country Name=Belgium<br>Year=2008<br>Individuals using the Internet (% of population)=%{x}<br>GNI per capita, PPP (current international $)=%{marker.size}<extra></extra>",
           "hovertext": [
            "Belgium"
           ],
           "ids": [
            "Belgium"
           ],
           "legendgroup": "Belgium",
           "marker": {
            "color": "#EF553B",
            "size": [
             38800
            ],
            "sizemode": "area",
            "sizeref": 331.1,
            "symbol": "circle"
           },
           "mode": "markers",
           "name": "Belgium",
           "orientation": "v",
           "showlegend": true,
           "type": "scatter",
           "x": [
            66
           ],
           "xaxis": "x",
           "y": [
            38800
           ],
           "yaxis": "y"
          },
          {
           "hovertemplate": "<b>%{hovertext}</b><br><br>Country Name=Denmark<br>Year=2008<br>Individuals using the Internet (% of population)=%{x}<br>GNI per capita, PPP (current international $)=%{marker.size}<extra></extra>",
           "hovertext": [
            "Denmark"
           ],
           "ids": [
            "Denmark"
           ],
           "legendgroup": "Denmark",
           "marker": {
            "color": "#00cc96",
            "size": [
             41740
            ],
            "sizemode": "area",
            "sizeref": 331.1,
            "symbol": "circle"
           },
           "mode": "markers",
           "name": "Denmark",
           "orientation": "v",
           "showlegend": true,
           "type": "scatter",
           "x": [
            85.02
           ],
           "xaxis": "x",
           "y": [
            41740
           ],
           "yaxis": "y"
          },
          {
           "hovertemplate": "<b>%{hovertext}</b><br><br>Country Name=Ecuador<br>Year=2008<br>Individuals using the Internet (% of population)=%{x}<br>GNI per capita, PPP (current international $)=%{marker.size}<extra></extra>",
           "hovertext": [
            "Ecuador"
           ],
           "ids": [
            "Ecuador"
           ],
           "legendgroup": "Ecuador",
           "marker": {
            "color": "#ab63fa",
            "size": [
             8640
            ],
            "sizemode": "area",
            "sizeref": 331.1,
            "symbol": "circle"
           },
           "mode": "markers",
           "name": "Ecuador",
           "orientation": "v",
           "showlegend": true,
           "type": "scatter",
           "x": [
            18.8
           ],
           "xaxis": "x",
           "y": [
            8640
           ],
           "yaxis": "y"
          },
          {
           "hovertemplate": "<b>%{hovertext}</b><br><br>Country Name=Fiji<br>Year=2008<br>Individuals using the Internet (% of population)=%{x}<br>GNI per capita, PPP (current international $)=%{marker.size}<extra></extra>",
           "hovertext": [
            "Fiji"
           ],
           "ids": [
            "Fiji"
           ],
           "legendgroup": "Fiji",
           "marker": {
            "color": "#FFA15A",
            "size": [
             7590
            ],
            "sizemode": "area",
            "sizeref": 331.1,
            "symbol": "circle"
           },
           "mode": "markers",
           "name": "Fiji",
           "orientation": "v",
           "showlegend": true,
           "type": "scatter",
           "x": [
            13
           ],
           "xaxis": "x",
           "y": [
            7590
           ],
           "yaxis": "y"
          },
          {
           "hovertemplate": "<b>%{hovertext}</b><br><br>Country Name=Japan<br>Year=2008<br>Individuals using the Internet (% of population)=%{x}<br>GNI per capita, PPP (current international $)=%{marker.size}<extra></extra>",
           "hovertext": [
            "Japan"
           ],
           "ids": [
            "Japan"
           ],
           "legendgroup": "Japan",
           "marker": {
            "color": "#19d3f3",
            "size": [
             36220
            ],
            "sizemode": "area",
            "sizeref": 331.1,
            "symbol": "circle"
           },
           "mode": "markers",
           "name": "Japan",
           "orientation": "v",
           "showlegend": true,
           "type": "scatter",
           "x": [
            75.4
           ],
           "xaxis": "x",
           "y": [
            36220
           ],
           "yaxis": "y"
          },
          {
           "hovertemplate": "<b>%{hovertext}</b><br><br>Country Name=Luxembourg<br>Year=2008<br>Individuals using the Internet (% of population)=%{x}<br>GNI per capita, PPP (current international $)=%{marker.size}<extra></extra>",
           "hovertext": [
            "Luxembourg"
           ],
           "ids": [
            "Luxembourg"
           ],
           "legendgroup": "Luxembourg",
           "marker": {
            "color": "#FF6692",
            "size": [
             71210
            ],
            "sizemode": "area",
            "sizeref": 331.1,
            "symbol": "circle"
           },
           "mode": "markers",
           "name": "Luxembourg",
           "orientation": "v",
           "showlegend": true,
           "type": "scatter",
           "x": [
            82.23
           ],
           "xaxis": "x",
           "y": [
            71210
           ],
           "yaxis": "y"
          },
          {
           "hovertemplate": "<b>%{hovertext}</b><br><br>Country Name=Nepal<br>Year=2008<br>Individuals using the Internet (% of population)=%{x}<br>GNI per capita, PPP (current international $)=%{marker.size}<extra></extra>",
           "hovertext": [
            "Nepal"
           ],
           "ids": [
            "Nepal"
           ],
           "legendgroup": "Nepal",
           "marker": {
            "color": "#B6E880",
            "size": [
             1980
            ],
            "sizemode": "area",
            "sizeref": 331.1,
            "symbol": "circle"
           },
           "mode": "markers",
           "name": "Nepal",
           "orientation": "v",
           "showlegend": true,
           "type": "scatter",
           "x": [
            1.73
           ],
           "xaxis": "x",
           "y": [
            1980
           ],
           "yaxis": "y"
          },
          {
           "hovertemplate": "<b>%{hovertext}</b><br><br>Country Name=Peru<br>Year=2008<br>Individuals using the Internet (% of population)=%{x}<br>GNI per capita, PPP (current international $)=%{marker.size}<extra></extra>",
           "hovertext": [
            "Peru"
           ],
           "ids": [
            "Peru"
           ],
           "legendgroup": "Peru",
           "marker": {
            "color": "#FF97FF",
            "size": [
             8260
            ],
            "sizemode": "area",
            "sizeref": 331.1,
            "symbol": "circle"
           },
           "mode": "markers",
           "name": "Peru",
           "orientation": "v",
           "showlegend": true,
           "type": "scatter",
           "x": [
            30.57
           ],
           "xaxis": "x",
           "y": [
            8260
           ],
           "yaxis": "y"
          },
          {
           "hovertemplate": "<b>%{hovertext}</b><br><br>Country Name=Singapore<br>Year=2008<br>Individuals using the Internet (% of population)=%{x}<br>GNI per capita, PPP (current international $)=%{marker.size}<extra></extra>",
           "hovertext": [
            "Singapore"
           ],
           "ids": [
            "Singapore"
           ],
           "legendgroup": "Singapore",
           "marker": {
            "color": "#FECB52",
            "size": [
             65230
            ],
            "sizemode": "area",
            "sizeref": 331.1,
            "symbol": "circle"
           },
           "mode": "markers",
           "name": "Singapore",
           "orientation": "v",
           "showlegend": true,
           "type": "scatter",
           "x": [
            69
           ],
           "xaxis": "x",
           "y": [
            65230
           ],
           "yaxis": "y"
          },
          {
           "hovertemplate": "<b>%{hovertext}</b><br><br>Country Name=Uruguay<br>Year=2008<br>Individuals using the Internet (% of population)=%{x}<br>GNI per capita, PPP (current international $)=%{marker.size}<extra></extra>",
           "hovertext": [
            "Uruguay"
           ],
           "ids": [
            "Uruguay"
           ],
           "legendgroup": "Uruguay",
           "marker": {
            "color": "#636efa",
            "size": [
             14340
            ],
            "sizemode": "area",
            "sizeref": 331.1,
            "symbol": "circle"
           },
           "mode": "markers",
           "name": "Uruguay",
           "orientation": "v",
           "showlegend": true,
           "type": "scatter",
           "x": [
            39.3
           ],
           "xaxis": "x",
           "y": [
            14340
           ],
           "yaxis": "y"
          },
          {
           "hovertemplate": "<b>%{hovertext}</b><br><br>Country Name=Zimbabwe<br>Year=2008<br>Individuals using the Internet (% of population)=%{x}<br>GNI per capita, PPP (current international $)=%{marker.size}<extra></extra>",
           "hovertext": [
            "Zimbabwe"
           ],
           "ids": [
            "Zimbabwe"
           ],
           "legendgroup": "Zimbabwe",
           "marker": {
            "color": "#EF553B",
            "size": [
             1290
            ],
            "sizemode": "area",
            "sizeref": 331.1,
            "symbol": "circle"
           },
           "mode": "markers",
           "name": "Zimbabwe",
           "orientation": "v",
           "showlegend": true,
           "type": "scatter",
           "x": [
            3.5
           ],
           "xaxis": "x",
           "y": [
            1290
           ],
           "yaxis": "y"
          },
          {
           "hovertemplate": "<b>%{hovertext}</b><br><br>Country Name=Oman<br>Year=2008<br>Individuals using the Internet (% of population)=%{x}<br>GNI per capita, PPP (current international $)=%{marker.size}<extra></extra>",
           "hovertext": [
            "Oman"
           ],
           "ids": [
            "Oman"
           ],
           "legendgroup": "Oman",
           "marker": {
            "color": "#00cc96",
            "size": [
             48740
            ],
            "sizemode": "area",
            "sizeref": 331.1,
            "symbol": "circle"
           },
           "mode": "markers",
           "name": "Oman",
           "orientation": "v",
           "showlegend": true,
           "type": "scatter",
           "x": [
            20
           ],
           "xaxis": "x",
           "y": [
            48740
           ],
           "yaxis": "y"
          },
          {
           "hovertemplate": "<b>%{hovertext}</b><br><br>Country Name=Ireland<br>Year=2008<br>Individuals using the Internet (% of population)=%{x}<br>GNI per capita, PPP (current international $)=%{marker.size}<extra></extra>",
           "hovertext": [
            "Ireland"
           ],
           "ids": [
            "Ireland"
           ],
           "legendgroup": "Ireland",
           "marker": {
            "color": "#ab63fa",
            "size": [
             38230
            ],
            "sizemode": "area",
            "sizeref": 331.1,
            "symbol": "circle"
           },
           "mode": "markers",
           "name": "Ireland",
           "orientation": "v",
           "showlegend": true,
           "type": "scatter",
           "x": [
            65.34
           ],
           "xaxis": "x",
           "y": [
            38230
           ],
           "yaxis": "y"
          },
          {
           "hovertemplate": "<b>%{hovertext}</b><br><br>Country Name=Hungary<br>Year=2008<br>Individuals using the Internet (% of population)=%{x}<br>GNI per capita, PPP (current international $)=%{marker.size}<extra></extra>",
           "hovertext": [
            "Hungary"
           ],
           "ids": [
            "Hungary"
           ],
           "legendgroup": "Hungary",
           "marker": {
            "color": "#FFA15A",
            "size": [
             19360
            ],
            "sizemode": "area",
            "sizeref": 331.1,
            "symbol": "circle"
           },
           "mode": "markers",
           "name": "Hungary",
           "orientation": "v",
           "showlegend": true,
           "type": "scatter",
           "x": [
            61
           ],
           "xaxis": "x",
           "y": [
            19360
           ],
           "yaxis": "y"
          },
          {
           "hovertemplate": "<b>%{hovertext}</b><br><br>Country Name=Kazakhstan<br>Year=2008<br>Individuals using the Internet (% of population)=%{x}<br>GNI per capita, PPP (current international $)=%{marker.size}<extra></extra>",
           "hovertext": [
            "Kazakhstan"
           ],
           "ids": [
            "Kazakhstan"
           ],
           "legendgroup": "Kazakhstan",
           "marker": {
            "color": "#19d3f3",
            "size": [
             15370
            ],
            "sizemode": "area",
            "sizeref": 331.1,
            "symbol": "circle"
           },
           "mode": "markers",
           "name": "Kazakhstan",
           "orientation": "v",
           "showlegend": true,
           "type": "scatter",
           "x": [
            11
           ],
           "xaxis": "x",
           "y": [
            15370
           ],
           "yaxis": "y"
          },
          {
           "hovertemplate": "<b>%{hovertext}</b><br><br>Country Name=Canada<br>Year=2008<br>Individuals using the Internet (% of population)=%{x}<br>GNI per capita, PPP (current international $)=%{marker.size}<extra></extra>",
           "hovertext": [
            "Canada"
           ],
           "ids": [
            "Canada"
           ],
           "legendgroup": "Canada",
           "marker": {
            "color": "#FF6692",
            "size": [
             39780
            ],
            "sizemode": "area",
            "sizeref": 331.1,
            "symbol": "circle"
           },
           "mode": "markers",
           "name": "Canada",
           "orientation": "v",
           "showlegend": true,
           "type": "scatter",
           "x": [
            76.7
           ],
           "xaxis": "x",
           "y": [
            39780
           ],
           "yaxis": "y"
          },
          {
           "hovertemplate": "<b>%{hovertext}</b><br><br>Country Name=Qatar<br>Year=2008<br>Individuals using the Internet (% of population)=%{x}<br>GNI per capita, PPP (current international $)=%{marker.size}<extra></extra>",
           "hovertext": [
            "Qatar"
           ],
           "ids": [
            "Qatar"
           ],
           "legendgroup": "Qatar",
           "marker": {
            "color": "#B6E880",
            "size": [
             117790
            ],
            "sizemode": "area",
            "sizeref": 331.1,
            "symbol": "circle"
           },
           "mode": "markers",
           "name": "Qatar",
           "orientation": "v",
           "showlegend": true,
           "type": "scatter",
           "x": [
            44.3
           ],
           "xaxis": "x",
           "y": [
            117790
           ],
           "yaxis": "y"
          },
          {
           "hovertemplate": "<b>%{hovertext}</b><br><br>Country Name=Greece<br>Year=2008<br>Individuals using the Internet (% of population)=%{x}<br>GNI per capita, PPP (current international $)=%{marker.size}<extra></extra>",
           "hovertext": [
            "Greece"
           ],
           "ids": [
            "Greece"
           ],
           "legendgroup": "Greece",
           "marker": {
            "color": "#FF97FF",
            "size": [
             29940
            ],
            "sizemode": "area",
            "sizeref": 331.1,
            "symbol": "circle"
           },
           "mode": "markers",
           "name": "Greece",
           "orientation": "v",
           "showlegend": true,
           "type": "scatter",
           "x": [
            38.2
           ],
           "xaxis": "x",
           "y": [
            29940
           ],
           "yaxis": "y"
          }
         ],
         "name": "2008"
        },
        {
         "data": [
          {
           "hovertemplate": "<b>%{hovertext}</b><br><br>Country Name=Australia<br>Year=2009<br>Individuals using the Internet (% of population)=%{x}<br>GNI per capita, PPP (current international $)=%{marker.size}<extra></extra>",
           "hovertext": [
            "Australia"
           ],
           "ids": [
            "Australia"
           ],
           "legendgroup": "Australia",
           "marker": {
            "color": "#636efa",
            "size": [
             38870
            ],
            "sizemode": "area",
            "sizeref": 331.1,
            "symbol": "circle"
           },
           "mode": "markers",
           "name": "Australia",
           "orientation": "v",
           "showlegend": true,
           "type": "scatter",
           "x": [
            74.25
           ],
           "xaxis": "x",
           "y": [
            38870
           ],
           "yaxis": "y"
          },
          {
           "hovertemplate": "<b>%{hovertext}</b><br><br>Country Name=Belgium<br>Year=2009<br>Individuals using the Internet (% of population)=%{x}<br>GNI per capita, PPP (current international $)=%{marker.size}<extra></extra>",
           "hovertext": [
            "Belgium"
           ],
           "ids": [
            "Belgium"
           ],
           "legendgroup": "Belgium",
           "marker": {
            "color": "#EF553B",
            "size": [
             38450
            ],
            "sizemode": "area",
            "sizeref": 331.1,
            "symbol": "circle"
           },
           "mode": "markers",
           "name": "Belgium",
           "orientation": "v",
           "showlegend": true,
           "type": "scatter",
           "x": [
            70
           ],
           "xaxis": "x",
           "y": [
            38450
           ],
           "yaxis": "y"
          },
          {
           "hovertemplate": "<b>%{hovertext}</b><br><br>Country Name=Denmark<br>Year=2009<br>Individuals using the Internet (% of population)=%{x}<br>GNI per capita, PPP (current international $)=%{marker.size}<extra></extra>",
           "hovertext": [
            "Denmark"
           ],
           "ids": [
            "Denmark"
           ],
           "legendgroup": "Denmark",
           "marker": {
            "color": "#00cc96",
            "size": [
             40730
            ],
            "sizemode": "area",
            "sizeref": 331.1,
            "symbol": "circle"
           },
           "mode": "markers",
           "name": "Denmark",
           "orientation": "v",
           "showlegend": true,
           "type": "scatter",
           "x": [
            86.84
           ],
           "xaxis": "x",
           "y": [
            40730
           ],
           "yaxis": "y"
          },
          {
           "hovertemplate": "<b>%{hovertext}</b><br><br>Country Name=Ecuador<br>Year=2009<br>Individuals using the Internet (% of population)=%{x}<br>GNI per capita, PPP (current international $)=%{marker.size}<extra></extra>",
           "hovertext": [
            "Ecuador"
           ],
           "ids": [
            "Ecuador"
           ],
           "legendgroup": "Ecuador",
           "marker": {
            "color": "#ab63fa",
            "size": [
             8640
            ],
            "sizemode": "area",
            "sizeref": 331.1,
            "symbol": "circle"
           },
           "mode": "markers",
           "name": "Ecuador",
           "orientation": "v",
           "showlegend": true,
           "type": "scatter",
           "x": [
            24.6
           ],
           "xaxis": "x",
           "y": [
            8640
           ],
           "yaxis": "y"
          },
          {
           "hovertemplate": "<b>%{hovertext}</b><br><br>Country Name=Fiji<br>Year=2009<br>Individuals using the Internet (% of population)=%{x}<br>GNI per capita, PPP (current international $)=%{marker.size}<extra></extra>",
           "hovertext": [
            "Fiji"
           ],
           "ids": [
            "Fiji"
           ],
           "legendgroup": "Fiji",
           "marker": {
            "color": "#FFA15A",
            "size": [
             7620
            ],
            "sizemode": "area",
            "sizeref": 331.1,
            "symbol": "circle"
           },
           "mode": "markers",
           "name": "Fiji",
           "orientation": "v",
           "showlegend": true,
           "type": "scatter",
           "x": [
            17
           ],
           "xaxis": "x",
           "y": [
            7620
           ],
           "yaxis": "y"
          },
          {
           "hovertemplate": "<b>%{hovertext}</b><br><br>Country Name=Japan<br>Year=2009<br>Individuals using the Internet (% of population)=%{x}<br>GNI per capita, PPP (current international $)=%{marker.size}<extra></extra>",
           "hovertext": [
            "Japan"
           ],
           "ids": [
            "Japan"
           ],
           "legendgroup": "Japan",
           "marker": {
            "color": "#19d3f3",
            "size": [
             34390
            ],
            "sizemode": "area",
            "sizeref": 331.1,
            "symbol": "circle"
           },
           "mode": "markers",
           "name": "Japan",
           "orientation": "v",
           "showlegend": true,
           "type": "scatter",
           "x": [
            78
           ],
           "xaxis": "x",
           "y": [
            34390
           ],
           "yaxis": "y"
          },
          {
           "hovertemplate": "<b>%{hovertext}</b><br><br>Country Name=Luxembourg<br>Year=2009<br>Individuals using the Internet (% of population)=%{x}<br>GNI per capita, PPP (current international $)=%{marker.size}<extra></extra>",
           "hovertext": [
            "Luxembourg"
           ],
           "ids": [
            "Luxembourg"
           ],
           "legendgroup": "Luxembourg",
           "marker": {
            "color": "#FF6692",
            "size": [
             55400
            ],
            "sizemode": "area",
            "sizeref": 331.1,
            "symbol": "circle"
           },
           "mode": "markers",
           "name": "Luxembourg",
           "orientation": "v",
           "showlegend": true,
           "type": "scatter",
           "x": [
            87.31
           ],
           "xaxis": "x",
           "y": [
            55400
           ],
           "yaxis": "y"
          },
          {
           "hovertemplate": "<b>%{hovertext}</b><br><br>Country Name=Nepal<br>Year=2009<br>Individuals using the Internet (% of population)=%{x}<br>GNI per capita, PPP (current international $)=%{marker.size}<extra></extra>",
           "hovertext": [
            "Nepal"
           ],
           "ids": [
            "Nepal"
           ],
           "legendgroup": "Nepal",
           "marker": {
            "color": "#B6E880",
            "size": [
             2080
            ],
            "sizemode": "area",
            "sizeref": 331.1,
            "symbol": "circle"
           },
           "mode": "markers",
           "name": "Nepal",
           "orientation": "v",
           "showlegend": true,
           "type": "scatter",
           "x": [
            1.97
           ],
           "xaxis": "x",
           "y": [
            2080
           ],
           "yaxis": "y"
          },
          {
           "hovertemplate": "<b>%{hovertext}</b><br><br>Country Name=Peru<br>Year=2009<br>Individuals using the Internet (% of population)=%{x}<br>GNI per capita, PPP (current international $)=%{marker.size}<extra></extra>",
           "hovertext": [
            "Peru"
           ],
           "ids": [
            "Peru"
           ],
           "legendgroup": "Peru",
           "marker": {
            "color": "#FF97FF",
            "size": [
             8390
            ],
            "sizemode": "area",
            "sizeref": 331.1,
            "symbol": "circle"
           },
           "mode": "markers",
           "name": "Peru",
           "orientation": "v",
           "showlegend": true,
           "type": "scatter",
           "x": [
            31.4
           ],
           "xaxis": "x",
           "y": [
            8390
           ],
           "yaxis": "y"
          },
          {
           "hovertemplate": "<b>%{hovertext}</b><br><br>Country Name=Singapore<br>Year=2009<br>Individuals using the Internet (% of population)=%{x}<br>GNI per capita, PPP (current international $)=%{marker.size}<extra></extra>",
           "hovertext": [
            "Singapore"
           ],
           "ids": [
            "Singapore"
           ],
           "legendgroup": "Singapore",
           "marker": {
            "color": "#FECB52",
            "size": [
             62780
            ],
            "sizemode": "area",
            "sizeref": 331.1,
            "symbol": "circle"
           },
           "mode": "markers",
           "name": "Singapore",
           "orientation": "v",
           "showlegend": true,
           "type": "scatter",
           "x": [
            69
           ],
           "xaxis": "x",
           "y": [
            62780
           ],
           "yaxis": "y"
          },
          {
           "hovertemplate": "<b>%{hovertext}</b><br><br>Country Name=Uruguay<br>Year=2009<br>Individuals using the Internet (% of population)=%{x}<br>GNI per capita, PPP (current international $)=%{marker.size}<extra></extra>",
           "hovertext": [
            "Uruguay"
           ],
           "ids": [
            "Uruguay"
           ],
           "legendgroup": "Uruguay",
           "marker": {
            "color": "#636efa",
            "size": [
             14950
            ],
            "sizemode": "area",
            "sizeref": 331.1,
            "symbol": "circle"
           },
           "mode": "markers",
           "name": "Uruguay",
           "orientation": "v",
           "showlegend": true,
           "type": "scatter",
           "x": [
            41.8
           ],
           "xaxis": "x",
           "y": [
            14950
           ],
           "yaxis": "y"
          },
          {
           "hovertemplate": "<b>%{hovertext}</b><br><br>Country Name=Zimbabwe<br>Year=2009<br>Individuals using the Internet (% of population)=%{x}<br>GNI per capita, PPP (current international $)=%{marker.size}<extra></extra>",
           "hovertext": [
            "Zimbabwe"
           ],
           "ids": [
            "Zimbabwe"
           ],
           "legendgroup": "Zimbabwe",
           "marker": {
            "color": "#EF553B",
            "size": [
             1510
            ],
            "sizemode": "area",
            "sizeref": 331.1,
            "symbol": "circle"
           },
           "mode": "markers",
           "name": "Zimbabwe",
           "orientation": "v",
           "showlegend": true,
           "type": "scatter",
           "x": [
            4
           ],
           "xaxis": "x",
           "y": [
            1510
           ],
           "yaxis": "y"
          },
          {
           "hovertemplate": "<b>%{hovertext}</b><br><br>Country Name=Oman<br>Year=2009<br>Individuals using the Internet (% of population)=%{x}<br>GNI per capita, PPP (current international $)=%{marker.size}<extra></extra>",
           "hovertext": [
            "Oman"
           ],
           "ids": [
            "Oman"
           ],
           "legendgroup": "Oman",
           "marker": {
            "color": "#00cc96",
            "size": [
             49100
            ],
            "sizemode": "area",
            "sizeref": 331.1,
            "symbol": "circle"
           },
           "mode": "markers",
           "name": "Oman",
           "orientation": "v",
           "showlegend": true,
           "type": "scatter",
           "x": [
            26.8
           ],
           "xaxis": "x",
           "y": [
            49100
           ],
           "yaxis": "y"
          },
          {
           "hovertemplate": "<b>%{hovertext}</b><br><br>Country Name=Ireland<br>Year=2009<br>Individuals using the Internet (% of population)=%{x}<br>GNI per capita, PPP (current international $)=%{marker.size}<extra></extra>",
           "hovertext": [
            "Ireland"
           ],
           "ids": [
            "Ireland"
           ],
           "legendgroup": "Ireland",
           "marker": {
            "color": "#ab63fa",
            "size": [
             34640
            ],
            "sizemode": "area",
            "sizeref": 331.1,
            "symbol": "circle"
           },
           "mode": "markers",
           "name": "Ireland",
           "orientation": "v",
           "showlegend": true,
           "type": "scatter",
           "x": [
            67.38
           ],
           "xaxis": "x",
           "y": [
            34640
           ],
           "yaxis": "y"
          },
          {
           "hovertemplate": "<b>%{hovertext}</b><br><br>Country Name=Hungary<br>Year=2009<br>Individuals using the Internet (% of population)=%{x}<br>GNI per capita, PPP (current international $)=%{marker.size}<extra></extra>",
           "hovertext": [
            "Hungary"
           ],
           "ids": [
            "Hungary"
           ],
           "legendgroup": "Hungary",
           "marker": {
            "color": "#FFA15A",
            "size": [
             19830
            ],
            "sizemode": "area",
            "sizeref": 331.1,
            "symbol": "circle"
           },
           "mode": "markers",
           "name": "Hungary",
           "orientation": "v",
           "showlegend": true,
           "type": "scatter",
           "x": [
            62
           ],
           "xaxis": "x",
           "y": [
            19830
           ],
           "yaxis": "y"
          },
          {
           "hovertemplate": "<b>%{hovertext}</b><br><br>Country Name=Kazakhstan<br>Year=2009<br>Individuals using the Internet (% of population)=%{x}<br>GNI per capita, PPP (current international $)=%{marker.size}<extra></extra>",
           "hovertext": [
            "Kazakhstan"
           ],
           "ids": [
            "Kazakhstan"
           ],
           "legendgroup": "Kazakhstan",
           "marker": {
            "color": "#19d3f3",
            "size": [
             16020
            ],
            "sizemode": "area",
            "sizeref": 331.1,
            "symbol": "circle"
           },
           "mode": "markers",
           "name": "Kazakhstan",
           "orientation": "v",
           "showlegend": true,
           "type": "scatter",
           "x": [
            18.2
           ],
           "xaxis": "x",
           "y": [
            16020
           ],
           "yaxis": "y"
          },
          {
           "hovertemplate": "<b>%{hovertext}</b><br><br>Country Name=Canada<br>Year=2009<br>Individuals using the Internet (% of population)=%{x}<br>GNI per capita, PPP (current international $)=%{marker.size}<extra></extra>",
           "hovertext": [
            "Canada"
           ],
           "ids": [
            "Canada"
           ],
           "legendgroup": "Canada",
           "marker": {
            "color": "#FF6692",
            "size": [
             38200
            ],
            "sizemode": "area",
            "sizeref": 331.1,
            "symbol": "circle"
           },
           "mode": "markers",
           "name": "Canada",
           "orientation": "v",
           "showlegend": true,
           "type": "scatter",
           "x": [
            80.3
           ],
           "xaxis": "x",
           "y": [
            38200
           ],
           "yaxis": "y"
          },
          {
           "hovertemplate": "<b>%{hovertext}</b><br><br>Country Name=Qatar<br>Year=2009<br>Individuals using the Internet (% of population)=%{x}<br>GNI per capita, PPP (current international $)=%{marker.size}<extra></extra>",
           "hovertext": [
            "Qatar"
           ],
           "ids": [
            "Qatar"
           ],
           "legendgroup": "Qatar",
           "marker": {
            "color": "#B6E880",
            "size": [
             110610
            ],
            "sizemode": "area",
            "sizeref": 331.1,
            "symbol": "circle"
           },
           "mode": "markers",
           "name": "Qatar",
           "orientation": "v",
           "showlegend": true,
           "type": "scatter",
           "x": [
            53.1
           ],
           "xaxis": "x",
           "y": [
            110610
           ],
           "yaxis": "y"
          },
          {
           "hovertemplate": "<b>%{hovertext}</b><br><br>Country Name=Greece<br>Year=2009<br>Individuals using the Internet (% of population)=%{x}<br>GNI per capita, PPP (current international $)=%{marker.size}<extra></extra>",
           "hovertext": [
            "Greece"
           ],
           "ids": [
            "Greece"
           ],
           "legendgroup": "Greece",
           "marker": {
            "color": "#FF97FF",
            "size": [
             29690
            ],
            "sizemode": "area",
            "sizeref": 331.1,
            "symbol": "circle"
           },
           "mode": "markers",
           "name": "Greece",
           "orientation": "v",
           "showlegend": true,
           "type": "scatter",
           "x": [
            42.4
           ],
           "xaxis": "x",
           "y": [
            29690
           ],
           "yaxis": "y"
          }
         ],
         "name": "2009"
        },
        {
         "data": [
          {
           "hovertemplate": "<b>%{hovertext}</b><br><br>Country Name=Australia<br>Year=2010<br>Individuals using the Internet (% of population)=%{x}<br>GNI per capita, PPP (current international $)=%{marker.size}<extra></extra>",
           "hovertext": [
            "Australia"
           ],
           "ids": [
            "Australia"
           ],
           "legendgroup": "Australia",
           "marker": {
            "color": "#636efa",
            "size": [
             37810
            ],
            "sizemode": "area",
            "sizeref": 331.1,
            "symbol": "circle"
           },
           "mode": "markers",
           "name": "Australia",
           "orientation": "v",
           "showlegend": true,
           "type": "scatter",
           "x": [
            76
           ],
           "xaxis": "x",
           "y": [
            37810
           ],
           "yaxis": "y"
          },
          {
           "hovertemplate": "<b>%{hovertext}</b><br><br>Country Name=Belgium<br>Year=2010<br>Individuals using the Internet (% of population)=%{x}<br>GNI per capita, PPP (current international $)=%{marker.size}<extra></extra>",
           "hovertext": [
            "Belgium"
           ],
           "ids": [
            "Belgium"
           ],
           "legendgroup": "Belgium",
           "marker": {
            "color": "#EF553B",
            "size": [
             40450
            ],
            "sizemode": "area",
            "sizeref": 331.1,
            "symbol": "circle"
           },
           "mode": "markers",
           "name": "Belgium",
           "orientation": "v",
           "showlegend": true,
           "type": "scatter",
           "x": [
            75
           ],
           "xaxis": "x",
           "y": [
            40450
           ],
           "yaxis": "y"
          },
          {
           "hovertemplate": "<b>%{hovertext}</b><br><br>Country Name=Denmark<br>Year=2010<br>Individuals using the Internet (% of population)=%{x}<br>GNI per capita, PPP (current international $)=%{marker.size}<extra></extra>",
           "hovertext": [
            "Denmark"
           ],
           "ids": [
            "Denmark"
           ],
           "legendgroup": "Denmark",
           "marker": {
            "color": "#00cc96",
            "size": [
             43710
            ],
            "sizemode": "area",
            "sizeref": 331.1,
            "symbol": "circle"
           },
           "mode": "markers",
           "name": "Denmark",
           "orientation": "v",
           "showlegend": true,
           "type": "scatter",
           "x": [
            88.72
           ],
           "xaxis": "x",
           "y": [
            43710
           ],
           "yaxis": "y"
          },
          {
           "hovertemplate": "<b>%{hovertext}</b><br><br>Country Name=Ecuador<br>Year=2010<br>Individuals using the Internet (% of population)=%{x}<br>GNI per capita, PPP (current international $)=%{marker.size}<extra></extra>",
           "hovertext": [
            "Ecuador"
           ],
           "ids": [
            "Ecuador"
           ],
           "legendgroup": "Ecuador",
           "marker": {
            "color": "#ab63fa",
            "size": [
             8960
            ],
            "sizemode": "area",
            "sizeref": 331.1,
            "symbol": "circle"
           },
           "mode": "markers",
           "name": "Ecuador",
           "orientation": "v",
           "showlegend": true,
           "type": "scatter",
           "x": [
            29.03
           ],
           "xaxis": "x",
           "y": [
            8960
           ],
           "yaxis": "y"
          },
          {
           "hovertemplate": "<b>%{hovertext}</b><br><br>Country Name=Fiji<br>Year=2010<br>Individuals using the Internet (% of population)=%{x}<br>GNI per capita, PPP (current international $)=%{marker.size}<extra></extra>",
           "hovertext": [
            "Fiji"
           ],
           "ids": [
            "Fiji"
           ],
           "legendgroup": "Fiji",
           "marker": {
            "color": "#FFA15A",
            "size": [
             7670
            ],
            "sizemode": "area",
            "sizeref": 331.1,
            "symbol": "circle"
           },
           "mode": "markers",
           "name": "Fiji",
           "orientation": "v",
           "showlegend": true,
           "type": "scatter",
           "x": [
            20
           ],
           "xaxis": "x",
           "y": [
            7670
           ],
           "yaxis": "y"
          },
          {
           "hovertemplate": "<b>%{hovertext}</b><br><br>Country Name=Japan<br>Year=2010<br>Individuals using the Internet (% of population)=%{x}<br>GNI per capita, PPP (current international $)=%{marker.size}<extra></extra>",
           "hovertext": [
            "Japan"
           ],
           "ids": [
            "Japan"
           ],
           "legendgroup": "Japan",
           "marker": {
            "color": "#19d3f3",
            "size": [
             36280
            ],
            "sizemode": "area",
            "sizeref": 331.1,
            "symbol": "circle"
           },
           "mode": "markers",
           "name": "Japan",
           "orientation": "v",
           "showlegend": true,
           "type": "scatter",
           "x": [
            78.21
           ],
           "xaxis": "x",
           "y": [
            36280
           ],
           "yaxis": "y"
          },
          {
           "hovertemplate": "<b>%{hovertext}</b><br><br>Country Name=Luxembourg<br>Year=2010<br>Individuals using the Internet (% of population)=%{x}<br>GNI per capita, PPP (current international $)=%{marker.size}<extra></extra>",
           "hovertext": [
            "Luxembourg"
           ],
           "ids": [
            "Luxembourg"
           ],
           "legendgroup": "Luxembourg",
           "marker": {
            "color": "#FF6692",
            "size": [
             61410
            ],
            "sizemode": "area",
            "sizeref": 331.1,
            "symbol": "circle"
           },
           "mode": "markers",
           "name": "Luxembourg",
           "orientation": "v",
           "showlegend": true,
           "type": "scatter",
           "x": [
            90.62
           ],
           "xaxis": "x",
           "y": [
            61410
           ],
           "yaxis": "y"
          },
          {
           "hovertemplate": "<b>%{hovertext}</b><br><br>Country Name=Nepal<br>Year=2010<br>Individuals using the Internet (% of population)=%{x}<br>GNI per capita, PPP (current international $)=%{marker.size}<extra></extra>",
           "hovertext": [
            "Nepal"
           ],
           "ids": [
            "Nepal"
           ],
           "legendgroup": "Nepal",
           "marker": {
            "color": "#B6E880",
            "size": [
             2180
            ],
            "sizemode": "area",
            "sizeref": 331.1,
            "symbol": "circle"
           },
           "mode": "markers",
           "name": "Nepal",
           "orientation": "v",
           "showlegend": true,
           "type": "scatter",
           "x": [
            7.93
           ],
           "xaxis": "x",
           "y": [
            2180
           ],
           "yaxis": "y"
          },
          {
           "hovertemplate": "<b>%{hovertext}</b><br><br>Country Name=Peru<br>Year=2010<br>Individuals using the Internet (% of population)=%{x}<br>GNI per capita, PPP (current international $)=%{marker.size}<extra></extra>",
           "hovertext": [
            "Peru"
           ],
           "ids": [
            "Peru"
           ],
           "legendgroup": "Peru",
           "marker": {
            "color": "#FF97FF",
            "size": [
             9020
            ],
            "sizemode": "area",
            "sizeref": 331.1,
            "symbol": "circle"
           },
           "mode": "markers",
           "name": "Peru",
           "orientation": "v",
           "showlegend": true,
           "type": "scatter",
           "x": [
            34.77
           ],
           "xaxis": "x",
           "y": [
            9020
           ],
           "yaxis": "y"
          },
          {
           "hovertemplate": "<b>%{hovertext}</b><br><br>Country Name=Singapore<br>Year=2010<br>Individuals using the Internet (% of population)=%{x}<br>GNI per capita, PPP (current international $)=%{marker.size}<extra></extra>",
           "hovertext": [
            "Singapore"
           ],
           "ids": [
            "Singapore"
           ],
           "legendgroup": "Singapore",
           "marker": {
            "color": "#FECB52",
            "size": [
             74580
            ],
            "sizemode": "area",
            "sizeref": 331.1,
            "symbol": "circle"
           },
           "mode": "markers",
           "name": "Singapore",
           "orientation": "v",
           "showlegend": true,
           "type": "scatter",
           "x": [
            71
           ],
           "xaxis": "x",
           "y": [
            74580
           ],
           "yaxis": "y"
          },
          {
           "hovertemplate": "<b>%{hovertext}</b><br><br>Country Name=Uruguay<br>Year=2010<br>Individuals using the Internet (% of population)=%{x}<br>GNI per capita, PPP (current international $)=%{marker.size}<extra></extra>",
           "hovertext": [
            "Uruguay"
           ],
           "ids": [
            "Uruguay"
           ],
           "legendgroup": "Uruguay",
           "marker": {
            "color": "#636efa",
            "size": [
             16190
            ],
            "sizemode": "area",
            "sizeref": 331.1,
            "symbol": "circle"
           },
           "mode": "markers",
           "name": "Uruguay",
           "orientation": "v",
           "showlegend": true,
           "type": "scatter",
           "x": [
            46.4
           ],
           "xaxis": "x",
           "y": [
            16190
           ],
           "yaxis": "y"
          },
          {
           "hovertemplate": "<b>%{hovertext}</b><br><br>Country Name=Zimbabwe<br>Year=2010<br>Individuals using the Internet (% of population)=%{x}<br>GNI per capita, PPP (current international $)=%{marker.size}<extra></extra>",
           "hovertext": [
            "Zimbabwe"
           ],
           "ids": [
            "Zimbabwe"
           ],
           "legendgroup": "Zimbabwe",
           "marker": {
            "color": "#EF553B",
            "size": [
             1810
            ],
            "sizemode": "area",
            "sizeref": 331.1,
            "symbol": "circle"
           },
           "mode": "markers",
           "name": "Zimbabwe",
           "orientation": "v",
           "showlegend": true,
           "type": "scatter",
           "x": [
            6.4
           ],
           "xaxis": "x",
           "y": [
            1810
           ],
           "yaxis": "y"
          },
          {
           "hovertemplate": "<b>%{hovertext}</b><br><br>Country Name=Oman<br>Year=2010<br>Individuals using the Internet (% of population)=%{x}<br>GNI per capita, PPP (current international $)=%{marker.size}<extra></extra>",
           "hovertext": [
            "Oman"
           ],
           "ids": [
            "Oman"
           ],
           "legendgroup": "Oman",
           "marker": {
            "color": "#00cc96",
            "size": [
             41410
            ],
            "sizemode": "area",
            "sizeref": 331.1,
            "symbol": "circle"
           },
           "mode": "markers",
           "name": "Oman",
           "orientation": "v",
           "showlegend": true,
           "type": "scatter",
           "x": [
            35.8278
           ],
           "xaxis": "x",
           "y": [
            41410
           ],
           "yaxis": "y"
          },
          {
           "hovertemplate": "<b>%{hovertext}</b><br><br>Country Name=Ireland<br>Year=2010<br>Individuals using the Internet (% of population)=%{x}<br>GNI per capita, PPP (current international $)=%{marker.size}<extra></extra>",
           "hovertext": [
            "Ireland"
           ],
           "ids": [
            "Ireland"
           ],
           "legendgroup": "Ireland",
           "marker": {
            "color": "#ab63fa",
            "size": [
             36180
            ],
            "sizemode": "area",
            "sizeref": 331.1,
            "symbol": "circle"
           },
           "mode": "markers",
           "name": "Ireland",
           "orientation": "v",
           "showlegend": true,
           "type": "scatter",
           "x": [
            69.85
           ],
           "xaxis": "x",
           "y": [
            36180
           ],
           "yaxis": "y"
          },
          {
           "hovertemplate": "<b>%{hovertext}</b><br><br>Country Name=Hungary<br>Year=2010<br>Individuals using the Internet (% of population)=%{x}<br>GNI per capita, PPP (current international $)=%{marker.size}<extra></extra>",
           "hovertext": [
            "Hungary"
           ],
           "ids": [
            "Hungary"
           ],
           "legendgroup": "Hungary",
           "marker": {
            "color": "#FFA15A",
            "size": [
             20730
            ],
            "sizemode": "area",
            "sizeref": 331.1,
            "symbol": "circle"
           },
           "mode": "markers",
           "name": "Hungary",
           "orientation": "v",
           "showlegend": true,
           "type": "scatter",
           "x": [
            65
           ],
           "xaxis": "x",
           "y": [
            20730
           ],
           "yaxis": "y"
          },
          {
           "hovertemplate": "<b>%{hovertext}</b><br><br>Country Name=Kazakhstan<br>Year=2010<br>Individuals using the Internet (% of population)=%{x}<br>GNI per capita, PPP (current international $)=%{marker.size}<extra></extra>",
           "hovertext": [
            "Kazakhstan"
           ],
           "ids": [
            "Kazakhstan"
           ],
           "legendgroup": "Kazakhstan",
           "marker": {
            "color": "#19d3f3",
            "size": [
             16710
            ],
            "sizemode": "area",
            "sizeref": 331.1,
            "symbol": "circle"
           },
           "mode": "markers",
           "name": "Kazakhstan",
           "orientation": "v",
           "showlegend": true,
           "type": "scatter",
           "x": [
            31.6
           ],
           "xaxis": "x",
           "y": [
            16710
           ],
           "yaxis": "y"
          },
          {
           "hovertemplate": "<b>%{hovertext}</b><br><br>Country Name=Canada<br>Year=2010<br>Individuals using the Internet (% of population)=%{x}<br>GNI per capita, PPP (current international $)=%{marker.size}<extra></extra>",
           "hovertext": [
            "Canada"
           ],
           "ids": [
            "Canada"
           ],
           "legendgroup": "Canada",
           "marker": {
            "color": "#FF6692",
            "size": [
             39310
            ],
            "sizemode": "area",
            "sizeref": 331.1,
            "symbol": "circle"
           },
           "mode": "markers",
           "name": "Canada",
           "orientation": "v",
           "showlegend": true,
           "type": "scatter",
           "x": [
            80.3
           ],
           "xaxis": "x",
           "y": [
            39310
           ],
           "yaxis": "y"
          },
          {
           "hovertemplate": "<b>%{hovertext}</b><br><br>Country Name=Qatar<br>Year=2010<br>Individuals using the Internet (% of population)=%{x}<br>GNI per capita, PPP (current international $)=%{marker.size}<extra></extra>",
           "hovertext": [
            "Qatar"
           ],
           "ids": [
            "Qatar"
           ],
           "legendgroup": "Qatar",
           "marker": {
            "color": "#B6E880",
            "size": [
             118400
            ],
            "sizemode": "area",
            "sizeref": 331.1,
            "symbol": "circle"
           },
           "mode": "markers",
           "name": "Qatar",
           "orientation": "v",
           "showlegend": true,
           "type": "scatter",
           "x": [
            69
           ],
           "xaxis": "x",
           "y": [
            118400
           ],
           "yaxis": "y"
          },
          {
           "hovertemplate": "<b>%{hovertext}</b><br><br>Country Name=Greece<br>Year=2010<br>Individuals using the Internet (% of population)=%{x}<br>GNI per capita, PPP (current international $)=%{marker.size}<extra></extra>",
           "hovertext": [
            "Greece"
           ],
           "ids": [
            "Greece"
           ],
           "legendgroup": "Greece",
           "marker": {
            "color": "#FF97FF",
            "size": [
             27300
            ],
            "sizemode": "area",
            "sizeref": 331.1,
            "symbol": "circle"
           },
           "mode": "markers",
           "name": "Greece",
           "orientation": "v",
           "showlegend": true,
           "type": "scatter",
           "x": [
            44.4
           ],
           "xaxis": "x",
           "y": [
            27300
           ],
           "yaxis": "y"
          }
         ],
         "name": "2010"
        },
        {
         "data": [
          {
           "hovertemplate": "<b>%{hovertext}</b><br><br>Country Name=Australia<br>Year=2011<br>Individuals using the Internet (% of population)=%{x}<br>GNI per capita, PPP (current international $)=%{marker.size}<extra></extra>",
           "hovertext": [
            "Australia"
           ],
           "ids": [
            "Australia"
           ],
           "legendgroup": "Australia",
           "marker": {
            "color": "#636efa",
            "size": [
             40320
            ],
            "sizemode": "area",
            "sizeref": 331.1,
            "symbol": "circle"
           },
           "mode": "markers",
           "name": "Australia",
           "orientation": "v",
           "showlegend": true,
           "type": "scatter",
           "x": [
            79.48769771
           ],
           "xaxis": "x",
           "y": [
            40320
           ],
           "yaxis": "y"
          },
          {
           "hovertemplate": "<b>%{hovertext}</b><br><br>Country Name=Belgium<br>Year=2011<br>Individuals using the Internet (% of population)=%{x}<br>GNI per capita, PPP (current international $)=%{marker.size}<extra></extra>",
           "hovertext": [
            "Belgium"
           ],
           "ids": [
            "Belgium"
           ],
           "legendgroup": "Belgium",
           "marker": {
            "color": "#EF553B",
            "size": [
             41010
            ],
            "sizemode": "area",
            "sizeref": 331.1,
            "symbol": "circle"
           },
           "mode": "markers",
           "name": "Belgium",
           "orientation": "v",
           "showlegend": true,
           "type": "scatter",
           "x": [
            81.609996
           ],
           "xaxis": "x",
           "y": [
            41010
           ],
           "yaxis": "y"
          },
          {
           "hovertemplate": "<b>%{hovertext}</b><br><br>Country Name=Denmark<br>Year=2011<br>Individuals using the Internet (% of population)=%{x}<br>GNI per capita, PPP (current international $)=%{marker.size}<extra></extra>",
           "hovertext": [
            "Denmark"
           ],
           "ids": [
            "Denmark"
           ],
           "legendgroup": "Denmark",
           "marker": {
            "color": "#00cc96",
            "size": [
             45340
            ],
            "sizemode": "area",
            "sizeref": 331.1,
            "symbol": "circle"
           },
           "mode": "markers",
           "name": "Denmark",
           "orientation": "v",
           "showlegend": true,
           "type": "scatter",
           "x": [
            89.81001339
           ],
           "xaxis": "x",
           "y": [
            45340
           ],
           "yaxis": "y"
          },
          {
           "hovertemplate": "<b>%{hovertext}</b><br><br>Country Name=Ecuador<br>Year=2011<br>Individuals using the Internet (% of population)=%{x}<br>GNI per capita, PPP (current international $)=%{marker.size}<extra></extra>",
           "hovertext": [
            "Ecuador"
           ],
           "ids": [
            "Ecuador"
           ],
           "legendgroup": "Ecuador",
           "marker": {
            "color": "#ab63fa",
            "size": [
             9710
            ],
            "sizemode": "area",
            "sizeref": 331.1,
            "symbol": "circle"
           },
           "mode": "markers",
           "name": "Ecuador",
           "orientation": "v",
           "showlegend": true,
           "type": "scatter",
           "x": [
            31.36680836
           ],
           "xaxis": "x",
           "y": [
            9710
           ],
           "yaxis": "y"
          },
          {
           "hovertemplate": "<b>%{hovertext}</b><br><br>Country Name=Fiji<br>Year=2011<br>Individuals using the Internet (% of population)=%{x}<br>GNI per capita, PPP (current international $)=%{marker.size}<extra></extra>",
           "hovertext": [
            "Fiji"
           ],
           "ids": [
            "Fiji"
           ],
           "legendgroup": "Fiji",
           "marker": {
            "color": "#FFA15A",
            "size": [
             8010
            ],
            "sizemode": "area",
            "sizeref": 331.1,
            "symbol": "circle"
           },
           "mode": "markers",
           "name": "Fiji",
           "orientation": "v",
           "showlegend": true,
           "type": "scatter",
           "x": [
            28
           ],
           "xaxis": "x",
           "y": [
            8010
           ],
           "yaxis": "y"
          },
          {
           "hovertemplate": "<b>%{hovertext}</b><br><br>Country Name=Japan<br>Year=2011<br>Individuals using the Internet (% of population)=%{x}<br>GNI per capita, PPP (current international $)=%{marker.size}<extra></extra>",
           "hovertext": [
            "Japan"
           ],
           "ids": [
            "Japan"
           ],
           "legendgroup": "Japan",
           "marker": {
            "color": "#19d3f3",
            "size": [
             37270
            ],
            "sizemode": "area",
            "sizeref": 331.1,
            "symbol": "circle"
           },
           "mode": "markers",
           "name": "Japan",
           "orientation": "v",
           "showlegend": true,
           "type": "scatter",
           "x": [
            79.05411352
           ],
           "xaxis": "x",
           "y": [
            37270
           ],
           "yaxis": "y"
          },
          {
           "hovertemplate": "<b>%{hovertext}</b><br><br>Country Name=Luxembourg<br>Year=2011<br>Individuals using the Internet (% of population)=%{x}<br>GNI per capita, PPP (current international $)=%{marker.size}<extra></extra>",
           "hovertext": [
            "Luxembourg"
           ],
           "ids": [
            "Luxembourg"
           ],
           "legendgroup": "Luxembourg",
           "marker": {
            "color": "#FF6692",
            "size": [
             65490
            ],
            "sizemode": "area",
            "sizeref": 331.1,
            "symbol": "circle"
           },
           "mode": "markers",
           "name": "Luxembourg",
           "orientation": "v",
           "showlegend": true,
           "type": "scatter",
           "x": [
            90.02985856
           ],
           "xaxis": "x",
           "y": [
            65490
           ],
           "yaxis": "y"
          },
          {
           "hovertemplate": "<b>%{hovertext}</b><br><br>Country Name=Nepal<br>Year=2011<br>Individuals using the Internet (% of population)=%{x}<br>GNI per capita, PPP (current international $)=%{marker.size}<extra></extra>",
           "hovertext": [
            "Nepal"
           ],
           "ids": [
            "Nepal"
           ],
           "legendgroup": "Nepal",
           "marker": {
            "color": "#B6E880",
            "size": [
             2290
            ],
            "sizemode": "area",
            "sizeref": 331.1,
            "symbol": "circle"
           },
           "mode": "markers",
           "name": "Nepal",
           "orientation": "v",
           "showlegend": true,
           "type": "scatter",
           "x": [
            9
           ],
           "xaxis": "x",
           "y": [
            2290
           ],
           "yaxis": "y"
          },
          {
           "hovertemplate": "<b>%{hovertext}</b><br><br>Country Name=Peru<br>Year=2011<br>Individuals using the Internet (% of population)=%{x}<br>GNI per capita, PPP (current international $)=%{marker.size}<extra></extra>",
           "hovertext": [
            "Peru"
           ],
           "ids": [
            "Peru"
           ],
           "legendgroup": "Peru",
           "marker": {
            "color": "#FF97FF",
            "size": [
             9700
            ],
            "sizemode": "area",
            "sizeref": 331.1,
            "symbol": "circle"
           },
           "mode": "markers",
           "name": "Peru",
           "orientation": "v",
           "showlegend": true,
           "type": "scatter",
           "x": [
            36.01
           ],
           "xaxis": "x",
           "y": [
            9700
           ],
           "yaxis": "y"
          },
          {
           "hovertemplate": "<b>%{hovertext}</b><br><br>Country Name=Singapore<br>Year=2011<br>Individuals using the Internet (% of population)=%{x}<br>GNI per capita, PPP (current international $)=%{marker.size}<extra></extra>",
           "hovertext": [
            "Singapore"
           ],
           "ids": [
            "Singapore"
           ],
           "legendgroup": "Singapore",
           "marker": {
            "color": "#FECB52",
            "size": [
             77300
            ],
            "sizemode": "area",
            "sizeref": 331.1,
            "symbol": "circle"
           },
           "mode": "markers",
           "name": "Singapore",
           "orientation": "v",
           "showlegend": true,
           "type": "scatter",
           "x": [
            71
           ],
           "xaxis": "x",
           "y": [
            77300
           ],
           "yaxis": "y"
          },
          {
           "hovertemplate": "<b>%{hovertext}</b><br><br>Country Name=Uruguay<br>Year=2011<br>Individuals using the Internet (% of population)=%{x}<br>GNI per capita, PPP (current international $)=%{marker.size}<extra></extra>",
           "hovertext": [
            "Uruguay"
           ],
           "ids": [
            "Uruguay"
           ],
           "legendgroup": "Uruguay",
           "marker": {
            "color": "#636efa",
            "size": [
             17390
            ],
            "sizemode": "area",
            "sizeref": 331.1,
            "symbol": "circle"
           },
           "mode": "markers",
           "name": "Uruguay",
           "orientation": "v",
           "showlegend": true,
           "type": "scatter",
           "x": [
            51.40466106
           ],
           "xaxis": "x",
           "y": [
            17390
           ],
           "yaxis": "y"
          },
          {
           "hovertemplate": "<b>%{hovertext}</b><br><br>Country Name=Zimbabwe<br>Year=2011<br>Individuals using the Internet (% of population)=%{x}<br>GNI per capita, PPP (current international $)=%{marker.size}<extra></extra>",
           "hovertext": [
            "Zimbabwe"
           ],
           "ids": [
            "Zimbabwe"
           ],
           "legendgroup": "Zimbabwe",
           "marker": {
            "color": "#EF553B",
            "size": [
             2070
            ],
            "sizemode": "area",
            "sizeref": 331.1,
            "symbol": "circle"
           },
           "mode": "markers",
           "name": "Zimbabwe",
           "orientation": "v",
           "showlegend": true,
           "type": "scatter",
           "x": [
            8.4
           ],
           "xaxis": "x",
           "y": [
            2070
           ],
           "yaxis": "y"
          },
          {
           "hovertemplate": "<b>%{hovertext}</b><br><br>Country Name=Oman<br>Year=2011<br>Individuals using the Internet (% of population)=%{x}<br>GNI per capita, PPP (current international $)=%{marker.size}<extra></extra>",
           "hovertext": [
            "Oman"
           ],
           "ids": [
            "Oman"
           ],
           "legendgroup": "Oman",
           "marker": {
            "color": "#00cc96",
            "size": [
             46940
            ],
            "sizemode": "area",
            "sizeref": 331.1,
            "symbol": "circle"
           },
           "mode": "markers",
           "name": "Oman",
           "orientation": "v",
           "showlegend": true,
           "type": "scatter",
           "x": [
            48
           ],
           "xaxis": "x",
           "y": [
            46940
           ],
           "yaxis": "y"
          },
          {
           "hovertemplate": "<b>%{hovertext}</b><br><br>Country Name=Ireland<br>Year=2011<br>Individuals using the Internet (% of population)=%{x}<br>GNI per capita, PPP (current international $)=%{marker.size}<extra></extra>",
           "hovertext": [
            "Ireland"
           ],
           "ids": [
            "Ireland"
           ],
           "legendgroup": "Ireland",
           "marker": {
            "color": "#ab63fa",
            "size": [
             36590
            ],
            "sizemode": "area",
            "sizeref": 331.1,
            "symbol": "circle"
           },
           "mode": "markers",
           "name": "Ireland",
           "orientation": "v",
           "showlegend": true,
           "type": "scatter",
           "x": [
            74.88997297
           ],
           "xaxis": "x",
           "y": [
            36590
           ],
           "yaxis": "y"
          },
          {
           "hovertemplate": "<b>%{hovertext}</b><br><br>Country Name=Hungary<br>Year=2011<br>Individuals using the Internet (% of population)=%{x}<br>GNI per capita, PPP (current international $)=%{marker.size}<extra></extra>",
           "hovertext": [
            "Hungary"
           ],
           "ids": [
            "Hungary"
           ],
           "legendgroup": "Hungary",
           "marker": {
            "color": "#FFA15A",
            "size": [
             21920
            ],
            "sizemode": "area",
            "sizeref": 331.1,
            "symbol": "circle"
           },
           "mode": "markers",
           "name": "Hungary",
           "orientation": "v",
           "showlegend": true,
           "type": "scatter",
           "x": [
            68.01998789
           ],
           "xaxis": "x",
           "y": [
            21920
           ],
           "yaxis": "y"
          },
          {
           "hovertemplate": "<b>%{hovertext}</b><br><br>Country Name=Kazakhstan<br>Year=2011<br>Individuals using the Internet (% of population)=%{x}<br>GNI per capita, PPP (current international $)=%{marker.size}<extra></extra>",
           "hovertext": [
            "Kazakhstan"
           ],
           "ids": [
            "Kazakhstan"
           ],
           "legendgroup": "Kazakhstan",
           "marker": {
            "color": "#19d3f3",
            "size": [
             17790
            ],
            "sizemode": "area",
            "sizeref": 331.1,
            "symbol": "circle"
           },
           "mode": "markers",
           "name": "Kazakhstan",
           "orientation": "v",
           "showlegend": true,
           "type": "scatter",
           "x": [
            50.6
           ],
           "xaxis": "x",
           "y": [
            17790
           ],
           "yaxis": "y"
          },
          {
           "hovertemplate": "<b>%{hovertext}</b><br><br>Country Name=Canada<br>Year=2011<br>Individuals using the Internet (% of population)=%{x}<br>GNI per capita, PPP (current international $)=%{marker.size}<extra></extra>",
           "hovertext": [
            "Canada"
           ],
           "ids": [
            "Canada"
           ],
           "legendgroup": "Canada",
           "marker": {
            "color": "#FF6692",
            "size": [
             40880
            ],
            "sizemode": "area",
            "sizeref": 331.1,
            "symbol": "circle"
           },
           "mode": "markers",
           "name": "Canada",
           "orientation": "v",
           "showlegend": true,
           "type": "scatter",
           "x": [
            83
           ],
           "xaxis": "x",
           "y": [
            40880
           ],
           "yaxis": "y"
          },
          {
           "hovertemplate": "<b>%{hovertext}</b><br><br>Country Name=Qatar<br>Year=2011<br>Individuals using the Internet (% of population)=%{x}<br>GNI per capita, PPP (current international $)=%{marker.size}<extra></extra>",
           "hovertext": [
            "Qatar"
           ],
           "ids": [
            "Qatar"
           ],
           "legendgroup": "Qatar",
           "marker": {
            "color": "#B6E880",
            "size": [
             128340
            ],
            "sizemode": "area",
            "sizeref": 331.1,
            "symbol": "circle"
           },
           "mode": "markers",
           "name": "Qatar",
           "orientation": "v",
           "showlegend": true,
           "type": "scatter",
           "x": [
            69
           ],
           "xaxis": "x",
           "y": [
            128340
           ],
           "yaxis": "y"
          },
          {
           "hovertemplate": "<b>%{hovertext}</b><br><br>Country Name=Greece<br>Year=2011<br>Individuals using the Internet (% of population)=%{x}<br>GNI per capita, PPP (current international $)=%{marker.size}<extra></extra>",
           "hovertext": [
            "Greece"
           ],
           "ids": [
            "Greece"
           ],
           "legendgroup": "Greece",
           "marker": {
            "color": "#FF97FF",
            "size": [
             24960
            ],
            "sizemode": "area",
            "sizeref": 331.1,
            "symbol": "circle"
           },
           "mode": "markers",
           "name": "Greece",
           "orientation": "v",
           "showlegend": true,
           "type": "scatter",
           "x": [
            51.64999517
           ],
           "xaxis": "x",
           "y": [
            24960
           ],
           "yaxis": "y"
          }
         ],
         "name": "2011"
        },
        {
         "data": [
          {
           "hovertemplate": "<b>%{hovertext}</b><br><br>Country Name=Australia<br>Year=2012<br>Individuals using the Internet (% of population)=%{x}<br>GNI per capita, PPP (current international $)=%{marker.size}<extra></extra>",
           "hovertext": [
            "Australia"
           ],
           "ids": [
            "Australia"
           ],
           "legendgroup": "Australia",
           "marker": {
            "color": "#636efa",
            "size": [
             41530
            ],
            "sizemode": "area",
            "sizeref": 331.1,
            "symbol": "circle"
           },
           "mode": "markers",
           "name": "Australia",
           "orientation": "v",
           "showlegend": true,
           "type": "scatter",
           "x": [
            79
           ],
           "xaxis": "x",
           "y": [
            41530
           ],
           "yaxis": "y"
          },
          {
           "hovertemplate": "<b>%{hovertext}</b><br><br>Country Name=Belgium<br>Year=2012<br>Individuals using the Internet (% of population)=%{x}<br>GNI per capita, PPP (current international $)=%{marker.size}<extra></extra>",
           "hovertext": [
            "Belgium"
           ],
           "ids": [
            "Belgium"
           ],
           "legendgroup": "Belgium",
           "marker": {
            "color": "#EF553B",
            "size": [
             43270
            ],
            "sizemode": "area",
            "sizeref": 331.1,
            "symbol": "circle"
           },
           "mode": "markers",
           "name": "Belgium",
           "orientation": "v",
           "showlegend": true,
           "type": "scatter",
           "x": [
            80.71999055
           ],
           "xaxis": "x",
           "y": [
            43270
           ],
           "yaxis": "y"
          },
          {
           "hovertemplate": "<b>%{hovertext}</b><br><br>Country Name=Denmark<br>Year=2012<br>Individuals using the Internet (% of population)=%{x}<br>GNI per capita, PPP (current international $)=%{marker.size}<extra></extra>",
           "hovertext": [
            "Denmark"
           ],
           "ids": [
            "Denmark"
           ],
           "legendgroup": "Denmark",
           "marker": {
            "color": "#00cc96",
            "size": [
             45820
            ],
            "sizemode": "area",
            "sizeref": 331.1,
            "symbol": "circle"
           },
           "mode": "markers",
           "name": "Denmark",
           "orientation": "v",
           "showlegend": true,
           "type": "scatter",
           "x": [
            92.26001172
           ],
           "xaxis": "x",
           "y": [
            45820
           ],
           "yaxis": "y"
          },
          {
           "hovertemplate": "<b>%{hovertext}</b><br><br>Country Name=Ecuador<br>Year=2012<br>Individuals using the Internet (% of population)=%{x}<br>GNI per capita, PPP (current international $)=%{marker.size}<extra></extra>",
           "hovertext": [
            "Ecuador"
           ],
           "ids": [
            "Ecuador"
           ],
           "legendgroup": "Ecuador",
           "marker": {
            "color": "#ab63fa",
            "size": [
             10150
            ],
            "sizemode": "area",
            "sizeref": 331.1,
            "symbol": "circle"
           },
           "mode": "markers",
           "name": "Ecuador",
           "orientation": "v",
           "showlegend": true,
           "type": "scatter",
           "x": [
            35.13514645
           ],
           "xaxis": "x",
           "y": [
            10150
           ],
           "yaxis": "y"
          },
          {
           "hovertemplate": "<b>%{hovertext}</b><br><br>Country Name=Fiji<br>Year=2012<br>Individuals using the Internet (% of population)=%{x}<br>GNI per capita, PPP (current international $)=%{marker.size}<extra></extra>",
           "hovertext": [
            "Fiji"
           ],
           "ids": [
            "Fiji"
           ],
           "legendgroup": "Fiji",
           "marker": {
            "color": "#FFA15A",
            "size": [
             8510
            ],
            "sizemode": "area",
            "sizeref": 331.1,
            "symbol": "circle"
           },
           "mode": "markers",
           "name": "Fiji",
           "orientation": "v",
           "showlegend": true,
           "type": "scatter",
           "x": [
            33.74235675
           ],
           "xaxis": "x",
           "y": [
            8510
           ],
           "yaxis": "y"
          },
          {
           "hovertemplate": "<b>%{hovertext}</b><br><br>Country Name=Japan<br>Year=2012<br>Individuals using the Internet (% of population)=%{x}<br>GNI per capita, PPP (current international $)=%{marker.size}<extra></extra>",
           "hovertext": [
            "Japan"
           ],
           "ids": [
            "Japan"
           ],
           "legendgroup": "Japan",
           "marker": {
            "color": "#19d3f3",
            "size": [
             38640
            ],
            "sizemode": "area",
            "sizeref": 331.1,
            "symbol": "circle"
           },
           "mode": "markers",
           "name": "Japan",
           "orientation": "v",
           "showlegend": true,
           "type": "scatter",
           "x": [
            79.4964
           ],
           "xaxis": "x",
           "y": [
            38640
           ],
           "yaxis": "y"
          },
          {
           "hovertemplate": "<b>%{hovertext}</b><br><br>Country Name=Luxembourg<br>Year=2012<br>Individuals using the Internet (% of population)=%{x}<br>GNI per capita, PPP (current international $)=%{marker.size}<extra></extra>",
           "hovertext": [
            "Luxembourg"
           ],
           "ids": [
            "Luxembourg"
           ],
           "legendgroup": "Luxembourg",
           "marker": {
            "color": "#FF6692",
            "size": [
             74230
            ],
            "sizemode": "area",
            "sizeref": 331.1,
            "symbol": "circle"
           },
           "mode": "markers",
           "name": "Luxembourg",
           "orientation": "v",
           "showlegend": true,
           "type": "scatter",
           "x": [
            91.94992374
           ],
           "xaxis": "x",
           "y": [
            74230
           ],
           "yaxis": "y"
          },
          {
           "hovertemplate": "<b>%{hovertext}</b><br><br>Country Name=Nepal<br>Year=2012<br>Individuals using the Internet (% of population)=%{x}<br>GNI per capita, PPP (current international $)=%{marker.size}<extra></extra>",
           "hovertext": [
            "Nepal"
           ],
           "ids": [
            "Nepal"
           ],
           "legendgroup": "Nepal",
           "marker": {
            "color": "#B6E880",
            "size": [
             2520
            ],
            "sizemode": "area",
            "sizeref": 331.1,
            "symbol": "circle"
           },
           "mode": "markers",
           "name": "Nepal",
           "orientation": "v",
           "showlegend": true,
           "type": "scatter",
           "x": [
            11.1493
           ],
           "xaxis": "x",
           "y": [
            2520
           ],
           "yaxis": "y"
          },
          {
           "hovertemplate": "<b>%{hovertext}</b><br><br>Country Name=Peru<br>Year=2012<br>Individuals using the Internet (% of population)=%{x}<br>GNI per capita, PPP (current international $)=%{marker.size}<extra></extra>",
           "hovertext": [
            "Peru"
           ],
           "ids": [
            "Peru"
           ],
           "legendgroup": "Peru",
           "marker": {
            "color": "#FF97FF",
            "size": [
             10090
            ],
            "sizemode": "area",
            "sizeref": 331.1,
            "symbol": "circle"
           },
           "mode": "markers",
           "name": "Peru",
           "orientation": "v",
           "showlegend": true,
           "type": "scatter",
           "x": [
            38.2
           ],
           "xaxis": "x",
           "y": [
            10090
           ],
           "yaxis": "y"
          },
          {
           "hovertemplate": "<b>%{hovertext}</b><br><br>Country Name=Singapore<br>Year=2012<br>Individuals using the Internet (% of population)=%{x}<br>GNI per capita, PPP (current international $)=%{marker.size}<extra></extra>",
           "hovertext": [
            "Singapore"
           ],
           "ids": [
            "Singapore"
           ],
           "legendgroup": "Singapore",
           "marker": {
            "color": "#FECB52",
            "size": [
             78420
            ],
            "sizemode": "area",
            "sizeref": 331.1,
            "symbol": "circle"
           },
           "mode": "markers",
           "name": "Singapore",
           "orientation": "v",
           "showlegend": true,
           "type": "scatter",
           "x": [
            72
           ],
           "xaxis": "x",
           "y": [
            78420
           ],
           "yaxis": "y"
          },
          {
           "hovertemplate": "<b>%{hovertext}</b><br><br>Country Name=Uruguay<br>Year=2012<br>Individuals using the Internet (% of population)=%{x}<br>GNI per capita, PPP (current international $)=%{marker.size}<extra></extra>",
           "hovertext": [
            "Uruguay"
           ],
           "ids": [
            "Uruguay"
           ],
           "legendgroup": "Uruguay",
           "marker": {
            "color": "#636efa",
            "size": [
             16830
            ],
            "sizemode": "area",
            "sizeref": 331.1,
            "symbol": "circle"
           },
           "mode": "markers",
           "name": "Uruguay",
           "orientation": "v",
           "showlegend": true,
           "type": "scatter",
           "x": [
            54.45376868
           ],
           "xaxis": "x",
           "y": [
            16830
           ],
           "yaxis": "y"
          },
          {
           "hovertemplate": "<b>%{hovertext}</b><br><br>Country Name=Zimbabwe<br>Year=2012<br>Individuals using the Internet (% of population)=%{x}<br>GNI per capita, PPP (current international $)=%{marker.size}<extra></extra>",
           "hovertext": [
            "Zimbabwe"
           ],
           "ids": [
            "Zimbabwe"
           ],
           "legendgroup": "Zimbabwe",
           "marker": {
            "color": "#EF553B",
            "size": [
             2340
            ],
            "sizemode": "area",
            "sizeref": 331.1,
            "symbol": "circle"
           },
           "mode": "markers",
           "name": "Zimbabwe",
           "orientation": "v",
           "showlegend": true,
           "type": "scatter",
           "x": [
            12
           ],
           "xaxis": "x",
           "y": [
            2340
           ],
           "yaxis": "y"
          },
          {
           "hovertemplate": "<b>%{hovertext}</b><br><br>Country Name=Oman<br>Year=2012<br>Individuals using the Internet (% of population)=%{x}<br>GNI per capita, PPP (current international $)=%{marker.size}<extra></extra>",
           "hovertext": [
            "Oman"
           ],
           "ids": [
            "Oman"
           ],
           "legendgroup": "Oman",
           "marker": {
            "color": "#00cc96",
            "size": [
             48230
            ],
            "sizemode": "area",
            "sizeref": 331.1,
            "symbol": "circle"
           },
           "mode": "markers",
           "name": "Oman",
           "orientation": "v",
           "showlegend": true,
           "type": "scatter",
           "x": [
            60
           ],
           "xaxis": "x",
           "y": [
            48230
           ],
           "yaxis": "y"
          },
          {
           "hovertemplate": "<b>%{hovertext}</b><br><br>Country Name=Ireland<br>Year=2012<br>Individuals using the Internet (% of population)=%{x}<br>GNI per capita, PPP (current international $)=%{marker.size}<extra></extra>",
           "hovertext": [
            "Ireland"
           ],
           "ids": [
            "Ireland"
           ],
           "legendgroup": "Ireland",
           "marker": {
            "color": "#ab63fa",
            "size": [
             37390
            ],
            "sizemode": "area",
            "sizeref": 331.1,
            "symbol": "circle"
           },
           "mode": "markers",
           "name": "Ireland",
           "orientation": "v",
           "showlegend": true,
           "type": "scatter",
           "x": [
            76.91999254
           ],
           "xaxis": "x",
           "y": [
            37390
           ],
           "yaxis": "y"
          },
          {
           "hovertemplate": "<b>%{hovertext}</b><br><br>Country Name=Hungary<br>Year=2012<br>Individuals using the Internet (% of population)=%{x}<br>GNI per capita, PPP (current international $)=%{marker.size}<extra></extra>",
           "hovertext": [
            "Hungary"
           ],
           "ids": [
            "Hungary"
           ],
           "legendgroup": "Hungary",
           "marker": {
            "color": "#FFA15A",
            "size": [
             22290
            ],
            "sizemode": "area",
            "sizeref": 331.1,
            "symbol": "circle"
           },
           "mode": "markers",
           "name": "Hungary",
           "orientation": "v",
           "showlegend": true,
           "type": "scatter",
           "x": [
            70.57999815
           ],
           "xaxis": "x",
           "y": [
            22290
           ],
           "yaxis": "y"
          },
          {
           "hovertemplate": "<b>%{hovertext}</b><br><br>Country Name=Kazakhstan<br>Year=2012<br>Individuals using the Internet (% of population)=%{x}<br>GNI per capita, PPP (current international $)=%{marker.size}<extra></extra>",
           "hovertext": [
            "Kazakhstan"
           ],
           "ids": [
            "Kazakhstan"
           ],
           "legendgroup": "Kazakhstan",
           "marker": {
            "color": "#19d3f3",
            "size": [
             19050
            ],
            "sizemode": "area",
            "sizeref": 331.1,
            "symbol": "circle"
           },
           "mode": "markers",
           "name": "Kazakhstan",
           "orientation": "v",
           "showlegend": true,
           "type": "scatter",
           "x": [
            61.90662747
           ],
           "xaxis": "x",
           "y": [
            19050
           ],
           "yaxis": "y"
          },
          {
           "hovertemplate": "<b>%{hovertext}</b><br><br>Country Name=Canada<br>Year=2012<br>Individuals using the Internet (% of population)=%{x}<br>GNI per capita, PPP (current international $)=%{marker.size}<extra></extra>",
           "hovertext": [
            "Canada"
           ],
           "ids": [
            "Canada"
           ],
           "legendgroup": "Canada",
           "marker": {
            "color": "#FF6692",
            "size": [
             41540
            ],
            "sizemode": "area",
            "sizeref": 331.1,
            "symbol": "circle"
           },
           "mode": "markers",
           "name": "Canada",
           "orientation": "v",
           "showlegend": true,
           "type": "scatter",
           "x": [
            83
           ],
           "xaxis": "x",
           "y": [
            41540
           ],
           "yaxis": "y"
          },
          {
           "hovertemplate": "<b>%{hovertext}</b><br><br>Country Name=Qatar<br>Year=2012<br>Individuals using the Internet (% of population)=%{x}<br>GNI per capita, PPP (current international $)=%{marker.size}<extra></extra>",
           "hovertext": [
            "Qatar"
           ],
           "ids": [
            "Qatar"
           ],
           "legendgroup": "Qatar",
           "marker": {
            "color": "#B6E880",
            "size": [
             132440
            ],
            "sizemode": "area",
            "sizeref": 331.1,
            "symbol": "circle"
           },
           "mode": "markers",
           "name": "Qatar",
           "orientation": "v",
           "showlegend": true,
           "type": "scatter",
           "x": [
            69.3
           ],
           "xaxis": "x",
           "y": [
            132440
           ],
           "yaxis": "y"
          },
          {
           "hovertemplate": "<b>%{hovertext}</b><br><br>Country Name=Greece<br>Year=2012<br>Individuals using the Internet (% of population)=%{x}<br>GNI per capita, PPP (current international $)=%{marker.size}<extra></extra>",
           "hovertext": [
            "Greece"
           ],
           "ids": [
            "Greece"
           ],
           "legendgroup": "Greece",
           "marker": {
            "color": "#FF97FF",
            "size": [
             25120
            ],
            "sizemode": "area",
            "sizeref": 331.1,
            "symbol": "circle"
           },
           "mode": "markers",
           "name": "Greece",
           "orientation": "v",
           "showlegend": true,
           "type": "scatter",
           "x": [
            55.06999344
           ],
           "xaxis": "x",
           "y": [
            25120
           ],
           "yaxis": "y"
          }
         ],
         "name": "2012"
        },
        {
         "data": [
          {
           "hovertemplate": "<b>%{hovertext}</b><br><br>Country Name=Australia<br>Year=2013<br>Individuals using the Internet (% of population)=%{x}<br>GNI per capita, PPP (current international $)=%{marker.size}<extra></extra>",
           "hovertext": [
            "Australia"
           ],
           "ids": [
            "Australia"
           ],
           "legendgroup": "Australia",
           "marker": {
            "color": "#636efa",
            "size": [
             44760
            ],
            "sizemode": "area",
            "sizeref": 331.1,
            "symbol": "circle"
           },
           "mode": "markers",
           "name": "Australia",
           "orientation": "v",
           "showlegend": true,
           "type": "scatter",
           "x": [
            83.45349717
           ],
           "xaxis": "x",
           "y": [
            44760
           ],
           "yaxis": "y"
          },
          {
           "hovertemplate": "<b>%{hovertext}</b><br><br>Country Name=Belgium<br>Year=2013<br>Individuals using the Internet (% of population)=%{x}<br>GNI per capita, PPP (current international $)=%{marker.size}<extra></extra>",
           "hovertext": [
            "Belgium"
           ],
           "ids": [
            "Belgium"
           ],
           "legendgroup": "Belgium",
           "marker": {
            "color": "#EF553B",
            "size": [
             44750
            ],
            "sizemode": "area",
            "sizeref": 331.1,
            "symbol": "circle"
           },
           "mode": "markers",
           "name": "Belgium",
           "orientation": "v",
           "showlegend": true,
           "type": "scatter",
           "x": [
            82.1702
           ],
           "xaxis": "x",
           "y": [
            44750
           ],
           "yaxis": "y"
          },
          {
           "hovertemplate": "<b>%{hovertext}</b><br><br>Country Name=Denmark<br>Year=2013<br>Individuals using the Internet (% of population)=%{x}<br>GNI per capita, PPP (current international $)=%{marker.size}<extra></extra>",
           "hovertext": [
            "Denmark"
           ],
           "ids": [
            "Denmark"
           ],
           "legendgroup": "Denmark",
           "marker": {
            "color": "#00cc96",
            "size": [
             48210
            ],
            "sizemode": "area",
            "sizeref": 331.1,
            "symbol": "circle"
           },
           "mode": "markers",
           "name": "Denmark",
           "orientation": "v",
           "showlegend": true,
           "type": "scatter",
           "x": [
            94.6297
           ],
           "xaxis": "x",
           "y": [
            48210
           ],
           "yaxis": "y"
          },
          {
           "hovertemplate": "<b>%{hovertext}</b><br><br>Country Name=Ecuador<br>Year=2013<br>Individuals using the Internet (% of population)=%{x}<br>GNI per capita, PPP (current international $)=%{marker.size}<extra></extra>",
           "hovertext": [
            "Ecuador"
           ],
           "ids": [
            "Ecuador"
           ],
           "legendgroup": "Ecuador",
           "marker": {
            "color": "#ab63fa",
            "size": [
             10980
            ],
            "sizemode": "area",
            "sizeref": 331.1,
            "symbol": "circle"
           },
           "mode": "markers",
           "name": "Ecuador",
           "orientation": "v",
           "showlegend": true,
           "type": "scatter",
           "x": [
            40.27912194
           ],
           "xaxis": "x",
           "y": [
            10980
           ],
           "yaxis": "y"
          },
          {
           "hovertemplate": "<b>%{hovertext}</b><br><br>Country Name=Fiji<br>Year=2013<br>Individuals using the Internet (% of population)=%{x}<br>GNI per capita, PPP (current international $)=%{marker.size}<extra></extra>",
           "hovertext": [
            "Fiji"
           ],
           "ids": [
            "Fiji"
           ],
           "legendgroup": "Fiji",
           "marker": {
            "color": "#FFA15A",
            "size": [
             9350
            ],
            "sizemode": "area",
            "sizeref": 331.1,
            "symbol": "circle"
           },
           "mode": "markers",
           "name": "Fiji",
           "orientation": "v",
           "showlegend": true,
           "type": "scatter",
           "x": [
            35.2
           ],
           "xaxis": "x",
           "y": [
            9350
           ],
           "yaxis": "y"
          },
          {
           "hovertemplate": "<b>%{hovertext}</b><br><br>Country Name=Japan<br>Year=2013<br>Individuals using the Internet (% of population)=%{x}<br>GNI per capita, PPP (current international $)=%{marker.size}<extra></extra>",
           "hovertext": [
            "Japan"
           ],
           "ids": [
            "Japan"
           ],
           "legendgroup": "Japan",
           "marker": {
            "color": "#19d3f3",
            "size": [
             40760
            ],
            "sizemode": "area",
            "sizeref": 331.1,
            "symbol": "circle"
           },
           "mode": "markers",
           "name": "Japan",
           "orientation": "v",
           "showlegend": true,
           "type": "scatter",
           "x": [
            88.21942891
           ],
           "xaxis": "x",
           "y": [
            40760
           ],
           "yaxis": "y"
          },
          {
           "hovertemplate": "<b>%{hovertext}</b><br><br>Country Name=Luxembourg<br>Year=2013<br>Individuals using the Internet (% of population)=%{x}<br>GNI per capita, PPP (current international $)=%{marker.size}<extra></extra>",
           "hovertext": [
            "Luxembourg"
           ],
           "ids": [
            "Luxembourg"
           ],
           "legendgroup": "Luxembourg",
           "marker": {
            "color": "#FF6692",
            "size": [
             72410
            ],
            "sizemode": "area",
            "sizeref": 331.1,
            "symbol": "circle"
           },
           "mode": "markers",
           "name": "Luxembourg",
           "orientation": "v",
           "showlegend": true,
           "type": "scatter",
           "x": [
            93.7765
           ],
           "xaxis": "x",
           "y": [
            72410
           ],
           "yaxis": "y"
          },
          {
           "hovertemplate": "<b>%{hovertext}</b><br><br>Country Name=Nepal<br>Year=2013<br>Individuals using the Internet (% of population)=%{x}<br>GNI per capita, PPP (current international $)=%{marker.size}<extra></extra>",
           "hovertext": [
            "Nepal"
           ],
           "ids": [
            "Nepal"
           ],
           "legendgroup": "Nepal",
           "marker": {
            "color": "#B6E880",
            "size": [
             2720
            ],
            "sizemode": "area",
            "sizeref": 331.1,
            "symbol": "circle"
           },
           "mode": "markers",
           "name": "Nepal",
           "orientation": "v",
           "showlegend": true,
           "type": "scatter",
           "x": [
            13.3
           ],
           "xaxis": "x",
           "y": [
            2720
           ],
           "yaxis": "y"
          },
          {
           "hovertemplate": "<b>%{hovertext}</b><br><br>Country Name=Peru<br>Year=2013<br>Individuals using the Internet (% of population)=%{x}<br>GNI per capita, PPP (current international $)=%{marker.size}<extra></extra>",
           "hovertext": [
            "Peru"
           ],
           "ids": [
            "Peru"
           ],
           "legendgroup": "Peru",
           "marker": {
            "color": "#FF97FF",
            "size": [
             10710
            ],
            "sizemode": "area",
            "sizeref": 331.1,
            "symbol": "circle"
           },
           "mode": "markers",
           "name": "Peru",
           "orientation": "v",
           "showlegend": true,
           "type": "scatter",
           "x": [
            39.2
           ],
           "xaxis": "x",
           "y": [
            10710
           ],
           "yaxis": "y"
          },
          {
           "hovertemplate": "<b>%{hovertext}</b><br><br>Country Name=Singapore<br>Year=2013<br>Individuals using the Internet (% of population)=%{x}<br>GNI per capita, PPP (current international $)=%{marker.size}<extra></extra>",
           "hovertext": [
            "Singapore"
           ],
           "ids": [
            "Singapore"
           ],
           "legendgroup": "Singapore",
           "marker": {
            "color": "#FECB52",
            "size": [
             78530
            ],
            "sizemode": "area",
            "sizeref": 331.1,
            "symbol": "circle"
           },
           "mode": "markers",
           "name": "Singapore",
           "orientation": "v",
           "showlegend": true,
           "type": "scatter",
           "x": [
            80.90205685
           ],
           "xaxis": "x",
           "y": [
            78530
           ],
           "yaxis": "y"
          },
          {
           "hovertemplate": "<b>%{hovertext}</b><br><br>Country Name=Uruguay<br>Year=2013<br>Individuals using the Internet (% of population)=%{x}<br>GNI per capita, PPP (current international $)=%{marker.size}<extra></extra>",
           "hovertext": [
            "Uruguay"
           ],
           "ids": [
            "Uruguay"
           ],
           "legendgroup": "Uruguay",
           "marker": {
            "color": "#636efa",
            "size": [
             18110
            ],
            "sizemode": "area",
            "sizeref": 331.1,
            "symbol": "circle"
           },
           "mode": "markers",
           "name": "Uruguay",
           "orientation": "v",
           "showlegend": true,
           "type": "scatter",
           "x": [
            57.69
           ],
           "xaxis": "x",
           "y": [
            18110
           ],
           "yaxis": "y"
          },
          {
           "hovertemplate": "<b>%{hovertext}</b><br><br>Country Name=Zimbabwe<br>Year=2013<br>Individuals using the Internet (% of population)=%{x}<br>GNI per capita, PPP (current international $)=%{marker.size}<extra></extra>",
           "hovertext": [
            "Zimbabwe"
           ],
           "ids": [
            "Zimbabwe"
           ],
           "legendgroup": "Zimbabwe",
           "marker": {
            "color": "#EF553B",
            "size": [
             2520
            ],
            "sizemode": "area",
            "sizeref": 331.1,
            "symbol": "circle"
           },
           "mode": "markers",
           "name": "Zimbabwe",
           "orientation": "v",
           "showlegend": true,
           "type": "scatter",
           "x": [
            15.5
           ],
           "xaxis": "x",
           "y": [
            2520
           ],
           "yaxis": "y"
          },
          {
           "hovertemplate": "<b>%{hovertext}</b><br><br>Country Name=Oman<br>Year=2013<br>Individuals using the Internet (% of population)=%{x}<br>GNI per capita, PPP (current international $)=%{marker.size}<extra></extra>",
           "hovertext": [
            "Oman"
           ],
           "ids": [
            "Oman"
           ],
           "legendgroup": "Oman",
           "marker": {
            "color": "#00cc96",
            "size": [
             46440
            ],
            "sizemode": "area",
            "sizeref": 331.1,
            "symbol": "circle"
           },
           "mode": "markers",
           "name": "Oman",
           "orientation": "v",
           "showlegend": true,
           "type": "scatter",
           "x": [
            66.45
           ],
           "xaxis": "x",
           "y": [
            46440
           ],
           "yaxis": "y"
          },
          {
           "hovertemplate": "<b>%{hovertext}</b><br><br>Country Name=Ireland<br>Year=2013<br>Individuals using the Internet (% of population)=%{x}<br>GNI per capita, PPP (current international $)=%{marker.size}<extra></extra>",
           "hovertext": [
            "Ireland"
           ],
           "ids": [
            "Ireland"
           ],
           "legendgroup": "Ireland",
           "marker": {
            "color": "#ab63fa",
            "size": [
             40340
            ],
            "sizemode": "area",
            "sizeref": 331.1,
            "symbol": "circle"
           },
           "mode": "markers",
           "name": "Ireland",
           "orientation": "v",
           "showlegend": true,
           "type": "scatter",
           "x": [
            78.2477
           ],
           "xaxis": "x",
           "y": [
            40340
           ],
           "yaxis": "y"
          },
          {
           "hovertemplate": "<b>%{hovertext}</b><br><br>Country Name=Hungary<br>Year=2013<br>Individuals using the Internet (% of population)=%{x}<br>GNI per capita, PPP (current international $)=%{marker.size}<extra></extra>",
           "hovertext": [
            "Hungary"
           ],
           "ids": [
            "Hungary"
           ],
           "legendgroup": "Hungary",
           "marker": {
            "color": "#FFA15A",
            "size": [
             23840
            ],
            "sizemode": "area",
            "sizeref": 331.1,
            "symbol": "circle"
           },
           "mode": "markers",
           "name": "Hungary",
           "orientation": "v",
           "showlegend": true,
           "type": "scatter",
           "x": [
            72.6439
           ],
           "xaxis": "x",
           "y": [
            23840
           ],
           "yaxis": "y"
          },
          {
           "hovertemplate": "<b>%{hovertext}</b><br><br>Country Name=Kazakhstan<br>Year=2013<br>Individuals using the Internet (% of population)=%{x}<br>GNI per capita, PPP (current international $)=%{marker.size}<extra></extra>",
           "hovertext": [
            "Kazakhstan"
           ],
           "ids": [
            "Kazakhstan"
           ],
           "legendgroup": "Kazakhstan",
           "marker": {
            "color": "#19d3f3",
            "size": [
             21900
            ],
            "sizemode": "area",
            "sizeref": 331.1,
            "symbol": "circle"
           },
           "mode": "markers",
           "name": "Kazakhstan",
           "orientation": "v",
           "showlegend": true,
           "type": "scatter",
           "x": [
            63.30422443
           ],
           "xaxis": "x",
           "y": [
            21900
           ],
           "yaxis": "y"
          },
          {
           "hovertemplate": "<b>%{hovertext}</b><br><br>Country Name=Canada<br>Year=2013<br>Individuals using the Internet (% of population)=%{x}<br>GNI per capita, PPP (current international $)=%{marker.size}<extra></extra>",
           "hovertext": [
            "Canada"
           ],
           "ids": [
            "Canada"
           ],
           "legendgroup": "Canada",
           "marker": {
            "color": "#FF6692",
            "size": [
             43620
            ],
            "sizemode": "area",
            "sizeref": 331.1,
            "symbol": "circle"
           },
           "mode": "markers",
           "name": "Canada",
           "orientation": "v",
           "showlegend": true,
           "type": "scatter",
           "x": [
            85.8
           ],
           "xaxis": "x",
           "y": [
            43620
           ],
           "yaxis": "y"
          },
          {
           "hovertemplate": "<b>%{hovertext}</b><br><br>Country Name=Qatar<br>Year=2013<br>Individuals using the Internet (% of population)=%{x}<br>GNI per capita, PPP (current international $)=%{marker.size}<extra></extra>",
           "hovertext": [
            "Qatar"
           ],
           "ids": [
            "Qatar"
           ],
           "legendgroup": "Qatar",
           "marker": {
            "color": "#B6E880",
            "size": [
             131020
            ],
            "sizemode": "area",
            "sizeref": 331.1,
            "symbol": "circle"
           },
           "mode": "markers",
           "name": "Qatar",
           "orientation": "v",
           "showlegend": true,
           "type": "scatter",
           "x": [
            85.3
           ],
           "xaxis": "x",
           "y": [
            131020
           ],
           "yaxis": "y"
          },
          {
           "hovertemplate": "<b>%{hovertext}</b><br><br>Country Name=Greece<br>Year=2013<br>Individuals using the Internet (% of population)=%{x}<br>GNI per capita, PPP (current international $)=%{marker.size}<extra></extra>",
           "hovertext": [
            "Greece"
           ],
           "ids": [
            "Greece"
           ],
           "legendgroup": "Greece",
           "marker": {
            "color": "#FF97FF",
            "size": [
             25990
            ],
            "sizemode": "area",
            "sizeref": 331.1,
            "symbol": "circle"
           },
           "mode": "markers",
           "name": "Greece",
           "orientation": "v",
           "showlegend": true,
           "type": "scatter",
           "x": [
            59.8663
           ],
           "xaxis": "x",
           "y": [
            25990
           ],
           "yaxis": "y"
          }
         ],
         "name": "2013"
        },
        {
         "data": [
          {
           "hovertemplate": "<b>%{hovertext}</b><br><br>Country Name=Australia<br>Year=2014<br>Individuals using the Internet (% of population)=%{x}<br>GNI per capita, PPP (current international $)=%{marker.size}<extra></extra>",
           "hovertext": [
            "Australia"
           ],
           "ids": [
            "Australia"
           ],
           "legendgroup": "Australia",
           "marker": {
            "color": "#636efa",
            "size": [
             45660
            ],
            "sizemode": "area",
            "sizeref": 331.1,
            "symbol": "circle"
           },
           "mode": "markers",
           "name": "Australia",
           "orientation": "v",
           "showlegend": true,
           "type": "scatter",
           "x": [
            84
           ],
           "xaxis": "x",
           "y": [
            45660
           ],
           "yaxis": "y"
          },
          {
           "hovertemplate": "<b>%{hovertext}</b><br><br>Country Name=Belgium<br>Year=2014<br>Individuals using the Internet (% of population)=%{x}<br>GNI per capita, PPP (current international $)=%{marker.size}<extra></extra>",
           "hovertext": [
            "Belgium"
           ],
           "ids": [
            "Belgium"
           ],
           "legendgroup": "Belgium",
           "marker": {
            "color": "#EF553B",
            "size": [
             45870
            ],
            "sizemode": "area",
            "sizeref": 331.1,
            "symbol": "circle"
           },
           "mode": "markers",
           "name": "Belgium",
           "orientation": "v",
           "showlegend": true,
           "type": "scatter",
           "x": [
            85
           ],
           "xaxis": "x",
           "y": [
            45870
           ],
           "yaxis": "y"
          },
          {
           "hovertemplate": "<b>%{hovertext}</b><br><br>Country Name=Denmark<br>Year=2014<br>Individuals using the Internet (% of population)=%{x}<br>GNI per capita, PPP (current international $)=%{marker.size}<extra></extra>",
           "hovertext": [
            "Denmark"
           ],
           "ids": [
            "Denmark"
           ],
           "legendgroup": "Denmark",
           "marker": {
            "color": "#00cc96",
            "size": [
             49640
            ],
            "sizemode": "area",
            "sizeref": 331.1,
            "symbol": "circle"
           },
           "mode": "markers",
           "name": "Denmark",
           "orientation": "v",
           "showlegend": true,
           "type": "scatter",
           "x": [
            95.99
           ],
           "xaxis": "x",
           "y": [
            49640
           ],
           "yaxis": "y"
          },
          {
           "hovertemplate": "<b>%{hovertext}</b><br><br>Country Name=Ecuador<br>Year=2014<br>Individuals using the Internet (% of population)=%{x}<br>GNI per capita, PPP (current international $)=%{marker.size}<extra></extra>",
           "hovertext": [
            "Ecuador"
           ],
           "ids": [
            "Ecuador"
           ],
           "legendgroup": "Ecuador",
           "marker": {
            "color": "#ab63fa",
            "size": [
             11530
            ],
            "sizemode": "area",
            "sizeref": 331.1,
            "symbol": "circle"
           },
           "mode": "markers",
           "name": "Ecuador",
           "orientation": "v",
           "showlegend": true,
           "type": "scatter",
           "x": [
            45.59039067
           ],
           "xaxis": "x",
           "y": [
            11530
           ],
           "yaxis": "y"
          },
          {
           "hovertemplate": "<b>%{hovertext}</b><br><br>Country Name=Fiji<br>Year=2014<br>Individuals using the Internet (% of population)=%{x}<br>GNI per capita, PPP (current international $)=%{marker.size}<extra></extra>",
           "hovertext": [
            "Fiji"
           ],
           "ids": [
            "Fiji"
           ],
           "legendgroup": "Fiji",
           "marker": {
            "color": "#FFA15A",
            "size": [
             10820
            ],
            "sizemode": "area",
            "sizeref": 331.1,
            "symbol": "circle"
           },
           "mode": "markers",
           "name": "Fiji",
           "orientation": "v",
           "showlegend": true,
           "type": "scatter",
           "x": [
            37.4
           ],
           "xaxis": "x",
           "y": [
            10820
           ],
           "yaxis": "y"
          },
          {
           "hovertemplate": "<b>%{hovertext}</b><br><br>Country Name=Japan<br>Year=2014<br>Individuals using the Internet (% of population)=%{x}<br>GNI per capita, PPP (current international $)=%{marker.size}<extra></extra>",
           "hovertext": [
            "Japan"
           ],
           "ids": [
            "Japan"
           ],
           "legendgroup": "Japan",
           "marker": {
            "color": "#19d3f3",
            "size": [
             41030
            ],
            "sizemode": "area",
            "sizeref": 331.1,
            "symbol": "circle"
           },
           "mode": "markers",
           "name": "Japan",
           "orientation": "v",
           "showlegend": true,
           "type": "scatter",
           "x": [
            89.10683302
           ],
           "xaxis": "x",
           "y": [
            41030
           ],
           "yaxis": "y"
          },
          {
           "hovertemplate": "<b>%{hovertext}</b><br><br>Country Name=Luxembourg<br>Year=2014<br>Individuals using the Internet (% of population)=%{x}<br>GNI per capita, PPP (current international $)=%{marker.size}<extra></extra>",
           "hovertext": [
            "Luxembourg"
           ],
           "ids": [
            "Luxembourg"
           ],
           "legendgroup": "Luxembourg",
           "marker": {
            "color": "#FF6692",
            "size": [
             76490
            ],
            "sizemode": "area",
            "sizeref": 331.1,
            "symbol": "circle"
           },
           "mode": "markers",
           "name": "Luxembourg",
           "orientation": "v",
           "showlegend": true,
           "type": "scatter",
           "x": [
            94.67
           ],
           "xaxis": "x",
           "y": [
            76490
           ],
           "yaxis": "y"
          },
          {
           "hovertemplate": "<b>%{hovertext}</b><br><br>Country Name=Nepal<br>Year=2014<br>Individuals using the Internet (% of population)=%{x}<br>GNI per capita, PPP (current international $)=%{marker.size}<extra></extra>",
           "hovertext": [
            "Nepal"
           ],
           "ids": [
            "Nepal"
           ],
           "legendgroup": "Nepal",
           "marker": {
            "color": "#B6E880",
            "size": [
             2990
            ],
            "sizemode": "area",
            "sizeref": 331.1,
            "symbol": "circle"
           },
           "mode": "markers",
           "name": "Nepal",
           "orientation": "v",
           "showlegend": true,
           "type": "scatter",
           "x": [
            15.44
           ],
           "xaxis": "x",
           "y": [
            2990
           ],
           "yaxis": "y"
          },
          {
           "hovertemplate": "<b>%{hovertext}</b><br><br>Country Name=Peru<br>Year=2014<br>Individuals using the Internet (% of population)=%{x}<br>GNI per capita, PPP (current international $)=%{marker.size}<extra></extra>",
           "hovertext": [
            "Peru"
           ],
           "ids": [
            "Peru"
           ],
           "legendgroup": "Peru",
           "marker": {
            "color": "#FF97FF",
            "size": [
             10990
            ],
            "sizemode": "area",
            "sizeref": 331.1,
            "symbol": "circle"
           },
           "mode": "markers",
           "name": "Peru",
           "orientation": "v",
           "showlegend": true,
           "type": "scatter",
           "x": [
            40.2
           ],
           "xaxis": "x",
           "y": [
            10990
           ],
           "yaxis": "y"
          },
          {
           "hovertemplate": "<b>%{hovertext}</b><br><br>Country Name=Singapore<br>Year=2014<br>Individuals using the Internet (% of population)=%{x}<br>GNI per capita, PPP (current international $)=%{marker.size}<extra></extra>",
           "hovertext": [
            "Singapore"
           ],
           "ids": [
            "Singapore"
           ],
           "legendgroup": "Singapore",
           "marker": {
            "color": "#FECB52",
            "size": [
             81490
            ],
            "sizemode": "area",
            "sizeref": 331.1,
            "symbol": "circle"
           },
           "mode": "markers",
           "name": "Singapore",
           "orientation": "v",
           "showlegend": true,
           "type": "scatter",
           "x": [
            82.1
           ],
           "xaxis": "x",
           "y": [
            81490
           ],
           "yaxis": "y"
          },
          {
           "hovertemplate": "<b>%{hovertext}</b><br><br>Country Name=Uruguay<br>Year=2014<br>Individuals using the Internet (% of population)=%{x}<br>GNI per capita, PPP (current international $)=%{marker.size}<extra></extra>",
           "hovertext": [
            "Uruguay"
           ],
           "ids": [
            "Uruguay"
           ],
           "legendgroup": "Uruguay",
           "marker": {
            "color": "#636efa",
            "size": [
             18780
            ],
            "sizemode": "area",
            "sizeref": 331.1,
            "symbol": "circle"
           },
           "mode": "markers",
           "name": "Uruguay",
           "orientation": "v",
           "showlegend": true,
           "type": "scatter",
           "x": [
            61.46
           ],
           "xaxis": "x",
           "y": [
            18780
           ],
           "yaxis": "y"
          },
          {
           "hovertemplate": "<b>%{hovertext}</b><br><br>Country Name=Zimbabwe<br>Year=2014<br>Individuals using the Internet (% of population)=%{x}<br>GNI per capita, PPP (current international $)=%{marker.size}<extra></extra>",
           "hovertext": [
            "Zimbabwe"
           ],
           "ids": [
            "Zimbabwe"
           ],
           "legendgroup": "Zimbabwe",
           "marker": {
            "color": "#EF553B",
            "size": [
             2570
            ],
            "sizemode": "area",
            "sizeref": 331.1,
            "symbol": "circle"
           },
           "mode": "markers",
           "name": "Zimbabwe",
           "orientation": "v",
           "showlegend": true,
           "type": "scatter",
           "x": [
            16.36473996
           ],
           "xaxis": "x",
           "y": [
            2570
           ],
           "yaxis": "y"
          },
          {
           "hovertemplate": "<b>%{hovertext}</b><br><br>Country Name=Oman<br>Year=2014<br>Individuals using the Internet (% of population)=%{x}<br>GNI per capita, PPP (current international $)=%{marker.size}<extra></extra>",
           "hovertext": [
            "Oman"
           ],
           "ids": [
            "Oman"
           ],
           "legendgroup": "Oman",
           "marker": {
            "color": "#00cc96",
            "size": [
             42320
            ],
            "sizemode": "area",
            "sizeref": 331.1,
            "symbol": "circle"
           },
           "mode": "markers",
           "name": "Oman",
           "orientation": "v",
           "showlegend": true,
           "type": "scatter",
           "x": [
            70.22
           ],
           "xaxis": "x",
           "y": [
            42320
           ],
           "yaxis": "y"
          },
          {
           "hovertemplate": "<b>%{hovertext}</b><br><br>Country Name=Ireland<br>Year=2014<br>Individuals using the Internet (% of population)=%{x}<br>GNI per capita, PPP (current international $)=%{marker.size}<extra></extra>",
           "hovertext": [
            "Ireland"
           ],
           "ids": [
            "Ireland"
           ],
           "legendgroup": "Ireland",
           "marker": {
            "color": "#ab63fa",
            "size": [
             43140
            ],
            "sizemode": "area",
            "sizeref": 331.1,
            "symbol": "circle"
           },
           "mode": "markers",
           "name": "Ireland",
           "orientation": "v",
           "showlegend": true,
           "type": "scatter",
           "x": [
            83.49172234
           ],
           "xaxis": "x",
           "y": [
            43140
           ],
           "yaxis": "y"
          },
          {
           "hovertemplate": "<b>%{hovertext}</b><br><br>Country Name=Hungary<br>Year=2014<br>Individuals using the Internet (% of population)=%{x}<br>GNI per capita, PPP (current international $)=%{marker.size}<extra></extra>",
           "hovertext": [
            "Hungary"
           ],
           "ids": [
            "Hungary"
           ],
           "legendgroup": "Hungary",
           "marker": {
            "color": "#FFA15A",
            "size": [
             24540
            ],
            "sizemode": "area",
            "sizeref": 331.1,
            "symbol": "circle"
           },
           "mode": "markers",
           "name": "Hungary",
           "orientation": "v",
           "showlegend": true,
           "type": "scatter",
           "x": [
            75.65319745
           ],
           "xaxis": "x",
           "y": [
            24540
           ],
           "yaxis": "y"
          },
          {
           "hovertemplate": "<b>%{hovertext}</b><br><br>Country Name=Kazakhstan<br>Year=2014<br>Individuals using the Internet (% of population)=%{x}<br>GNI per capita, PPP (current international $)=%{marker.size}<extra></extra>",
           "hovertext": [
            "Kazakhstan"
           ],
           "ids": [
            "Kazakhstan"
           ],
           "legendgroup": "Kazakhstan",
           "marker": {
            "color": "#19d3f3",
            "size": [
             22190
            ],
            "sizemode": "area",
            "sizeref": 331.1,
            "symbol": "circle"
           },
           "mode": "markers",
           "name": "Kazakhstan",
           "orientation": "v",
           "showlegend": true,
           "type": "scatter",
           "x": [
            66
           ],
           "xaxis": "x",
           "y": [
            22190
           ],
           "yaxis": "y"
          },
          {
           "hovertemplate": "<b>%{hovertext}</b><br><br>Country Name=Canada<br>Year=2014<br>Individuals using the Internet (% of population)=%{x}<br>GNI per capita, PPP (current international $)=%{marker.size}<extra></extra>",
           "hovertext": [
            "Canada"
           ],
           "ids": [
            "Canada"
           ],
           "legendgroup": "Canada",
           "marker": {
            "color": "#FF6692",
            "size": [
             45010
            ],
            "sizemode": "area",
            "sizeref": 331.1,
            "symbol": "circle"
           },
           "mode": "markers",
           "name": "Canada",
           "orientation": "v",
           "showlegend": true,
           "type": "scatter",
           "x": [
            87.12
           ],
           "xaxis": "x",
           "y": [
            45010
           ],
           "yaxis": "y"
          },
          {
           "hovertemplate": "<b>%{hovertext}</b><br><br>Country Name=Qatar<br>Year=2014<br>Individuals using the Internet (% of population)=%{x}<br>GNI per capita, PPP (current international $)=%{marker.size}<extra></extra>",
           "hovertext": [
            "Qatar"
           ],
           "ids": [
            "Qatar"
           ],
           "legendgroup": "Qatar",
           "marker": {
            "color": "#B6E880",
            "size": [
             123250
            ],
            "sizemode": "area",
            "sizeref": 331.1,
            "symbol": "circle"
           },
           "mode": "markers",
           "name": "Qatar",
           "orientation": "v",
           "showlegend": true,
           "type": "scatter",
           "x": [
            91.49
           ],
           "xaxis": "x",
           "y": [
            123250
           ],
           "yaxis": "y"
          },
          {
           "hovertemplate": "<b>%{hovertext}</b><br><br>Country Name=Greece<br>Year=2014<br>Individuals using the Internet (% of population)=%{x}<br>GNI per capita, PPP (current international $)=%{marker.size}<extra></extra>",
           "hovertext": [
            "Greece"
           ],
           "ids": [
            "Greece"
           ],
           "legendgroup": "Greece",
           "marker": {
            "color": "#FF97FF",
            "size": [
             26800
            ],
            "sizemode": "area",
            "sizeref": 331.1,
            "symbol": "circle"
           },
           "mode": "markers",
           "name": "Greece",
           "orientation": "v",
           "showlegend": true,
           "type": "scatter",
           "x": [
            63.21
           ],
           "xaxis": "x",
           "y": [
            26800
           ],
           "yaxis": "y"
          }
         ],
         "name": "2014"
        },
        {
         "data": [
          {
           "hovertemplate": "<b>%{hovertext}</b><br><br>Country Name=Australia<br>Year=2015<br>Individuals using the Internet (% of population)=%{x}<br>GNI per capita, PPP (current international $)=%{marker.size}<extra></extra>",
           "hovertext": [
            "Australia"
           ],
           "ids": [
            "Australia"
           ],
           "legendgroup": "Australia",
           "marker": {
            "color": "#636efa",
            "size": [
             45310
            ],
            "sizemode": "area",
            "sizeref": 331.1,
            "symbol": "circle"
           },
           "mode": "markers",
           "name": "Australia",
           "orientation": "v",
           "showlegend": true,
           "type": "scatter",
           "x": [
            84.56051491
           ],
           "xaxis": "x",
           "y": [
            45310
           ],
           "yaxis": "y"
          },
          {
           "hovertemplate": "<b>%{hovertext}</b><br><br>Country Name=Belgium<br>Year=2015<br>Individuals using the Internet (% of population)=%{x}<br>GNI per capita, PPP (current international $)=%{marker.size}<extra></extra>",
           "hovertext": [
            "Belgium"
           ],
           "ids": [
            "Belgium"
           ],
           "legendgroup": "Belgium",
           "marker": {
            "color": "#EF553B",
            "size": [
             46850
            ],
            "sizemode": "area",
            "sizeref": 331.1,
            "symbol": "circle"
           },
           "mode": "markers",
           "name": "Belgium",
           "orientation": "v",
           "showlegend": true,
           "type": "scatter",
           "x": [
            85.05294175
           ],
           "xaxis": "x",
           "y": [
            46850
           ],
           "yaxis": "y"
          },
          {
           "hovertemplate": "<b>%{hovertext}</b><br><br>Country Name=Denmark<br>Year=2015<br>Individuals using the Internet (% of population)=%{x}<br>GNI per capita, PPP (current international $)=%{marker.size}<extra></extra>",
           "hovertext": [
            "Denmark"
           ],
           "ids": [
            "Denmark"
           ],
           "legendgroup": "Denmark",
           "marker": {
            "color": "#00cc96",
            "size": [
             50550
            ],
            "sizemode": "area",
            "sizeref": 331.1,
            "symbol": "circle"
           },
           "mode": "markers",
           "name": "Denmark",
           "orientation": "v",
           "showlegend": true,
           "type": "scatter",
           "x": [
            96.33050162
           ],
           "xaxis": "x",
           "y": [
            50550
           ],
           "yaxis": "y"
          },
          {
           "hovertemplate": "<b>%{hovertext}</b><br><br>Country Name=Ecuador<br>Year=2015<br>Individuals using the Internet (% of population)=%{x}<br>GNI per capita, PPP (current international $)=%{marker.size}<extra></extra>",
           "hovertext": [
            "Ecuador"
           ],
           "ids": [
            "Ecuador"
           ],
           "legendgroup": "Ecuador",
           "marker": {
            "color": "#ab63fa",
            "size": [
             10860
            ],
            "sizemode": "area",
            "sizeref": 331.1,
            "symbol": "circle"
           },
           "mode": "markers",
           "name": "Ecuador",
           "orientation": "v",
           "showlegend": true,
           "type": "scatter",
           "x": [
            48.94043379
           ],
           "xaxis": "x",
           "y": [
            10860
           ],
           "yaxis": "y"
          },
          {
           "hovertemplate": "<b>%{hovertext}</b><br><br>Country Name=Fiji<br>Year=2015<br>Individuals using the Internet (% of population)=%{x}<br>GNI per capita, PPP (current international $)=%{marker.size}<extra></extra>",
           "hovertext": [
            "Fiji"
           ],
           "ids": [
            "Fiji"
           ],
           "legendgroup": "Fiji",
           "marker": {
            "color": "#FFA15A",
            "size": [
             11660
            ],
            "sizemode": "area",
            "sizeref": 331.1,
            "symbol": "circle"
           },
           "mode": "markers",
           "name": "Fiji",
           "orientation": "v",
           "showlegend": true,
           "type": "scatter",
           "x": [
            42.5
           ],
           "xaxis": "x",
           "y": [
            11660
           ],
           "yaxis": "y"
          },
          {
           "hovertemplate": "<b>%{hovertext}</b><br><br>Country Name=Japan<br>Year=2015<br>Individuals using the Internet (% of population)=%{x}<br>GNI per capita, PPP (current international $)=%{marker.size}<extra></extra>",
           "hovertext": [
            "Japan"
           ],
           "ids": [
            "Japan"
           ],
           "legendgroup": "Japan",
           "marker": {
            "color": "#19d3f3",
            "size": [
             42510
            ],
            "sizemode": "area",
            "sizeref": 331.1,
            "symbol": "circle"
           },
           "mode": "markers",
           "name": "Japan",
           "orientation": "v",
           "showlegend": true,
           "type": "scatter",
           "x": [
            91.05802839
           ],
           "xaxis": "x",
           "y": [
            42510
           ],
           "yaxis": "y"
          },
          {
           "hovertemplate": "<b>%{hovertext}</b><br><br>Country Name=Luxembourg<br>Year=2015<br>Individuals using the Internet (% of population)=%{x}<br>GNI per capita, PPP (current international $)=%{marker.size}<extra></extra>",
           "hovertext": [
            "Luxembourg"
           ],
           "ids": [
            "Luxembourg"
           ],
           "legendgroup": "Luxembourg",
           "marker": {
            "color": "#FF6692",
            "size": [
             69410
            ],
            "sizemode": "area",
            "sizeref": 331.1,
            "symbol": "circle"
           },
           "mode": "markers",
           "name": "Luxembourg",
           "orientation": "v",
           "showlegend": true,
           "type": "scatter",
           "x": [
            96.37671417
           ],
           "xaxis": "x",
           "y": [
            69410
           ],
           "yaxis": "y"
          },
          {
           "hovertemplate": "<b>%{hovertext}</b><br><br>Country Name=Nepal<br>Year=2015<br>Individuals using the Internet (% of population)=%{x}<br>GNI per capita, PPP (current international $)=%{marker.size}<extra></extra>",
           "hovertext": [
            "Nepal"
           ],
           "ids": [
            "Nepal"
           ],
           "legendgroup": "Nepal",
           "marker": {
            "color": "#B6E880",
            "size": [
             3040
            ],
            "sizemode": "area",
            "sizeref": 331.1,
            "symbol": "circle"
           },
           "mode": "markers",
           "name": "Nepal",
           "orientation": "v",
           "showlegend": true,
           "type": "scatter",
           "x": [
            17.58161801
           ],
           "xaxis": "x",
           "y": [
            3040
           ],
           "yaxis": "y"
          },
          {
           "hovertemplate": "<b>%{hovertext}</b><br><br>Country Name=Peru<br>Year=2015<br>Individuals using the Internet (% of population)=%{x}<br>GNI per capita, PPP (current international $)=%{marker.size}<extra></extra>",
           "hovertext": [
            "Peru"
           ],
           "ids": [
            "Peru"
           ],
           "legendgroup": "Peru",
           "marker": {
            "color": "#FF97FF",
            "size": [
             11180
            ],
            "sizemode": "area",
            "sizeref": 331.1,
            "symbol": "circle"
           },
           "mode": "markers",
           "name": "Peru",
           "orientation": "v",
           "showlegend": true,
           "type": "scatter",
           "x": [
            40.85260091
           ],
           "xaxis": "x",
           "y": [
            11180
           ],
           "yaxis": "y"
          },
          {
           "hovertemplate": "<b>%{hovertext}</b><br><br>Country Name=Singapore<br>Year=2015<br>Individuals using the Internet (% of population)=%{x}<br>GNI per capita, PPP (current international $)=%{marker.size}<extra></extra>",
           "hovertext": [
            "Singapore"
           ],
           "ids": [
            "Singapore"
           ],
           "legendgroup": "Singapore",
           "marker": {
            "color": "#FECB52",
            "size": [
             81040
            ],
            "sizemode": "area",
            "sizeref": 331.1,
            "symbol": "circle"
           },
           "mode": "markers",
           "name": "Singapore",
           "orientation": "v",
           "showlegend": true,
           "type": "scatter",
           "x": [
            83.2
           ],
           "xaxis": "x",
           "y": [
            81040
           ],
           "yaxis": "y"
          },
          {
           "hovertemplate": "<b>%{hovertext}</b><br><br>Country Name=Uruguay<br>Year=2015<br>Individuals using the Internet (% of population)=%{x}<br>GNI per capita, PPP (current international $)=%{marker.size}<extra></extra>",
           "hovertext": [
            "Uruguay"
           ],
           "ids": [
            "Uruguay"
           ],
           "legendgroup": "Uruguay",
           "marker": {
            "color": "#636efa",
            "size": [
             19290
            ],
            "sizemode": "area",
            "sizeref": 331.1,
            "symbol": "circle"
           },
           "mode": "markers",
           "name": "Uruguay",
           "orientation": "v",
           "showlegend": true,
           "type": "scatter",
           "x": [
            64.5707871
           ],
           "xaxis": "x",
           "y": [
            19290
           ],
           "yaxis": "y"
          },
          {
           "hovertemplate": "<b>%{hovertext}</b><br><br>Country Name=Zimbabwe<br>Year=2015<br>Individuals using the Internet (% of population)=%{x}<br>GNI per capita, PPP (current international $)=%{marker.size}<extra></extra>",
           "hovertext": [
            "Zimbabwe"
           ],
           "ids": [
            "Zimbabwe"
           ],
           "legendgroup": "Zimbabwe",
           "marker": {
            "color": "#EF553B",
            "size": [
             2630
            ],
            "sizemode": "area",
            "sizeref": 331.1,
            "symbol": "circle"
           },
           "mode": "markers",
           "name": "Zimbabwe",
           "orientation": "v",
           "showlegend": true,
           "type": "scatter",
           "x": [
            22.7428181
           ],
           "xaxis": "x",
           "y": [
            2630
           ],
           "yaxis": "y"
          },
          {
           "hovertemplate": "<b>%{hovertext}</b><br><br>Country Name=Oman<br>Year=2015<br>Individuals using the Internet (% of population)=%{x}<br>GNI per capita, PPP (current international $)=%{marker.size}<extra></extra>",
           "hovertext": [
            "Oman"
           ],
           "ids": [
            "Oman"
           ],
           "legendgroup": "Oman",
           "marker": {
            "color": "#00cc96",
            "size": [
             34780
            ],
            "sizemode": "area",
            "sizeref": 331.1,
            "symbol": "circle"
           },
           "mode": "markers",
           "name": "Oman",
           "orientation": "v",
           "showlegend": true,
           "type": "scatter",
           "x": [
            73.53
           ],
           "xaxis": "x",
           "y": [
            34780
           ],
           "yaxis": "y"
          },
          {
           "hovertemplate": "<b>%{hovertext}</b><br><br>Country Name=Ireland<br>Year=2015<br>Individuals using the Internet (% of population)=%{x}<br>GNI per capita, PPP (current international $)=%{marker.size}<extra></extra>",
           "hovertext": [
            "Ireland"
           ],
           "ids": [
            "Ireland"
           ],
           "legendgroup": "Ireland",
           "marker": {
            "color": "#ab63fa",
            "size": [
             53060
            ],
            "sizemode": "area",
            "sizeref": 331.1,
            "symbol": "circle"
           },
           "mode": "markers",
           "name": "Ireland",
           "orientation": "v",
           "showlegend": true,
           "type": "scatter",
           "x": [
            83.49479167
           ],
           "xaxis": "x",
           "y": [
            53060
           ],
           "yaxis": "y"
          },
          {
           "hovertemplate": "<b>%{hovertext}</b><br><br>Country Name=Hungary<br>Year=2015<br>Individuals using the Internet (% of population)=%{x}<br>GNI per capita, PPP (current international $)=%{marker.size}<extra></extra>",
           "hovertext": [
            "Hungary"
           ],
           "ids": [
            "Hungary"
           ],
           "legendgroup": "Hungary",
           "marker": {
            "color": "#FFA15A",
            "size": [
             25520
            ],
            "sizemode": "area",
            "sizeref": 331.1,
            "symbol": "circle"
           },
           "mode": "markers",
           "name": "Hungary",
           "orientation": "v",
           "showlegend": true,
           "type": "scatter",
           "x": [
            72.83473703
           ],
           "xaxis": "x",
           "y": [
            25520
           ],
           "yaxis": "y"
          },
          {
           "hovertemplate": "<b>%{hovertext}</b><br><br>Country Name=Kazakhstan<br>Year=2015<br>Individuals using the Internet (% of population)=%{x}<br>GNI per capita, PPP (current international $)=%{marker.size}<extra></extra>",
           "hovertext": [
            "Kazakhstan"
           ],
           "ids": [
            "Kazakhstan"
           ],
           "legendgroup": "Kazakhstan",
           "marker": {
            "color": "#19d3f3",
            "size": [
             21760
            ],
            "sizemode": "area",
            "sizeref": 331.1,
            "symbol": "circle"
           },
           "mode": "markers",
           "name": "Kazakhstan",
           "orientation": "v",
           "showlegend": true,
           "type": "scatter",
           "x": [
            70.8299336
           ],
           "xaxis": "x",
           "y": [
            21760
           ],
           "yaxis": "y"
          },
          {
           "hovertemplate": "<b>%{hovertext}</b><br><br>Country Name=Canada<br>Year=2015<br>Individuals using the Internet (% of population)=%{x}<br>GNI per capita, PPP (current international $)=%{marker.size}<extra></extra>",
           "hovertext": [
            "Canada"
           ],
           "ids": [
            "Canada"
           ],
           "legendgroup": "Canada",
           "marker": {
            "color": "#FF6692",
            "size": [
             43990
            ],
            "sizemode": "area",
            "sizeref": 331.1,
            "symbol": "circle"
           },
           "mode": "markers",
           "name": "Canada",
           "orientation": "v",
           "showlegend": true,
           "type": "scatter",
           "x": [
            90
           ],
           "xaxis": "x",
           "y": [
            43990
           ],
           "yaxis": "y"
          },
          {
           "hovertemplate": "<b>%{hovertext}</b><br><br>Country Name=Qatar<br>Year=2015<br>Individuals using the Internet (% of population)=%{x}<br>GNI per capita, PPP (current international $)=%{marker.size}<extra></extra>",
           "hovertext": [
            "Qatar"
           ],
           "ids": [
            "Qatar"
           ],
           "legendgroup": "Qatar",
           "marker": {
            "color": "#B6E880",
            "size": [
             90920
            ],
            "sizemode": "area",
            "sizeref": 331.1,
            "symbol": "circle"
           },
           "mode": "markers",
           "name": "Qatar",
           "orientation": "v",
           "showlegend": true,
           "type": "scatter",
           "x": [
            92.88482645
           ],
           "xaxis": "x",
           "y": [
            90920
           ],
           "yaxis": "y"
          },
          {
           "hovertemplate": "<b>%{hovertext}</b><br><br>Country Name=Greece<br>Year=2015<br>Individuals using the Internet (% of population)=%{x}<br>GNI per capita, PPP (current international $)=%{marker.size}<extra></extra>",
           "hovertext": [
            "Greece"
           ],
           "ids": [
            "Greece"
           ],
           "legendgroup": "Greece",
           "marker": {
            "color": "#FF97FF",
            "size": [
             26740
            ],
            "sizemode": "area",
            "sizeref": 331.1,
            "symbol": "circle"
           },
           "mode": "markers",
           "name": "Greece",
           "orientation": "v",
           "showlegend": true,
           "type": "scatter",
           "x": [
            66.83495949
           ],
           "xaxis": "x",
           "y": [
            26740
           ],
           "yaxis": "y"
          }
         ],
         "name": "2015"
        },
        {
         "data": [
          {
           "hovertemplate": "<b>%{hovertext}</b><br><br>Country Name=Australia<br>Year=2016<br>Individuals using the Internet (% of population)=%{x}<br>GNI per capita, PPP (current international $)=%{marker.size}<extra></extra>",
           "hovertext": [
            "Australia"
           ],
           "ids": [
            "Australia"
           ],
           "legendgroup": "Australia",
           "marker": {
            "color": "#636efa",
            "size": [
             46140
            ],
            "sizemode": "area",
            "sizeref": 331.1,
            "symbol": "circle"
           },
           "mode": "markers",
           "name": "Australia",
           "orientation": "v",
           "showlegend": true,
           "type": "scatter",
           "x": [
            86.54
           ],
           "xaxis": "x",
           "y": [
            46140
           ],
           "yaxis": "y"
          },
          {
           "hovertemplate": "<b>%{hovertext}</b><br><br>Country Name=Belgium<br>Year=2016<br>Individuals using the Internet (% of population)=%{x}<br>GNI per capita, PPP (current international $)=%{marker.size}<extra></extra>",
           "hovertext": [
            "Belgium"
           ],
           "ids": [
            "Belgium"
           ],
           "legendgroup": "Belgium",
           "marker": {
            "color": "#EF553B",
            "size": [
             49060
            ],
            "sizemode": "area",
            "sizeref": 331.1,
            "symbol": "circle"
           },
           "mode": "markers",
           "name": "Belgium",
           "orientation": "v",
           "showlegend": true,
           "type": "scatter",
           "x": [
            86.51647666
           ],
           "xaxis": "x",
           "y": [
            49060
           ],
           "yaxis": "y"
          },
          {
           "hovertemplate": "<b>%{hovertext}</b><br><br>Country Name=Denmark<br>Year=2016<br>Individuals using the Internet (% of population)=%{x}<br>GNI per capita, PPP (current international $)=%{marker.size}<extra></extra>",
           "hovertext": [
            "Denmark"
           ],
           "ids": [
            "Denmark"
           ],
           "legendgroup": "Denmark",
           "marker": {
            "color": "#00cc96",
            "size": [
             53250
            ],
            "sizemode": "area",
            "sizeref": 331.1,
            "symbol": "circle"
           },
           "mode": "markers",
           "name": "Denmark",
           "orientation": "v",
           "showlegend": true,
           "type": "scatter",
           "x": [
            96.96778525
           ],
           "xaxis": "x",
           "y": [
            53250
           ],
           "yaxis": "y"
          },
          {
           "hovertemplate": "<b>%{hovertext}</b><br><br>Country Name=Ecuador<br>Year=2016<br>Individuals using the Internet (% of population)=%{x}<br>GNI per capita, PPP (current international $)=%{marker.size}<extra></extra>",
           "hovertext": [
            "Ecuador"
           ],
           "ids": [
            "Ecuador"
           ],
           "legendgroup": "Ecuador",
           "marker": {
            "color": "#ab63fa",
            "size": [
             10820
            ],
            "sizemode": "area",
            "sizeref": 331.1,
            "symbol": "circle"
           },
           "mode": "markers",
           "name": "Ecuador",
           "orientation": "v",
           "showlegend": true,
           "type": "scatter",
           "x": [
            54.06292473
           ],
           "xaxis": "x",
           "y": [
            10820
           ],
           "yaxis": "y"
          },
          {
           "hovertemplate": "<b>%{hovertext}</b><br><br>Country Name=Fiji<br>Year=2016<br>Individuals using the Internet (% of population)=%{x}<br>GNI per capita, PPP (current international $)=%{marker.size}<extra></extra>",
           "hovertext": [
            "Fiji"
           ],
           "ids": [
            "Fiji"
           ],
           "legendgroup": "Fiji",
           "marker": {
            "color": "#FFA15A",
            "size": [
             11940
            ],
            "sizemode": "area",
            "sizeref": 331.1,
            "symbol": "circle"
           },
           "mode": "markers",
           "name": "Fiji",
           "orientation": "v",
           "showlegend": true,
           "type": "scatter",
           "x": [
            49.42
           ],
           "xaxis": "x",
           "y": [
            11940
           ],
           "yaxis": "y"
          },
          {
           "hovertemplate": "<b>%{hovertext}</b><br><br>Country Name=Japan<br>Year=2016<br>Individuals using the Internet (% of population)=%{x}<br>GNI per capita, PPP (current international $)=%{marker.size}<extra></extra>",
           "hovertext": [
            "Japan"
           ],
           "ids": [
            "Japan"
           ],
           "legendgroup": "Japan",
           "marker": {
            "color": "#19d3f3",
            "size": [
             42010
            ],
            "sizemode": "area",
            "sizeref": 331.1,
            "symbol": "circle"
           },
           "mode": "markers",
           "name": "Japan",
           "orientation": "v",
           "showlegend": true,
           "type": "scatter",
           "x": [
            93.18272128
           ],
           "xaxis": "x",
           "y": [
            42010
           ],
           "yaxis": "y"
          },
          {
           "hovertemplate": "<b>%{hovertext}</b><br><br>Country Name=Luxembourg<br>Year=2016<br>Individuals using the Internet (% of population)=%{x}<br>GNI per capita, PPP (current international $)=%{marker.size}<extra></extra>",
           "hovertext": [
            "Luxembourg"
           ],
           "ids": [
            "Luxembourg"
           ],
           "legendgroup": "Luxembourg",
           "marker": {
            "color": "#FF6692",
            "size": [
             75120
            ],
            "sizemode": "area",
            "sizeref": 331.1,
            "symbol": "circle"
           },
           "mode": "markers",
           "name": "Luxembourg",
           "orientation": "v",
           "showlegend": true,
           "type": "scatter",
           "x": [
            98.13669867
           ],
           "xaxis": "x",
           "y": [
            75120
           ],
           "yaxis": "y"
          },
          {
           "hovertemplate": "<b>%{hovertext}</b><br><br>Country Name=Nepal<br>Year=2016<br>Individuals using the Internet (% of population)=%{x}<br>GNI per capita, PPP (current international $)=%{marker.size}<extra></extra>",
           "hovertext": [
            "Nepal"
           ],
           "ids": [
            "Nepal"
           ],
           "legendgroup": "Nepal",
           "marker": {
            "color": "#B6E880",
            "size": [
             3030
            ],
            "sizemode": "area",
            "sizeref": 331.1,
            "symbol": "circle"
           },
           "mode": "markers",
           "name": "Nepal",
           "orientation": "v",
           "showlegend": true,
           "type": "scatter",
           "x": [
            20.7
           ],
           "xaxis": "x",
           "y": [
            3030
           ],
           "yaxis": "y"
          },
          {
           "hovertemplate": "<b>%{hovertext}</b><br><br>Country Name=Peru<br>Year=2016<br>Individuals using the Internet (% of population)=%{x}<br>GNI per capita, PPP (current international $)=%{marker.size}<extra></extra>",
           "hovertext": [
            "Peru"
           ],
           "ids": [
            "Peru"
           ],
           "legendgroup": "Peru",
           "marker": {
            "color": "#FF97FF",
            "size": [
             11520
            ],
            "sizemode": "area",
            "sizeref": 331.1,
            "symbol": "circle"
           },
           "mode": "markers",
           "name": "Peru",
           "orientation": "v",
           "showlegend": true,
           "type": "scatter",
           "x": [
            45.46174069
           ],
           "xaxis": "x",
           "y": [
            11520
           ],
           "yaxis": "y"
          },
          {
           "hovertemplate": "<b>%{hovertext}</b><br><br>Country Name=Singapore<br>Year=2016<br>Individuals using the Internet (% of population)=%{x}<br>GNI per capita, PPP (current international $)=%{marker.size}<extra></extra>",
           "hovertext": [
            "Singapore"
           ],
           "ids": [
            "Singapore"
           ],
           "legendgroup": "Singapore",
           "marker": {
            "color": "#FECB52",
            "size": [
             83960
            ],
            "sizemode": "area",
            "sizeref": 331.1,
            "symbol": "circle"
           },
           "mode": "markers",
           "name": "Singapore",
           "orientation": "v",
           "showlegend": true,
           "type": "scatter",
           "x": [
            84.45226789
           ],
           "xaxis": "x",
           "y": [
            83960
           ],
           "yaxis": "y"
          },
          {
           "hovertemplate": "<b>%{hovertext}</b><br><br>Country Name=Uruguay<br>Year=2016<br>Individuals using the Internet (% of population)=%{x}<br>GNI per capita, PPP (current international $)=%{marker.size}<extra></extra>",
           "hovertext": [
            "Uruguay"
           ],
           "ids": [
            "Uruguay"
           ],
           "legendgroup": "Uruguay",
           "marker": {
            "color": "#636efa",
            "size": [
             21410
            ],
            "sizemode": "area",
            "sizeref": 331.1,
            "symbol": "circle"
           },
           "mode": "markers",
           "name": "Uruguay",
           "orientation": "v",
           "showlegend": true,
           "type": "scatter",
           "x": [
            66.4
           ],
           "xaxis": "x",
           "y": [
            21410
           ],
           "yaxis": "y"
          },
          {
           "hovertemplate": "<b>%{hovertext}</b><br><br>Country Name=Zimbabwe<br>Year=2016<br>Individuals using the Internet (% of population)=%{x}<br>GNI per capita, PPP (current international $)=%{marker.size}<extra></extra>",
           "hovertext": [
            "Zimbabwe"
           ],
           "ids": [
            "Zimbabwe"
           ],
           "legendgroup": "Zimbabwe",
           "marker": {
            "color": "#EF553B",
            "size": [
             2750
            ],
            "sizemode": "area",
            "sizeref": 331.1,
            "symbol": "circle"
           },
           "mode": "markers",
           "name": "Zimbabwe",
           "orientation": "v",
           "showlegend": true,
           "type": "scatter",
           "x": [
            23.11998904
           ],
           "xaxis": "x",
           "y": [
            2750
           ],
           "yaxis": "y"
          },
          {
           "hovertemplate": "<b>%{hovertext}</b><br><br>Country Name=Oman<br>Year=2016<br>Individuals using the Internet (% of population)=%{x}<br>GNI per capita, PPP (current international $)=%{marker.size}<extra></extra>",
           "hovertext": [
            "Oman"
           ],
           "ids": [
            "Oman"
           ],
           "legendgroup": "Oman",
           "marker": {
            "color": "#00cc96",
            "size": [
             32280
            ],
            "sizemode": "area",
            "sizeref": 331.1,
            "symbol": "circle"
           },
           "mode": "markers",
           "name": "Oman",
           "orientation": "v",
           "showlegend": true,
           "type": "scatter",
           "x": [
            76.84539047
           ],
           "xaxis": "x",
           "y": [
            32280
           ],
           "yaxis": "y"
          },
          {
           "hovertemplate": "<b>%{hovertext}</b><br><br>Country Name=Ireland<br>Year=2016<br>Individuals using the Internet (% of population)=%{x}<br>GNI per capita, PPP (current international $)=%{marker.size}<extra></extra>",
           "hovertext": [
            "Ireland"
           ],
           "ids": [
            "Ireland"
           ],
           "legendgroup": "Ireland",
           "marker": {
            "color": "#ab63fa",
            "size": [
             58240
            ],
            "sizemode": "area",
            "sizeref": 331.1,
            "symbol": "circle"
           },
           "mode": "markers",
           "name": "Ireland",
           "orientation": "v",
           "showlegend": true,
           "type": "scatter",
           "x": [
            83.5
           ],
           "xaxis": "x",
           "y": [
            58240
           ],
           "yaxis": "y"
          },
          {
           "hovertemplate": "<b>%{hovertext}</b><br><br>Country Name=Hungary<br>Year=2016<br>Individuals using the Internet (% of population)=%{x}<br>GNI per capita, PPP (current international $)=%{marker.size}<extra></extra>",
           "hovertext": [
            "Hungary"
           ],
           "ids": [
            "Hungary"
           ],
           "legendgroup": "Hungary",
           "marker": {
            "color": "#FFA15A",
            "size": [
             27190
            ],
            "sizemode": "area",
            "sizeref": 331.1,
            "symbol": "circle"
           },
           "mode": "markers",
           "name": "Hungary",
           "orientation": "v",
           "showlegend": true,
           "type": "scatter",
           "x": [
            79.25941213
           ],
           "xaxis": "x",
           "y": [
            27190
           ],
           "yaxis": "y"
          },
          {
           "hovertemplate": "<b>%{hovertext}</b><br><br>Country Name=Kazakhstan<br>Year=2016<br>Individuals using the Internet (% of population)=%{x}<br>GNI per capita, PPP (current international $)=%{marker.size}<extra></extra>",
           "hovertext": [
            "Kazakhstan"
           ],
           "ids": [
            "Kazakhstan"
           ],
           "legendgroup": "Kazakhstan",
           "marker": {
            "color": "#19d3f3",
            "size": [
             21490
            ],
            "sizemode": "area",
            "sizeref": 331.1,
            "symbol": "circle"
           },
           "mode": "markers",
           "name": "Kazakhstan",
           "orientation": "v",
           "showlegend": true,
           "type": "scatter",
           "x": [
            74.58772647
           ],
           "xaxis": "x",
           "y": [
            21490
           ],
           "yaxis": "y"
          },
          {
           "hovertemplate": "<b>%{hovertext}</b><br><br>Country Name=Canada<br>Year=2016<br>Individuals using the Internet (% of population)=%{x}<br>GNI per capita, PPP (current international $)=%{marker.size}<extra></extra>",
           "hovertext": [
            "Canada"
           ],
           "ids": [
            "Canada"
           ],
           "legendgroup": "Canada",
           "marker": {
            "color": "#FF6692",
            "size": [
             45900
            ],
            "sizemode": "area",
            "sizeref": 331.1,
            "symbol": "circle"
           },
           "mode": "markers",
           "name": "Canada",
           "orientation": "v",
           "showlegend": true,
           "type": "scatter",
           "x": [
            91.16
           ],
           "xaxis": "x",
           "y": [
            45900
           ],
           "yaxis": "y"
          },
          {
           "hovertemplate": "<b>%{hovertext}</b><br><br>Country Name=Qatar<br>Year=2016<br>Individuals using the Internet (% of population)=%{x}<br>GNI per capita, PPP (current international $)=%{marker.size}<extra></extra>",
           "hovertext": [
            "Qatar"
           ],
           "ids": [
            "Qatar"
           ],
           "legendgroup": "Qatar",
           "marker": {
            "color": "#B6E880",
            "size": [
             82490
            ],
            "sizemode": "area",
            "sizeref": 331.1,
            "symbol": "circle"
           },
           "mode": "markers",
           "name": "Qatar",
           "orientation": "v",
           "showlegend": true,
           "type": "scatter",
           "x": [
            95.12466217
           ],
           "xaxis": "x",
           "y": [
            82490
           ],
           "yaxis": "y"
          },
          {
           "hovertemplate": "<b>%{hovertext}</b><br><br>Country Name=Greece<br>Year=2016<br>Individuals using the Internet (% of population)=%{x}<br>GNI per capita, PPP (current international $)=%{marker.size}<extra></extra>",
           "hovertext": [
            "Greece"
           ],
           "ids": [
            "Greece"
           ],
           "legendgroup": "Greece",
           "marker": {
            "color": "#FF97FF",
            "size": [
             27380
            ],
            "sizemode": "area",
            "sizeref": 331.1,
            "symbol": "circle"
           },
           "mode": "markers",
           "name": "Greece",
           "orientation": "v",
           "showlegend": true,
           "type": "scatter",
           "x": [
            69.08791547
           ],
           "xaxis": "x",
           "y": [
            27380
           ],
           "yaxis": "y"
          }
         ],
         "name": "2016"
        },
        {
         "data": [
          {
           "hovertemplate": "<b>%{hovertext}</b><br><br>Country Name=Australia<br>Year=2017<br>Individuals using the Internet (% of population)=%{x}<br>GNI per capita, PPP (current international $)=%{marker.size}<extra></extra>",
           "hovertext": [
            "Australia"
           ],
           "ids": [
            "Australia"
           ],
           "legendgroup": "Australia",
           "marker": {
            "color": "#636efa",
            "size": [
             47090
            ],
            "sizemode": "area",
            "sizeref": 331.1,
            "symbol": "circle"
           },
           "mode": "markers",
           "name": "Australia",
           "orientation": "v",
           "showlegend": true,
           "type": "scatter",
           "x": [
            86.54504885
           ],
           "xaxis": "x",
           "y": [
            47090
           ],
           "yaxis": "y"
          },
          {
           "hovertemplate": "<b>%{hovertext}</b><br><br>Country Name=Belgium<br>Year=2017<br>Individuals using the Internet (% of population)=%{x}<br>GNI per capita, PPP (current international $)=%{marker.size}<extra></extra>",
           "hovertext": [
            "Belgium"
           ],
           "ids": [
            "Belgium"
           ],
           "legendgroup": "Belgium",
           "marker": {
            "color": "#EF553B",
            "size": [
             50900
            ],
            "sizemode": "area",
            "sizeref": 331.1,
            "symbol": "circle"
           },
           "mode": "markers",
           "name": "Belgium",
           "orientation": "v",
           "showlegend": true,
           "type": "scatter",
           "x": [
            87.67968082
           ],
           "xaxis": "x",
           "y": [
            50900
           ],
           "yaxis": "y"
          },
          {
           "hovertemplate": "<b>%{hovertext}</b><br><br>Country Name=Denmark<br>Year=2017<br>Individuals using the Internet (% of population)=%{x}<br>GNI per capita, PPP (current international $)=%{marker.size}<extra></extra>",
           "hovertext": [
            "Denmark"
           ],
           "ids": [
            "Denmark"
           ],
           "legendgroup": "Denmark",
           "marker": {
            "color": "#00cc96",
            "size": [
             56570
            ],
            "sizemode": "area",
            "sizeref": 331.1,
            "symbol": "circle"
           },
           "mode": "markers",
           "name": "Denmark",
           "orientation": "v",
           "showlegend": true,
           "type": "scatter",
           "x": [
            97.09936216
           ],
           "xaxis": "x",
           "y": [
            56570
           ],
           "yaxis": "y"
          },
          {
           "hovertemplate": "<b>%{hovertext}</b><br><br>Country Name=Ecuador<br>Year=2017<br>Individuals using the Internet (% of population)=%{x}<br>GNI per capita, PPP (current international $)=%{marker.size}<extra></extra>",
           "hovertext": [
            "Ecuador"
           ],
           "ids": [
            "Ecuador"
           ],
           "legendgroup": "Ecuador",
           "marker": {
            "color": "#ab63fa",
            "size": [
             11350
            ],
            "sizemode": "area",
            "sizeref": 331.1,
            "symbol": "circle"
           },
           "mode": "markers",
           "name": "Ecuador",
           "orientation": "v",
           "showlegend": true,
           "type": "scatter",
           "x": [
            55.8
           ],
           "xaxis": "x",
           "y": [
            11350
           ],
           "yaxis": "y"
          },
          {
           "hovertemplate": "<b>%{hovertext}</b><br><br>Country Name=Fiji<br>Year=2017<br>Individuals using the Internet (% of population)=%{x}<br>GNI per capita, PPP (current international $)=%{marker.size}<extra></extra>",
           "hovertext": [
            "Fiji"
           ],
           "ids": [
            "Fiji"
           ],
           "legendgroup": "Fiji",
           "marker": {
            "color": "#FFA15A",
            "size": [
             12370
            ],
            "sizemode": "area",
            "sizeref": 331.1,
            "symbol": "circle"
           },
           "mode": "markers",
           "name": "Fiji",
           "orientation": "v",
           "showlegend": true,
           "type": "scatter",
           "x": [
            65.78
           ],
           "xaxis": "x",
           "y": [
            12370
           ],
           "yaxis": "y"
          },
          {
           "hovertemplate": "<b>%{hovertext}</b><br><br>Country Name=Japan<br>Year=2017<br>Individuals using the Internet (% of population)=%{x}<br>GNI per capita, PPP (current international $)=%{marker.size}<extra></extra>",
           "hovertext": [
            "Japan"
           ],
           "ids": [
            "Japan"
           ],
           "legendgroup": "Japan",
           "marker": {
            "color": "#19d3f3",
            "size": [
             42980
            ],
            "sizemode": "area",
            "sizeref": 331.1,
            "symbol": "circle"
           },
           "mode": "markers",
           "name": "Japan",
           "orientation": "v",
           "showlegend": true,
           "type": "scatter",
           "x": [
            91.72654724
           ],
           "xaxis": "x",
           "y": [
            42980
           ],
           "yaxis": "y"
          },
          {
           "hovertemplate": "<b>%{hovertext}</b><br><br>Country Name=Luxembourg<br>Year=2017<br>Individuals using the Internet (% of population)=%{x}<br>GNI per capita, PPP (current international $)=%{marker.size}<extra></extra>",
           "hovertext": [
            "Luxembourg"
           ],
           "ids": [
            "Luxembourg"
           ],
           "legendgroup": "Luxembourg",
           "marker": {
            "color": "#FF6692",
            "size": [
             82300
            ],
            "sizemode": "area",
            "sizeref": 331.1,
            "symbol": "circle"
           },
           "mode": "markers",
           "name": "Luxembourg",
           "orientation": "v",
           "showlegend": true,
           "type": "scatter",
           "x": [
            97.36296032
           ],
           "xaxis": "x",
           "y": [
            82300
           ],
           "yaxis": "y"
          },
          {
           "hovertemplate": "<b>%{hovertext}</b><br><br>Country Name=Nepal<br>Year=2017<br>Individuals using the Internet (% of population)=%{x}<br>GNI per capita, PPP (current international $)=%{marker.size}<extra></extra>",
           "hovertext": [
            "Nepal"
           ],
           "ids": [
            "Nepal"
           ],
           "legendgroup": "Nepal",
           "marker": {
            "color": "#B6E880",
            "size": [
             3600
            ],
            "sizemode": "area",
            "sizeref": 331.1,
            "symbol": "circle"
           },
           "mode": "markers",
           "name": "Nepal",
           "orientation": "v",
           "showlegend": true,
           "type": "scatter",
           "x": [
            24.3
           ],
           "xaxis": "x",
           "y": [
            3600
           ],
           "yaxis": "y"
          },
          {
           "hovertemplate": "<b>%{hovertext}</b><br><br>Country Name=Peru<br>Year=2017<br>Individuals using the Internet (% of population)=%{x}<br>GNI per capita, PPP (current international $)=%{marker.size}<extra></extra>",
           "hovertext": [
            "Peru"
           ],
           "ids": [
            "Peru"
           ],
           "legendgroup": "Peru",
           "marker": {
            "color": "#FF97FF",
            "size": [
             11930
            ],
            "sizemode": "area",
            "sizeref": 331.1,
            "symbol": "circle"
           },
           "mode": "markers",
           "name": "Peru",
           "orientation": "v",
           "showlegend": true,
           "type": "scatter",
           "x": [
            50.45041218
           ],
           "xaxis": "x",
           "y": [
            11930
           ],
           "yaxis": "y"
          },
          {
           "hovertemplate": "<b>%{hovertext}</b><br><br>Country Name=Singapore<br>Year=2017<br>Individuals using the Internet (% of population)=%{x}<br>GNI per capita, PPP (current international $)=%{marker.size}<extra></extra>",
           "hovertext": [
            "Singapore"
           ],
           "ids": [
            "Singapore"
           ],
           "legendgroup": "Singapore",
           "marker": {
            "color": "#FECB52",
            "size": [
             88110
            ],
            "sizemode": "area",
            "sizeref": 331.1,
            "symbol": "circle"
           },
           "mode": "markers",
           "name": "Singapore",
           "orientation": "v",
           "showlegend": true,
           "type": "scatter",
           "x": [
            84.45226789
           ],
           "xaxis": "x",
           "y": [
            88110
           ],
           "yaxis": "y"
          },
          {
           "hovertemplate": "<b>%{hovertext}</b><br><br>Country Name=Uruguay<br>Year=2017<br>Individuals using the Internet (% of population)=%{x}<br>GNI per capita, PPP (current international $)=%{marker.size}<extra></extra>",
           "hovertext": [
            "Uruguay"
           ],
           "ids": [
            "Uruguay"
           ],
           "legendgroup": "Uruguay",
           "marker": {
            "color": "#636efa",
            "size": [
             21740
            ],
            "sizemode": "area",
            "sizeref": 331.1,
            "symbol": "circle"
           },
           "mode": "markers",
           "name": "Uruguay",
           "orientation": "v",
           "showlegend": true,
           "type": "scatter",
           "x": [
            70.3223544
           ],
           "xaxis": "x",
           "y": [
            21740
           ],
           "yaxis": "y"
          },
          {
           "hovertemplate": "<b>%{hovertext}</b><br><br>Country Name=Zimbabwe<br>Year=2017<br>Individuals using the Internet (% of population)=%{x}<br>GNI per capita, PPP (current international $)=%{marker.size}<extra></extra>",
           "hovertext": [
            "Zimbabwe"
           ],
           "ids": [
            "Zimbabwe"
           ],
           "legendgroup": "Zimbabwe",
           "marker": {
            "color": "#EF553B",
            "size": [
             2370
            ],
            "sizemode": "area",
            "sizeref": 331.1,
            "symbol": "circle"
           },
           "mode": "markers",
           "name": "Zimbabwe",
           "orientation": "v",
           "showlegend": true,
           "type": "scatter",
           "x": [
            24.4
           ],
           "xaxis": "x",
           "y": [
            2370
           ],
           "yaxis": "y"
          },
          {
           "hovertemplate": "<b>%{hovertext}</b><br><br>Country Name=Oman<br>Year=2017<br>Individuals using the Internet (% of population)=%{x}<br>GNI per capita, PPP (current international $)=%{marker.size}<extra></extra>",
           "hovertext": [
            "Oman"
           ],
           "ids": [
            "Oman"
           ],
           "legendgroup": "Oman",
           "marker": {
            "color": "#00cc96",
            "size": [
             32000
            ],
            "sizemode": "area",
            "sizeref": 331.1,
            "symbol": "circle"
           },
           "mode": "markers",
           "name": "Oman",
           "orientation": "v",
           "showlegend": true,
           "type": "scatter",
           "x": [
            80.18563573
           ],
           "xaxis": "x",
           "y": [
            32000
           ],
           "yaxis": "y"
          },
          {
           "hovertemplate": "<b>%{hovertext}</b><br><br>Country Name=Ireland<br>Year=2017<br>Individuals using the Internet (% of population)=%{x}<br>GNI per capita, PPP (current international $)=%{marker.size}<extra></extra>",
           "hovertext": [
            "Ireland"
           ],
           "ids": [
            "Ireland"
           ],
           "legendgroup": "Ireland",
           "marker": {
            "color": "#ab63fa",
            "size": [
             61730
            ],
            "sizemode": "area",
            "sizeref": 331.1,
            "symbol": "circle"
           },
           "mode": "markers",
           "name": "Ireland",
           "orientation": "v",
           "showlegend": true,
           "type": "scatter",
           "x": [
            84.11400706
           ],
           "xaxis": "x",
           "y": [
            61730
           ],
           "yaxis": "y"
          },
          {
           "hovertemplate": "<b>%{hovertext}</b><br><br>Country Name=Hungary<br>Year=2017<br>Individuals using the Internet (% of population)=%{x}<br>GNI per capita, PPP (current international $)=%{marker.size}<extra></extra>",
           "hovertext": [
            "Hungary"
           ],
           "ids": [
            "Hungary"
           ],
           "legendgroup": "Hungary",
           "marker": {
            "color": "#FFA15A",
            "size": [
             28310
            ],
            "sizemode": "area",
            "sizeref": 331.1,
            "symbol": "circle"
           },
           "mode": "markers",
           "name": "Hungary",
           "orientation": "v",
           "showlegend": true,
           "type": "scatter",
           "x": [
            76.75054712
           ],
           "xaxis": "x",
           "y": [
            28310
           ],
           "yaxis": "y"
          },
          {
           "hovertemplate": "<b>%{hovertext}</b><br><br>Country Name=Kazakhstan<br>Year=2017<br>Individuals using the Internet (% of population)=%{x}<br>GNI per capita, PPP (current international $)=%{marker.size}<extra></extra>",
           "hovertext": [
            "Kazakhstan"
           ],
           "ids": [
            "Kazakhstan"
           ],
           "legendgroup": "Kazakhstan",
           "marker": {
            "color": "#19d3f3",
            "size": [
             22160
            ],
            "sizemode": "area",
            "sizeref": 331.1,
            "symbol": "circle"
           },
           "mode": "markers",
           "name": "Kazakhstan",
           "orientation": "v",
           "showlegend": true,
           "type": "scatter",
           "x": [
            76.42674823
           ],
           "xaxis": "x",
           "y": [
            22160
           ],
           "yaxis": "y"
          },
          {
           "hovertemplate": "<b>%{hovertext}</b><br><br>Country Name=Canada<br>Year=2017<br>Individuals using the Internet (% of population)=%{x}<br>GNI per capita, PPP (current international $)=%{marker.size}<extra></extra>",
           "hovertext": [
            "Canada"
           ],
           "ids": [
            "Canada"
           ],
           "legendgroup": "Canada",
           "marker": {
            "color": "#FF6692",
            "size": [
             47700
            ],
            "sizemode": "area",
            "sizeref": 331.1,
            "symbol": "circle"
           },
           "mode": "markers",
           "name": "Canada",
           "orientation": "v",
           "showlegend": true,
           "type": "scatter",
           "x": [
            92.70137191
           ],
           "xaxis": "x",
           "y": [
            47700
           ],
           "yaxis": "y"
          },
          {
           "hovertemplate": "<b>%{hovertext}</b><br><br>Country Name=Qatar<br>Year=2017<br>Individuals using the Internet (% of population)=%{x}<br>GNI per capita, PPP (current international $)=%{marker.size}<extra></extra>",
           "hovertext": [
            "Qatar"
           ],
           "ids": [
            "Qatar"
           ],
           "legendgroup": "Qatar",
           "marker": {
            "color": "#B6E880",
            "size": [
             91500
            ],
            "sizemode": "area",
            "sizeref": 331.1,
            "symbol": "circle"
           },
           "mode": "markers",
           "name": "Qatar",
           "orientation": "v",
           "showlegend": true,
           "type": "scatter",
           "x": [
            97.38884917
           ],
           "xaxis": "x",
           "y": [
            91500
           ],
           "yaxis": "y"
          },
          {
           "hovertemplate": "<b>%{hovertext}</b><br><br>Country Name=Greece<br>Year=2017<br>Individuals using the Internet (% of population)=%{x}<br>GNI per capita, PPP (current international $)=%{marker.size}<extra></extra>",
           "hovertext": [
            "Greece"
           ],
           "ids": [
            "Greece"
           ],
           "legendgroup": "Greece",
           "marker": {
            "color": "#FF97FF",
            "size": [
             28460
            ],
            "sizemode": "area",
            "sizeref": 331.1,
            "symbol": "circle"
           },
           "mode": "markers",
           "name": "Greece",
           "orientation": "v",
           "showlegend": true,
           "type": "scatter",
           "x": [
            69.89297065
           ],
           "xaxis": "x",
           "y": [
            28460
           ],
           "yaxis": "y"
          }
         ],
         "name": "2017"
        },
        {
         "data": [
          {
           "hovertemplate": "<b>%{hovertext}</b><br><br>Country Name=Australia<br>Year=2018<br>Individuals using the Internet (% of population)=%{x}<br>GNI per capita, PPP (current international $)=%{marker.size}<extra></extra>",
           "hovertext": [
            "Australia"
           ],
           "ids": [
            "Australia"
           ],
           "legendgroup": "Australia",
           "marker": {
            "color": "#636efa",
            "size": [
             48600
            ],
            "sizemode": "area",
            "sizeref": 331.1,
            "symbol": "circle"
           },
           "mode": "markers",
           "name": "Australia",
           "orientation": "v",
           "showlegend": true,
           "type": "scatter",
           "x": [
            87.6
           ],
           "xaxis": "x",
           "y": [
            48600
           ],
           "yaxis": "y"
          },
          {
           "hovertemplate": "<b>%{hovertext}</b><br><br>Country Name=Belgium<br>Year=2018<br>Individuals using the Internet (% of population)=%{x}<br>GNI per capita, PPP (current international $)=%{marker.size}<extra></extra>",
           "hovertext": [
            "Belgium"
           ],
           "ids": [
            "Belgium"
           ],
           "legendgroup": "Belgium",
           "marker": {
            "color": "#EF553B",
            "size": [
             52990
            ],
            "sizemode": "area",
            "sizeref": 331.1,
            "symbol": "circle"
           },
           "mode": "markers",
           "name": "Belgium",
           "orientation": "v",
           "showlegend": true,
           "type": "scatter",
           "x": [
            88.647343
           ],
           "xaxis": "x",
           "y": [
            52990
           ],
           "yaxis": "y"
          },
          {
           "hovertemplate": "<b>%{hovertext}</b><br><br>Country Name=Denmark<br>Year=2018<br>Individuals using the Internet (% of population)=%{x}<br>GNI per capita, PPP (current international $)=%{marker.size}<extra></extra>",
           "hovertext": [
            "Denmark"
           ],
           "ids": [
            "Denmark"
           ],
           "legendgroup": "Denmark",
           "marker": {
            "color": "#00cc96",
            "size": [
             59080
            ],
            "sizemode": "area",
            "sizeref": 331.1,
            "symbol": "circle"
           },
           "mode": "markers",
           "name": "Denmark",
           "orientation": "v",
           "showlegend": true,
           "type": "scatter",
           "x": [
            97.31920437
           ],
           "xaxis": "x",
           "y": [
            59080
           ],
           "yaxis": "y"
          },
          {
           "hovertemplate": "<b>%{hovertext}</b><br><br>Country Name=Ecuador<br>Year=2018<br>Individuals using the Internet (% of population)=%{x}<br>GNI per capita, PPP (current international $)=%{marker.size}<extra></extra>",
           "hovertext": [
            "Ecuador"
           ],
           "ids": [
            "Ecuador"
           ],
           "legendgroup": "Ecuador",
           "marker": {
            "color": "#ab63fa",
            "size": [
             11510
            ],
            "sizemode": "area",
            "sizeref": 331.1,
            "symbol": "circle"
           },
           "mode": "markers",
           "name": "Ecuador",
           "orientation": "v",
           "showlegend": true,
           "type": "scatter",
           "x": [
            57.5
           ],
           "xaxis": "x",
           "y": [
            11510
           ],
           "yaxis": "y"
          },
          {
           "hovertemplate": "<b>%{hovertext}</b><br><br>Country Name=Fiji<br>Year=2018<br>Individuals using the Internet (% of population)=%{x}<br>GNI per capita, PPP (current international $)=%{marker.size}<extra></extra>",
           "hovertext": [
            "Fiji"
           ],
           "ids": [
            "Fiji"
           ],
           "legendgroup": "Fiji",
           "marker": {
            "color": "#FFA15A",
            "size": [
             13260
            ],
            "sizemode": "area",
            "sizeref": 331.1,
            "symbol": "circle"
           },
           "mode": "markers",
           "name": "Fiji",
           "orientation": "v",
           "showlegend": true,
           "type": "scatter",
           "x": [
            68.9
           ],
           "xaxis": "x",
           "y": [
            13260
           ],
           "yaxis": "y"
          },
          {
           "hovertemplate": "<b>%{hovertext}</b><br><br>Country Name=Japan<br>Year=2018<br>Individuals using the Internet (% of population)=%{x}<br>GNI per capita, PPP (current international $)=%{marker.size}<extra></extra>",
           "hovertext": [
            "Japan"
           ],
           "ids": [
            "Japan"
           ],
           "legendgroup": "Japan",
           "marker": {
            "color": "#19d3f3",
            "size": [
             43730
            ],
            "sizemode": "area",
            "sizeref": 331.1,
            "symbol": "circle"
           },
           "mode": "markers",
           "name": "Japan",
           "orientation": "v",
           "showlegend": true,
           "type": "scatter",
           "x": [
            91.28
           ],
           "xaxis": "x",
           "y": [
            43730
           ],
           "yaxis": "y"
          },
          {
           "hovertemplate": "<b>%{hovertext}</b><br><br>Country Name=Luxembourg<br>Year=2018<br>Individuals using the Internet (% of population)=%{x}<br>GNI per capita, PPP (current international $)=%{marker.size}<extra></extra>",
           "hovertext": [
            "Luxembourg"
           ],
           "ids": [
            "Luxembourg"
           ],
           "legendgroup": "Luxembourg",
           "marker": {
            "color": "#FF6692",
            "size": [
             82820
            ],
            "sizemode": "area",
            "sizeref": 331.1,
            "symbol": "circle"
           },
           "mode": "markers",
           "name": "Luxembourg",
           "orientation": "v",
           "showlegend": true,
           "type": "scatter",
           "x": [
            97.06129871
           ],
           "xaxis": "x",
           "y": [
            82820
           ],
           "yaxis": "y"
          },
          {
           "hovertemplate": "<b>%{hovertext}</b><br><br>Country Name=Nepal<br>Year=2018<br>Individuals using the Internet (% of population)=%{x}<br>GNI per capita, PPP (current international $)=%{marker.size}<extra></extra>",
           "hovertext": [
            "Nepal"
           ],
           "ids": [
            "Nepal"
           ],
           "legendgroup": "Nepal",
           "marker": {
            "color": "#B6E880",
            "size": [
             3890
            ],
            "sizemode": "area",
            "sizeref": 331.1,
            "symbol": "circle"
           },
           "mode": "markers",
           "name": "Nepal",
           "orientation": "v",
           "showlegend": true,
           "type": "scatter",
           "x": [
            28.6
           ],
           "xaxis": "x",
           "y": [
            3890
           ],
           "yaxis": "y"
          },
          {
           "hovertemplate": "<b>%{hovertext}</b><br><br>Country Name=Peru<br>Year=2018<br>Individuals using the Internet (% of population)=%{x}<br>GNI per capita, PPP (current international $)=%{marker.size}<extra></extra>",
           "hovertext": [
            "Peru"
           ],
           "ids": [
            "Peru"
           ],
           "legendgroup": "Peru",
           "marker": {
            "color": "#FF97FF",
            "size": [
             12440
            ],
            "sizemode": "area",
            "sizeref": 331.1,
            "symbol": "circle"
           },
           "mode": "markers",
           "name": "Peru",
           "orientation": "v",
           "showlegend": true,
           "type": "scatter",
           "x": [
            55.05433424
           ],
           "xaxis": "x",
           "y": [
            12440
           ],
           "yaxis": "y"
          },
          {
           "hovertemplate": "<b>%{hovertext}</b><br><br>Country Name=Singapore<br>Year=2018<br>Individuals using the Internet (% of population)=%{x}<br>GNI per capita, PPP (current international $)=%{marker.size}<extra></extra>",
           "hovertext": [
            "Singapore"
           ],
           "ids": [
            "Singapore"
           ],
           "legendgroup": "Singapore",
           "marker": {
            "color": "#FECB52",
            "size": [
             88450
            ],
            "sizemode": "area",
            "sizeref": 331.1,
            "symbol": "circle"
           },
           "mode": "markers",
           "name": "Singapore",
           "orientation": "v",
           "showlegend": true,
           "type": "scatter",
           "x": [
            88.16563603
           ],
           "xaxis": "x",
           "y": [
            88450
           ],
           "yaxis": "y"
          },
          {
           "hovertemplate": "<b>%{hovertext}</b><br><br>Country Name=Uruguay<br>Year=2018<br>Individuals using the Internet (% of population)=%{x}<br>GNI per capita, PPP (current international $)=%{marker.size}<extra></extra>",
           "hovertext": [
            "Uruguay"
           ],
           "ids": [
            "Uruguay"
           ],
           "legendgroup": "Uruguay",
           "marker": {
            "color": "#636efa",
            "size": [
             22260
            ],
            "sizemode": "area",
            "sizeref": 331.1,
            "symbol": "circle"
           },
           "mode": "markers",
           "name": "Uruguay",
           "orientation": "v",
           "showlegend": true,
           "type": "scatter",
           "x": [
            80.72684288
           ],
           "xaxis": "x",
           "y": [
            22260
           ],
           "yaxis": "y"
          },
          {
           "hovertemplate": "<b>%{hovertext}</b><br><br>Country Name=Zimbabwe<br>Year=2018<br>Individuals using the Internet (% of population)=%{x}<br>GNI per capita, PPP (current international $)=%{marker.size}<extra></extra>",
           "hovertext": [
            "Zimbabwe"
           ],
           "ids": [
            "Zimbabwe"
           ],
           "legendgroup": "Zimbabwe",
           "marker": {
            "color": "#EF553B",
            "size": [
             2510
            ],
            "sizemode": "area",
            "sizeref": 331.1,
            "symbol": "circle"
           },
           "mode": "markers",
           "name": "Zimbabwe",
           "orientation": "v",
           "showlegend": true,
           "type": "scatter",
           "x": [
            25
           ],
           "xaxis": "x",
           "y": [
            2510
           ],
           "yaxis": "y"
          },
          {
           "hovertemplate": "<b>%{hovertext}</b><br><br>Country Name=Oman<br>Year=2018<br>Individuals using the Internet (% of population)=%{x}<br>GNI per capita, PPP (current international $)=%{marker.size}<extra></extra>",
           "hovertext": [
            "Oman"
           ],
           "ids": [
            "Oman"
           ],
           "legendgroup": "Oman",
           "marker": {
            "color": "#00cc96",
            "size": [
             31450
            ],
            "sizemode": "area",
            "sizeref": 331.1,
            "symbol": "circle"
           },
           "mode": "markers",
           "name": "Oman",
           "orientation": "v",
           "showlegend": true,
           "type": "scatter",
           "x": [
            85.5
           ],
           "xaxis": "x",
           "y": [
            31450
           ],
           "yaxis": "y"
          },
          {
           "hovertemplate": "<b>%{hovertext}</b><br><br>Country Name=Ireland<br>Year=2018<br>Individuals using the Internet (% of population)=%{x}<br>GNI per capita, PPP (current international $)=%{marker.size}<extra></extra>",
           "hovertext": [
            "Ireland"
           ],
           "ids": [
            "Ireland"
           ],
           "legendgroup": "Ireland",
           "marker": {
            "color": "#ab63fa",
            "size": [
             65490
            ],
            "sizemode": "area",
            "sizeref": 331.1,
            "symbol": "circle"
           },
           "mode": "markers",
           "name": "Ireland",
           "orientation": "v",
           "showlegend": true,
           "type": "scatter",
           "x": [
            87.00014011
           ],
           "xaxis": "x",
           "y": [
            65490
           ],
           "yaxis": "y"
          },
          {
           "hovertemplate": "<b>%{hovertext}</b><br><br>Country Name=Hungary<br>Year=2018<br>Individuals using the Internet (% of population)=%{x}<br>GNI per capita, PPP (current international $)=%{marker.size}<extra></extra>",
           "hovertext": [
            "Hungary"
           ],
           "ids": [
            "Hungary"
           ],
           "legendgroup": "Hungary",
           "marker": {
            "color": "#FFA15A",
            "size": [
             30660
            ],
            "sizemode": "area",
            "sizeref": 331.1,
            "symbol": "circle"
           },
           "mode": "markers",
           "name": "Hungary",
           "orientation": "v",
           "showlegend": true,
           "type": "scatter",
           "x": [
            76.07436064
           ],
           "xaxis": "x",
           "y": [
            30660
           ],
           "yaxis": "y"
          },
          {
           "hovertemplate": "<b>%{hovertext}</b><br><br>Country Name=Kazakhstan<br>Year=2018<br>Individuals using the Internet (% of population)=%{x}<br>GNI per capita, PPP (current international $)=%{marker.size}<extra></extra>",
           "hovertext": [
            "Kazakhstan"
           ],
           "ids": [
            "Kazakhstan"
           ],
           "legendgroup": "Kazakhstan",
           "marker": {
            "color": "#19d3f3",
            "size": [
             22940
            ],
            "sizemode": "area",
            "sizeref": 331.1,
            "symbol": "circle"
           },
           "mode": "markers",
           "name": "Kazakhstan",
           "orientation": "v",
           "showlegend": true,
           "type": "scatter",
           "x": [
            78.90391906
           ],
           "xaxis": "x",
           "y": [
            22940
           ],
           "yaxis": "y"
          },
          {
           "hovertemplate": "<b>%{hovertext}</b><br><br>Country Name=Canada<br>Year=2018<br>Individuals using the Internet (% of population)=%{x}<br>GNI per capita, PPP (current international $)=%{marker.size}<extra></extra>",
           "hovertext": [
            "Canada"
           ],
           "ids": [
            "Canada"
           ],
           "legendgroup": "Canada",
           "marker": {
            "color": "#FF6692",
            "size": [
             49140
            ],
            "sizemode": "area",
            "sizeref": 331.1,
            "symbol": "circle"
           },
           "mode": "markers",
           "name": "Canada",
           "orientation": "v",
           "showlegend": true,
           "type": "scatter",
           "x": [
            94.64
           ],
           "xaxis": "x",
           "y": [
            49140
           ],
           "yaxis": "y"
          },
          {
           "hovertemplate": "<b>%{hovertext}</b><br><br>Country Name=Qatar<br>Year=2018<br>Individuals using the Internet (% of population)=%{x}<br>GNI per capita, PPP (current international $)=%{marker.size}<extra></extra>",
           "hovertext": [
            "Qatar"
           ],
           "ids": [
            "Qatar"
           ],
           "legendgroup": "Qatar",
           "marker": {
            "color": "#B6E880",
            "size": [
             91240
            ],
            "sizemode": "area",
            "sizeref": 331.1,
            "symbol": "circle"
           },
           "mode": "markers",
           "name": "Qatar",
           "orientation": "v",
           "showlegend": true,
           "type": "scatter",
           "x": [
            99.65284913
           ],
           "xaxis": "x",
           "y": [
            91240
           ],
           "yaxis": "y"
          },
          {
           "hovertemplate": "<b>%{hovertext}</b><br><br>Country Name=Greece<br>Year=2018<br>Individuals using the Internet (% of population)=%{x}<br>GNI per capita, PPP (current international $)=%{marker.size}<extra></extra>",
           "hovertext": [
            "Greece"
           ],
           "ids": [
            "Greece"
           ],
           "legendgroup": "Greece",
           "marker": {
            "color": "#FF97FF",
            "size": [
             29290
            ],
            "sizemode": "area",
            "sizeref": 331.1,
            "symbol": "circle"
           },
           "mode": "markers",
           "name": "Greece",
           "orientation": "v",
           "showlegend": true,
           "type": "scatter",
           "x": [
            72.23837339
           ],
           "xaxis": "x",
           "y": [
            29290
           ],
           "yaxis": "y"
          }
         ],
         "name": "2018"
        },
        {
         "data": [
          {
           "hovertemplate": "<b>%{hovertext}</b><br><br>Country Name=Australia<br>Year=2019<br>Individuals using the Internet (% of population)=%{x}<br>GNI per capita, PPP (current international $)=%{marker.size}<extra></extra>",
           "hovertext": [
            "Australia"
           ],
           "ids": [
            "Australia"
           ],
           "legendgroup": "Australia",
           "marker": {
            "color": "#636efa",
            "size": [
             50090
            ],
            "sizemode": "area",
            "sizeref": 331.1,
            "symbol": "circle"
           },
           "mode": "markers",
           "name": "Australia",
           "orientation": "v",
           "showlegend": true,
           "type": "scatter",
           "x": [
            88.6
           ],
           "xaxis": "x",
           "y": [
            50090
           ],
           "yaxis": "y"
          },
          {
           "hovertemplate": "<b>%{hovertext}</b><br><br>Country Name=Belgium<br>Year=2019<br>Individuals using the Internet (% of population)=%{x}<br>GNI per capita, PPP (current international $)=%{marker.size}<extra></extra>",
           "hovertext": [
            "Belgium"
           ],
           "ids": [
            "Belgium"
           ],
           "legendgroup": "Belgium",
           "marker": {
            "color": "#EF553B",
            "size": [
             54790
            ],
            "sizemode": "area",
            "sizeref": 331.1,
            "symbol": "circle"
           },
           "mode": "markers",
           "name": "Belgium",
           "orientation": "v",
           "showlegend": true,
           "type": "scatter",
           "x": [
            90.27542981
           ],
           "xaxis": "x",
           "y": [
            54790
           ],
           "yaxis": "y"
          },
          {
           "hovertemplate": "<b>%{hovertext}</b><br><br>Country Name=Denmark<br>Year=2019<br>Individuals using the Internet (% of population)=%{x}<br>GNI per capita, PPP (current international $)=%{marker.size}<extra></extra>",
           "hovertext": [
            "Denmark"
           ],
           "ids": [
            "Denmark"
           ],
           "legendgroup": "Denmark",
           "marker": {
            "color": "#00cc96",
            "size": [
             60400
            ],
            "sizemode": "area",
            "sizeref": 331.1,
            "symbol": "circle"
           },
           "mode": "markers",
           "name": "Denmark",
           "orientation": "v",
           "showlegend": true,
           "type": "scatter",
           "x": [
            98.04643475
           ],
           "xaxis": "x",
           "y": [
            60400
           ],
           "yaxis": "y"
          },
          {
           "hovertemplate": "<b>%{hovertext}</b><br><br>Country Name=Ecuador<br>Year=2019<br>Individuals using the Internet (% of population)=%{x}<br>GNI per capita, PPP (current international $)=%{marker.size}<extra></extra>",
           "hovertext": [
            "Ecuador"
           ],
           "ids": [
            "Ecuador"
           ],
           "legendgroup": "Ecuador",
           "marker": {
            "color": "#ab63fa",
            "size": [
             11500
            ],
            "sizemode": "area",
            "sizeref": 331.1,
            "symbol": "circle"
           },
           "mode": "markers",
           "name": "Ecuador",
           "orientation": "v",
           "showlegend": true,
           "type": "scatter",
           "x": [
            61.6
           ],
           "xaxis": "x",
           "y": [
            11500
           ],
           "yaxis": "y"
          },
          {
           "hovertemplate": "<b>%{hovertext}</b><br><br>Country Name=Japan<br>Year=2019<br>Individuals using the Internet (% of population)=%{x}<br>GNI per capita, PPP (current international $)=%{marker.size}<extra></extra>",
           "hovertext": [
            "Japan"
           ],
           "ids": [
            "Japan"
           ],
           "legendgroup": "Japan",
           "marker": {
            "color": "#19d3f3",
            "size": [
             43930
            ],
            "sizemode": "area",
            "sizeref": 331.1,
            "symbol": "circle"
           },
           "mode": "markers",
           "name": "Japan",
           "orientation": "v",
           "showlegend": true,
           "type": "scatter",
           "x": [
            92.73039781
           ],
           "xaxis": "x",
           "y": [
            43930
           ],
           "yaxis": "y"
          },
          {
           "hovertemplate": "<b>%{hovertext}</b><br><br>Country Name=Luxembourg<br>Year=2019<br>Individuals using the Internet (% of population)=%{x}<br>GNI per capita, PPP (current international $)=%{marker.size}<extra></extra>",
           "hovertext": [
            "Luxembourg"
           ],
           "ids": [
            "Luxembourg"
           ],
           "legendgroup": "Luxembourg",
           "marker": {
            "color": "#FF6692",
            "size": [
             77680
            ],
            "sizemode": "area",
            "sizeref": 331.1,
            "symbol": "circle"
           },
           "mode": "markers",
           "name": "Luxembourg",
           "orientation": "v",
           "showlegend": true,
           "type": "scatter",
           "x": [
            97.12063569
           ],
           "xaxis": "x",
           "y": [
            77680
           ],
           "yaxis": "y"
          },
          {
           "hovertemplate": "<b>%{hovertext}</b><br><br>Country Name=Nepal<br>Year=2019<br>Individuals using the Internet (% of population)=%{x}<br>GNI per capita, PPP (current international $)=%{marker.size}<extra></extra>",
           "hovertext": [
            "Nepal"
           ],
           "ids": [
            "Nepal"
           ],
           "legendgroup": "Nepal",
           "marker": {
            "color": "#B6E880",
            "size": [
             4160
            ],
            "sizemode": "area",
            "sizeref": 331.1,
            "symbol": "circle"
           },
           "mode": "markers",
           "name": "Nepal",
           "orientation": "v",
           "showlegend": true,
           "type": "scatter",
           "x": [
            32.8
           ],
           "xaxis": "x",
           "y": [
            4160
           ],
           "yaxis": "y"
          },
          {
           "hovertemplate": "<b>%{hovertext}</b><br><br>Country Name=Peru<br>Year=2019<br>Individuals using the Internet (% of population)=%{x}<br>GNI per capita, PPP (current international $)=%{marker.size}<extra></extra>",
           "hovertext": [
            "Peru"
           ],
           "ids": [
            "Peru"
           ],
           "legendgroup": "Peru",
           "marker": {
            "color": "#FF97FF",
            "size": [
             12920
            ],
            "sizemode": "area",
            "sizeref": 331.1,
            "symbol": "circle"
           },
           "mode": "markers",
           "name": "Peru",
           "orientation": "v",
           "showlegend": true,
           "type": "scatter",
           "x": [
            59.95050106
           ],
           "xaxis": "x",
           "y": [
            12920
           ],
           "yaxis": "y"
          },
          {
           "hovertemplate": "<b>%{hovertext}</b><br><br>Country Name=Singapore<br>Year=2019<br>Individuals using the Internet (% of population)=%{x}<br>GNI per capita, PPP (current international $)=%{marker.size}<extra></extra>",
           "hovertext": [
            "Singapore"
           ],
           "ids": [
            "Singapore"
           ],
           "legendgroup": "Singapore",
           "marker": {
            "color": "#FECB52",
            "size": [
             89630
            ],
            "sizemode": "area",
            "sizeref": 331.1,
            "symbol": "circle"
           },
           "mode": "markers",
           "name": "Singapore",
           "orientation": "v",
           "showlegend": true,
           "type": "scatter",
           "x": [
            88.94925269
           ],
           "xaxis": "x",
           "y": [
            89630
           ],
           "yaxis": "y"
          },
          {
           "hovertemplate": "<b>%{hovertext}</b><br><br>Country Name=Uruguay<br>Year=2019<br>Individuals using the Internet (% of population)=%{x}<br>GNI per capita, PPP (current international $)=%{marker.size}<extra></extra>",
           "hovertext": [
            "Uruguay"
           ],
           "ids": [
            "Uruguay"
           ],
           "legendgroup": "Uruguay",
           "marker": {
            "color": "#636efa",
            "size": [
             22840
            ],
            "sizemode": "area",
            "sizeref": 331.1,
            "symbol": "circle"
           },
           "mode": "markers",
           "name": "Uruguay",
           "orientation": "v",
           "showlegend": true,
           "type": "scatter",
           "x": [
            83.35153377
           ],
           "xaxis": "x",
           "y": [
            22840
           ],
           "yaxis": "y"
          },
          {
           "hovertemplate": "<b>%{hovertext}</b><br><br>Country Name=Zimbabwe<br>Year=2019<br>Individuals using the Internet (% of population)=%{x}<br>GNI per capita, PPP (current international $)=%{marker.size}<extra></extra>",
           "hovertext": [
            "Zimbabwe"
           ],
           "ids": [
            "Zimbabwe"
           ],
           "legendgroup": "Zimbabwe",
           "marker": {
            "color": "#EF553B",
            "size": [
             2360
            ],
            "sizemode": "area",
            "sizeref": 331.1,
            "symbol": "circle"
           },
           "mode": "markers",
           "name": "Zimbabwe",
           "orientation": "v",
           "showlegend": true,
           "type": "scatter",
           "x": [
            25.1
           ],
           "xaxis": "x",
           "y": [
            2360
           ],
           "yaxis": "y"
          },
          {
           "hovertemplate": "<b>%{hovertext}</b><br><br>Country Name=Oman<br>Year=2019<br>Individuals using the Internet (% of population)=%{x}<br>GNI per capita, PPP (current international $)=%{marker.size}<extra></extra>",
           "hovertext": [
            "Oman"
           ],
           "ids": [
            "Oman"
           ],
           "legendgroup": "Oman",
           "marker": {
            "color": "#00cc96",
            "size": [
             30330
            ],
            "sizemode": "area",
            "sizeref": 331.1,
            "symbol": "circle"
           },
           "mode": "markers",
           "name": "Oman",
           "orientation": "v",
           "showlegend": true,
           "type": "scatter",
           "x": [
            90.3
           ],
           "xaxis": "x",
           "y": [
            30330
           ],
           "yaxis": "y"
          },
          {
           "hovertemplate": "<b>%{hovertext}</b><br><br>Country Name=Ireland<br>Year=2019<br>Individuals using the Internet (% of population)=%{x}<br>GNI per capita, PPP (current international $)=%{marker.size}<extra></extra>",
           "hovertext": [
            "Ireland"
           ],
           "ids": [
            "Ireland"
           ],
           "legendgroup": "Ireland",
           "marker": {
            "color": "#ab63fa",
            "size": [
             67820
            ],
            "sizemode": "area",
            "sizeref": 331.1,
            "symbol": "circle"
           },
           "mode": "markers",
           "name": "Ireland",
           "orientation": "v",
           "showlegend": true,
           "type": "scatter",
           "x": [
            87.00005524
           ],
           "xaxis": "x",
           "y": [
            67820
           ],
           "yaxis": "y"
          },
          {
           "hovertemplate": "<b>%{hovertext}</b><br><br>Country Name=Hungary<br>Year=2019<br>Individuals using the Internet (% of population)=%{x}<br>GNI per capita, PPP (current international $)=%{marker.size}<extra></extra>",
           "hovertext": [
            "Hungary"
           ],
           "ids": [
            "Hungary"
           ],
           "legendgroup": "Hungary",
           "marker": {
            "color": "#FFA15A",
            "size": [
             32630
            ],
            "sizemode": "area",
            "sizeref": 331.1,
            "symbol": "circle"
           },
           "mode": "markers",
           "name": "Hungary",
           "orientation": "v",
           "showlegend": true,
           "type": "scatter",
           "x": [
            80.37169361
           ],
           "xaxis": "x",
           "y": [
            32630
           ],
           "yaxis": "y"
          },
          {
           "hovertemplate": "<b>%{hovertext}</b><br><br>Country Name=Kazakhstan<br>Year=2019<br>Individuals using the Internet (% of population)=%{x}<br>GNI per capita, PPP (current international $)=%{marker.size}<extra></extra>",
           "hovertext": [
            "Kazakhstan"
           ],
           "ids": [
            "Kazakhstan"
           ],
           "legendgroup": "Kazakhstan",
           "marker": {
            "color": "#19d3f3",
            "size": [
             24030
            ],
            "sizemode": "area",
            "sizeref": 331.1,
            "symbol": "circle"
           },
           "mode": "markers",
           "name": "Kazakhstan",
           "orientation": "v",
           "showlegend": true,
           "type": "scatter",
           "x": [
            81.87762047
           ],
           "xaxis": "x",
           "y": [
            24030
           ],
           "yaxis": "y"
          },
          {
           "hovertemplate": "<b>%{hovertext}</b><br><br>Country Name=Canada<br>Year=2019<br>Individuals using the Internet (% of population)=%{x}<br>GNI per capita, PPP (current international $)=%{marker.size}<extra></extra>",
           "hovertext": [
            "Canada"
           ],
           "ids": [
            "Canada"
           ],
           "legendgroup": "Canada",
           "marker": {
            "color": "#FF6692",
            "size": [
             48670
            ],
            "sizemode": "area",
            "sizeref": 331.1,
            "symbol": "circle"
           },
           "mode": "markers",
           "name": "Canada",
           "orientation": "v",
           "showlegend": true,
           "type": "scatter",
           "x": [
            96.5
           ],
           "xaxis": "x",
           "y": [
            48670
           ],
           "yaxis": "y"
          },
          {
           "hovertemplate": "<b>%{hovertext}</b><br><br>Country Name=Qatar<br>Year=2019<br>Individuals using the Internet (% of population)=%{x}<br>GNI per capita, PPP (current international $)=%{marker.size}<extra></extra>",
           "hovertext": [
            "Qatar"
           ],
           "ids": [
            "Qatar"
           ],
           "legendgroup": "Qatar",
           "marker": {
            "color": "#B6E880",
            "size": [
             91490
            ],
            "sizemode": "area",
            "sizeref": 331.1,
            "symbol": "circle"
           },
           "mode": "markers",
           "name": "Qatar",
           "orientation": "v",
           "showlegend": true,
           "type": "scatter",
           "x": [
            99.65280421
           ],
           "xaxis": "x",
           "y": [
            91490
           ],
           "yaxis": "y"
          },
          {
           "hovertemplate": "<b>%{hovertext}</b><br><br>Country Name=Greece<br>Year=2019<br>Individuals using the Internet (% of population)=%{x}<br>GNI per capita, PPP (current international $)=%{marker.size}<extra></extra>",
           "hovertext": [
            "Greece"
           ],
           "ids": [
            "Greece"
           ],
           "legendgroup": "Greece",
           "marker": {
            "color": "#FF97FF",
            "size": [
             30080
            ],
            "sizemode": "area",
            "sizeref": 331.1,
            "symbol": "circle"
           },
           "mode": "markers",
           "name": "Greece",
           "orientation": "v",
           "showlegend": true,
           "type": "scatter",
           "x": [
            75.67120669
           ],
           "xaxis": "x",
           "y": [
            30080
           ],
           "yaxis": "y"
          }
         ],
         "name": "2019"
        },
        {
         "data": [
          {
           "hovertemplate": "<b>%{hovertext}</b><br><br>Country Name=Australia<br>Year=2020<br>Individuals using the Internet (% of population)=%{x}<br>GNI per capita, PPP (current international $)=%{marker.size}<extra></extra>",
           "hovertext": [
            "Australia"
           ],
           "ids": [
            "Australia"
           ],
           "legendgroup": "Australia",
           "marker": {
            "color": "#636efa",
            "size": [
             52230
            ],
            "sizemode": "area",
            "sizeref": 331.1,
            "symbol": "circle"
           },
           "mode": "markers",
           "name": "Australia",
           "orientation": "v",
           "showlegend": true,
           "type": "scatter",
           "x": [
            89.6
           ],
           "xaxis": "x",
           "y": [
            52230
           ],
           "yaxis": "y"
          },
          {
           "hovertemplate": "<b>%{hovertext}</b><br><br>Country Name=Belgium<br>Year=2020<br>Individuals using the Internet (% of population)=%{x}<br>GNI per capita, PPP (current international $)=%{marker.size}<extra></extra>",
           "hovertext": [
            "Belgium"
           ],
           "ids": [
            "Belgium"
           ],
           "legendgroup": "Belgium",
           "marker": {
            "color": "#EF553B",
            "size": [
             53650
            ],
            "sizemode": "area",
            "sizeref": 331.1,
            "symbol": "circle"
           },
           "mode": "markers",
           "name": "Belgium",
           "orientation": "v",
           "showlegend": true,
           "type": "scatter",
           "x": [
            91.52641629
           ],
           "xaxis": "x",
           "y": [
            53650
           ],
           "yaxis": "y"
          },
          {
           "hovertemplate": "<b>%{hovertext}</b><br><br>Country Name=Denmark<br>Year=2020<br>Individuals using the Internet (% of population)=%{x}<br>GNI per capita, PPP (current international $)=%{marker.size}<extra></extra>",
           "hovertext": [
            "Denmark"
           ],
           "ids": [
            "Denmark"
           ],
           "legendgroup": "Denmark",
           "marker": {
            "color": "#00cc96",
            "size": [
             62260
            ],
            "sizemode": "area",
            "sizeref": 331.1,
            "symbol": "circle"
           },
           "mode": "markers",
           "name": "Denmark",
           "orientation": "v",
           "showlegend": true,
           "type": "scatter",
           "x": [
            96.54914573
           ],
           "xaxis": "x",
           "y": [
            62260
           ],
           "yaxis": "y"
          },
          {
           "hovertemplate": "<b>%{hovertext}</b><br><br>Country Name=Ecuador<br>Year=2020<br>Individuals using the Internet (% of population)=%{x}<br>GNI per capita, PPP (current international $)=%{marker.size}<extra></extra>",
           "hovertext": [
            "Ecuador"
           ],
           "ids": [
            "Ecuador"
           ],
           "legendgroup": "Ecuador",
           "marker": {
            "color": "#ab63fa",
            "size": [
             10580
            ],
            "sizemode": "area",
            "sizeref": 331.1,
            "symbol": "circle"
           },
           "mode": "markers",
           "name": "Ecuador",
           "orientation": "v",
           "showlegend": true,
           "type": "scatter",
           "x": [
            64.6
           ],
           "xaxis": "x",
           "y": [
            10580
           ],
           "yaxis": "y"
          },
          {
           "hovertemplate": "<b>%{hovertext}</b><br><br>Country Name=Japan<br>Year=2020<br>Individuals using the Internet (% of population)=%{x}<br>GNI per capita, PPP (current international $)=%{marker.size}<extra></extra>",
           "hovertext": [
            "Japan"
           ],
           "ids": [
            "Japan"
           ],
           "legendgroup": "Japan",
           "marker": {
            "color": "#19d3f3",
            "size": [
             43630
            ],
            "sizemode": "area",
            "sizeref": 331.1,
            "symbol": "circle"
           },
           "mode": "markers",
           "name": "Japan",
           "orientation": "v",
           "showlegend": true,
           "type": "scatter",
           "x": [
            90.21945812
           ],
           "xaxis": "x",
           "y": [
            43630
           ],
           "yaxis": "y"
          },
          {
           "hovertemplate": "<b>%{hovertext}</b><br><br>Country Name=Luxembourg<br>Year=2020<br>Individuals using the Internet (% of population)=%{x}<br>GNI per capita, PPP (current international $)=%{marker.size}<extra></extra>",
           "hovertext": [
            "Luxembourg"
           ],
           "ids": [
            "Luxembourg"
           ],
           "legendgroup": "Luxembourg",
           "marker": {
            "color": "#FF6692",
            "size": [
             83230
            ],
            "sizemode": "area",
            "sizeref": 331.1,
            "symbol": "circle"
           },
           "mode": "markers",
           "name": "Luxembourg",
           "orientation": "v",
           "showlegend": true,
           "type": "scatter",
           "x": [
            98.82242384
           ],
           "xaxis": "x",
           "y": [
            83230
           ],
           "yaxis": "y"
          },
          {
           "hovertemplate": "<b>%{hovertext}</b><br><br>Country Name=Nepal<br>Year=2020<br>Individuals using the Internet (% of population)=%{x}<br>GNI per capita, PPP (current international $)=%{marker.size}<extra></extra>",
           "hovertext": [
            "Nepal"
           ],
           "ids": [
            "Nepal"
           ],
           "legendgroup": "Nepal",
           "marker": {
            "color": "#B6E880",
            "size": [
             4040
            ],
            "sizemode": "area",
            "sizeref": 331.1,
            "symbol": "circle"
           },
           "mode": "markers",
           "name": "Nepal",
           "orientation": "v",
           "showlegend": true,
           "type": "scatter",
           "x": [
            37.7
           ],
           "xaxis": "x",
           "y": [
            4040
           ],
           "yaxis": "y"
          },
          {
           "hovertemplate": "<b>%{hovertext}</b><br><br>Country Name=Peru<br>Year=2020<br>Individuals using the Internet (% of population)=%{x}<br>GNI per capita, PPP (current international $)=%{marker.size}<extra></extra>",
           "hovertext": [
            "Peru"
           ],
           "ids": [
            "Peru"
           ],
           "legendgroup": "Peru",
           "marker": {
            "color": "#FF97FF",
            "size": [
             11590
            ],
            "sizemode": "area",
            "sizeref": 331.1,
            "symbol": "circle"
           },
           "mode": "markers",
           "name": "Peru",
           "orientation": "v",
           "showlegend": true,
           "type": "scatter",
           "x": [
            65.25
           ],
           "xaxis": "x",
           "y": [
            11590
           ],
           "yaxis": "y"
          },
          {
           "hovertemplate": "<b>%{hovertext}</b><br><br>Country Name=Singapore<br>Year=2020<br>Individuals using the Internet (% of population)=%{x}<br>GNI per capita, PPP (current international $)=%{marker.size}<extra></extra>",
           "hovertext": [
            "Singapore"
           ],
           "ids": [
            "Singapore"
           ],
           "legendgroup": "Singapore",
           "marker": {
            "color": "#FECB52",
            "size": [
             86340
            ],
            "sizemode": "area",
            "sizeref": 331.1,
            "symbol": "circle"
           },
           "mode": "markers",
           "name": "Singapore",
           "orientation": "v",
           "showlegend": true,
           "type": "scatter",
           "x": [
            92.00434653
           ],
           "xaxis": "x",
           "y": [
            86340
           ],
           "yaxis": "y"
          },
          {
           "hovertemplate": "<b>%{hovertext}</b><br><br>Country Name=Uruguay<br>Year=2020<br>Individuals using the Internet (% of population)=%{x}<br>GNI per capita, PPP (current international $)=%{marker.size}<extra></extra>",
           "hovertext": [
            "Uruguay"
           ],
           "ids": [
            "Uruguay"
           ],
           "legendgroup": "Uruguay",
           "marker": {
            "color": "#636efa",
            "size": [
             21500
            ],
            "sizemode": "area",
            "sizeref": 331.1,
            "symbol": "circle"
           },
           "mode": "markers",
           "name": "Uruguay",
           "orientation": "v",
           "showlegend": true,
           "type": "scatter",
           "x": [
            86.1
           ],
           "xaxis": "x",
           "y": [
            21500
           ],
           "yaxis": "y"
          },
          {
           "hovertemplate": "<b>%{hovertext}</b><br><br>Country Name=Zimbabwe<br>Year=2020<br>Individuals using the Internet (% of population)=%{x}<br>GNI per capita, PPP (current international $)=%{marker.size}<extra></extra>",
           "hovertext": [
            "Zimbabwe"
           ],
           "ids": [
            "Zimbabwe"
           ],
           "legendgroup": "Zimbabwe",
           "marker": {
            "color": "#EF553B",
            "size": [
             2180
            ],
            "sizemode": "area",
            "sizeref": 331.1,
            "symbol": "circle"
           },
           "mode": "markers",
           "name": "Zimbabwe",
           "orientation": "v",
           "showlegend": true,
           "type": "scatter",
           "x": [
            29.3
           ],
           "xaxis": "x",
           "y": [
            2180
           ],
           "yaxis": "y"
          },
          {
           "hovertemplate": "<b>%{hovertext}</b><br><br>Country Name=Oman<br>Year=2020<br>Individuals using the Internet (% of population)=%{x}<br>GNI per capita, PPP (current international $)=%{marker.size}<extra></extra>",
           "hovertext": [
            "Oman"
           ],
           "ids": [
            "Oman"
           ],
           "legendgroup": "Oman",
           "marker": {
            "color": "#00cc96",
            "size": [
             28850
            ],
            "sizemode": "area",
            "sizeref": 331.1,
            "symbol": "circle"
           },
           "mode": "markers",
           "name": "Oman",
           "orientation": "v",
           "showlegend": true,
           "type": "scatter",
           "x": [
            95.23
           ],
           "xaxis": "x",
           "y": [
            28850
           ],
           "yaxis": "y"
          },
          {
           "hovertemplate": "<b>%{hovertext}</b><br><br>Country Name=Ireland<br>Year=2020<br>Individuals using the Internet (% of population)=%{x}<br>GNI per capita, PPP (current international $)=%{marker.size}<extra></extra>",
           "hovertext": [
            "Ireland"
           ],
           "ids": [
            "Ireland"
           ],
           "legendgroup": "Ireland",
           "marker": {
            "color": "#ab63fa",
            "size": [
             71040
            ],
            "sizemode": "area",
            "sizeref": 331.1,
            "symbol": "circle"
           },
           "mode": "markers",
           "name": "Ireland",
           "orientation": "v",
           "showlegend": true,
           "type": "scatter",
           "x": [
            91.99989097
           ],
           "xaxis": "x",
           "y": [
            71040
           ],
           "yaxis": "y"
          },
          {
           "hovertemplate": "<b>%{hovertext}</b><br><br>Country Name=Hungary<br>Year=2020<br>Individuals using the Internet (% of population)=%{x}<br>GNI per capita, PPP (current international $)=%{marker.size}<extra></extra>",
           "hovertext": [
            "Hungary"
           ],
           "ids": [
            "Hungary"
           ],
           "legendgroup": "Hungary",
           "marker": {
            "color": "#FFA15A",
            "size": [
             32390
            ],
            "sizemode": "area",
            "sizeref": 331.1,
            "symbol": "circle"
           },
           "mode": "markers",
           "name": "Hungary",
           "orientation": "v",
           "showlegend": true,
           "type": "scatter",
           "x": [
            84.77115202
           ],
           "xaxis": "x",
           "y": [
            32390
           ],
           "yaxis": "y"
          },
          {
           "hovertemplate": "<b>%{hovertext}</b><br><br>Country Name=Kazakhstan<br>Year=2020<br>Individuals using the Internet (% of population)=%{x}<br>GNI per capita, PPP (current international $)=%{marker.size}<extra></extra>",
           "hovertext": [
            "Kazakhstan"
           ],
           "ids": [
            "Kazakhstan"
           ],
           "legendgroup": "Kazakhstan",
           "marker": {
            "color": "#19d3f3",
            "size": [
             24410
            ],
            "sizemode": "area",
            "sizeref": 331.1,
            "symbol": "circle"
           },
           "mode": "markers",
           "name": "Kazakhstan",
           "orientation": "v",
           "showlegend": true,
           "type": "scatter",
           "x": [
            85.94259898
           ],
           "xaxis": "x",
           "y": [
            24410
           ],
           "yaxis": "y"
          },
          {
           "hovertemplate": "<b>%{hovertext}</b><br><br>Country Name=Canada<br>Year=2020<br>Individuals using the Internet (% of population)=%{x}<br>GNI per capita, PPP (current international $)=%{marker.size}<extra></extra>",
           "hovertext": [
            "Canada"
           ],
           "ids": [
            "Canada"
           ],
           "legendgroup": "Canada",
           "marker": {
            "color": "#FF6692",
            "size": [
             46050
            ],
            "sizemode": "area",
            "sizeref": 331.1,
            "symbol": "circle"
           },
           "mode": "markers",
           "name": "Canada",
           "orientation": "v",
           "showlegend": true,
           "type": "scatter",
           "x": [
            96.97
           ],
           "xaxis": "x",
           "y": [
            46050
           ],
           "yaxis": "y"
          },
          {
           "hovertemplate": "<b>%{hovertext}</b><br><br>Country Name=Qatar<br>Year=2020<br>Individuals using the Internet (% of population)=%{x}<br>GNI per capita, PPP (current international $)=%{marker.size}<extra></extra>",
           "hovertext": [
            "Qatar"
           ],
           "ids": [
            "Qatar"
           ],
           "legendgroup": "Qatar",
           "marker": {
            "color": "#B6E880",
            "size": [
             88060
            ],
            "sizemode": "area",
            "sizeref": 331.1,
            "symbol": "circle"
           },
           "mode": "markers",
           "name": "Qatar",
           "orientation": "v",
           "showlegend": true,
           "type": "scatter",
           "x": [
            99.65284913
           ],
           "xaxis": "x",
           "y": [
            88060
           ],
           "yaxis": "y"
          },
          {
           "hovertemplate": "<b>%{hovertext}</b><br><br>Country Name=Greece<br>Year=2020<br>Individuals using the Internet (% of population)=%{x}<br>GNI per capita, PPP (current international $)=%{marker.size}<extra></extra>",
           "hovertext": [
            "Greece"
           ],
           "ids": [
            "Greece"
           ],
           "legendgroup": "Greece",
           "marker": {
            "color": "#FF97FF",
            "size": [
             27830
            ],
            "sizemode": "area",
            "sizeref": 331.1,
            "symbol": "circle"
           },
           "mode": "markers",
           "name": "Greece",
           "orientation": "v",
           "showlegend": true,
           "type": "scatter",
           "x": [
            78.11584474
           ],
           "xaxis": "x",
           "y": [
            27830
           ],
           "yaxis": "y"
          }
         ],
         "name": "2020"
        }
       ],
       "layout": {
        "legend": {
         "itemsizing": "constant",
         "title": {
          "text": "Country Name"
         },
         "tracegroupgap": 0
        },
        "sliders": [
         {
          "active": 0,
          "currentvalue": {
           "prefix": "Year="
          },
          "len": 0.9,
          "pad": {
           "b": 10,
           "t": 60
          },
          "steps": [
           {
            "args": [
             [
              "1990"
             ],
             {
              "frame": {
               "duration": 0,
               "redraw": false
              },
              "fromcurrent": true,
              "mode": "immediate",
              "transition": {
               "duration": 0,
               "easing": "linear"
              }
             }
            ],
            "label": "1990",
            "method": "animate"
           },
           {
            "args": [
             [
              "1991"
             ],
             {
              "frame": {
               "duration": 0,
               "redraw": false
              },
              "fromcurrent": true,
              "mode": "immediate",
              "transition": {
               "duration": 0,
               "easing": "linear"
              }
             }
            ],
            "label": "1991",
            "method": "animate"
           },
           {
            "args": [
             [
              "1992"
             ],
             {
              "frame": {
               "duration": 0,
               "redraw": false
              },
              "fromcurrent": true,
              "mode": "immediate",
              "transition": {
               "duration": 0,
               "easing": "linear"
              }
             }
            ],
            "label": "1992",
            "method": "animate"
           },
           {
            "args": [
             [
              "1993"
             ],
             {
              "frame": {
               "duration": 0,
               "redraw": false
              },
              "fromcurrent": true,
              "mode": "immediate",
              "transition": {
               "duration": 0,
               "easing": "linear"
              }
             }
            ],
            "label": "1993",
            "method": "animate"
           },
           {
            "args": [
             [
              "1994"
             ],
             {
              "frame": {
               "duration": 0,
               "redraw": false
              },
              "fromcurrent": true,
              "mode": "immediate",
              "transition": {
               "duration": 0,
               "easing": "linear"
              }
             }
            ],
            "label": "1994",
            "method": "animate"
           },
           {
            "args": [
             [
              "1995"
             ],
             {
              "frame": {
               "duration": 0,
               "redraw": false
              },
              "fromcurrent": true,
              "mode": "immediate",
              "transition": {
               "duration": 0,
               "easing": "linear"
              }
             }
            ],
            "label": "1995",
            "method": "animate"
           },
           {
            "args": [
             [
              "1996"
             ],
             {
              "frame": {
               "duration": 0,
               "redraw": false
              },
              "fromcurrent": true,
              "mode": "immediate",
              "transition": {
               "duration": 0,
               "easing": "linear"
              }
             }
            ],
            "label": "1996",
            "method": "animate"
           },
           {
            "args": [
             [
              "1997"
             ],
             {
              "frame": {
               "duration": 0,
               "redraw": false
              },
              "fromcurrent": true,
              "mode": "immediate",
              "transition": {
               "duration": 0,
               "easing": "linear"
              }
             }
            ],
            "label": "1997",
            "method": "animate"
           },
           {
            "args": [
             [
              "1998"
             ],
             {
              "frame": {
               "duration": 0,
               "redraw": false
              },
              "fromcurrent": true,
              "mode": "immediate",
              "transition": {
               "duration": 0,
               "easing": "linear"
              }
             }
            ],
            "label": "1998",
            "method": "animate"
           },
           {
            "args": [
             [
              "1999"
             ],
             {
              "frame": {
               "duration": 0,
               "redraw": false
              },
              "fromcurrent": true,
              "mode": "immediate",
              "transition": {
               "duration": 0,
               "easing": "linear"
              }
             }
            ],
            "label": "1999",
            "method": "animate"
           },
           {
            "args": [
             [
              "2000"
             ],
             {
              "frame": {
               "duration": 0,
               "redraw": false
              },
              "fromcurrent": true,
              "mode": "immediate",
              "transition": {
               "duration": 0,
               "easing": "linear"
              }
             }
            ],
            "label": "2000",
            "method": "animate"
           },
           {
            "args": [
             [
              "2001"
             ],
             {
              "frame": {
               "duration": 0,
               "redraw": false
              },
              "fromcurrent": true,
              "mode": "immediate",
              "transition": {
               "duration": 0,
               "easing": "linear"
              }
             }
            ],
            "label": "2001",
            "method": "animate"
           },
           {
            "args": [
             [
              "2002"
             ],
             {
              "frame": {
               "duration": 0,
               "redraw": false
              },
              "fromcurrent": true,
              "mode": "immediate",
              "transition": {
               "duration": 0,
               "easing": "linear"
              }
             }
            ],
            "label": "2002",
            "method": "animate"
           },
           {
            "args": [
             [
              "2003"
             ],
             {
              "frame": {
               "duration": 0,
               "redraw": false
              },
              "fromcurrent": true,
              "mode": "immediate",
              "transition": {
               "duration": 0,
               "easing": "linear"
              }
             }
            ],
            "label": "2003",
            "method": "animate"
           },
           {
            "args": [
             [
              "2004"
             ],
             {
              "frame": {
               "duration": 0,
               "redraw": false
              },
              "fromcurrent": true,
              "mode": "immediate",
              "transition": {
               "duration": 0,
               "easing": "linear"
              }
             }
            ],
            "label": "2004",
            "method": "animate"
           },
           {
            "args": [
             [
              "2005"
             ],
             {
              "frame": {
               "duration": 0,
               "redraw": false
              },
              "fromcurrent": true,
              "mode": "immediate",
              "transition": {
               "duration": 0,
               "easing": "linear"
              }
             }
            ],
            "label": "2005",
            "method": "animate"
           },
           {
            "args": [
             [
              "2006"
             ],
             {
              "frame": {
               "duration": 0,
               "redraw": false
              },
              "fromcurrent": true,
              "mode": "immediate",
              "transition": {
               "duration": 0,
               "easing": "linear"
              }
             }
            ],
            "label": "2006",
            "method": "animate"
           },
           {
            "args": [
             [
              "2007"
             ],
             {
              "frame": {
               "duration": 0,
               "redraw": false
              },
              "fromcurrent": true,
              "mode": "immediate",
              "transition": {
               "duration": 0,
               "easing": "linear"
              }
             }
            ],
            "label": "2007",
            "method": "animate"
           },
           {
            "args": [
             [
              "2008"
             ],
             {
              "frame": {
               "duration": 0,
               "redraw": false
              },
              "fromcurrent": true,
              "mode": "immediate",
              "transition": {
               "duration": 0,
               "easing": "linear"
              }
             }
            ],
            "label": "2008",
            "method": "animate"
           },
           {
            "args": [
             [
              "2009"
             ],
             {
              "frame": {
               "duration": 0,
               "redraw": false
              },
              "fromcurrent": true,
              "mode": "immediate",
              "transition": {
               "duration": 0,
               "easing": "linear"
              }
             }
            ],
            "label": "2009",
            "method": "animate"
           },
           {
            "args": [
             [
              "2010"
             ],
             {
              "frame": {
               "duration": 0,
               "redraw": false
              },
              "fromcurrent": true,
              "mode": "immediate",
              "transition": {
               "duration": 0,
               "easing": "linear"
              }
             }
            ],
            "label": "2010",
            "method": "animate"
           },
           {
            "args": [
             [
              "2011"
             ],
             {
              "frame": {
               "duration": 0,
               "redraw": false
              },
              "fromcurrent": true,
              "mode": "immediate",
              "transition": {
               "duration": 0,
               "easing": "linear"
              }
             }
            ],
            "label": "2011",
            "method": "animate"
           },
           {
            "args": [
             [
              "2012"
             ],
             {
              "frame": {
               "duration": 0,
               "redraw": false
              },
              "fromcurrent": true,
              "mode": "immediate",
              "transition": {
               "duration": 0,
               "easing": "linear"
              }
             }
            ],
            "label": "2012",
            "method": "animate"
           },
           {
            "args": [
             [
              "2013"
             ],
             {
              "frame": {
               "duration": 0,
               "redraw": false
              },
              "fromcurrent": true,
              "mode": "immediate",
              "transition": {
               "duration": 0,
               "easing": "linear"
              }
             }
            ],
            "label": "2013",
            "method": "animate"
           },
           {
            "args": [
             [
              "2014"
             ],
             {
              "frame": {
               "duration": 0,
               "redraw": false
              },
              "fromcurrent": true,
              "mode": "immediate",
              "transition": {
               "duration": 0,
               "easing": "linear"
              }
             }
            ],
            "label": "2014",
            "method": "animate"
           },
           {
            "args": [
             [
              "2015"
             ],
             {
              "frame": {
               "duration": 0,
               "redraw": false
              },
              "fromcurrent": true,
              "mode": "immediate",
              "transition": {
               "duration": 0,
               "easing": "linear"
              }
             }
            ],
            "label": "2015",
            "method": "animate"
           },
           {
            "args": [
             [
              "2016"
             ],
             {
              "frame": {
               "duration": 0,
               "redraw": false
              },
              "fromcurrent": true,
              "mode": "immediate",
              "transition": {
               "duration": 0,
               "easing": "linear"
              }
             }
            ],
            "label": "2016",
            "method": "animate"
           },
           {
            "args": [
             [
              "2017"
             ],
             {
              "frame": {
               "duration": 0,
               "redraw": false
              },
              "fromcurrent": true,
              "mode": "immediate",
              "transition": {
               "duration": 0,
               "easing": "linear"
              }
             }
            ],
            "label": "2017",
            "method": "animate"
           },
           {
            "args": [
             [
              "2018"
             ],
             {
              "frame": {
               "duration": 0,
               "redraw": false
              },
              "fromcurrent": true,
              "mode": "immediate",
              "transition": {
               "duration": 0,
               "easing": "linear"
              }
             }
            ],
            "label": "2018",
            "method": "animate"
           },
           {
            "args": [
             [
              "2019"
             ],
             {
              "frame": {
               "duration": 0,
               "redraw": false
              },
              "fromcurrent": true,
              "mode": "immediate",
              "transition": {
               "duration": 0,
               "easing": "linear"
              }
             }
            ],
            "label": "2019",
            "method": "animate"
           },
           {
            "args": [
             [
              "2020"
             ],
             {
              "frame": {
               "duration": 0,
               "redraw": false
              },
              "fromcurrent": true,
              "mode": "immediate",
              "transition": {
               "duration": 0,
               "easing": "linear"
              }
             }
            ],
            "label": "2020",
            "method": "animate"
           }
          ],
          "x": 0.1,
          "xanchor": "left",
          "y": 0,
          "yanchor": "top"
         }
        ],
        "template": {
         "data": {
          "bar": [
           {
            "error_x": {
             "color": "#2a3f5f"
            },
            "error_y": {
             "color": "#2a3f5f"
            },
            "marker": {
             "line": {
              "color": "#E5ECF6",
              "width": 0.5
             },
             "pattern": {
              "fillmode": "overlay",
              "size": 10,
              "solidity": 0.2
             }
            },
            "type": "bar"
           }
          ],
          "barpolar": [
           {
            "marker": {
             "line": {
              "color": "#E5ECF6",
              "width": 0.5
             },
             "pattern": {
              "fillmode": "overlay",
              "size": 10,
              "solidity": 0.2
             }
            },
            "type": "barpolar"
           }
          ],
          "carpet": [
           {
            "aaxis": {
             "endlinecolor": "#2a3f5f",
             "gridcolor": "white",
             "linecolor": "white",
             "minorgridcolor": "white",
             "startlinecolor": "#2a3f5f"
            },
            "baxis": {
             "endlinecolor": "#2a3f5f",
             "gridcolor": "white",
             "linecolor": "white",
             "minorgridcolor": "white",
             "startlinecolor": "#2a3f5f"
            },
            "type": "carpet"
           }
          ],
          "choropleth": [
           {
            "colorbar": {
             "outlinewidth": 0,
             "ticks": ""
            },
            "type": "choropleth"
           }
          ],
          "contour": [
           {
            "colorbar": {
             "outlinewidth": 0,
             "ticks": ""
            },
            "colorscale": [
             [
              0,
              "#0d0887"
             ],
             [
              0.1111111111111111,
              "#46039f"
             ],
             [
              0.2222222222222222,
              "#7201a8"
             ],
             [
              0.3333333333333333,
              "#9c179e"
             ],
             [
              0.4444444444444444,
              "#bd3786"
             ],
             [
              0.5555555555555556,
              "#d8576b"
             ],
             [
              0.6666666666666666,
              "#ed7953"
             ],
             [
              0.7777777777777778,
              "#fb9f3a"
             ],
             [
              0.8888888888888888,
              "#fdca26"
             ],
             [
              1,
              "#f0f921"
             ]
            ],
            "type": "contour"
           }
          ],
          "contourcarpet": [
           {
            "colorbar": {
             "outlinewidth": 0,
             "ticks": ""
            },
            "type": "contourcarpet"
           }
          ],
          "heatmap": [
           {
            "colorbar": {
             "outlinewidth": 0,
             "ticks": ""
            },
            "colorscale": [
             [
              0,
              "#0d0887"
             ],
             [
              0.1111111111111111,
              "#46039f"
             ],
             [
              0.2222222222222222,
              "#7201a8"
             ],
             [
              0.3333333333333333,
              "#9c179e"
             ],
             [
              0.4444444444444444,
              "#bd3786"
             ],
             [
              0.5555555555555556,
              "#d8576b"
             ],
             [
              0.6666666666666666,
              "#ed7953"
             ],
             [
              0.7777777777777778,
              "#fb9f3a"
             ],
             [
              0.8888888888888888,
              "#fdca26"
             ],
             [
              1,
              "#f0f921"
             ]
            ],
            "type": "heatmap"
           }
          ],
          "heatmapgl": [
           {
            "colorbar": {
             "outlinewidth": 0,
             "ticks": ""
            },
            "colorscale": [
             [
              0,
              "#0d0887"
             ],
             [
              0.1111111111111111,
              "#46039f"
             ],
             [
              0.2222222222222222,
              "#7201a8"
             ],
             [
              0.3333333333333333,
              "#9c179e"
             ],
             [
              0.4444444444444444,
              "#bd3786"
             ],
             [
              0.5555555555555556,
              "#d8576b"
             ],
             [
              0.6666666666666666,
              "#ed7953"
             ],
             [
              0.7777777777777778,
              "#fb9f3a"
             ],
             [
              0.8888888888888888,
              "#fdca26"
             ],
             [
              1,
              "#f0f921"
             ]
            ],
            "type": "heatmapgl"
           }
          ],
          "histogram": [
           {
            "marker": {
             "pattern": {
              "fillmode": "overlay",
              "size": 10,
              "solidity": 0.2
             }
            },
            "type": "histogram"
           }
          ],
          "histogram2d": [
           {
            "colorbar": {
             "outlinewidth": 0,
             "ticks": ""
            },
            "colorscale": [
             [
              0,
              "#0d0887"
             ],
             [
              0.1111111111111111,
              "#46039f"
             ],
             [
              0.2222222222222222,
              "#7201a8"
             ],
             [
              0.3333333333333333,
              "#9c179e"
             ],
             [
              0.4444444444444444,
              "#bd3786"
             ],
             [
              0.5555555555555556,
              "#d8576b"
             ],
             [
              0.6666666666666666,
              "#ed7953"
             ],
             [
              0.7777777777777778,
              "#fb9f3a"
             ],
             [
              0.8888888888888888,
              "#fdca26"
             ],
             [
              1,
              "#f0f921"
             ]
            ],
            "type": "histogram2d"
           }
          ],
          "histogram2dcontour": [
           {
            "colorbar": {
             "outlinewidth": 0,
             "ticks": ""
            },
            "colorscale": [
             [
              0,
              "#0d0887"
             ],
             [
              0.1111111111111111,
              "#46039f"
             ],
             [
              0.2222222222222222,
              "#7201a8"
             ],
             [
              0.3333333333333333,
              "#9c179e"
             ],
             [
              0.4444444444444444,
              "#bd3786"
             ],
             [
              0.5555555555555556,
              "#d8576b"
             ],
             [
              0.6666666666666666,
              "#ed7953"
             ],
             [
              0.7777777777777778,
              "#fb9f3a"
             ],
             [
              0.8888888888888888,
              "#fdca26"
             ],
             [
              1,
              "#f0f921"
             ]
            ],
            "type": "histogram2dcontour"
           }
          ],
          "mesh3d": [
           {
            "colorbar": {
             "outlinewidth": 0,
             "ticks": ""
            },
            "type": "mesh3d"
           }
          ],
          "parcoords": [
           {
            "line": {
             "colorbar": {
              "outlinewidth": 0,
              "ticks": ""
             }
            },
            "type": "parcoords"
           }
          ],
          "pie": [
           {
            "automargin": true,
            "type": "pie"
           }
          ],
          "scatter": [
           {
            "fillpattern": {
             "fillmode": "overlay",
             "size": 10,
             "solidity": 0.2
            },
            "type": "scatter"
           }
          ],
          "scatter3d": [
           {
            "line": {
             "colorbar": {
              "outlinewidth": 0,
              "ticks": ""
             }
            },
            "marker": {
             "colorbar": {
              "outlinewidth": 0,
              "ticks": ""
             }
            },
            "type": "scatter3d"
           }
          ],
          "scattercarpet": [
           {
            "marker": {
             "colorbar": {
              "outlinewidth": 0,
              "ticks": ""
             }
            },
            "type": "scattercarpet"
           }
          ],
          "scattergeo": [
           {
            "marker": {
             "colorbar": {
              "outlinewidth": 0,
              "ticks": ""
             }
            },
            "type": "scattergeo"
           }
          ],
          "scattergl": [
           {
            "marker": {
             "colorbar": {
              "outlinewidth": 0,
              "ticks": ""
             }
            },
            "type": "scattergl"
           }
          ],
          "scattermapbox": [
           {
            "marker": {
             "colorbar": {
              "outlinewidth": 0,
              "ticks": ""
             }
            },
            "type": "scattermapbox"
           }
          ],
          "scatterpolar": [
           {
            "marker": {
             "colorbar": {
              "outlinewidth": 0,
              "ticks": ""
             }
            },
            "type": "scatterpolar"
           }
          ],
          "scatterpolargl": [
           {
            "marker": {
             "colorbar": {
              "outlinewidth": 0,
              "ticks": ""
             }
            },
            "type": "scatterpolargl"
           }
          ],
          "scatterternary": [
           {
            "marker": {
             "colorbar": {
              "outlinewidth": 0,
              "ticks": ""
             }
            },
            "type": "scatterternary"
           }
          ],
          "surface": [
           {
            "colorbar": {
             "outlinewidth": 0,
             "ticks": ""
            },
            "colorscale": [
             [
              0,
              "#0d0887"
             ],
             [
              0.1111111111111111,
              "#46039f"
             ],
             [
              0.2222222222222222,
              "#7201a8"
             ],
             [
              0.3333333333333333,
              "#9c179e"
             ],
             [
              0.4444444444444444,
              "#bd3786"
             ],
             [
              0.5555555555555556,
              "#d8576b"
             ],
             [
              0.6666666666666666,
              "#ed7953"
             ],
             [
              0.7777777777777778,
              "#fb9f3a"
             ],
             [
              0.8888888888888888,
              "#fdca26"
             ],
             [
              1,
              "#f0f921"
             ]
            ],
            "type": "surface"
           }
          ],
          "table": [
           {
            "cells": {
             "fill": {
              "color": "#EBF0F8"
             },
             "line": {
              "color": "white"
             }
            },
            "header": {
             "fill": {
              "color": "#C8D4E3"
             },
             "line": {
              "color": "white"
             }
            },
            "type": "table"
           }
          ]
         },
         "layout": {
          "annotationdefaults": {
           "arrowcolor": "#2a3f5f",
           "arrowhead": 0,
           "arrowwidth": 1
          },
          "autotypenumbers": "strict",
          "coloraxis": {
           "colorbar": {
            "outlinewidth": 0,
            "ticks": ""
           }
          },
          "colorscale": {
           "diverging": [
            [
             0,
             "#8e0152"
            ],
            [
             0.1,
             "#c51b7d"
            ],
            [
             0.2,
             "#de77ae"
            ],
            [
             0.3,
             "#f1b6da"
            ],
            [
             0.4,
             "#fde0ef"
            ],
            [
             0.5,
             "#f7f7f7"
            ],
            [
             0.6,
             "#e6f5d0"
            ],
            [
             0.7,
             "#b8e186"
            ],
            [
             0.8,
             "#7fbc41"
            ],
            [
             0.9,
             "#4d9221"
            ],
            [
             1,
             "#276419"
            ]
           ],
           "sequential": [
            [
             0,
             "#0d0887"
            ],
            [
             0.1111111111111111,
             "#46039f"
            ],
            [
             0.2222222222222222,
             "#7201a8"
            ],
            [
             0.3333333333333333,
             "#9c179e"
            ],
            [
             0.4444444444444444,
             "#bd3786"
            ],
            [
             0.5555555555555556,
             "#d8576b"
            ],
            [
             0.6666666666666666,
             "#ed7953"
            ],
            [
             0.7777777777777778,
             "#fb9f3a"
            ],
            [
             0.8888888888888888,
             "#fdca26"
            ],
            [
             1,
             "#f0f921"
            ]
           ],
           "sequentialminus": [
            [
             0,
             "#0d0887"
            ],
            [
             0.1111111111111111,
             "#46039f"
            ],
            [
             0.2222222222222222,
             "#7201a8"
            ],
            [
             0.3333333333333333,
             "#9c179e"
            ],
            [
             0.4444444444444444,
             "#bd3786"
            ],
            [
             0.5555555555555556,
             "#d8576b"
            ],
            [
             0.6666666666666666,
             "#ed7953"
            ],
            [
             0.7777777777777778,
             "#fb9f3a"
            ],
            [
             0.8888888888888888,
             "#fdca26"
            ],
            [
             1,
             "#f0f921"
            ]
           ]
          },
          "colorway": [
           "#636efa",
           "#EF553B",
           "#00cc96",
           "#ab63fa",
           "#FFA15A",
           "#19d3f3",
           "#FF6692",
           "#B6E880",
           "#FF97FF",
           "#FECB52"
          ],
          "font": {
           "color": "#2a3f5f"
          },
          "geo": {
           "bgcolor": "white",
           "lakecolor": "white",
           "landcolor": "#E5ECF6",
           "showlakes": true,
           "showland": true,
           "subunitcolor": "white"
          },
          "hoverlabel": {
           "align": "left"
          },
          "hovermode": "closest",
          "mapbox": {
           "style": "light"
          },
          "paper_bgcolor": "white",
          "plot_bgcolor": "#E5ECF6",
          "polar": {
           "angularaxis": {
            "gridcolor": "white",
            "linecolor": "white",
            "ticks": ""
           },
           "bgcolor": "#E5ECF6",
           "radialaxis": {
            "gridcolor": "white",
            "linecolor": "white",
            "ticks": ""
           }
          },
          "scene": {
           "xaxis": {
            "backgroundcolor": "#E5ECF6",
            "gridcolor": "white",
            "gridwidth": 2,
            "linecolor": "white",
            "showbackground": true,
            "ticks": "",
            "zerolinecolor": "white"
           },
           "yaxis": {
            "backgroundcolor": "#E5ECF6",
            "gridcolor": "white",
            "gridwidth": 2,
            "linecolor": "white",
            "showbackground": true,
            "ticks": "",
            "zerolinecolor": "white"
           },
           "zaxis": {
            "backgroundcolor": "#E5ECF6",
            "gridcolor": "white",
            "gridwidth": 2,
            "linecolor": "white",
            "showbackground": true,
            "ticks": "",
            "zerolinecolor": "white"
           }
          },
          "shapedefaults": {
           "line": {
            "color": "#2a3f5f"
           }
          },
          "ternary": {
           "aaxis": {
            "gridcolor": "white",
            "linecolor": "white",
            "ticks": ""
           },
           "baxis": {
            "gridcolor": "white",
            "linecolor": "white",
            "ticks": ""
           },
           "bgcolor": "#E5ECF6",
           "caxis": {
            "gridcolor": "white",
            "linecolor": "white",
            "ticks": ""
           }
          },
          "title": {
           "x": 0.05
          },
          "xaxis": {
           "automargin": true,
           "gridcolor": "white",
           "linecolor": "white",
           "ticks": "",
           "title": {
            "standoff": 15
           },
           "zerolinecolor": "white",
           "zerolinewidth": 2
          },
          "yaxis": {
           "automargin": true,
           "gridcolor": "white",
           "linecolor": "white",
           "ticks": "",
           "title": {
            "standoff": 15
           },
           "zerolinecolor": "white",
           "zerolinewidth": 2
          }
         }
        },
        "title": {
         "text": "Internet Access vs GNI per Country"
        },
        "updatemenus": [
         {
          "buttons": [
           {
            "args": [
             null,
             {
              "frame": {
               "duration": 500,
               "redraw": true
              }
             }
            ],
            "label": "Play",
            "method": "animate"
           },
           {
            "args": [
             [
              null
             ],
             {
              "frame": {
               "duration": 0,
               "redraw": false
              },
              "mode": "immediate"
             }
            ],
            "label": "Pause",
            "method": "animate"
           }
          ],
          "direction": "left",
          "pad": {
           "r": 10,
           "t": 70
          },
          "showactive": false,
          "type": "buttons",
          "x": 0.1,
          "xanchor": "right",
          "y": 0,
          "yanchor": "top"
         }
        ],
        "xaxis": {
         "anchor": "y",
         "domain": [
          0,
          1
         ],
         "range": [
          0,
          100
         ],
         "title": {
          "text": "Individuals using the Internet (% of population)"
         }
        },
        "yaxis": {
         "anchor": "x",
         "domain": [
          0,
          1
         ],
         "range": [
          860,
          132440
         ],
         "title": {
          "text": "GNI per capita, PPP (current international $)"
         }
        }
       }
      }
     },
     "metadata": {},
     "output_type": "display_data"
    }
   ],
   "source": [
    "df_animate = df_wide\n",
    "\n",
    "country_groups = [\"Australia\", \"Belgium\", \"Canada\", \"Denmark\", \"Ecuador\", \n",
    "                 \"Fiji\", \"Greece\", \"Hungary\", \"Ireland\", \"Japan\", \n",
    "                 \"Kazakhstan\", \"Luxembourg\", \"Nepal\", \"Oman\", \"Peru\", \n",
    "                 \"Qatar\", \"Russia\", \"Singapore\", \"Turkey\", \"Uruguay\", \n",
    "                 \"Venezuela\", \"Wales\", \"Yemen\", \"Zimbabwe\"]\n",
    "df_animate = df_animate[df_animate['Country Name'].isin(country_groups)]\n",
    "\n",
    "df_animate = df_animate[['Year',\n",
    "                         'Country Name',\n",
    "                         'Individuals using the Internet (% of population)',\n",
    "                         'GNI per capita, PPP (current international $)']]\n",
    "\n",
    "start_year = 1990\n",
    "end_year = 2020\n",
    "df_animate = df_animate[(df_animate['Year'] >= start_year) & (df_animate['Year'] <= end_year)]\n",
    "\n",
    "df_animate = df_animate.dropna(axis=0)\n",
    "\n",
    "fig = px.scatter(df_animate, x='Individuals using the Internet (% of population)', \n",
    "                 y='GNI per capita, PPP (current international $)',\n",
    "                 animation_frame=\"Year\",\n",
    "                 animation_group=\"Country Name\",\n",
    "                 size='GNI per capita, PPP (current international $)',\n",
    "                 color=\"Country Name\",\n",
    "                 title=\"Internet Access vs GNI per Country\",\n",
    "                 hover_name=\"Country Name\",\n",
    "                 range_y=[df_animate['GNI per capita, PPP (current international $)'].min(),df_animate['GNI per capita, PPP (current international $)'].max()]) \n",
    "\n",
    "fig.update_xaxes(range=[0, 100])\n",
    "\n",
    "fig.update_layout(\n",
    "    updatemenus=[\n",
    "        dict(\n",
    "            type=\"buttons\",\n",
    "            showactive=False,\n",
    "            buttons=[\n",
    "                dict(\n",
    "                    label=\"Play\",\n",
    "                    method=\"animate\",\n",
    "                    args=[None, {\"frame\": {\"duration\": 500, \"redraw\": True}}],\n",
    "                ),\n",
    "                dict(\n",
    "                    label=\"Pause\",\n",
    "                    method=\"animate\",\n",
    "                    args=[[None], {\"frame\": {\"duration\": 0, \"redraw\": False}, \"mode\": \"immediate\"}],\n",
    "                ),\n",
    "            ],\n",
    "        )\n",
    "    ]\n",
    ")\n",
    "fig.show()\n"
   ]
  }
 ],
 "metadata": {
  "kernelspec": {
   "display_name": "Python 3",
   "language": "python",
   "name": "python3"
  },
  "language_info": {
   "codemirror_mode": {
    "name": "ipython",
    "version": 3
   },
   "file_extension": ".py",
   "mimetype": "text/x-python",
   "name": "python",
   "nbconvert_exporter": "python",
   "pygments_lexer": "ipython3",
   "version": "3.11.3"
  },
  "vscode": {
   "interpreter": {
    "hash": "916dbcbb3f70747c44a77c7bcd40155683ae19c65e1c03b4aa3499c5328201f1"
   }
  },
  "widgets": {
   "application/vnd.jupyter.widget-state+json": {
    "state": {},
    "version_major": 2,
    "version_minor": 0
   }
  }
 },
 "nbformat": 4,
 "nbformat_minor": 4
}
